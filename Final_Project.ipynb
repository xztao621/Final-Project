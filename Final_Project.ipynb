{
 "cells": [
  {
   "cell_type": "markdown",
   "metadata": {
    "collapsed": false
   },
   "source": [
    "## Import Package and Define functions\n",
    "\n"
   ]
  },
  {
   "cell_type": "code",
   "execution_count": 1,
   "metadata": {
    "collapsed": false
   },
   "outputs": [
   ],
   "source": [
    "import pandas as pd\n",
    "import plotly.express as px\n",
    "import matplotlib.pyplot as plt\n",
    "import seaborn as sns\n",
    "import numpy as np\n",
    "from plotly.subplots import make_subplots\n",
    "import plotly.graph_objects as go\n",
    "import plotly.figure_factory as ff\n",
    "import sklearn\n",
    "from sklearn.neighbors import LocalOutlierFactor\n",
    "from sklearn.preprocessing import PolynomialFeatures\n",
    "import os"
   ]
  },
  {
   "cell_type": "code",
   "execution_count": 2,
   "metadata": {
    "collapsed": false
   },
   "outputs": [
   ],
   "source": [
    "def mae(pred, test):\n",
    "    error = 0\n",
    "    for i in range(len(pred)):\n",
    "        # calculate the absolute value for the error\n",
    "        error += np.abs(pred[i]-test[i])\n",
    "\n",
    "    return error/len(pred)"
   ]
  },
  {
   "cell_type": "markdown",
   "metadata": {
    "collapsed": false
   },
   "source": [
    "## Loading Dataset\n",
    "\n"
   ]
  },
  {
   "cell_type": "code",
   "execution_count": 3,
   "metadata": {
    "collapsed": false,
    "scrolled": true
   },
   "outputs": [
    {
     "data": {
      "text/html": [
       "<div>\n",
       "<style scoped>\n",
       "    .dataframe tbody tr th:only-of-type {\n",
       "        vertical-align: middle;\n",
       "    }\n",
       "\n",
       "    .dataframe tbody tr th {\n",
       "        vertical-align: top;\n",
       "    }\n",
       "\n",
       "    .dataframe thead th {\n",
       "        text-align: right;\n",
       "    }\n",
       "</style>\n",
       "<table border=\"1\" class=\"dataframe\">\n",
       "  <thead>\n",
       "    <tr style=\"text-align: right;\">\n",
       "      <th></th>\n",
       "      <th>Store ID</th>\n",
       "      <th>Store_Area</th>\n",
       "      <th>Items_Available</th>\n",
       "      <th>Daily_Customer_Count</th>\n",
       "      <th>Store_Sales</th>\n",
       "    </tr>\n",
       "  </thead>\n",
       "  <tbody>\n",
       "    <tr>\n",
       "      <th>0</th>\n",
       "      <td>1</td>\n",
       "      <td>1659</td>\n",
       "      <td>1961</td>\n",
       "      <td>530</td>\n",
       "      <td>66490</td>\n",
       "    </tr>\n",
       "    <tr>\n",
       "      <th>1</th>\n",
       "      <td>2</td>\n",
       "      <td>1461</td>\n",
       "      <td>1752</td>\n",
       "      <td>210</td>\n",
       "      <td>39820</td>\n",
       "    </tr>\n",
       "    <tr>\n",
       "      <th>2</th>\n",
       "      <td>3</td>\n",
       "      <td>1340</td>\n",
       "      <td>1609</td>\n",
       "      <td>720</td>\n",
       "      <td>54010</td>\n",
       "    </tr>\n",
       "    <tr>\n",
       "      <th>3</th>\n",
       "      <td>4</td>\n",
       "      <td>1451</td>\n",
       "      <td>1748</td>\n",
       "      <td>620</td>\n",
       "      <td>53730</td>\n",
       "    </tr>\n",
       "    <tr>\n",
       "      <th>4</th>\n",
       "      <td>5</td>\n",
       "      <td>1770</td>\n",
       "      <td>2111</td>\n",
       "      <td>450</td>\n",
       "      <td>46620</td>\n",
       "    </tr>\n",
       "  </tbody>\n",
       "</table>\n",
       "</div>"
      ],
      "text/plain": [
       "   Store ID   Store_Area  Items_Available  Daily_Customer_Count  Store_Sales\n",
       "0          1        1659             1961                   530        66490\n",
       "1          2        1461             1752                   210        39820\n",
       "2          3        1340             1609                   720        54010\n",
       "3          4        1451             1748                   620        53730\n",
       "4          5        1770             2111                   450        46620"
      ]
     },
     "execution_count": 3,
     "metadata": {
     },
     "output_type": "execute_result"
    }
   ],
   "source": [
    "store_df = pd.read_csv('Stores.csv')\n",
    "store_df.head()"
   ]
  },
  {
   "cell_type": "markdown",
   "metadata": {
    "collapsed": false
   },
   "source": [
    "## EDA\n",
    "\n"
   ]
  },
  {
   "cell_type": "code",
   "execution_count": 4,
   "metadata": {
    "collapsed": false
   },
   "outputs": [
    {
     "data": {
      "text/html": [
       "<div>\n",
       "<style scoped>\n",
       "    .dataframe tbody tr th:only-of-type {\n",
       "        vertical-align: middle;\n",
       "    }\n",
       "\n",
       "    .dataframe tbody tr th {\n",
       "        vertical-align: top;\n",
       "    }\n",
       "\n",
       "    .dataframe thead th {\n",
       "        text-align: right;\n",
       "    }\n",
       "</style>\n",
       "<table border=\"1\" class=\"dataframe\">\n",
       "  <thead>\n",
       "    <tr style=\"text-align: right;\">\n",
       "      <th></th>\n",
       "      <th>Store ID</th>\n",
       "      <th>Store_Area</th>\n",
       "      <th>Items_Available</th>\n",
       "      <th>Daily_Customer_Count</th>\n",
       "      <th>Store_Sales</th>\n",
       "    </tr>\n",
       "  </thead>\n",
       "  <tbody>\n",
       "    <tr>\n",
       "      <th>count</th>\n",
       "      <td>896.000000</td>\n",
       "      <td>896.000000</td>\n",
       "      <td>896.000000</td>\n",
       "      <td>896.000000</td>\n",
       "      <td>896.000000</td>\n",
       "    </tr>\n",
       "    <tr>\n",
       "      <th>mean</th>\n",
       "      <td>448.500000</td>\n",
       "      <td>1485.409598</td>\n",
       "      <td>1782.035714</td>\n",
       "      <td>786.350446</td>\n",
       "      <td>59351.305804</td>\n",
       "    </tr>\n",
       "    <tr>\n",
       "      <th>std</th>\n",
       "      <td>258.797218</td>\n",
       "      <td>250.237011</td>\n",
       "      <td>299.872053</td>\n",
       "      <td>265.389281</td>\n",
       "      <td>17190.741895</td>\n",
       "    </tr>\n",
       "    <tr>\n",
       "      <th>min</th>\n",
       "      <td>1.000000</td>\n",
       "      <td>775.000000</td>\n",
       "      <td>932.000000</td>\n",
       "      <td>10.000000</td>\n",
       "      <td>14920.000000</td>\n",
       "    </tr>\n",
       "    <tr>\n",
       "      <th>25%</th>\n",
       "      <td>224.750000</td>\n",
       "      <td>1316.750000</td>\n",
       "      <td>1575.500000</td>\n",
       "      <td>600.000000</td>\n",
       "      <td>46530.000000</td>\n",
       "    </tr>\n",
       "    <tr>\n",
       "      <th>50%</th>\n",
       "      <td>448.500000</td>\n",
       "      <td>1477.000000</td>\n",
       "      <td>1773.500000</td>\n",
       "      <td>780.000000</td>\n",
       "      <td>58605.000000</td>\n",
       "    </tr>\n",
       "    <tr>\n",
       "      <th>75%</th>\n",
       "      <td>672.250000</td>\n",
       "      <td>1653.500000</td>\n",
       "      <td>1982.750000</td>\n",
       "      <td>970.000000</td>\n",
       "      <td>71872.500000</td>\n",
       "    </tr>\n",
       "    <tr>\n",
       "      <th>max</th>\n",
       "      <td>896.000000</td>\n",
       "      <td>2229.000000</td>\n",
       "      <td>2667.000000</td>\n",
       "      <td>1560.000000</td>\n",
       "      <td>116320.000000</td>\n",
       "    </tr>\n",
       "  </tbody>\n",
       "</table>\n",
       "</div>"
      ],
      "text/plain": [
       "        Store ID    Store_Area  Items_Available  Daily_Customer_Count  \\\n",
       "count  896.000000   896.000000       896.000000            896.000000   \n",
       "mean   448.500000  1485.409598      1782.035714            786.350446   \n",
       "std    258.797218   250.237011       299.872053            265.389281   \n",
       "min      1.000000   775.000000       932.000000             10.000000   \n",
       "25%    224.750000  1316.750000      1575.500000            600.000000   \n",
       "50%    448.500000  1477.000000      1773.500000            780.000000   \n",
       "75%    672.250000  1653.500000      1982.750000            970.000000   \n",
       "max    896.000000  2229.000000      2667.000000           1560.000000   \n",
       "\n",
       "         Store_Sales  \n",
       "count     896.000000  \n",
       "mean    59351.305804  \n",
       "std     17190.741895  \n",
       "min     14920.000000  \n",
       "25%     46530.000000  \n",
       "50%     58605.000000  \n",
       "75%     71872.500000  \n",
       "max    116320.000000  "
      ]
     },
     "execution_count": 4,
     "metadata": {
     },
     "output_type": "execute_result"
    }
   ],
   "source": [
    "store_df.describe()"
   ]
  },
  {
   "cell_type": "code",
   "execution_count": 5,
   "metadata": {
    "collapsed": false
   },
   "outputs": [
    {
     "name": "stdout",
     "output_type": "stream",
     "text": [
      "<class 'pandas.core.frame.DataFrame'>\n",
      "RangeIndex: 896 entries, 0 to 895\n",
      "Data columns (total 5 columns):\n",
      " #   Column                Non-Null Count  Dtype\n",
      "---  ------                --------------  -----\n",
      " 0   Store ID              896 non-null    int64\n",
      " 1   Store_Area            896 non-null    int64\n",
      " 2   Items_Available       896 non-null    int64\n",
      " 3   Daily_Customer_Count  896 non-null    int64\n",
      " 4   Store_Sales           896 non-null    int64\n",
      "dtypes: int64(5)\n",
      "memory usage: 35.1 KB\n"
     ]
    }
   ],
   "source": [
    "store_df.info()"
   ]
  },
  {
   "cell_type": "code",
   "execution_count": 6,
   "metadata": {
    "collapsed": false
   },
   "outputs": [
   ],
   "source": [
    "# transform store area to Dtype: List\n",
    "Store_area = list(store_df['Store_Area'])\n",
    "Store_scale = []\n",
    "\n",
    "for area in Store_area:\n",
    "    if area < 1300:\n",
    "        Store_scale.append('small')\n",
    "    elif area > 1700:\n",
    "        Store_scale.append('large')\n",
    "    else:\n",
    "        Store_scale.append('medium')\n",
    "\n",
    "store_df['Store_Scale'] = Store_scale\n"
   ]
  },
  {
   "cell_type": "code",
   "execution_count": 7,
   "metadata": {
    "collapsed": false
   },
   "outputs": [
   ],
   "source": [
    "\n",
    "Store_sales = list(store_df['Store_Sales'])\n",
    "Store_income = []\n",
    "for sales in Store_sales:\n",
    "    if sales < 35000:\n",
    "        Store_income.append('low-income')\n",
    "    elif sales > 70000:\n",
    "        Store_income.append('high-income')\n",
    "    else:\n",
    "        Store_income.append('medium-income')\n",
    "\n",
    "store_df['Income'] = Store_income"
   ]
  },
  {
   "cell_type": "code",
   "execution_count": 8,
   "metadata": {
    "collapsed": false
   },
   "outputs": [
    {
     "data": {
      "text/html": [
       "<div>\n",
       "<style scoped>\n",
       "    .dataframe tbody tr th:only-of-type {\n",
       "        vertical-align: middle;\n",
       "    }\n",
       "\n",
       "    .dataframe tbody tr th {\n",
       "        vertical-align: top;\n",
       "    }\n",
       "\n",
       "    .dataframe thead th {\n",
       "        text-align: right;\n",
       "    }\n",
       "</style>\n",
       "<table border=\"1\" class=\"dataframe\">\n",
       "  <thead>\n",
       "    <tr style=\"text-align: right;\">\n",
       "      <th></th>\n",
       "      <th>Store ID</th>\n",
       "      <th>Store_Area</th>\n",
       "      <th>Items_Available</th>\n",
       "      <th>Daily_Customer_Count</th>\n",
       "      <th>Store_Sales</th>\n",
       "      <th>Store_Scale</th>\n",
       "      <th>Income</th>\n",
       "    </tr>\n",
       "  </thead>\n",
       "  <tbody>\n",
       "    <tr>\n",
       "      <th>0</th>\n",
       "      <td>1</td>\n",
       "      <td>1659</td>\n",
       "      <td>1961</td>\n",
       "      <td>530</td>\n",
       "      <td>66490</td>\n",
       "      <td>medium</td>\n",
       "      <td>medium-income</td>\n",
       "    </tr>\n",
       "    <tr>\n",
       "      <th>1</th>\n",
       "      <td>2</td>\n",
       "      <td>1461</td>\n",
       "      <td>1752</td>\n",
       "      <td>210</td>\n",
       "      <td>39820</td>\n",
       "      <td>medium</td>\n",
       "      <td>medium-income</td>\n",
       "    </tr>\n",
       "    <tr>\n",
       "      <th>2</th>\n",
       "      <td>3</td>\n",
       "      <td>1340</td>\n",
       "      <td>1609</td>\n",
       "      <td>720</td>\n",
       "      <td>54010</td>\n",
       "      <td>medium</td>\n",
       "      <td>medium-income</td>\n",
       "    </tr>\n",
       "    <tr>\n",
       "      <th>3</th>\n",
       "      <td>4</td>\n",
       "      <td>1451</td>\n",
       "      <td>1748</td>\n",
       "      <td>620</td>\n",
       "      <td>53730</td>\n",
       "      <td>medium</td>\n",
       "      <td>medium-income</td>\n",
       "    </tr>\n",
       "    <tr>\n",
       "      <th>4</th>\n",
       "      <td>5</td>\n",
       "      <td>1770</td>\n",
       "      <td>2111</td>\n",
       "      <td>450</td>\n",
       "      <td>46620</td>\n",
       "      <td>large</td>\n",
       "      <td>medium-income</td>\n",
       "    </tr>\n",
       "  </tbody>\n",
       "</table>\n",
       "</div>"
      ],
      "text/plain": [
       "   Store ID   Store_Area  Items_Available  Daily_Customer_Count  Store_Sales  \\\n",
       "0          1        1659             1961                   530        66490   \n",
       "1          2        1461             1752                   210        39820   \n",
       "2          3        1340             1609                   720        54010   \n",
       "3          4        1451             1748                   620        53730   \n",
       "4          5        1770             2111                   450        46620   \n",
       "\n",
       "  Store_Scale         Income  \n",
       "0      medium  medium-income  \n",
       "1      medium  medium-income  \n",
       "2      medium  medium-income  \n",
       "3      medium  medium-income  \n",
       "4       large  medium-income  "
      ]
     },
     "execution_count": 8,
     "metadata": {
     },
     "output_type": "execute_result"
    }
   ],
   "source": [
    "# new store dataframe\n",
    "store_df.head()"
   ]
  },
  {
   "cell_type": "code",
   "execution_count": 9,
   "metadata": {
    "collapsed": false,
    "scrolled": true
   },
   "outputs": [
    {
     "data": {
      "text/html": [
       "<div>\n",
       "<style scoped>\n",
       "    .dataframe tbody tr th:only-of-type {\n",
       "        vertical-align: middle;\n",
       "    }\n",
       "\n",
       "    .dataframe tbody tr th {\n",
       "        vertical-align: top;\n",
       "    }\n",
       "\n",
       "    .dataframe thead th {\n",
       "        text-align: right;\n",
       "    }\n",
       "</style>\n",
       "<table border=\"1\" class=\"dataframe\">\n",
       "  <thead>\n",
       "    <tr style=\"text-align: right;\">\n",
       "      <th></th>\n",
       "      <th>Store ID</th>\n",
       "      <th>Store_Area</th>\n",
       "      <th>Items_Available</th>\n",
       "      <th>Daily_Customer_Count</th>\n",
       "      <th>Store_Sales</th>\n",
       "      <th>Store_Scale</th>\n",
       "      <th>Income</th>\n",
       "      <th>cus/sqr</th>\n",
       "    </tr>\n",
       "  </thead>\n",
       "  <tbody>\n",
       "    <tr>\n",
       "      <th>0</th>\n",
       "      <td>1</td>\n",
       "      <td>1659</td>\n",
       "      <td>1961</td>\n",
       "      <td>530</td>\n",
       "      <td>66490</td>\n",
       "      <td>medium</td>\n",
       "      <td>medium-income</td>\n",
       "      <td>0.319470</td>\n",
       "    </tr>\n",
       "    <tr>\n",
       "      <th>1</th>\n",
       "      <td>2</td>\n",
       "      <td>1461</td>\n",
       "      <td>1752</td>\n",
       "      <td>210</td>\n",
       "      <td>39820</td>\n",
       "      <td>medium</td>\n",
       "      <td>medium-income</td>\n",
       "      <td>0.143737</td>\n",
       "    </tr>\n",
       "    <tr>\n",
       "      <th>2</th>\n",
       "      <td>3</td>\n",
       "      <td>1340</td>\n",
       "      <td>1609</td>\n",
       "      <td>720</td>\n",
       "      <td>54010</td>\n",
       "      <td>medium</td>\n",
       "      <td>medium-income</td>\n",
       "      <td>0.537313</td>\n",
       "    </tr>\n",
       "    <tr>\n",
       "      <th>3</th>\n",
       "      <td>4</td>\n",
       "      <td>1451</td>\n",
       "      <td>1748</td>\n",
       "      <td>620</td>\n",
       "      <td>53730</td>\n",
       "      <td>medium</td>\n",
       "      <td>medium-income</td>\n",
       "      <td>0.427292</td>\n",
       "    </tr>\n",
       "    <tr>\n",
       "      <th>4</th>\n",
       "      <td>5</td>\n",
       "      <td>1770</td>\n",
       "      <td>2111</td>\n",
       "      <td>450</td>\n",
       "      <td>46620</td>\n",
       "      <td>large</td>\n",
       "      <td>medium-income</td>\n",
       "      <td>0.254237</td>\n",
       "    </tr>\n",
       "    <tr>\n",
       "      <th>...</th>\n",
       "      <td>...</td>\n",
       "      <td>...</td>\n",
       "      <td>...</td>\n",
       "      <td>...</td>\n",
       "      <td>...</td>\n",
       "      <td>...</td>\n",
       "      <td>...</td>\n",
       "      <td>...</td>\n",
       "    </tr>\n",
       "    <tr>\n",
       "      <th>891</th>\n",
       "      <td>892</td>\n",
       "      <td>1582</td>\n",
       "      <td>1910</td>\n",
       "      <td>1080</td>\n",
       "      <td>66390</td>\n",
       "      <td>medium</td>\n",
       "      <td>medium-income</td>\n",
       "      <td>0.682680</td>\n",
       "    </tr>\n",
       "    <tr>\n",
       "      <th>892</th>\n",
       "      <td>893</td>\n",
       "      <td>1387</td>\n",
       "      <td>1663</td>\n",
       "      <td>850</td>\n",
       "      <td>82080</td>\n",
       "      <td>medium</td>\n",
       "      <td>high-income</td>\n",
       "      <td>0.612833</td>\n",
       "    </tr>\n",
       "    <tr>\n",
       "      <th>893</th>\n",
       "      <td>894</td>\n",
       "      <td>1200</td>\n",
       "      <td>1436</td>\n",
       "      <td>1060</td>\n",
       "      <td>76440</td>\n",
       "      <td>small</td>\n",
       "      <td>high-income</td>\n",
       "      <td>0.883333</td>\n",
       "    </tr>\n",
       "    <tr>\n",
       "      <th>894</th>\n",
       "      <td>895</td>\n",
       "      <td>1299</td>\n",
       "      <td>1560</td>\n",
       "      <td>770</td>\n",
       "      <td>96610</td>\n",
       "      <td>small</td>\n",
       "      <td>high-income</td>\n",
       "      <td>0.592764</td>\n",
       "    </tr>\n",
       "    <tr>\n",
       "      <th>895</th>\n",
       "      <td>896</td>\n",
       "      <td>1174</td>\n",
       "      <td>1429</td>\n",
       "      <td>1110</td>\n",
       "      <td>54340</td>\n",
       "      <td>small</td>\n",
       "      <td>medium-income</td>\n",
       "      <td>0.945486</td>\n",
       "    </tr>\n",
       "  </tbody>\n",
       "</table>\n",
       "<p>896 rows × 8 columns</p>\n",
       "</div>"
      ],
      "text/plain": [
       "     Store ID   Store_Area  Items_Available  Daily_Customer_Count  \\\n",
       "0            1        1659             1961                   530   \n",
       "1            2        1461             1752                   210   \n",
       "2            3        1340             1609                   720   \n",
       "3            4        1451             1748                   620   \n",
       "4            5        1770             2111                   450   \n",
       "..         ...         ...              ...                   ...   \n",
       "891        892        1582             1910                  1080   \n",
       "892        893        1387             1663                   850   \n",
       "893        894        1200             1436                  1060   \n",
       "894        895        1299             1560                   770   \n",
       "895        896        1174             1429                  1110   \n",
       "\n",
       "     Store_Sales Store_Scale         Income   cus/sqr  \n",
       "0          66490      medium  medium-income  0.319470  \n",
       "1          39820      medium  medium-income  0.143737  \n",
       "2          54010      medium  medium-income  0.537313  \n",
       "3          53730      medium  medium-income  0.427292  \n",
       "4          46620       large  medium-income  0.254237  \n",
       "..           ...         ...            ...       ...  \n",
       "891        66390      medium  medium-income  0.682680  \n",
       "892        82080      medium    high-income  0.612833  \n",
       "893        76440       small    high-income  0.883333  \n",
       "894        96610       small    high-income  0.592764  \n",
       "895        54340       small  medium-income  0.945486  \n",
       "\n",
       "[896 rows x 8 columns]"
      ]
     },
     "execution_count": 9,
     "metadata": {
     },
     "output_type": "execute_result"
    }
   ],
   "source": [
    "store_df['Store_Scale'].unique()\n",
    "\n",
    "# create new feature called 'cus/sqr'\n",
    "\n",
    "store_df['cus/sqr'] = store_df['Daily_Customer_Count']/store_df['Store_Area']\n",
    "store_df.drop(columns='Store ID ')\n",
    "store_df\n"
   ]
  },
  {
   "cell_type": "code",
   "execution_count": 10,
   "metadata": {
    "collapsed": false
   },
   "outputs": [
    {
     "data": {
      "text/html": [
       "<div>\n",
       "<style scoped>\n",
       "    .dataframe tbody tr th:only-of-type {\n",
       "        vertical-align: middle;\n",
       "    }\n",
       "\n",
       "    .dataframe tbody tr th {\n",
       "        vertical-align: top;\n",
       "    }\n",
       "\n",
       "    .dataframe thead th {\n",
       "        text-align: right;\n",
       "    }\n",
       "</style>\n",
       "<table border=\"1\" class=\"dataframe\">\n",
       "  <thead>\n",
       "    <tr style=\"text-align: right;\">\n",
       "      <th></th>\n",
       "      <th>large</th>\n",
       "      <th>medium</th>\n",
       "      <th>small</th>\n",
       "    </tr>\n",
       "  </thead>\n",
       "  <tbody>\n",
       "    <tr>\n",
       "      <th>0</th>\n",
       "      <td>0</td>\n",
       "      <td>1</td>\n",
       "      <td>0</td>\n",
       "    </tr>\n",
       "    <tr>\n",
       "      <th>1</th>\n",
       "      <td>0</td>\n",
       "      <td>1</td>\n",
       "      <td>0</td>\n",
       "    </tr>\n",
       "    <tr>\n",
       "      <th>2</th>\n",
       "      <td>0</td>\n",
       "      <td>1</td>\n",
       "      <td>0</td>\n",
       "    </tr>\n",
       "    <tr>\n",
       "      <th>3</th>\n",
       "      <td>0</td>\n",
       "      <td>1</td>\n",
       "      <td>0</td>\n",
       "    </tr>\n",
       "    <tr>\n",
       "      <th>4</th>\n",
       "      <td>1</td>\n",
       "      <td>0</td>\n",
       "      <td>0</td>\n",
       "    </tr>\n",
       "    <tr>\n",
       "      <th>...</th>\n",
       "      <td>...</td>\n",
       "      <td>...</td>\n",
       "      <td>...</td>\n",
       "    </tr>\n",
       "    <tr>\n",
       "      <th>891</th>\n",
       "      <td>0</td>\n",
       "      <td>1</td>\n",
       "      <td>0</td>\n",
       "    </tr>\n",
       "    <tr>\n",
       "      <th>892</th>\n",
       "      <td>0</td>\n",
       "      <td>1</td>\n",
       "      <td>0</td>\n",
       "    </tr>\n",
       "    <tr>\n",
       "      <th>893</th>\n",
       "      <td>0</td>\n",
       "      <td>0</td>\n",
       "      <td>1</td>\n",
       "    </tr>\n",
       "    <tr>\n",
       "      <th>894</th>\n",
       "      <td>0</td>\n",
       "      <td>0</td>\n",
       "      <td>1</td>\n",
       "    </tr>\n",
       "    <tr>\n",
       "      <th>895</th>\n",
       "      <td>0</td>\n",
       "      <td>0</td>\n",
       "      <td>1</td>\n",
       "    </tr>\n",
       "  </tbody>\n",
       "</table>\n",
       "<p>896 rows × 3 columns</p>\n",
       "</div>"
      ],
      "text/plain": [
       "     large  medium  small\n",
       "0        0       1      0\n",
       "1        0       1      0\n",
       "2        0       1      0\n",
       "3        0       1      0\n",
       "4        1       0      0\n",
       "..     ...     ...    ...\n",
       "891      0       1      0\n",
       "892      0       1      0\n",
       "893      0       0      1\n",
       "894      0       0      1\n",
       "895      0       0      1\n",
       "\n",
       "[896 rows x 3 columns]"
      ]
     },
     "execution_count": 10,
     "metadata": {
     },
     "output_type": "execute_result"
    }
   ],
   "source": [
    "# transfer the categorical variable to dummy variables. It enables model to take categorical variables into consideration.\n",
    "dummy_store = pd.get_dummies(store_df['Store_Scale'])\n",
    "\n",
    "# concat dummy dataframe with store_df\n",
    "store_df = pd.concat([store_df, dummy_store], axis = 1)\n",
    "\n",
    "dummy_store"
   ]
  },
  {
   "cell_type": "raw",
   "metadata": {
    "collapsed": false
   },
   "source": [
    "    store_df"
   ]
  },
  {
   "cell_type": "code",
   "execution_count": 12,
   "metadata": {
    "collapsed": false
   },
   "outputs": [
   ],
   "source": [
    "# standarize the numerical variables\n",
    "\n",
    "std_store_area = (store_df['Store_Area']-store_df['Store_Area'].mean())/store_df['Store_Area'].std()\n",
    "std_item_available = (store_df['Items_Available']-store_df['Items_Available'].mean())/store_df['Items_Available'].std()\n",
    "std_daily_customer = (store_df['Daily_Customer_Count']-store_df['Daily_Customer_Count'].mean())/store_df['Daily_Customer_Count'].std()\n",
    "std_cur_sqr = (store_df['cus/sqr']-store_df['cus/sqr'].mean())/store_df['cus/sqr'].std()\n",
    "\n"
   ]
  },
  {
   "cell_type": "code",
   "execution_count": 13,
   "metadata": {
    "collapsed": false
   },
   "outputs": [
    {
     "data": {
      "text/html": [
       "<div>\n",
       "<style scoped>\n",
       "    .dataframe tbody tr th:only-of-type {\n",
       "        vertical-align: middle;\n",
       "    }\n",
       "\n",
       "    .dataframe tbody tr th {\n",
       "        vertical-align: top;\n",
       "    }\n",
       "\n",
       "    .dataframe thead th {\n",
       "        text-align: right;\n",
       "    }\n",
       "</style>\n",
       "<table border=\"1\" class=\"dataframe\">\n",
       "  <thead>\n",
       "    <tr style=\"text-align: right;\">\n",
       "      <th></th>\n",
       "      <th>Store ID</th>\n",
       "      <th>Store_Area</th>\n",
       "      <th>Items_Available</th>\n",
       "      <th>Daily_Customer_Count</th>\n",
       "      <th>Store_Sales</th>\n",
       "      <th>Store_Scale</th>\n",
       "      <th>Income</th>\n",
       "      <th>cus/sqr</th>\n",
       "      <th>large</th>\n",
       "      <th>medium</th>\n",
       "      <th>small</th>\n",
       "      <th>std_store_area</th>\n",
       "      <th>std_item_available</th>\n",
       "      <th>std_daily_customer</th>\n",
       "      <th>std_cur_sqr</th>\n",
       "    </tr>\n",
       "  </thead>\n",
       "  <tbody>\n",
       "    <tr>\n",
       "      <th>0</th>\n",
       "      <td>1</td>\n",
       "      <td>1659</td>\n",
       "      <td>1961</td>\n",
       "      <td>530</td>\n",
       "      <td>66490</td>\n",
       "      <td>medium</td>\n",
       "      <td>medium-income</td>\n",
       "      <td>0.319470</td>\n",
       "      <td>0</td>\n",
       "      <td>1</td>\n",
       "      <td>0</td>\n",
       "      <td>0.693704</td>\n",
       "      <td>0.596802</td>\n",
       "      <td>-0.965941</td>\n",
       "      <td>-1.050732</td>\n",
       "    </tr>\n",
       "    <tr>\n",
       "      <th>1</th>\n",
       "      <td>2</td>\n",
       "      <td>1461</td>\n",
       "      <td>1752</td>\n",
       "      <td>210</td>\n",
       "      <td>39820</td>\n",
       "      <td>medium</td>\n",
       "      <td>medium-income</td>\n",
       "      <td>0.143737</td>\n",
       "      <td>0</td>\n",
       "      <td>1</td>\n",
       "      <td>0</td>\n",
       "      <td>-0.097546</td>\n",
       "      <td>-0.100162</td>\n",
       "      <td>-2.171717</td>\n",
       "      <td>-1.861861</td>\n",
       "    </tr>\n",
       "    <tr>\n",
       "      <th>2</th>\n",
       "      <td>3</td>\n",
       "      <td>1340</td>\n",
       "      <td>1609</td>\n",
       "      <td>720</td>\n",
       "      <td>54010</td>\n",
       "      <td>medium</td>\n",
       "      <td>medium-income</td>\n",
       "      <td>0.537313</td>\n",
       "      <td>0</td>\n",
       "      <td>1</td>\n",
       "      <td>0</td>\n",
       "      <td>-0.581087</td>\n",
       "      <td>-0.577032</td>\n",
       "      <td>-0.250012</td>\n",
       "      <td>-0.045229</td>\n",
       "    </tr>\n",
       "    <tr>\n",
       "      <th>3</th>\n",
       "      <td>4</td>\n",
       "      <td>1451</td>\n",
       "      <td>1748</td>\n",
       "      <td>620</td>\n",
       "      <td>53730</td>\n",
       "      <td>medium</td>\n",
       "      <td>medium-income</td>\n",
       "      <td>0.427292</td>\n",
       "      <td>0</td>\n",
       "      <td>1</td>\n",
       "      <td>0</td>\n",
       "      <td>-0.137508</td>\n",
       "      <td>-0.113501</td>\n",
       "      <td>-0.626817</td>\n",
       "      <td>-0.553058</td>\n",
       "    </tr>\n",
       "    <tr>\n",
       "      <th>4</th>\n",
       "      <td>5</td>\n",
       "      <td>1770</td>\n",
       "      <td>2111</td>\n",
       "      <td>450</td>\n",
       "      <td>46620</td>\n",
       "      <td>large</td>\n",
       "      <td>medium-income</td>\n",
       "      <td>0.254237</td>\n",
       "      <td>1</td>\n",
       "      <td>0</td>\n",
       "      <td>0</td>\n",
       "      <td>1.137283</td>\n",
       "      <td>1.097015</td>\n",
       "      <td>-1.267385</td>\n",
       "      <td>-1.351825</td>\n",
       "    </tr>\n",
       "    <tr>\n",
       "      <th>...</th>\n",
       "      <td>...</td>\n",
       "      <td>...</td>\n",
       "      <td>...</td>\n",
       "      <td>...</td>\n",
       "      <td>...</td>\n",
       "      <td>...</td>\n",
       "      <td>...</td>\n",
       "      <td>...</td>\n",
       "      <td>...</td>\n",
       "      <td>...</td>\n",
       "      <td>...</td>\n",
       "      <td>...</td>\n",
       "      <td>...</td>\n",
       "      <td>...</td>\n",
       "      <td>...</td>\n",
       "    </tr>\n",
       "    <tr>\n",
       "      <th>891</th>\n",
       "      <td>892</td>\n",
       "      <td>1582</td>\n",
       "      <td>1910</td>\n",
       "      <td>1080</td>\n",
       "      <td>66390</td>\n",
       "      <td>medium</td>\n",
       "      <td>medium-income</td>\n",
       "      <td>0.682680</td>\n",
       "      <td>0</td>\n",
       "      <td>1</td>\n",
       "      <td>0</td>\n",
       "      <td>0.385996</td>\n",
       "      <td>0.426730</td>\n",
       "      <td>1.106486</td>\n",
       "      <td>0.625741</td>\n",
       "    </tr>\n",
       "    <tr>\n",
       "      <th>892</th>\n",
       "      <td>893</td>\n",
       "      <td>1387</td>\n",
       "      <td>1663</td>\n",
       "      <td>850</td>\n",
       "      <td>82080</td>\n",
       "      <td>medium</td>\n",
       "      <td>high-income</td>\n",
       "      <td>0.612833</td>\n",
       "      <td>0</td>\n",
       "      <td>1</td>\n",
       "      <td>0</td>\n",
       "      <td>-0.393266</td>\n",
       "      <td>-0.396955</td>\n",
       "      <td>0.239835</td>\n",
       "      <td>0.303349</td>\n",
       "    </tr>\n",
       "    <tr>\n",
       "      <th>893</th>\n",
       "      <td>894</td>\n",
       "      <td>1200</td>\n",
       "      <td>1436</td>\n",
       "      <td>1060</td>\n",
       "      <td>76440</td>\n",
       "      <td>small</td>\n",
       "      <td>high-income</td>\n",
       "      <td>0.883333</td>\n",
       "      <td>0</td>\n",
       "      <td>0</td>\n",
       "      <td>1</td>\n",
       "      <td>-1.140557</td>\n",
       "      <td>-1.153945</td>\n",
       "      <td>1.031125</td>\n",
       "      <td>1.551897</td>\n",
       "    </tr>\n",
       "    <tr>\n",
       "      <th>894</th>\n",
       "      <td>895</td>\n",
       "      <td>1299</td>\n",
       "      <td>1560</td>\n",
       "      <td>770</td>\n",
       "      <td>96610</td>\n",
       "      <td>small</td>\n",
       "      <td>high-income</td>\n",
       "      <td>0.592764</td>\n",
       "      <td>0</td>\n",
       "      <td>0</td>\n",
       "      <td>1</td>\n",
       "      <td>-0.744932</td>\n",
       "      <td>-0.740435</td>\n",
       "      <td>-0.061609</td>\n",
       "      <td>0.210713</td>\n",
       "    </tr>\n",
       "    <tr>\n",
       "      <th>895</th>\n",
       "      <td>896</td>\n",
       "      <td>1174</td>\n",
       "      <td>1429</td>\n",
       "      <td>1110</td>\n",
       "      <td>54340</td>\n",
       "      <td>small</td>\n",
       "      <td>medium-income</td>\n",
       "      <td>0.945486</td>\n",
       "      <td>0</td>\n",
       "      <td>0</td>\n",
       "      <td>1</td>\n",
       "      <td>-1.244459</td>\n",
       "      <td>-1.177288</td>\n",
       "      <td>1.219528</td>\n",
       "      <td>1.838774</td>\n",
       "    </tr>\n",
       "  </tbody>\n",
       "</table>\n",
       "<p>896 rows × 15 columns</p>\n",
       "</div>"
      ],
      "text/plain": [
       "     Store ID   Store_Area  Items_Available  Daily_Customer_Count  \\\n",
       "0            1        1659             1961                   530   \n",
       "1            2        1461             1752                   210   \n",
       "2            3        1340             1609                   720   \n",
       "3            4        1451             1748                   620   \n",
       "4            5        1770             2111                   450   \n",
       "..         ...         ...              ...                   ...   \n",
       "891        892        1582             1910                  1080   \n",
       "892        893        1387             1663                   850   \n",
       "893        894        1200             1436                  1060   \n",
       "894        895        1299             1560                   770   \n",
       "895        896        1174             1429                  1110   \n",
       "\n",
       "     Store_Sales Store_Scale         Income   cus/sqr  large  medium  small  \\\n",
       "0          66490      medium  medium-income  0.319470      0       1      0   \n",
       "1          39820      medium  medium-income  0.143737      0       1      0   \n",
       "2          54010      medium  medium-income  0.537313      0       1      0   \n",
       "3          53730      medium  medium-income  0.427292      0       1      0   \n",
       "4          46620       large  medium-income  0.254237      1       0      0   \n",
       "..           ...         ...            ...       ...    ...     ...    ...   \n",
       "891        66390      medium  medium-income  0.682680      0       1      0   \n",
       "892        82080      medium    high-income  0.612833      0       1      0   \n",
       "893        76440       small    high-income  0.883333      0       0      1   \n",
       "894        96610       small    high-income  0.592764      0       0      1   \n",
       "895        54340       small  medium-income  0.945486      0       0      1   \n",
       "\n",
       "     std_store_area  std_item_available  std_daily_customer  std_cur_sqr  \n",
       "0          0.693704            0.596802           -0.965941    -1.050732  \n",
       "1         -0.097546           -0.100162           -2.171717    -1.861861  \n",
       "2         -0.581087           -0.577032           -0.250012    -0.045229  \n",
       "3         -0.137508           -0.113501           -0.626817    -0.553058  \n",
       "4          1.137283            1.097015           -1.267385    -1.351825  \n",
       "..              ...                 ...                 ...          ...  \n",
       "891        0.385996            0.426730            1.106486     0.625741  \n",
       "892       -0.393266           -0.396955            0.239835     0.303349  \n",
       "893       -1.140557           -1.153945            1.031125     1.551897  \n",
       "894       -0.744932           -0.740435           -0.061609     0.210713  \n",
       "895       -1.244459           -1.177288            1.219528     1.838774  \n",
       "\n",
       "[896 rows x 15 columns]"
      ]
     },
     "execution_count": 13,
     "metadata": {
     },
     "output_type": "execute_result"
    }
   ],
   "source": [
    "# Assign the standarized varialbes to the store dataframe\n",
    "\n",
    "store_df['std_store_area'] = std_store_area\n",
    "store_df['std_item_available'] = std_item_available\n",
    "store_df['std_daily_customer'] = std_daily_customer\n",
    "store_df['std_cur_sqr'] = std_cur_sqr\n",
    "store_df"
   ]
  },
  {
   "cell_type": "code",
   "execution_count": 14,
   "metadata": {
    "collapsed": false
   },
   "outputs": [
    {
     "data": {
      "text/html": [
       "<div>\n",
       "<style scoped>\n",
       "    .dataframe tbody tr th:only-of-type {\n",
       "        vertical-align: middle;\n",
       "    }\n",
       "\n",
       "    .dataframe tbody tr th {\n",
       "        vertical-align: top;\n",
       "    }\n",
       "\n",
       "    .dataframe thead th {\n",
       "        text-align: right;\n",
       "    }\n",
       "</style>\n",
       "<table border=\"1\" class=\"dataframe\">\n",
       "  <thead>\n",
       "    <tr style=\"text-align: right;\">\n",
       "      <th></th>\n",
       "      <th>Store ID</th>\n",
       "      <th>Store_Area</th>\n",
       "      <th>Items_Available</th>\n",
       "      <th>Daily_Customer_Count</th>\n",
       "      <th>Store_Sales</th>\n",
       "      <th>Store_Scale</th>\n",
       "      <th>Income</th>\n",
       "      <th>cus/sqr</th>\n",
       "      <th>large</th>\n",
       "      <th>medium</th>\n",
       "      <th>small</th>\n",
       "      <th>std_store_area</th>\n",
       "      <th>std_item_available</th>\n",
       "      <th>std_daily_customer</th>\n",
       "      <th>std_cur_sqr</th>\n",
       "    </tr>\n",
       "  </thead>\n",
       "  <tbody>\n",
       "    <tr>\n",
       "      <th>0</th>\n",
       "      <td>1</td>\n",
       "      <td>1659</td>\n",
       "      <td>1961</td>\n",
       "      <td>530</td>\n",
       "      <td>66490</td>\n",
       "      <td>medium</td>\n",
       "      <td>medium-income</td>\n",
       "      <td>0.319470</td>\n",
       "      <td>0</td>\n",
       "      <td>1</td>\n",
       "      <td>0</td>\n",
       "      <td>0.693704</td>\n",
       "      <td>0.596802</td>\n",
       "      <td>-0.965941</td>\n",
       "      <td>-1.050732</td>\n",
       "    </tr>\n",
       "    <tr>\n",
       "      <th>1</th>\n",
       "      <td>2</td>\n",
       "      <td>1461</td>\n",
       "      <td>1752</td>\n",
       "      <td>210</td>\n",
       "      <td>39820</td>\n",
       "      <td>medium</td>\n",
       "      <td>medium-income</td>\n",
       "      <td>0.143737</td>\n",
       "      <td>0</td>\n",
       "      <td>1</td>\n",
       "      <td>0</td>\n",
       "      <td>-0.097546</td>\n",
       "      <td>-0.100162</td>\n",
       "      <td>-2.171717</td>\n",
       "      <td>-1.861861</td>\n",
       "    </tr>\n",
       "    <tr>\n",
       "      <th>2</th>\n",
       "      <td>3</td>\n",
       "      <td>1340</td>\n",
       "      <td>1609</td>\n",
       "      <td>720</td>\n",
       "      <td>54010</td>\n",
       "      <td>medium</td>\n",
       "      <td>medium-income</td>\n",
       "      <td>0.537313</td>\n",
       "      <td>0</td>\n",
       "      <td>1</td>\n",
       "      <td>0</td>\n",
       "      <td>-0.581087</td>\n",
       "      <td>-0.577032</td>\n",
       "      <td>-0.250012</td>\n",
       "      <td>-0.045229</td>\n",
       "    </tr>\n",
       "    <tr>\n",
       "      <th>3</th>\n",
       "      <td>4</td>\n",
       "      <td>1451</td>\n",
       "      <td>1748</td>\n",
       "      <td>620</td>\n",
       "      <td>53730</td>\n",
       "      <td>medium</td>\n",
       "      <td>medium-income</td>\n",
       "      <td>0.427292</td>\n",
       "      <td>0</td>\n",
       "      <td>1</td>\n",
       "      <td>0</td>\n",
       "      <td>-0.137508</td>\n",
       "      <td>-0.113501</td>\n",
       "      <td>-0.626817</td>\n",
       "      <td>-0.553058</td>\n",
       "    </tr>\n",
       "    <tr>\n",
       "      <th>4</th>\n",
       "      <td>5</td>\n",
       "      <td>1770</td>\n",
       "      <td>2111</td>\n",
       "      <td>450</td>\n",
       "      <td>46620</td>\n",
       "      <td>large</td>\n",
       "      <td>medium-income</td>\n",
       "      <td>0.254237</td>\n",
       "      <td>1</td>\n",
       "      <td>0</td>\n",
       "      <td>0</td>\n",
       "      <td>1.137283</td>\n",
       "      <td>1.097015</td>\n",
       "      <td>-1.267385</td>\n",
       "      <td>-1.351825</td>\n",
       "    </tr>\n",
       "    <tr>\n",
       "      <th>...</th>\n",
       "      <td>...</td>\n",
       "      <td>...</td>\n",
       "      <td>...</td>\n",
       "      <td>...</td>\n",
       "      <td>...</td>\n",
       "      <td>...</td>\n",
       "      <td>...</td>\n",
       "      <td>...</td>\n",
       "      <td>...</td>\n",
       "      <td>...</td>\n",
       "      <td>...</td>\n",
       "      <td>...</td>\n",
       "      <td>...</td>\n",
       "      <td>...</td>\n",
       "      <td>...</td>\n",
       "    </tr>\n",
       "    <tr>\n",
       "      <th>891</th>\n",
       "      <td>892</td>\n",
       "      <td>1582</td>\n",
       "      <td>1910</td>\n",
       "      <td>1080</td>\n",
       "      <td>66390</td>\n",
       "      <td>medium</td>\n",
       "      <td>medium-income</td>\n",
       "      <td>0.682680</td>\n",
       "      <td>0</td>\n",
       "      <td>1</td>\n",
       "      <td>0</td>\n",
       "      <td>0.385996</td>\n",
       "      <td>0.426730</td>\n",
       "      <td>1.106486</td>\n",
       "      <td>0.625741</td>\n",
       "    </tr>\n",
       "    <tr>\n",
       "      <th>892</th>\n",
       "      <td>893</td>\n",
       "      <td>1387</td>\n",
       "      <td>1663</td>\n",
       "      <td>850</td>\n",
       "      <td>82080</td>\n",
       "      <td>medium</td>\n",
       "      <td>high-income</td>\n",
       "      <td>0.612833</td>\n",
       "      <td>0</td>\n",
       "      <td>1</td>\n",
       "      <td>0</td>\n",
       "      <td>-0.393266</td>\n",
       "      <td>-0.396955</td>\n",
       "      <td>0.239835</td>\n",
       "      <td>0.303349</td>\n",
       "    </tr>\n",
       "    <tr>\n",
       "      <th>893</th>\n",
       "      <td>894</td>\n",
       "      <td>1200</td>\n",
       "      <td>1436</td>\n",
       "      <td>1060</td>\n",
       "      <td>76440</td>\n",
       "      <td>small</td>\n",
       "      <td>high-income</td>\n",
       "      <td>0.883333</td>\n",
       "      <td>0</td>\n",
       "      <td>0</td>\n",
       "      <td>1</td>\n",
       "      <td>-1.140557</td>\n",
       "      <td>-1.153945</td>\n",
       "      <td>1.031125</td>\n",
       "      <td>1.551897</td>\n",
       "    </tr>\n",
       "    <tr>\n",
       "      <th>894</th>\n",
       "      <td>895</td>\n",
       "      <td>1299</td>\n",
       "      <td>1560</td>\n",
       "      <td>770</td>\n",
       "      <td>96610</td>\n",
       "      <td>small</td>\n",
       "      <td>high-income</td>\n",
       "      <td>0.592764</td>\n",
       "      <td>0</td>\n",
       "      <td>0</td>\n",
       "      <td>1</td>\n",
       "      <td>-0.744932</td>\n",
       "      <td>-0.740435</td>\n",
       "      <td>-0.061609</td>\n",
       "      <td>0.210713</td>\n",
       "    </tr>\n",
       "    <tr>\n",
       "      <th>895</th>\n",
       "      <td>896</td>\n",
       "      <td>1174</td>\n",
       "      <td>1429</td>\n",
       "      <td>1110</td>\n",
       "      <td>54340</td>\n",
       "      <td>small</td>\n",
       "      <td>medium-income</td>\n",
       "      <td>0.945486</td>\n",
       "      <td>0</td>\n",
       "      <td>0</td>\n",
       "      <td>1</td>\n",
       "      <td>-1.244459</td>\n",
       "      <td>-1.177288</td>\n",
       "      <td>1.219528</td>\n",
       "      <td>1.838774</td>\n",
       "    </tr>\n",
       "  </tbody>\n",
       "</table>\n",
       "<p>896 rows × 15 columns</p>\n",
       "</div>"
      ],
      "text/plain": [
       "     Store ID   Store_Area  Items_Available  Daily_Customer_Count  \\\n",
       "0            1        1659             1961                   530   \n",
       "1            2        1461             1752                   210   \n",
       "2            3        1340             1609                   720   \n",
       "3            4        1451             1748                   620   \n",
       "4            5        1770             2111                   450   \n",
       "..         ...         ...              ...                   ...   \n",
       "891        892        1582             1910                  1080   \n",
       "892        893        1387             1663                   850   \n",
       "893        894        1200             1436                  1060   \n",
       "894        895        1299             1560                   770   \n",
       "895        896        1174             1429                  1110   \n",
       "\n",
       "     Store_Sales Store_Scale         Income   cus/sqr  large  medium  small  \\\n",
       "0          66490      medium  medium-income  0.319470      0       1      0   \n",
       "1          39820      medium  medium-income  0.143737      0       1      0   \n",
       "2          54010      medium  medium-income  0.537313      0       1      0   \n",
       "3          53730      medium  medium-income  0.427292      0       1      0   \n",
       "4          46620       large  medium-income  0.254237      1       0      0   \n",
       "..           ...         ...            ...       ...    ...     ...    ...   \n",
       "891        66390      medium  medium-income  0.682680      0       1      0   \n",
       "892        82080      medium    high-income  0.612833      0       1      0   \n",
       "893        76440       small    high-income  0.883333      0       0      1   \n",
       "894        96610       small    high-income  0.592764      0       0      1   \n",
       "895        54340       small  medium-income  0.945486      0       0      1   \n",
       "\n",
       "     std_store_area  std_item_available  std_daily_customer  std_cur_sqr  \n",
       "0          0.693704            0.596802           -0.965941    -1.050732  \n",
       "1         -0.097546           -0.100162           -2.171717    -1.861861  \n",
       "2         -0.581087           -0.577032           -0.250012    -0.045229  \n",
       "3         -0.137508           -0.113501           -0.626817    -0.553058  \n",
       "4          1.137283            1.097015           -1.267385    -1.351825  \n",
       "..              ...                 ...                 ...          ...  \n",
       "891        0.385996            0.426730            1.106486     0.625741  \n",
       "892       -0.393266           -0.396955            0.239835     0.303349  \n",
       "893       -1.140557           -1.153945            1.031125     1.551897  \n",
       "894       -0.744932           -0.740435           -0.061609     0.210713  \n",
       "895       -1.244459           -1.177288            1.219528     1.838774  \n",
       "\n",
       "[896 rows x 15 columns]"
      ]
     },
     "execution_count": 14,
     "metadata": {
     },
     "output_type": "execute_result"
    }
   ],
   "source": [
    "df_zt = store_df.copy()\n",
    "df_zt"
   ]
  },
  {
   "cell_type": "markdown",
   "metadata": {
    "collapsed": false
   },
   "source": [
    "### Remove the outliers\n",
    "\n"
   ]
  },
  {
   "cell_type": "code",
   "execution_count": 15,
   "metadata": {
    "collapsed": false,
    "scrolled": true
   },
   "outputs": [
    {
     "data": {
      "text/html": [
       "<div>\n",
       "<style scoped>\n",
       "    .dataframe tbody tr th:only-of-type {\n",
       "        vertical-align: middle;\n",
       "    }\n",
       "\n",
       "    .dataframe tbody tr th {\n",
       "        vertical-align: top;\n",
       "    }\n",
       "\n",
       "    .dataframe thead th {\n",
       "        text-align: right;\n",
       "    }\n",
       "</style>\n",
       "<table border=\"1\" class=\"dataframe\">\n",
       "  <thead>\n",
       "    <tr style=\"text-align: right;\">\n",
       "      <th></th>\n",
       "      <th>cus/sqr</th>\n",
       "      <th>std_store_area</th>\n",
       "      <th>std_item_available</th>\n",
       "      <th>std_daily_customer</th>\n",
       "      <th>std_cur_sqr</th>\n",
       "      <th>Store_Sales</th>\n",
       "      <th>outlier</th>\n",
       "    </tr>\n",
       "  </thead>\n",
       "  <tbody>\n",
       "    <tr>\n",
       "      <th>0</th>\n",
       "      <td>0.319470</td>\n",
       "      <td>0.693704</td>\n",
       "      <td>0.596802</td>\n",
       "      <td>-0.965941</td>\n",
       "      <td>-1.050732</td>\n",
       "      <td>66490</td>\n",
       "      <td>1</td>\n",
       "    </tr>\n",
       "    <tr>\n",
       "      <th>1</th>\n",
       "      <td>0.143737</td>\n",
       "      <td>-0.097546</td>\n",
       "      <td>-0.100162</td>\n",
       "      <td>-2.171717</td>\n",
       "      <td>-1.861861</td>\n",
       "      <td>39820</td>\n",
       "      <td>1</td>\n",
       "    </tr>\n",
       "    <tr>\n",
       "      <th>2</th>\n",
       "      <td>0.537313</td>\n",
       "      <td>-0.581087</td>\n",
       "      <td>-0.577032</td>\n",
       "      <td>-0.250012</td>\n",
       "      <td>-0.045229</td>\n",
       "      <td>54010</td>\n",
       "      <td>1</td>\n",
       "    </tr>\n",
       "    <tr>\n",
       "      <th>3</th>\n",
       "      <td>0.427292</td>\n",
       "      <td>-0.137508</td>\n",
       "      <td>-0.113501</td>\n",
       "      <td>-0.626817</td>\n",
       "      <td>-0.553058</td>\n",
       "      <td>53730</td>\n",
       "      <td>1</td>\n",
       "    </tr>\n",
       "    <tr>\n",
       "      <th>4</th>\n",
       "      <td>0.254237</td>\n",
       "      <td>1.137283</td>\n",
       "      <td>1.097015</td>\n",
       "      <td>-1.267385</td>\n",
       "      <td>-1.351825</td>\n",
       "      <td>46620</td>\n",
       "      <td>1</td>\n",
       "    </tr>\n",
       "    <tr>\n",
       "      <th>...</th>\n",
       "      <td>...</td>\n",
       "      <td>...</td>\n",
       "      <td>...</td>\n",
       "      <td>...</td>\n",
       "      <td>...</td>\n",
       "      <td>...</td>\n",
       "      <td>...</td>\n",
       "    </tr>\n",
       "    <tr>\n",
       "      <th>891</th>\n",
       "      <td>0.682680</td>\n",
       "      <td>0.385996</td>\n",
       "      <td>0.426730</td>\n",
       "      <td>1.106486</td>\n",
       "      <td>0.625741</td>\n",
       "      <td>66390</td>\n",
       "      <td>1</td>\n",
       "    </tr>\n",
       "    <tr>\n",
       "      <th>892</th>\n",
       "      <td>0.612833</td>\n",
       "      <td>-0.393266</td>\n",
       "      <td>-0.396955</td>\n",
       "      <td>0.239835</td>\n",
       "      <td>0.303349</td>\n",
       "      <td>82080</td>\n",
       "      <td>1</td>\n",
       "    </tr>\n",
       "    <tr>\n",
       "      <th>893</th>\n",
       "      <td>0.883333</td>\n",
       "      <td>-1.140557</td>\n",
       "      <td>-1.153945</td>\n",
       "      <td>1.031125</td>\n",
       "      <td>1.551897</td>\n",
       "      <td>76440</td>\n",
       "      <td>1</td>\n",
       "    </tr>\n",
       "    <tr>\n",
       "      <th>894</th>\n",
       "      <td>0.592764</td>\n",
       "      <td>-0.744932</td>\n",
       "      <td>-0.740435</td>\n",
       "      <td>-0.061609</td>\n",
       "      <td>0.210713</td>\n",
       "      <td>96610</td>\n",
       "      <td>1</td>\n",
       "    </tr>\n",
       "    <tr>\n",
       "      <th>895</th>\n",
       "      <td>0.945486</td>\n",
       "      <td>-1.244459</td>\n",
       "      <td>-1.177288</td>\n",
       "      <td>1.219528</td>\n",
       "      <td>1.838774</td>\n",
       "      <td>54340</td>\n",
       "      <td>1</td>\n",
       "    </tr>\n",
       "  </tbody>\n",
       "</table>\n",
       "<p>825 rows × 7 columns</p>\n",
       "</div>"
      ],
      "text/plain": [
       "      cus/sqr  std_store_area  std_item_available  std_daily_customer  \\\n",
       "0    0.319470        0.693704            0.596802           -0.965941   \n",
       "1    0.143737       -0.097546           -0.100162           -2.171717   \n",
       "2    0.537313       -0.581087           -0.577032           -0.250012   \n",
       "3    0.427292       -0.137508           -0.113501           -0.626817   \n",
       "4    0.254237        1.137283            1.097015           -1.267385   \n",
       "..        ...             ...                 ...                 ...   \n",
       "891  0.682680        0.385996            0.426730            1.106486   \n",
       "892  0.612833       -0.393266           -0.396955            0.239835   \n",
       "893  0.883333       -1.140557           -1.153945            1.031125   \n",
       "894  0.592764       -0.744932           -0.740435           -0.061609   \n",
       "895  0.945486       -1.244459           -1.177288            1.219528   \n",
       "\n",
       "     std_cur_sqr  Store_Sales  outlier  \n",
       "0      -1.050732        66490        1  \n",
       "1      -1.861861        39820        1  \n",
       "2      -0.045229        54010        1  \n",
       "3      -0.553058        53730        1  \n",
       "4      -1.351825        46620        1  \n",
       "..           ...          ...      ...  \n",
       "891     0.625741        66390        1  \n",
       "892     0.303349        82080        1  \n",
       "893     1.551897        76440        1  \n",
       "894     0.210713        96610        1  \n",
       "895     1.838774        54340        1  \n",
       "\n",
       "[825 rows x 7 columns]"
      ]
     },
     "execution_count": 15,
     "metadata": {
     },
     "output_type": "execute_result"
    }
   ],
   "source": [
    "## LocalOutlierFactor is a method to detect the outlier for the data\n",
    "clf = LocalOutlierFactor(n_neighbors=4, contamination='auto')\n",
    "rm_df = store_df[['cus/sqr','std_store_area','std_item_available','std_daily_customer','std_cur_sqr','Store_Sales']]\n",
    "\n",
    "# array of y_pred only contain [-1, 1], {1: no outlier, -1: outlier}\n",
    "y_pred = clf.fit_predict(rm_df)\n",
    "rm_df['outlier'] = y_pred\n",
    "\n",
    "#original data length: 896, after removing outliers data length: 867\n",
    "rm_df = rm_df[rm_df['outlier'] == 1]\n",
    "rm_df"
   ]
  },
  {
   "cell_type": "code",
   "execution_count": 60,
   "metadata": {
    "collapsed": false,
    "scrolled": true
   },
   "outputs": [
    {
     "data": {
      "text/html": "<html>\n<head><meta charset=\"utf-8\" /></head>\n<body>\n    <div>            <script src=\"https://cdnjs.cloudflare.com/ajax/libs/mathjax/2.7.5/MathJax.js?config=TeX-AMS-MML_SVG\"></script><script type=\"text/javascript\">if (window.MathJax) {MathJax.Hub.Config({SVG: {font: \"STIX-Web\"}});}</script>                <script type=\"text/javascript\">window.PlotlyConfig = {MathJaxConfig: 'local'};</script>\n        <script src=\"https://cdn.plot.ly/plotly-2.9.0.min.js\"></script>                <div id=\"760fbb5b-ab55-4f0e-a708-03ed68350bb1\" class=\"plotly-graph-div\" style=\"height:525px; width:100%;\"></div>            <script type=\"text/javascript\">                                    window.PLOTLYENV=window.PLOTLYENV || {};                                    if (document.getElementById(\"760fbb5b-ab55-4f0e-a708-03ed68350bb1\")) {                    Plotly.newPlot(                        \"760fbb5b-ab55-4f0e-a708-03ed68350bb1\",                        [{\"dimensions\":[{\"axis\":{\"matches\":true},\"label\":\"Store_Area\",\"values\":[1659,1461,1340,1451,1770,1442,1542,1261,1090,1030,1187,1751,1746,1615,1469,1644,1578,1703,1438,1940,1421,1458,1719,1449,1234,1732,1475,1390,1642,1715,1439,1250,1331,1784,1375,1871,1442,1174,1839,1270,1435,965,1665,1780,1009,1227,1769,1660,1472,1408,1514,1565,1074,1864,1570,1417,1734,1470,1761,1756,1704,2011,1472,1310,1544,1707,1881,1416,1631,1318,1692,1152,891,1468,1539,1635,1267,1250,1720,1462,1431,1539,1441,1572,1287,1468,1931,1252,1238,1479,1590,2169,1838,1385,1921,1975,1853,1816,1785,1579,1096,1919,1262,1374,1309,1207,1692,1929,1573,1415,1162,1485,1897,1607,1909,1274,1157,1712,1500,1682,1441,1525,1408,1947,1164,1787,1871,1718,1365,1368,1342,1076,1396,1713,1370,1667,1638,1581,1795,1179,1978,1688,1214,1504,1498,1462,1442,1250,1229,1936,1369,1662,1548,1649,1393,1450,1613,1408,775,1275,1740,1372,1414,2044,1823,955,1465,1331,1232,1481,1343,1539,1007,1762,1527,1356,1536,1605,1704,1626,1612,1174,1923,1702,1398,1437,1524,1660,1302,1666,1391,1778,1462,1751,1652,1841,1496,1504,1524,1148,1468,1310,1321,992,1540,1807,1526,1406,1703,1575,1309,1488,1658,1863,1458,1604,1575,1525,1451,1390,1442,1620,1251,1318,1647,1829,1852,1699,1325,1350,1347,1397,1245,1366,1378,1767,1184,1257,1863,1881,1329,1539,1557,2007,1185,1657,1294,1296,1733,1641,1373,1550,1583,1428,1604,1439,1648,1025,2001,1145,1174,913,1199,1875,1153,1240,1381,1701,1206,1476,1189,1837,1319,1617,1631,1517,1764,1572,1855,1327,1270,1734,1533,1390,1856,1000,1313,1494,1386,1979,1057,902,1347,1314,1513,1305,1180,1142,1471,1075,1578,1585,1391,1577,1092,1375,1523,1373,1550,1614,1566,2019,1494,1659,1766,1293,1375,1236,1332,1513,1208,1190,1448,1771,1365,1510,1458,1808,1615,1640,1060,1633,1222,1619,1624,1887,1320,1450,1455,966,1922,1678,1638,1145,2004,1954,1577,1766,1362,1886,1291,1584,1397,1445,1433,1269,1798,1514,1015,1495,1759,1219,1571,1404,1124,1514,1207,1484,1398,1769,1111,1078,1876,1909,1940,1391,1496,1412,1121,1691,1599,1208,1454,1555,1554,1491,1415,1487,1339,1320,1509,1406,1264,1905,1209,1546,1689,1153,2063,1848,1718,1480,1439,1576,1948,1613,896,1625,1303,1340,1410,1432,1891,1322,1378,1462,1440,1421,1280,1431,1161,1175,1395,1443,1247,1788,1138,1709,1777,1612,1618,1311,1365,1249,1373,1536,1744,1513,1297,1908,1721,1243,1472,1307,1628,1556,1179,1768,1378,1685,1474,1794,1086,1808,1501,1353,1455,1165,1332,1396,1513,1618,1845,1172,1436,1738,2229,1490,1060,2015,1611,1187,1430,1543,1836,1463,1213,1244,1745,933,1764,1675,1688,1842,1316,1440,1760,1323,1230,1540,1167,1429,1491,1313,1609,1109,1207,902,1191,1335,1382,1588,1918,1484,1334,1556,1784,1244,1496,1719,1678,1247,1191,1832,1271,1735,1627,1351,1520,1490,1777,1688,1537,1622,1148,1001,1857,1552,1700,1554,1482,1275,1642,1381,1381,1057,1192,1601,1622,1607,2214,1633,1546,1475,1270,1185,1614,1141,1244,869,2049,1883,1526,1165,1832,1723,932,1137,1231,1237,1371,1767,1748,1212,1466,1152,1439,2026,1772,1511,1199,1834,1143,1494,1770,1455,1141,1586,1701,1860,1167,1424,1710,1408,1517,1227,1609,1553,1814,1240,1206,1847,1009,1624,1612,1498,946,1563,1664,1619,1433,1241,1429,1241,1078,1690,1289,1581,1608,1344,1513,1529,1677,1015,1438,1426,1412,1622,1503,1501,1971,1383,1371,1508,1057,1411,1466,1545,2044,1887,1505,1422,1564,1510,1568,1933,1501,1593,1812,1580,1440,1100,1534,1299,1767,1368,1393,1327,1514,1989,1334,1533,1809,1607,1165,1193,1709,1525,1348,1132,1667,1427,1211,1717,1766,1086,1410,1476,1068,1485,1461,1685,1624,1658,1427,1755,1211,1591,1797,1519,1637,1451,1203,1884,1540,1121,1307,1475,1160,1078,1191,1317,1548,1560,1297,1645,1225,1421,1655,1615,1872,1317,1434,1791,932,1609,1495,1769,1693,1247,1502,1360,1542,1631,1246,1990,967,1582,1430,1827,1118,1766,1799,1167,1493,1445,1033,1440,1487,1854,1748,1937,1641,1659,1743,1449,1098,1121,1526,1358,1336,1502,1534,1418,854,1450,1474,1524,1361,1398,1085,1660,1648,1453,1323,1385,1250,1389,1486,1655,1645,1464,1197,1878,1150,1562,1596,1119,1116,1934,1299,1417,1235,1497,1430,1537,1444,1477,1041,1226,1489,1549,1073,1473,2013,1975,1561,1427,1441,1275,1574,1511,1428,1388,1057,1440,1349,1536,2019,1236,1436,1862,1200,1360,1722,1577,1850,1447,1496,1679,994,1354,1597,1873,1218,1458,1546,1608,1822,1716,1072,1330,1588,1425,1778,1363,1609,1671,1379,1218,1724,986,1330,1437,1327,1651,1211,1916,1638,1172,1350,1528,1305,1463,1409,1419,1535,1474,919,2067,1977,1293,1477,1582,1481,1214,1206,1653,1152,1458,1249,1939,1591,1180,1846,780,1565,1648,1775,1439,1487,1800,1690,1209,1859,1691,1259,1771,1205,1792,1263,1344,1819,1357,1396,1118,1655,1156,1451,1539,1549,1582,1387,1200,1299,1174]},{\"axis\":{\"matches\":true},\"label\":\"Items_Available\",\"values\":[1961,1752,1609,1748,2111,1733,1858,1507,1321,1235,1439,2098,2064,1931,1756,1950,1907,2045,1731,2340,1700,1746,2065,1752,1488,2073,1777,1648,1943,2071,1746,1508,1608,2163,1648,2230,1744,1411,2204,1516,1725,1152,2001,2117,1194,1471,2087,1982,1776,1688,1820,1880,1288,2240,1898,1701,2060,1763,2104,2070,2045,2391,1748,1561,1821,2052,2262,1681,1941,1576,2019,1380,1073,1749,1833,1956,1520,1475,2044,1761,1711,1858,1723,1884,1525,1760,2342,1506,1468,1758,1912,2617,2205,1655,2305,2385,2235,2171,2147,1899,1321,2294,1500,1655,1587,1434,2031,2311,1878,1700,1382,1787,2248,1927,2287,1503,1379,2046,1798,2017,1727,1835,1669,2333,1390,2137,2241,2051,1636,1654,1595,1270,1672,2071,1638,1993,1972,1905,2187,1412,2374,2042,1456,1805,1770,1762,1750,1486,1480,2300,1629,1986,1855,1963,1663,1734,1921,1696,932,1534,2078,1657,1723,2474,2176,1133,1763,1606,1487,1765,1599,1837,1207,2145,1832,1619,1848,1902,2032,1941,1939,1396,2339,2053,1692,1717,1796,1985,1569,2000,1649,2148,1770,2115,1982,2215,1791,1827,1808,1371,1744,1558,1579,1192,1857,2149,1853,1677,2055,1872,1572,1807,1988,2245,1725,1909,1899,1829,1737,1687,1742,1922,1527,1606,1962,2175,2227,2053,1595,1634,1628,1661,1499,1649,1658,2110,1434,1505,2247,2244,1609,1848,1861,2397,1418,2003,1539,1559,2097,1976,1648,1845,1907,1719,1925,1735,2003,1231,2394,1370,1426,1106,1433,2254,1397,1492,1660,2030,1456,1777,1439,2220,1571,1901,1967,1805,2109,1869,2197,1571,1515,2073,1848,1646,2216,1215,1586,1799,1674,2364,1264,1093,1622,1576,1803,1548,1436,1352,1768,1288,1885,1916,1648,1892,1314,1681,1813,1654,1871,1946,1889,2396,1806,2008,2131,1554,1659,1484,1586,1825,1459,1429,1734,2147,1645,1810,1736,2157,1954,1948,1273,1968,1473,1957,1973,2278,1583,1750,1764,1172,2290,1999,1952,1375,2390,2378,1879,2138,1634,2228,1546,1897,1686,1709,1707,1511,2134,1822,1216,1799,2095,1468,1877,1670,1369,1837,1476,1774,1678,2112,1322,1305,2254,2306,2343,1683,1774,1699,1345,2026,1946,1467,1737,1881,1852,1800,1697,1801,1589,1562,1799,1680,1502,2280,1464,1829,2044,1381,2493,2254,2056,1773,1724,1896,2374,1893,1059,1943,1587,1605,1704,1719,2280,1583,1670,1732,1733,1724,1530,1710,1404,1405,1662,1755,1523,2133,1375,2042,2145,1918,1943,1571,1638,1503,1635,1836,2101,1820,1561,2304,2076,1491,1766,1570,1959,1869,1428,2123,1656,2015,1759,2137,1291,2154,1790,1598,1757,1411,1610,1668,1821,1940,2233,1411,1737,2065,2667,1783,1279,2436,1919,1417,1690,1840,2195,1764,1462,1480,2108,1121,2132,2002,2046,2204,1597,1719,2111,1571,1466,1838,1388,1695,1770,1574,1943,1342,1440,1087,1422,1601,1660,1906,2284,1774,1607,1846,2142,1477,1787,2058,2022,1490,1421,2208,1523,2084,1948,1616,1817,1788,2117,2037,1836,1968,1384,1194,2236,1869,2064,1844,1777,1517,1981,1633,1634,1262,1445,1920,1968,1909,2647,1936,1845,1753,1519,1420,1938,1353,1481,1050,2465,2262,1842,1390,2185,2072,1138,1374,1472,1512,1650,2158,2092,1440,1743,1386,1703,2400,2146,1822,1461,2184,1375,1794,2131,1747,1372,1886,2034,2246,1406,1716,2053,1708,1831,1476,1930,1831,2174,1493,1437,2186,1202,1946,1931,1805,1125,1872,2016,1947,1722,1489,1720,1488,1306,2065,1536,1894,1945,1608,1804,1839,2014,1229,1751,1718,1701,1944,1791,1789,2342,1687,1635,1823,1284,1680,1746,1888,2408,2264,1836,1722,1869,1810,1920,2338,1822,1911,2189,1895,1749,1331,1841,1555,2121,1649,1670,1590,1794,2414,1584,1817,2145,1933,1387,1430,2065,1839,1623,1366,2020,1720,1447,2048,2111,1299,1692,1760,1278,1785,1739,2010,1958,2000,1677,2072,1472,1896,2126,1823,1958,1750,1446,2262,1820,1332,1562,1775,1401,1276,1436,1569,1858,1883,1529,1958,1455,1704,1956,1928,2262,1581,1729,2167,1120,1924,1793,2153,2032,1497,1815,1612,1844,1947,1482,2384,1154,1894,1743,2160,1338,2109,2173,1411,1795,1734,1237,1711,1773,2205,2086,2310,1999,1999,2061,1733,1309,1351,1858,1645,1616,1802,1858,1699,1018,1728,1776,1819,1638,1683,1308,1979,2017,1749,1591,1643,1506,1683,1758,1993,1963,1771,1428,2264,1378,1881,1939,1345,1347,2349,1540,1689,1503,1815,1704,1877,1742,1798,1246,1472,1783,1871,1280,1785,2396,2368,1877,1723,1747,1548,1876,1791,1713,1672,1280,1747,1610,1808,2420,1508,1715,2248,1442,1650,2078,1902,2214,1730,1800,2008,1194,1635,1918,2252,1459,1746,1860,1962,2160,2038,1296,1604,1892,1733,2133,1630,1928,2024,1636,1452,2101,1179,1606,1725,1609,2009,1462,2277,1937,1413,1606,1843,1557,1751,1727,1743,1819,1745,1099,2492,2362,1558,1790,1906,1789,1455,1460,1982,1393,1757,1510,2333,1919,1397,2195,951,1854,1959,2104,1732,1776,2158,2024,1452,2222,2023,1493,2138,1468,2131,1516,1605,2187,1625,1673,1337,1986,1398,1734,1829,1851,1910,1663,1436,1560,1429]},{\"axis\":{\"matches\":true},\"label\":\"Daily_Customer_Count\",\"values\":[530,210,720,620,450,760,1030,1020,680,1130,1090,720,1050,1160,770,790,1440,670,1030,980,370,690,950,620,840,820,1100,980,710,650,990,990,880,620,1020,700,610,1080,1010,10,1250,600,730,780,520,870,690,910,1260,1040,910,1300,320,530,980,740,1240,1080,1080,460,300,530,600,860,590,920,570,290,650,710,850,530,630,700,650,720,450,1390,960,600,620,1020,330,1410,1200,280,940,850,960,420,830,600,400,760,1470,500,1120,1160,820,1140,900,760,1170,1080,1000,690,810,630,650,920,1260,800,1330,940,1210,660,770,460,860,780,890,900,530,790,370,610,500,750,980,530,910,620,1170,900,980,740,810,810,300,790,800,760,530,540,620,1010,130,730,830,1060,770,70,670,490,670,380,1200,350,1090,1230,680,580,680,340,700,580,680,630,860,490,870,990,670,490,580,700,670,390,590,1350,840,1100,950,950,650,230,1060,1180,710,480,810,1140,1070,790,690,610,1240,840,460,940,590,890,770,900,1020,910,660,480,1080,690,510,1030,370,640,750,370,840,840,890,620,310,550,380,1200,800,870,1220,1080,540,880,120,1410,570,940,760,1200,670,950,480,920,1150,750,370,610,1150,1070,790,1070,730,620,530,700,680,1060,670,400,910,760,540,350,980,860,1020,1120,1020,940,970,830,920,660,780,340,1190,490,1090,1040,1210,1030,1170,730,720,500,1070,800,1020,1070,420,510,1210,660,360,1210,560,360,970,480,690,710,780,630,220,1110,720,560,600,440,520,410,590,740,610,540,1450,620,340,970,1080,560,630,980,930,470,680,430,830,950,870,730,760,960,860,330,630,1280,1440,570,540,480,390,900,290,740,690,950,930,810,760,580,770,1530,420,1210,850,1340,1160,500,820,670,460,950,980,850,580,620,650,1130,720,940,920,660,610,1190,1340,820,1130,890,810,680,320,700,940,910,870,1260,440,980,1200,890,1050,610,960,860,800,1060,600,380,1140,730,810,1000,1220,360,900,750,930,1180,870,680,1310,1000,1130,990,360,720,950,840,1120,920,1240,840,430,810,920,880,1350,1000,1220,430,520,580,460,470,680,950,840,990,520,520,1070,990,710,430,1290,1080,890,1000,1290,860,1010,1160,880,670,930,990,450,690,650,1020,880,760,690,630,370,460,770,750,660,730,670,680,960,1230,800,450,940,1060,560,860,730,940,920,1050,380,930,980,580,680,850,730,570,620,890,800,920,920,760,500,680,770,460,1070,450,310,880,370,760,950,890,800,700,1050,330,980,1090,1140,820,890,650,850,360,780,590,670,340,730,1210,1280,710,940,670,800,790,720,1270,930,1490,810,600,210,460,740,1320,760,920,920,880,1110,1370,410,850,720,570,690,1220,840,560,820,700,810,1070,540,530,580,500,1200,980,1000,720,1030,420,1070,830,940,550,1140,750,620,660,660,410,440,630,730,220,610,720,740,740,770,590,1330,910,330,870,790,1270,590,1080,830,910,830,1380,1180,770,680,910,540,760,760,730,430,1000,660,930,760,370,630,360,630,670,690,830,720,520,750,1070,590,600,380,830,940,560,1030,730,890,1140,590,580,310,720,490,1010,680,1020,1050,740,410,770,1400,860,840,950,940,930,1060,560,670,540,1010,1340,980,630,1110,700,580,1050,790,600,440,1340,1250,990,290,350,210,810,790,780,730,1040,760,570,620,310,310,790,490,230,900,640,840,780,480,1040,870,530,750,840,800,660,560,910,480,700,660,1170,1020,580,610,590,190,490,680,670,1070,1110,560,1100,970,930,1040,1120,910,440,530,900,740,1020,970,890,550,520,950,650,860,320,860,900,550,770,710,840,860,870,660,930,1020,1190,1140,490,1170,480,930,890,680,740,990,680,820,440,900,1080,830,310,730,740,960,790,700,750,590,570,660,700,1070,660,840,850,600,710,450,740,1240,570,580,450,790,1040,670,370,620,1010,550,800,610,1090,700,830,850,1260,1030,1160,880,420,770,910,1110,510,780,790,1090,1270,1260,330,540,720,670,770,860,410,900,480,540,760,280,1120,160,620,440,870,900,710,590,910,1320,1000,670,610,1050,480,770,340,580,900,700,860,540,970,1560,790,1020,790,880,550,550,950,810,390,860,850,660,830,640,750,1170,790,900,370,980,1170,800,1100,1070,830,1210,540,100,820,1210,810,780,1160,590,1140,690,560,1150,140,670,650,1220,1080,850,1060,770,1110]},{\"axis\":{\"matches\":true},\"label\":\"Store_Sales\",\"values\":[66490,39820,54010,53730,46620,45260,72240,37720,46310,44150,71280,57620,60470,59130,66360,78870,77250,38170,63540,40190,43460,68890,52780,50680,41880,70050,25820,60530,78100,84860,80140,14920,60460,74560,72430,45460,41570,62870,55170,45480,49550,48140,67640,39730,35800,49270,66510,62530,59980,76350,81820,57830,70450,67000,64090,48670,66210,83660,70770,53870,71300,46100,49100,65920,58660,69130,49080,72710,33430,42430,56650,33580,67370,71780,84840,82070,26770,65560,38660,65660,40700,88910,57860,42670,90180,51280,97260,39650,45720,42060,65350,67080,54030,56360,77120,50810,60960,61180,63660,41190,78420,65580,89080,94170,50950,65180,69310,79210,23740,36330,51700,62950,56010,45080,46830,64750,80780,31180,56710,49390,66000,32770,46580,79780,35510,80970,61150,49210,79950,68740,57480,72630,50070,40490,51850,42840,60940,62280,76530,85130,48590,73080,48950,48560,59380,51190,58920,50360,38070,49170,39740,63730,85330,27410,37320,71120,72800,34410,42530,54300,50780,45020,69600,80340,37810,46140,99570,38650,49800,69910,44910,78470,47460,33460,44090,42620,69450,73120,48300,58090,74250,40930,70930,64670,77420,32330,41080,42860,68450,39730,83750,69940,67710,67360,52460,88760,67030,78230,62270,49760,73660,72320,68890,34180,58260,38120,49070,61660,37830,52270,52280,70810,71530,77260,75550,33730,66270,55820,68430,73990,62800,33740,63830,24410,70020,92240,68230,81870,73860,77120,72350,49160,45650,52780,90960,64950,47230,83250,51950,66030,68590,47140,69940,65890,89310,58540,78130,92300,56170,46050,43390,61750,21830,39800,54370,62470,82930,63720,79180,38210,25950,56610,73710,70400,50440,66840,50170,60140,37130,42890,26220,50840,25630,60770,69600,41740,50130,21750,80490,34020,60240,39460,56440,46840,64820,52520,45940,38970,58610,30810,47730,64640,44860,55660,57530,75200,37330,35280,70610,49720,68850,50740,77070,74730,76530,68900,44960,41490,74320,73800,56400,71570,43640,35120,58670,75800,76640,31890,61670,75950,41490,66170,37980,62710,60470,35230,48550,56810,41080,51270,57500,81470,49570,45580,44660,76240,43720,46700,84690,85470,80410,46650,81840,63590,50130,45820,86710,49980,82940,40350,93950,47310,21300,62180,61460,54360,72050,48090,27310,57160,34190,35600,54670,76730,63540,36690,87370,59800,48030,96650,65500,55530,21650,31940,84690,68390,75490,39200,85670,60530,78090,50720,23090,91360,48120,75620,39420,51130,33890,87170,38600,60980,79410,82350,36740,27720,32260,53270,51480,59970,83600,63020,50920,56450,89540,46030,75110,74520,102310,53400,59760,49540,51560,49510,58610,68260,65310,52090,43860,74170,58380,91200,90940,49330,53500,54590,57450,33240,80790,61000,47620,72090,102920,61970,61040,52060,69570,66020,40000,79500,76300,69030,57140,41710,71480,33010,74570,49590,73170,79220,75880,67610,69090,35220,53940,56660,67520,38620,38890,79270,42880,44240,43190,74550,57090,56480,87410,81370,97360,77960,71240,58940,78950,36380,45160,69050,56830,93530,46920,55990,40840,64990,53550,51320,36560,66050,52400,27970,67100,43710,38600,53890,52610,43130,40300,49750,43840,56820,36350,50820,83720,46970,78020,45080,55160,72020,64010,27840,58070,51760,66050,65750,65820,46760,50940,56440,32610,62770,63600,45840,38280,50960,39480,69610,47800,44890,67420,78870,70310,38530,77570,59920,54450,50250,30790,35420,43470,61000,64780,39030,65900,46050,59070,44670,58390,80370,53230,72000,84040,52540,63510,42240,39580,54610,87330,88410,89760,101780,70290,88210,87160,41540,49170,63950,70810,49590,67290,51240,48540,72410,54370,94460,85160,52130,54650,69320,51480,50060,62180,79780,42860,54410,69390,42810,30840,56260,76470,35680,90070,33120,54060,75120,41600,20270,60060,82270,29170,68420,59130,74330,77080,76250,59540,54690,84360,51420,65120,49380,37830,35980,69190,50590,60800,31180,77790,47570,69130,75970,68350,41680,86560,81390,50730,71290,70110,61590,69370,67110,82020,62050,61730,58660,53370,39700,53750,44730,49350,43340,78090,54950,75530,57330,87930,56850,78430,63660,62960,81870,54820,116320,57200,84360,36530,81260,82350,80830,30610,51310,72940,52450,66070,43190,40730,78530,94690,44400,73800,37390,64120,66160,22310,62380,63850,36210,54590,69610,65390,78130,55710,69210,59940,72550,44260,56910,82390,54590,69990,72740,35360,94370,43520,36000,99480,83220,52940,93360,73590,53840,47350,65080,62050,30020,49510,64320,35590,63050,65300,69560,41910,28330,55980,61080,51380,84410,60680,64690,45780,41800,53230,36160,40450,57910,36280,39190,62380,21470,34610,88120,59190,36290,53760,66300,93000,65660,81930,60060,59530,46380,76200,56860,86620,49730,88370,49160,77740,38560,51990,39970,46040,49500,76670,75800,81720,58440,85720,70940,62420,56880,101820,86890,47300,31270,65410,54200,67390,54530,79760,78060,74080,52990,70580,34310,74160,59190,43370,17670,56710,59820,36190,60440,75300,74080,60440,80720,47060,86830,56790,67090,44370,82970,56230,53760,55390,73500,41050,67320,65890,56380,85670,70830,48180,51910,44320,58940,73610,54060,85000,49030,63300,84300,81390,95900,71830,79310,87890,48610,73160,36280,49720,44400,47590,51460,57750,66000,45950,53900,37920,63100,36770,43910,66390,59160,38510,46220,41500,58160,38530,55880,70940,53940,43030,59820,55500,49990,42980,65970,59290,63020,73810,70230,59950,78100,16370,92640,63540,87220,41990,79410,54380,58600,48950,40670,52340,39140,41090,25600,100900,77080,105150,80580,46230,98260,75930,52050,87000,60270,88270,57820,61210,76420,70980,76740,47920,52160,32740,72270,77430,92370,34880,46580,70620,66390,82080,76440,96610,54340]},{\"axis\":{\"matches\":true},\"label\":\"cus/sqr\",\"values\":[0.3194695599758891,0.1437371663244353,0.5373134328358209,0.4272915230875258,0.2542372881355932,0.5270457697642164,0.6679636835278858,0.8088818398096749,0.6238532110091743,1.0970873786407767,0.9182813816343723,0.41119360365505425,0.6013745704467354,0.718266253869969,0.5241660993873384,0.4805352798053528,0.9125475285171103,0.3934233705226072,0.7162726008344924,0.5051546391752577,0.2603800140745954,0.4732510288065844,0.5526468877254218,0.4278812974465148,0.6807131280388979,0.47344110854503463,0.7457627118644068,0.7050359712230215,0.43239951278928135,0.37900874635568516,0.6879777623349548,0.792,0.6611570247933884,0.3475336322869955,0.7418181818181818,0.3741314804917157,0.42302357836338417,0.919931856899489,0.5492115280043501,0.007874015748031496,0.8710801393728222,0.6217616580310881,0.43843843843843844,0.43820224719101125,0.5153617443012884,0.7090464547677262,0.3900508762012436,0.5481927710843374,0.8559782608695652,0.7386363636363636,0.6010568031704095,0.8306709265175719,0.297951582867784,0.2843347639484979,0.6242038216560509,0.5222300635144672,0.7151095732410612,0.7346938775510204,0.6132879045996593,0.2619589977220957,0.176056338028169,0.26355047240179014,0.4076086956521739,0.6564885496183206,0.38212435233160624,0.5389572349150556,0.30303030303030304,0.20480225988700565,0.39852851011649293,0.5386949924127465,0.5023640661938534,0.4600694444444444,0.7070707070707071,0.4768392370572207,0.4223521767381416,0.44036697247706424,0.35516969218626676,1.112,0.5581395348837209,0.4103967168262654,0.4332634521313767,0.6627680311890838,0.22900763358778625,0.8969465648854962,0.9324009324009324,0.1907356948228883,0.48679440704298294,0.6789137380191693,0.7754442649434572,0.2839756592292089,0.5220125786163522,0.2766251728907331,0.2176278563656148,0.5487364620938628,0.7652264445601249,0.25316455696202533,0.6044252563410686,0.6387665198237885,0.45938375350140054,0.7219759341355289,0.8211678832116789,0.39603960396039606,0.9270998415213946,0.7860262008733624,0.7639419404125286,0.5716652858326429,0.4787234042553192,0.3265940902021773,0.4132231404958678,0.6501766784452296,1.0843373493975903,0.5387205387205387,0.7011070110701108,0.5849408836341008,0.6338397066526977,0.5180533751962323,0.665514261019879,0.26869158878504673,0.5733333333333334,0.4637336504161712,0.6176266481609993,0.5901639344262295,0.37642045454545453,0.40575243965074476,0.3178694158075601,0.3413542249580302,0.2672367717797969,0.43655413271245636,0.717948717948718,0.38742690058479534,0.6780923994038748,0.5762081784386617,0.83810888252149,0.5253940455341506,0.7153284671532847,0.4439112177564487,0.4945054945054945,0.5123339658444023,0.1671309192200557,0.6700593723494487,0.4044489383215369,0.45023696682464454,0.43657331136738053,0.35904255319148937,0.41388518024032045,0.6908344733242134,0.09015256588072122,0.584,0.6753458096013019,0.5475206611570248,0.5624543462381301,0.0421179302045728,0.43281653746770027,0.2971497877501516,0.4809763101220388,0.2620689655172414,0.7439553626782393,0.24857954545454544,1.4064516129032258,0.9647058823529412,0.39080459770114945,0.4227405247813411,0.4809052333804809,0.16634050880626222,0.3839824465167307,0.6073298429319371,0.4641638225255973,0.473328324567994,0.698051948051948,0.33085752869682644,0.6478034251675354,0.6432748538011696,0.6653426017874876,0.27809307604994327,0.3798297314996726,0.5162241887905604,0.4361979166666667,0.24299065420560748,0.34624413145539906,0.8302583025830258,0.5210918114143921,0.9369676320272572,0.49401976079043164,0.5581668625146886,0.46494992846924177,0.16005567153792624,0.6955380577427821,0.7108433734939759,0.5453149001536098,0.28811524609843936,0.582314881380302,0.641169853768279,0.7318741450068399,0.4511707595659623,0.41767554479418884,0.3313416621401412,0.8288770053475936,0.5585106382978723,0.30183727034120733,0.818815331010453,0.4019073569482289,0.6793893129770993,0.5828917486752461,0.907258064516129,0.6623376623376623,0.5035971223021583,0.4325032765399738,0.3413940256045519,0.6341749853200235,0.4380952380952381,0.38961038961038963,0.6922043010752689,0.22316043425814233,0.3435319377348363,0.51440329218107,0.23067331670822944,0.5333333333333333,0.5508196721311476,0.6133700895933839,0.4460431654676259,0.21497919556171982,0.3395061728395062,0.3037569944044764,0.9104704097116844,0.48573163327261687,0.4756697648988518,0.6587473002159827,0.6356680400235433,0.4075471698113208,0.6518518518518519,0.08908685968819599,1.0093056549749464,0.4578313253012048,0.6881405563689604,0.5515239477503628,0.6791171477079796,0.5658783783783784,0.7557677008750995,0.2576489533011272,0.4891015417331207,0.8653122648607976,0.4873294346978557,0.23763648041104687,0.3039362232187344,0.9704641350210971,0.6457453228726614,0.6105100463678517,0.8256172839506173,0.4212348528563185,0.3778184034125533,0.3860160233066278,0.45161290322580644,0.4295641187618446,0.742296918767507,0.4177057356608479,0.27797081306462823,0.5521844660194175,0.7414634146341463,0.2698650674662669,0.3056768558951965,0.8347529812606473,0.9419496166484118,0.8507089241034195,0.5973333333333334,0.8846487424111015,0.7580645161290323,0.7023895727733527,0.4879482657260435,0.7628524046434494,0.44715447154471544,0.656013456686291,0.18508437670114317,0.9021986353297953,0.30303030303030304,0.668301655426119,0.6855636123928807,0.6859410430839002,0.6552162849872774,0.6307277628032345,0.5501130369253956,0.5669291338582677,0.28835063437139563,0.6979778212654925,0.5755395683453237,0.5495689655172413,1.07,0.31987814166031986,0.3413654618473896,0.873015873015873,0.3335017685699848,0.34058656575212864,1.3414634146341464,0.41573867854491464,0.273972602739726,0.6411103767349636,0.367816091954023,0.5847457627118644,0.6217162872154116,0.53025152957172,0.586046511627907,0.1394169835234474,0.7003154574132492,0.5176132278936018,0.35510462904248574,0.5494505494505495,0.32,0.34143138542350626,0.2986161689730517,0.38064516129032255,0.45848822800495664,0.3895274584929757,0.2674591381872214,0.9705488621151271,0.37371910789632307,0.19252548131370328,0.7501933488012374,0.7854545454545454,0.45307443365695793,0.47297297297297297,0.6477197620621282,0.7698675496688742,0.3949579831932773,0.4696132596685083,0.24280067758328627,0.608058608058608,0.6291390728476821,0.5967078189300411,0.40376106194690264,0.47058823529411764,0.5853658536585366,0.8113207547169812,0.20208205756276792,0.5155482815057283,0.7906114885731933,0.8866995073891626,0.302066772655008,0.4090909090909091,0.3310344827586207,0.26804123711340205,0.9316770186335404,0.15088449531737774,0.4410011918951132,0.42124542124542125,0.8296943231441049,0.46407185628742514,0.41453428863868985,0.4819277108433735,0.32842582106455265,0.5653450807635829,0.8112407211028632,0.32532920216886135,0.7638888888888888,0.6084466714387974,0.9273356401384083,0.8094905792044662,0.39401103230890466,0.4560622914349277,0.4425363276089828,0.45320197044334976,0.6354515050167224,0.557134735645253,0.6972928630024611,0.36919159770846594,0.4415954415954416,0.5782918149466192,0.7463672391017173,0.5965202982601492,0.633423180592992,0.6580829756795422,0.3730921424533635,0.549054905490549,1.103896103896104,0.7142857142857143,0.429544264012572,0.5824742268041238,0.6398274622573688,0.5414438502673797,0.48158640226628896,0.2854594112399643,0.41395623891188643,0.5878674171357098,0.7533112582781457,0.5983493810178817,0.8102893890675241,0.28314028314028317,0.6572769953051644,0.8480565371024735,0.5985205110961668,0.784167289021658,0.4621212121212121,0.6361829025844931,0.6116642958748222,0.6329113924050633,0.5564304461942258,0.49627791563275436,0.24579560155239327,0.6749555950266429,0.6331309627059843,0.3926320891904993,0.5411255411255411,0.710128055878929,0.24324324324324326,0.6254343293954134,0.47588832487309646,0.47741273100616016,0.7315561066336019,0.9709821428571429,0.41846153846153844,1.0053722179585571,0.746268656716418,0.8014184397163121,0.6913407821229051,0.19037546271813854,0.5446293494704992,0.6894049346879536,0.5745554035567716,0.7777777777777778,0.6474313863476425,0.96875,0.5870020964360587,0.37037037037037035,0.6893617021276596,0.6594982078853047,0.6098406098406098,1.082598235765838,0.5592841163310962,1.0720562390158173,0.2516091281451141,0.2926280247608329,0.3598014888337469,0.2843016069221261,0.35850495804729215,0.4981684981684982,0.7606084867894315,0.6117989803350328,0.64453125,0.2981651376146789,0.34368803701255785,0.8249807247494217,0.5188679245283019,0.4125508425334108,0.34593724859211583,0.876358695652174,0.8263198163733741,0.5466830466830467,0.6426735218508998,1.094147582697201,0.48642533936651583,0.7329462989840348,0.6884272997032641,0.5970149253731343,0.3734671125975474,0.856353591160221,0.547566371681416,0.29980013324450366,0.5099778270509978,0.44673539518900346,0.8755364806866953,0.6606606606606606,0.5444126074498568,0.4560475875743556,0.38936959208899874,0.2005420054200542,0.3924914675767918,0.5362116991643454,0.4315304948216341,0.2960969044414536,0.4899328859060403,0.6320754716981132,0.337468982630273,0.595903165735568,1.0362257792754843,0.5594405594405595,0.2916396629941672,0.5119825708061002,0.7245386192754614,0.46166529266281947,0.6913183279742765,0.4183381088825215,1.007502679528403,0.5215419501133787,0.6268656716417911,0.22511848341232227,0.504885993485342,0.7446808510638298,0.4027777777777778,0.38636363636363635,0.6424792139077853,0.5934959349593496,0.37012987012987014,0.5312767780634104,0.622813156053184,0.5365526492287056,0.7006854531607006,0.5717837165941578,0.6853020739404869,0.4142502071251036,0.753880266075388,0.6465155331654072,0.3445692883895131,0.7742402315484804,0.28337531486146095,0.1616266944734098,0.5929919137466307,0.2773613193403298,0.4884318766066838,0.5325112107623319,0.7154340836012861,0.5347593582887701,0.4072134962187318,0.6257449344457687,0.264635124298316,0.8228379513014273,0.5949781659388647,0.8969315499606609,0.47262247838616717,0.547019053472649,0.4811250925240563,0.5592105263157895,0.24161073825503357,0.4389420371412493,0.3495260663507109,0.4359141184124919,0.2096177558569667,0.6358885017421603,1.2087912087912087,0.6892837910608508,0.4574742268041237,0.5529411764705883,0.43114543114543114,0.5398110661268556,0.6196078431372549,0.438489646772229,0.9196234612599565,0.6734250543084721,1.4096499526963102,0.6795302013422819,0.3747657713928795,0.12946979038224415,0.2862476664592408,0.33423667570009036,0.8083282302510717,0.49159120310478654,0.6237288135593221,0.7244094488188977,0.7426160337552743,0.6877323420074349,1.2007011393514462,0.3295819935691318,0.9781357882623706,0.3513909224011713,0.3027084439723845,0.4521625163826999,1.0472103004291846,0.4585152838427948,0.3250145095763204,0.8798283261802575,0.6156552330694811,0.6580016246953696,0.8649959579628133,0.3938730853391685,0.29994340690435767,0.3318077803203661,0.41254125412541254,0.8185538881309686,0.8506944444444444,0.6949270326615705,0.35538005923000987,0.5812641083521445,0.27796161482461945,0.8924103419516264,0.4525627044711014,0.8223972003499562,0.36813922356091033,0.6440677966101694,0.5154639175257731,0.5433829973707275,0.416141235813367,0.3880070546737213,0.22043010752688172,0.37703513281919454,0.44241573033707865,0.4269005847953216,0.15625,0.4021094264996704,0.58679706601467,0.4599129894344313,0.4764971023824855,0.4244762954796031,0.47580645161290325,1.1028192371475953,0.4926908500270709,0.3270564915758176,0.5357142857142857,0.49007444168734493,0.8477970627503337,0.6236786469344608,0.690978886756238,0.4987980769230769,0.5620753551575046,0.5792044661549197,1.1120064464141821,0.8257522743177047,0.6204673650282031,0.6307977736549165,0.5384615384615384,0.4189294026377037,0.48070841239721696,0.472636815920398,0.5431547619047619,0.28420356906807664,0.6540222367560498,0.3935599284436494,0.916256157635468,0.5285118219749653,0.2594670406732118,0.4461756373937677,0.2219482120838471,0.41916167664670656,0.4463690872751499,0.350076103500761,0.6001446131597975,0.5251641137855579,0.3448275862068966,0.7095553453169348,0.7583274273564847,0.4024556616643929,0.3883495145631068,0.18590998043052837,0.43985161632220454,0.6245847176079734,0.39381153305203936,0.6585677749360613,0.48344370860927155,0.5676020408163265,0.5897568546301086,0.3930712858094604,0.36409290646578785,0.17108167770419427,0.45569620253164556,0.3402777777777778,0.9181818181818182,0.44328552803129073,0.7852193995381063,0.5942275042444821,0.5409356725146199,0.29432878679109836,0.5802562170308968,0.9247027741083224,0.432378079436903,0.6296851574212894,0.6196999347684279,0.5196241017136539,0.5787181082762912,0.9098712446351931,0.4694048616932104,0.3920421299005266,0.3540983606557377,0.7492581602373887,1.1837455830388692,0.587882423515297,0.4414856341976174,0.916597853014038,0.40768782760629,0.32842582106455265,0.9668508287292817,0.5602836879432624,0.4065040650406504,0.41198501872659177,0.9023569023569024,0.8555783709787816,0.5875370919881305,0.17857142857142858,0.21109770808202655,0.14716187806587247,0.46153846153846156,0.652353426919901,0.49025769956002513,0.4062326099053979,0.684660961158657,0.46426389737324375,0.3928325292901447,0.515378221113882,0.16454352441613587,0.2012987012987013,0.7047279214986619,0.3749043611323642,0.15593220338983052,0.7758620689655172,0.5936920222634509,0.7052896725440806,0.592255125284738,0.31007751937984496,0.6666666666666666,0.6707787201233616,0.3221884498480243,0.6122448979591837,0.5911330049261084,0.48338368580060426,0.4086687306501548,0.29914529914529914,0.6909643128321944,0.33472803347280333,0.3908431044109436,0.7081545064377682,0.7271597265382225,0.6822742474916388,0.32786885245901637,0.3603071470761961,0.4731355252606255,0.12649800266311584,0.3602941176470588,0.4409857328145266,0.410790925812385,0.8587479935794543,0.5577889447236181,0.5791106514994829,0.695322376738306,0.6783216783216783,0.5090311986863711,0.9302325581395349,0.6342015855039638,0.5058365758754864,0.37703513281919454,0.3549899531145345,0.6228373702422145,0.7163601161665053,0.7083333333333334,0.652320107599193,0.48004314994606256,0.3146453089244851,0.2684563758389262,0.578915295551493,0.39180229053646776,0.4934021801491681,0.22084195997239475,0.7832422586520947,0.8028545941123997,0.36041939711664484,0.5670103092783505,0.531437125748503,0.559254327563249,0.560625814863103,0.613540197461213,0.7728337236533958,0.6413793103448275,0.6919945725915875,0.7808398950131233,0.8376193975018369,0.35050071530758226,1.0783410138248848,0.2891566265060241,0.5643203883495146,0.6125258086717137,0.5139833711262283,0.5342960288808665,0.792,0.4895608351331893,0.5518169582772544,0.26586102719033233,0.547112462006079,0.7377049180327869,0.6934001670843776,0.1650692225772098,0.6347826086956522,0.4737516005121639,0.6015037593984962,0.7059874888293118,0.6272401433691757,0.3877973112719752,0.4541955350269438,0.40225829216654907,0.5344129554655871,0.46760187040748163,0.7482517482517482,0.42940793754066364,0.5817174515235457,0.5754908598510494,0.5763688760806917,0.5791190864600326,0.3022162525184688,0.4777275661717237,1.1556383970177073,0.3869653767820774,0.28812717337307503,0.22784810126582278,0.5060858424087123,0.728801681850035,0.46495489243580845,0.2901960784313726,0.39390088945362134,0.6684315023163467,0.3851540616246499,0.5763688760806917,0.5771050141911069,0.7569444444444444,0.5189028910303929,0.5403645833333334,0.42100049529470035,1.0194174757281553,0.7172701949860725,0.6229860365198711,0.7333333333333333,0.3088235294117647,0.44715447154471544,0.5770450221940393,0.6,0.3524533517622668,0.5213903743315508,0.47051816557474685,1.096579476861167,0.9379615952732644,0.788979336255479,0.1761879337960491,0.4433497536945813,0.49382716049382713,0.4333764553686934,0.47885572139303484,0.47200878155872666,0.23892773892773891,0.8395522388059702,0.3609022556390977,0.34005037783375314,0.5333333333333333,0.15748031496062992,0.8217168011738811,0.09944064636420137,0.3710353081986834,0.31907179115300943,0.7142857142857143,0.5220417633410673,0.7200811359026369,0.44360902255639095,0.6332637439109255,0.9947249434815373,0.6056935190793459,0.5532617671345995,0.31837160751565763,0.6410256410256411,0.40955631399317405,0.5703703703703704,0.22251308900523561,0.4444444444444444,0.6151742993848257,0.49680624556423,0.6060606060606061,0.3517915309446254,0.6580732700135685,1.6974972796517955,0.382196419932269,0.5159332321699545,0.6109822119102861,0.5958023019634394,0.347661188369153,0.3713706954760297,0.7825370675453048,0.6716417910447762,0.23593466424682397,0.7465277777777778,0.5829903978052127,0.5284227381905524,0.42805569881382155,0.4022627278441232,0.635593220338983,0.6338028169014085,1.0128205128205128,0.5750798722044729,0.22451456310679613,0.5521126760563381,0.8130646282140376,0.5379959650302623,0.6111111111111112,0.6331360946745562,0.6865177832919769,0.650887573964497,0.319337670017741,0.07942811755361398,0.46301524562394125,1.004149377593361,0.45200892857142855,0.6175771971496437,0.8630952380952381,0.3243540406816932,0.8400884303610906,0.49426934097421205,0.5008944543828264,0.6948640483383686,0.12110726643598616,0.461750516884907,0.4223521767381416,0.7876049063912202,0.6826801517067004,0.6128334534967556,0.8833333333333333,0.5927636643571979,0.9454855195911414]}],\"hovertemplate\":\"%{xaxis.title.text}=%{x}<br>%{yaxis.title.text}=%{y}<extra></extra>\",\"legendgroup\":\"\",\"marker\":{\"color\":\"#636efa\",\"symbol\":\"circle\"},\"name\":\"\",\"showlegend\":false,\"type\":\"splom\"}],                        {\"template\":{\"data\":{\"bar\":[{\"error_x\":{\"color\":\"#2a3f5f\"},\"error_y\":{\"color\":\"#2a3f5f\"},\"marker\":{\"line\":{\"color\":\"#E5ECF6\",\"width\":0.5},\"pattern\":{\"fillmode\":\"overlay\",\"size\":10,\"solidity\":0.2}},\"type\":\"bar\"}],\"barpolar\":[{\"marker\":{\"line\":{\"color\":\"#E5ECF6\",\"width\":0.5},\"pattern\":{\"fillmode\":\"overlay\",\"size\":10,\"solidity\":0.2}},\"type\":\"barpolar\"}],\"carpet\":[{\"aaxis\":{\"endlinecolor\":\"#2a3f5f\",\"gridcolor\":\"white\",\"linecolor\":\"white\",\"minorgridcolor\":\"white\",\"startlinecolor\":\"#2a3f5f\"},\"baxis\":{\"endlinecolor\":\"#2a3f5f\",\"gridcolor\":\"white\",\"linecolor\":\"white\",\"minorgridcolor\":\"white\",\"startlinecolor\":\"#2a3f5f\"},\"type\":\"carpet\"}],\"choropleth\":[{\"colorbar\":{\"outlinewidth\":0,\"ticks\":\"\"},\"type\":\"choropleth\"}],\"contour\":[{\"colorbar\":{\"outlinewidth\":0,\"ticks\":\"\"},\"colorscale\":[[0.0,\"#0d0887\"],[0.1111111111111111,\"#46039f\"],[0.2222222222222222,\"#7201a8\"],[0.3333333333333333,\"#9c179e\"],[0.4444444444444444,\"#bd3786\"],[0.5555555555555556,\"#d8576b\"],[0.6666666666666666,\"#ed7953\"],[0.7777777777777778,\"#fb9f3a\"],[0.8888888888888888,\"#fdca26\"],[1.0,\"#f0f921\"]],\"type\":\"contour\"}],\"contourcarpet\":[{\"colorbar\":{\"outlinewidth\":0,\"ticks\":\"\"},\"type\":\"contourcarpet\"}],\"heatmap\":[{\"colorbar\":{\"outlinewidth\":0,\"ticks\":\"\"},\"colorscale\":[[0.0,\"#0d0887\"],[0.1111111111111111,\"#46039f\"],[0.2222222222222222,\"#7201a8\"],[0.3333333333333333,\"#9c179e\"],[0.4444444444444444,\"#bd3786\"],[0.5555555555555556,\"#d8576b\"],[0.6666666666666666,\"#ed7953\"],[0.7777777777777778,\"#fb9f3a\"],[0.8888888888888888,\"#fdca26\"],[1.0,\"#f0f921\"]],\"type\":\"heatmap\"}],\"heatmapgl\":[{\"colorbar\":{\"outlinewidth\":0,\"ticks\":\"\"},\"colorscale\":[[0.0,\"#0d0887\"],[0.1111111111111111,\"#46039f\"],[0.2222222222222222,\"#7201a8\"],[0.3333333333333333,\"#9c179e\"],[0.4444444444444444,\"#bd3786\"],[0.5555555555555556,\"#d8576b\"],[0.6666666666666666,\"#ed7953\"],[0.7777777777777778,\"#fb9f3a\"],[0.8888888888888888,\"#fdca26\"],[1.0,\"#f0f921\"]],\"type\":\"heatmapgl\"}],\"histogram\":[{\"marker\":{\"pattern\":{\"fillmode\":\"overlay\",\"size\":10,\"solidity\":0.2}},\"type\":\"histogram\"}],\"histogram2d\":[{\"colorbar\":{\"outlinewidth\":0,\"ticks\":\"\"},\"colorscale\":[[0.0,\"#0d0887\"],[0.1111111111111111,\"#46039f\"],[0.2222222222222222,\"#7201a8\"],[0.3333333333333333,\"#9c179e\"],[0.4444444444444444,\"#bd3786\"],[0.5555555555555556,\"#d8576b\"],[0.6666666666666666,\"#ed7953\"],[0.7777777777777778,\"#fb9f3a\"],[0.8888888888888888,\"#fdca26\"],[1.0,\"#f0f921\"]],\"type\":\"histogram2d\"}],\"histogram2dcontour\":[{\"colorbar\":{\"outlinewidth\":0,\"ticks\":\"\"},\"colorscale\":[[0.0,\"#0d0887\"],[0.1111111111111111,\"#46039f\"],[0.2222222222222222,\"#7201a8\"],[0.3333333333333333,\"#9c179e\"],[0.4444444444444444,\"#bd3786\"],[0.5555555555555556,\"#d8576b\"],[0.6666666666666666,\"#ed7953\"],[0.7777777777777778,\"#fb9f3a\"],[0.8888888888888888,\"#fdca26\"],[1.0,\"#f0f921\"]],\"type\":\"histogram2dcontour\"}],\"mesh3d\":[{\"colorbar\":{\"outlinewidth\":0,\"ticks\":\"\"},\"type\":\"mesh3d\"}],\"parcoords\":[{\"line\":{\"colorbar\":{\"outlinewidth\":0,\"ticks\":\"\"}},\"type\":\"parcoords\"}],\"pie\":[{\"automargin\":true,\"type\":\"pie\"}],\"scatter\":[{\"marker\":{\"colorbar\":{\"outlinewidth\":0,\"ticks\":\"\"}},\"type\":\"scatter\"}],\"scatter3d\":[{\"line\":{\"colorbar\":{\"outlinewidth\":0,\"ticks\":\"\"}},\"marker\":{\"colorbar\":{\"outlinewidth\":0,\"ticks\":\"\"}},\"type\":\"scatter3d\"}],\"scattercarpet\":[{\"marker\":{\"colorbar\":{\"outlinewidth\":0,\"ticks\":\"\"}},\"type\":\"scattercarpet\"}],\"scattergeo\":[{\"marker\":{\"colorbar\":{\"outlinewidth\":0,\"ticks\":\"\"}},\"type\":\"scattergeo\"}],\"scattergl\":[{\"marker\":{\"colorbar\":{\"outlinewidth\":0,\"ticks\":\"\"}},\"type\":\"scattergl\"}],\"scattermapbox\":[{\"marker\":{\"colorbar\":{\"outlinewidth\":0,\"ticks\":\"\"}},\"type\":\"scattermapbox\"}],\"scatterpolar\":[{\"marker\":{\"colorbar\":{\"outlinewidth\":0,\"ticks\":\"\"}},\"type\":\"scatterpolar\"}],\"scatterpolargl\":[{\"marker\":{\"colorbar\":{\"outlinewidth\":0,\"ticks\":\"\"}},\"type\":\"scatterpolargl\"}],\"scatterternary\":[{\"marker\":{\"colorbar\":{\"outlinewidth\":0,\"ticks\":\"\"}},\"type\":\"scatterternary\"}],\"surface\":[{\"colorbar\":{\"outlinewidth\":0,\"ticks\":\"\"},\"colorscale\":[[0.0,\"#0d0887\"],[0.1111111111111111,\"#46039f\"],[0.2222222222222222,\"#7201a8\"],[0.3333333333333333,\"#9c179e\"],[0.4444444444444444,\"#bd3786\"],[0.5555555555555556,\"#d8576b\"],[0.6666666666666666,\"#ed7953\"],[0.7777777777777778,\"#fb9f3a\"],[0.8888888888888888,\"#fdca26\"],[1.0,\"#f0f921\"]],\"type\":\"surface\"}],\"table\":[{\"cells\":{\"fill\":{\"color\":\"#EBF0F8\"},\"line\":{\"color\":\"white\"}},\"header\":{\"fill\":{\"color\":\"#C8D4E3\"},\"line\":{\"color\":\"white\"}},\"type\":\"table\"}]},\"layout\":{\"annotationdefaults\":{\"arrowcolor\":\"#2a3f5f\",\"arrowhead\":0,\"arrowwidth\":1},\"autotypenumbers\":\"strict\",\"coloraxis\":{\"colorbar\":{\"outlinewidth\":0,\"ticks\":\"\"}},\"colorscale\":{\"diverging\":[[0,\"#8e0152\"],[0.1,\"#c51b7d\"],[0.2,\"#de77ae\"],[0.3,\"#f1b6da\"],[0.4,\"#fde0ef\"],[0.5,\"#f7f7f7\"],[0.6,\"#e6f5d0\"],[0.7,\"#b8e186\"],[0.8,\"#7fbc41\"],[0.9,\"#4d9221\"],[1,\"#276419\"]],\"sequential\":[[0.0,\"#0d0887\"],[0.1111111111111111,\"#46039f\"],[0.2222222222222222,\"#7201a8\"],[0.3333333333333333,\"#9c179e\"],[0.4444444444444444,\"#bd3786\"],[0.5555555555555556,\"#d8576b\"],[0.6666666666666666,\"#ed7953\"],[0.7777777777777778,\"#fb9f3a\"],[0.8888888888888888,\"#fdca26\"],[1.0,\"#f0f921\"]],\"sequentialminus\":[[0.0,\"#0d0887\"],[0.1111111111111111,\"#46039f\"],[0.2222222222222222,\"#7201a8\"],[0.3333333333333333,\"#9c179e\"],[0.4444444444444444,\"#bd3786\"],[0.5555555555555556,\"#d8576b\"],[0.6666666666666666,\"#ed7953\"],[0.7777777777777778,\"#fb9f3a\"],[0.8888888888888888,\"#fdca26\"],[1.0,\"#f0f921\"]]},\"colorway\":[\"#636efa\",\"#EF553B\",\"#00cc96\",\"#ab63fa\",\"#FFA15A\",\"#19d3f3\",\"#FF6692\",\"#B6E880\",\"#FF97FF\",\"#FECB52\"],\"font\":{\"color\":\"#2a3f5f\"},\"geo\":{\"bgcolor\":\"white\",\"lakecolor\":\"white\",\"landcolor\":\"#E5ECF6\",\"showlakes\":true,\"showland\":true,\"subunitcolor\":\"white\"},\"hoverlabel\":{\"align\":\"left\"},\"hovermode\":\"closest\",\"mapbox\":{\"style\":\"light\"},\"paper_bgcolor\":\"white\",\"plot_bgcolor\":\"#E5ECF6\",\"polar\":{\"angularaxis\":{\"gridcolor\":\"white\",\"linecolor\":\"white\",\"ticks\":\"\"},\"bgcolor\":\"#E5ECF6\",\"radialaxis\":{\"gridcolor\":\"white\",\"linecolor\":\"white\",\"ticks\":\"\"}},\"scene\":{\"xaxis\":{\"backgroundcolor\":\"#E5ECF6\",\"gridcolor\":\"white\",\"gridwidth\":2,\"linecolor\":\"white\",\"showbackground\":true,\"ticks\":\"\",\"zerolinecolor\":\"white\"},\"yaxis\":{\"backgroundcolor\":\"#E5ECF6\",\"gridcolor\":\"white\",\"gridwidth\":2,\"linecolor\":\"white\",\"showbackground\":true,\"ticks\":\"\",\"zerolinecolor\":\"white\"},\"zaxis\":{\"backgroundcolor\":\"#E5ECF6\",\"gridcolor\":\"white\",\"gridwidth\":2,\"linecolor\":\"white\",\"showbackground\":true,\"ticks\":\"\",\"zerolinecolor\":\"white\"}},\"shapedefaults\":{\"line\":{\"color\":\"#2a3f5f\"}},\"ternary\":{\"aaxis\":{\"gridcolor\":\"white\",\"linecolor\":\"white\",\"ticks\":\"\"},\"baxis\":{\"gridcolor\":\"white\",\"linecolor\":\"white\",\"ticks\":\"\"},\"bgcolor\":\"#E5ECF6\",\"caxis\":{\"gridcolor\":\"white\",\"linecolor\":\"white\",\"ticks\":\"\"}},\"title\":{\"x\":0.05},\"xaxis\":{\"automargin\":true,\"gridcolor\":\"white\",\"linecolor\":\"white\",\"ticks\":\"\",\"title\":{\"standoff\":15},\"zerolinecolor\":\"white\",\"zerolinewidth\":2},\"yaxis\":{\"automargin\":true,\"gridcolor\":\"white\",\"linecolor\":\"white\",\"ticks\":\"\",\"title\":{\"standoff\":15},\"zerolinecolor\":\"white\",\"zerolinewidth\":2}}},\"legend\":{\"tracegroupgap\":0},\"margin\":{\"t\":60},\"dragmode\":\"select\"},                        {\"responsive\": true}                    ).then(function(){\n                            \nvar gd = document.getElementById('760fbb5b-ab55-4f0e-a708-03ed68350bb1');\nvar x = new MutationObserver(function (mutations, observer) {{\n        var display = window.getComputedStyle(gd).display;\n        if (!display || display === 'none') {{\n            console.log([gd, 'removed!']);\n            Plotly.purge(gd);\n            observer.disconnect();\n        }}\n}});\n\n// Listen for the removal of the full notebook cells\nvar notebookContainer = gd.closest('#notebook-container');\nif (notebookContainer) {{\n    x.observe(notebookContainer, {childList: true});\n}}\n\n// Listen for the clearing of the current output cell\nvar outputEl = gd.closest('.output');\nif (outputEl) {{\n    x.observe(outputEl, {childList: true});\n}}\n\n                        })                };                            </script>        </div>\n</body>\n</html>"
     },
     "execution_count": 60,
     "metadata": {
     },
     "output_type": "execute_result"
    }
   ],
   "source": [
    "## plot scatter matrix for the features - Zengtao\n",
    "\n",
    "fig = px.scatter_matrix(store_df,\n",
    "    dimensions=[\"Store_Area\", \"Items_Available\", \"Daily_Customer_Count\", \"Store_Sales\", \"cus/sqr\"])\n",
    "\n",
    "## Syntax\n",
    "fig.write_html('/projects/1d81facf-cc6a-4793-a76e-965deb9ad4f9/SC22-BatchB-Fractal-Generator/app/static/assets/scattermatrix.html')\n",
    "\n",
    "fig.show()\n",
    "\n",
    "# This doesn't allow me to add colors using the \"Store_Scale\" column"
   ]
  },
  {
   "cell_type": "code",
   "execution_count": 61,
   "metadata": {
    "collapsed": false
   },
   "outputs": [
    {
     "data": {
      "text/html": "<html>\n<head><meta charset=\"utf-8\" /></head>\n<body>\n    <div>            <script src=\"https://cdnjs.cloudflare.com/ajax/libs/mathjax/2.7.5/MathJax.js?config=TeX-AMS-MML_SVG\"></script><script type=\"text/javascript\">if (window.MathJax) {MathJax.Hub.Config({SVG: {font: \"STIX-Web\"}});}</script>                <script type=\"text/javascript\">window.PlotlyConfig = {MathJaxConfig: 'local'};</script>\n        <script src=\"https://cdn.plot.ly/plotly-2.9.0.min.js\"></script>                <div id=\"4193fcf1-65b2-4bf2-b604-c0c4a9abe07a\" class=\"plotly-graph-div\" style=\"height:525px; width:100%;\"></div>            <script type=\"text/javascript\">                                    window.PLOTLYENV=window.PLOTLYENV || {};                                    if (document.getElementById(\"4193fcf1-65b2-4bf2-b604-c0c4a9abe07a\")) {                    Plotly.newPlot(                        \"4193fcf1-65b2-4bf2-b604-c0c4a9abe07a\",                        [{\"hovertemplate\":\"x=%{x}<br>y=%{y}<br>color=%{marker.color}<extra></extra>\",\"legendgroup\":\"\",\"marker\":{\"color\":[66490,39820,54010,53730,46620,45260,72240,37720,46310,44150,71280,57620,60470,59130,66360,78870,77250,38170,63540,40190,43460,68890,52780,50680,41880,70050,25820,60530,78100,84860,80140,14920,60460,74560,72430,45460,41570,62870,55170,45480,49550,48140,67640,39730,35800,49270,66510,62530,59980,76350,81820,57830,70450,67000,64090,48670,66210,83660,70770,53870,71300,46100,49100,65920,58660,69130,49080,72710,33430,42430,56650,33580,67370,71780,84840,82070,26770,65560,38660,65660,40700,88910,57860,42670,90180,51280,97260,39650,45720,42060,65350,67080,54030,56360,77120,50810,60960,61180,63660,41190,78420,65580,89080,94170,50950,65180,69310,79210,23740,36330,51700,62950,56010,45080,46830,64750,80780,31180,56710,49390,66000,32770,46580,79780,35510,80970,61150,49210,79950,68740,57480,72630,50070,40490,51850,42840,60940,62280,76530,85130,48590,73080,48950,48560,59380,51190,58920,50360,38070,49170,39740,63730,85330,27410,37320,71120,72800,34410,42530,54300,50780,45020,69600,80340,37810,46140,99570,38650,49800,69910,44910,78470,47460,33460,44090,42620,69450,73120,48300,58090,74250,40930,70930,64670,77420,32330,41080,42860,68450,39730,83750,69940,67710,67360,52460,88760,67030,78230,62270,49760,73660,72320,68890,34180,58260,38120,49070,61660,37830,52270,52280,70810,71530,77260,75550,33730,66270,55820,68430,73990,62800,33740,63830,24410,70020,92240,68230,81870,73860,77120,72350,49160,45650,52780,90960,64950,47230,83250,51950,66030,68590,47140,69940,65890,89310,58540,78130,92300,56170,46050,43390,61750,21830,39800,54370,62470,82930,63720,79180,38210,25950,56610,73710,70400,50440,66840,50170,60140,37130,42890,26220,50840,25630,60770,69600,41740,50130,21750,80490,34020,60240,39460,56440,46840,64820,52520,45940,38970,58610,30810,47730,64640,44860,55660,57530,75200,37330,35280,70610,49720,68850,50740,77070,74730,76530,68900,44960,41490,74320,73800,56400,71570,43640,35120,58670,75800,76640,31890,61670,75950,41490,66170,37980,62710,60470,35230,48550,56810,41080,51270,57500,81470,49570,45580,44660,76240,43720,46700,84690,85470,80410,46650,81840,63590,50130,45820,86710,49980,82940,40350,93950,47310,21300,62180,61460,54360,72050,48090,27310,57160,34190,35600,54670,76730,63540,36690,87370,59800,48030,96650,65500,55530,21650,31940,84690,68390,75490,39200,85670,60530,78090,50720,23090,91360,48120,75620,39420,51130,33890,87170,38600,60980,79410,82350,36740,27720,32260,53270,51480,59970,83600,63020,50920,56450,89540,46030,75110,74520,102310,53400,59760,49540,51560,49510,58610,68260,65310,52090,43860,74170,58380,91200,90940,49330,53500,54590,57450,33240,80790,61000,47620,72090,102920,61970,61040,52060,69570,66020,40000,79500,76300,69030,57140,41710,71480,33010,74570,49590,73170,79220,75880,67610,69090,35220,53940,56660,67520,38620,38890,79270,42880,44240,43190,74550,57090,56480,87410,81370,97360,77960,71240,58940,78950,36380,45160,69050,56830,93530,46920,55990,40840,64990,53550,51320,36560,66050,52400,27970,67100,43710,38600,53890,52610,43130,40300,49750,43840,56820,36350,50820,83720,46970,78020,45080,55160,72020,64010,27840,58070,51760,66050,65750,65820,46760,50940,56440,32610,62770,63600,45840,38280,50960,39480,69610,47800,44890,67420,78870,70310,38530,77570,59920,54450,50250,30790,35420,43470,61000,64780,39030,65900,46050,59070,44670,58390,80370,53230,72000,84040,52540,63510,42240,39580,54610,87330,88410,89760,101780,70290,88210,87160,41540,49170,63950,70810,49590,67290,51240,48540,72410,54370,94460,85160,52130,54650,69320,51480,50060,62180,79780,42860,54410,69390,42810,30840,56260,76470,35680,90070,33120,54060,75120,41600,20270,60060,82270,29170,68420,59130,74330,77080,76250,59540,54690,84360,51420,65120,49380,37830,35980,69190,50590,60800,31180,77790,47570,69130,75970,68350,41680,86560,81390,50730,71290,70110,61590,69370,67110,82020,62050,61730,58660,53370,39700,53750,44730,49350,43340,78090,54950,75530,57330,87930,56850,78430,63660,62960,81870,54820,116320,57200,84360,36530,81260,82350,80830,30610,51310,72940,52450,66070,43190,40730,78530,94690,44400,73800,37390,64120,66160,22310,62380,63850,36210,54590,69610,65390,78130,55710,69210,59940,72550,44260,56910,82390,54590,69990,72740,35360,94370,43520,36000,99480,83220,52940,93360,73590,53840,47350,65080,62050,30020,49510,64320,35590,63050,65300,69560,41910,28330,55980,61080,51380,84410,60680,64690,45780,41800,53230,36160,40450,57910,36280,39190,62380,21470,34610,88120,59190,36290,53760,66300,93000,65660,81930,60060,59530,46380,76200,56860,86620,49730,88370,49160,77740,38560,51990,39970,46040,49500,76670,75800,81720,58440,85720,70940,62420,56880,101820,86890,47300,31270,65410,54200,67390,54530,79760,78060,74080,52990,70580,34310,74160,59190,43370,17670,56710,59820,36190,60440,75300,74080,60440,80720,47060,86830,56790,67090,44370,82970,56230,53760,55390,73500,41050,67320,65890,56380,85670,70830,48180,51910,44320,58940,73610,54060,85000,49030,63300,84300,81390,95900,71830,79310,87890,48610,73160,36280,49720,44400,47590,51460,57750,66000,45950,53900,37920,63100,36770,43910,66390,59160,38510,46220,41500,58160,38530,55880,70940,53940,43030,59820,55500,49990,42980,65970,59290,63020,73810,70230,59950,78100,16370,92640,63540,87220,41990,79410,54380,58600,48950,40670,52340,39140,41090,25600,100900,77080,105150,80580,46230,98260,75930,52050,87000,60270,88270,57820,61210,76420,70980,76740,47920,52160,32740,72270,77430,92370,34880,46580,70620,66390,82080,76440,96610,54340],\"coloraxis\":\"coloraxis\",\"symbol\":\"circle\"},\"mode\":\"markers\",\"name\":\"\",\"orientation\":\"v\",\"showlegend\":false,\"x\":[1659,1461,1340,1451,1770,1442,1542,1261,1090,1030,1187,1751,1746,1615,1469,1644,1578,1703,1438,1940,1421,1458,1719,1449,1234,1732,1475,1390,1642,1715,1439,1250,1331,1784,1375,1871,1442,1174,1839,1270,1435,965,1665,1780,1009,1227,1769,1660,1472,1408,1514,1565,1074,1864,1570,1417,1734,1470,1761,1756,1704,2011,1472,1310,1544,1707,1881,1416,1631,1318,1692,1152,891,1468,1539,1635,1267,1250,1720,1462,1431,1539,1441,1572,1287,1468,1931,1252,1238,1479,1590,2169,1838,1385,1921,1975,1853,1816,1785,1579,1096,1919,1262,1374,1309,1207,1692,1929,1573,1415,1162,1485,1897,1607,1909,1274,1157,1712,1500,1682,1441,1525,1408,1947,1164,1787,1871,1718,1365,1368,1342,1076,1396,1713,1370,1667,1638,1581,1795,1179,1978,1688,1214,1504,1498,1462,1442,1250,1229,1936,1369,1662,1548,1649,1393,1450,1613,1408,775,1275,1740,1372,1414,2044,1823,955,1465,1331,1232,1481,1343,1539,1007,1762,1527,1356,1536,1605,1704,1626,1612,1174,1923,1702,1398,1437,1524,1660,1302,1666,1391,1778,1462,1751,1652,1841,1496,1504,1524,1148,1468,1310,1321,992,1540,1807,1526,1406,1703,1575,1309,1488,1658,1863,1458,1604,1575,1525,1451,1390,1442,1620,1251,1318,1647,1829,1852,1699,1325,1350,1347,1397,1245,1366,1378,1767,1184,1257,1863,1881,1329,1539,1557,2007,1185,1657,1294,1296,1733,1641,1373,1550,1583,1428,1604,1439,1648,1025,2001,1145,1174,913,1199,1875,1153,1240,1381,1701,1206,1476,1189,1837,1319,1617,1631,1517,1764,1572,1855,1327,1270,1734,1533,1390,1856,1000,1313,1494,1386,1979,1057,902,1347,1314,1513,1305,1180,1142,1471,1075,1578,1585,1391,1577,1092,1375,1523,1373,1550,1614,1566,2019,1494,1659,1766,1293,1375,1236,1332,1513,1208,1190,1448,1771,1365,1510,1458,1808,1615,1640,1060,1633,1222,1619,1624,1887,1320,1450,1455,966,1922,1678,1638,1145,2004,1954,1577,1766,1362,1886,1291,1584,1397,1445,1433,1269,1798,1514,1015,1495,1759,1219,1571,1404,1124,1514,1207,1484,1398,1769,1111,1078,1876,1909,1940,1391,1496,1412,1121,1691,1599,1208,1454,1555,1554,1491,1415,1487,1339,1320,1509,1406,1264,1905,1209,1546,1689,1153,2063,1848,1718,1480,1439,1576,1948,1613,896,1625,1303,1340,1410,1432,1891,1322,1378,1462,1440,1421,1280,1431,1161,1175,1395,1443,1247,1788,1138,1709,1777,1612,1618,1311,1365,1249,1373,1536,1744,1513,1297,1908,1721,1243,1472,1307,1628,1556,1179,1768,1378,1685,1474,1794,1086,1808,1501,1353,1455,1165,1332,1396,1513,1618,1845,1172,1436,1738,2229,1490,1060,2015,1611,1187,1430,1543,1836,1463,1213,1244,1745,933,1764,1675,1688,1842,1316,1440,1760,1323,1230,1540,1167,1429,1491,1313,1609,1109,1207,902,1191,1335,1382,1588,1918,1484,1334,1556,1784,1244,1496,1719,1678,1247,1191,1832,1271,1735,1627,1351,1520,1490,1777,1688,1537,1622,1148,1001,1857,1552,1700,1554,1482,1275,1642,1381,1381,1057,1192,1601,1622,1607,2214,1633,1546,1475,1270,1185,1614,1141,1244,869,2049,1883,1526,1165,1832,1723,932,1137,1231,1237,1371,1767,1748,1212,1466,1152,1439,2026,1772,1511,1199,1834,1143,1494,1770,1455,1141,1586,1701,1860,1167,1424,1710,1408,1517,1227,1609,1553,1814,1240,1206,1847,1009,1624,1612,1498,946,1563,1664,1619,1433,1241,1429,1241,1078,1690,1289,1581,1608,1344,1513,1529,1677,1015,1438,1426,1412,1622,1503,1501,1971,1383,1371,1508,1057,1411,1466,1545,2044,1887,1505,1422,1564,1510,1568,1933,1501,1593,1812,1580,1440,1100,1534,1299,1767,1368,1393,1327,1514,1989,1334,1533,1809,1607,1165,1193,1709,1525,1348,1132,1667,1427,1211,1717,1766,1086,1410,1476,1068,1485,1461,1685,1624,1658,1427,1755,1211,1591,1797,1519,1637,1451,1203,1884,1540,1121,1307,1475,1160,1078,1191,1317,1548,1560,1297,1645,1225,1421,1655,1615,1872,1317,1434,1791,932,1609,1495,1769,1693,1247,1502,1360,1542,1631,1246,1990,967,1582,1430,1827,1118,1766,1799,1167,1493,1445,1033,1440,1487,1854,1748,1937,1641,1659,1743,1449,1098,1121,1526,1358,1336,1502,1534,1418,854,1450,1474,1524,1361,1398,1085,1660,1648,1453,1323,1385,1250,1389,1486,1655,1645,1464,1197,1878,1150,1562,1596,1119,1116,1934,1299,1417,1235,1497,1430,1537,1444,1477,1041,1226,1489,1549,1073,1473,2013,1975,1561,1427,1441,1275,1574,1511,1428,1388,1057,1440,1349,1536,2019,1236,1436,1862,1200,1360,1722,1577,1850,1447,1496,1679,994,1354,1597,1873,1218,1458,1546,1608,1822,1716,1072,1330,1588,1425,1778,1363,1609,1671,1379,1218,1724,986,1330,1437,1327,1651,1211,1916,1638,1172,1350,1528,1305,1463,1409,1419,1535,1474,919,2067,1977,1293,1477,1582,1481,1214,1206,1653,1152,1458,1249,1939,1591,1180,1846,780,1565,1648,1775,1439,1487,1800,1690,1209,1859,1691,1259,1771,1205,1792,1263,1344,1819,1357,1396,1118,1655,1156,1451,1539,1549,1582,1387,1200,1299,1174],\"xaxis\":\"x\",\"y\":[1961,1752,1609,1748,2111,1733,1858,1507,1321,1235,1439,2098,2064,1931,1756,1950,1907,2045,1731,2340,1700,1746,2065,1752,1488,2073,1777,1648,1943,2071,1746,1508,1608,2163,1648,2230,1744,1411,2204,1516,1725,1152,2001,2117,1194,1471,2087,1982,1776,1688,1820,1880,1288,2240,1898,1701,2060,1763,2104,2070,2045,2391,1748,1561,1821,2052,2262,1681,1941,1576,2019,1380,1073,1749,1833,1956,1520,1475,2044,1761,1711,1858,1723,1884,1525,1760,2342,1506,1468,1758,1912,2617,2205,1655,2305,2385,2235,2171,2147,1899,1321,2294,1500,1655,1587,1434,2031,2311,1878,1700,1382,1787,2248,1927,2287,1503,1379,2046,1798,2017,1727,1835,1669,2333,1390,2137,2241,2051,1636,1654,1595,1270,1672,2071,1638,1993,1972,1905,2187,1412,2374,2042,1456,1805,1770,1762,1750,1486,1480,2300,1629,1986,1855,1963,1663,1734,1921,1696,932,1534,2078,1657,1723,2474,2176,1133,1763,1606,1487,1765,1599,1837,1207,2145,1832,1619,1848,1902,2032,1941,1939,1396,2339,2053,1692,1717,1796,1985,1569,2000,1649,2148,1770,2115,1982,2215,1791,1827,1808,1371,1744,1558,1579,1192,1857,2149,1853,1677,2055,1872,1572,1807,1988,2245,1725,1909,1899,1829,1737,1687,1742,1922,1527,1606,1962,2175,2227,2053,1595,1634,1628,1661,1499,1649,1658,2110,1434,1505,2247,2244,1609,1848,1861,2397,1418,2003,1539,1559,2097,1976,1648,1845,1907,1719,1925,1735,2003,1231,2394,1370,1426,1106,1433,2254,1397,1492,1660,2030,1456,1777,1439,2220,1571,1901,1967,1805,2109,1869,2197,1571,1515,2073,1848,1646,2216,1215,1586,1799,1674,2364,1264,1093,1622,1576,1803,1548,1436,1352,1768,1288,1885,1916,1648,1892,1314,1681,1813,1654,1871,1946,1889,2396,1806,2008,2131,1554,1659,1484,1586,1825,1459,1429,1734,2147,1645,1810,1736,2157,1954,1948,1273,1968,1473,1957,1973,2278,1583,1750,1764,1172,2290,1999,1952,1375,2390,2378,1879,2138,1634,2228,1546,1897,1686,1709,1707,1511,2134,1822,1216,1799,2095,1468,1877,1670,1369,1837,1476,1774,1678,2112,1322,1305,2254,2306,2343,1683,1774,1699,1345,2026,1946,1467,1737,1881,1852,1800,1697,1801,1589,1562,1799,1680,1502,2280,1464,1829,2044,1381,2493,2254,2056,1773,1724,1896,2374,1893,1059,1943,1587,1605,1704,1719,2280,1583,1670,1732,1733,1724,1530,1710,1404,1405,1662,1755,1523,2133,1375,2042,2145,1918,1943,1571,1638,1503,1635,1836,2101,1820,1561,2304,2076,1491,1766,1570,1959,1869,1428,2123,1656,2015,1759,2137,1291,2154,1790,1598,1757,1411,1610,1668,1821,1940,2233,1411,1737,2065,2667,1783,1279,2436,1919,1417,1690,1840,2195,1764,1462,1480,2108,1121,2132,2002,2046,2204,1597,1719,2111,1571,1466,1838,1388,1695,1770,1574,1943,1342,1440,1087,1422,1601,1660,1906,2284,1774,1607,1846,2142,1477,1787,2058,2022,1490,1421,2208,1523,2084,1948,1616,1817,1788,2117,2037,1836,1968,1384,1194,2236,1869,2064,1844,1777,1517,1981,1633,1634,1262,1445,1920,1968,1909,2647,1936,1845,1753,1519,1420,1938,1353,1481,1050,2465,2262,1842,1390,2185,2072,1138,1374,1472,1512,1650,2158,2092,1440,1743,1386,1703,2400,2146,1822,1461,2184,1375,1794,2131,1747,1372,1886,2034,2246,1406,1716,2053,1708,1831,1476,1930,1831,2174,1493,1437,2186,1202,1946,1931,1805,1125,1872,2016,1947,1722,1489,1720,1488,1306,2065,1536,1894,1945,1608,1804,1839,2014,1229,1751,1718,1701,1944,1791,1789,2342,1687,1635,1823,1284,1680,1746,1888,2408,2264,1836,1722,1869,1810,1920,2338,1822,1911,2189,1895,1749,1331,1841,1555,2121,1649,1670,1590,1794,2414,1584,1817,2145,1933,1387,1430,2065,1839,1623,1366,2020,1720,1447,2048,2111,1299,1692,1760,1278,1785,1739,2010,1958,2000,1677,2072,1472,1896,2126,1823,1958,1750,1446,2262,1820,1332,1562,1775,1401,1276,1436,1569,1858,1883,1529,1958,1455,1704,1956,1928,2262,1581,1729,2167,1120,1924,1793,2153,2032,1497,1815,1612,1844,1947,1482,2384,1154,1894,1743,2160,1338,2109,2173,1411,1795,1734,1237,1711,1773,2205,2086,2310,1999,1999,2061,1733,1309,1351,1858,1645,1616,1802,1858,1699,1018,1728,1776,1819,1638,1683,1308,1979,2017,1749,1591,1643,1506,1683,1758,1993,1963,1771,1428,2264,1378,1881,1939,1345,1347,2349,1540,1689,1503,1815,1704,1877,1742,1798,1246,1472,1783,1871,1280,1785,2396,2368,1877,1723,1747,1548,1876,1791,1713,1672,1280,1747,1610,1808,2420,1508,1715,2248,1442,1650,2078,1902,2214,1730,1800,2008,1194,1635,1918,2252,1459,1746,1860,1962,2160,2038,1296,1604,1892,1733,2133,1630,1928,2024,1636,1452,2101,1179,1606,1725,1609,2009,1462,2277,1937,1413,1606,1843,1557,1751,1727,1743,1819,1745,1099,2492,2362,1558,1790,1906,1789,1455,1460,1982,1393,1757,1510,2333,1919,1397,2195,951,1854,1959,2104,1732,1776,2158,2024,1452,2222,2023,1493,2138,1468,2131,1516,1605,2187,1625,1673,1337,1986,1398,1734,1829,1851,1910,1663,1436,1560,1429],\"yaxis\":\"y\",\"type\":\"scatter\"}],                        {\"template\":{\"data\":{\"bar\":[{\"error_x\":{\"color\":\"#2a3f5f\"},\"error_y\":{\"color\":\"#2a3f5f\"},\"marker\":{\"line\":{\"color\":\"#E5ECF6\",\"width\":0.5},\"pattern\":{\"fillmode\":\"overlay\",\"size\":10,\"solidity\":0.2}},\"type\":\"bar\"}],\"barpolar\":[{\"marker\":{\"line\":{\"color\":\"#E5ECF6\",\"width\":0.5},\"pattern\":{\"fillmode\":\"overlay\",\"size\":10,\"solidity\":0.2}},\"type\":\"barpolar\"}],\"carpet\":[{\"aaxis\":{\"endlinecolor\":\"#2a3f5f\",\"gridcolor\":\"white\",\"linecolor\":\"white\",\"minorgridcolor\":\"white\",\"startlinecolor\":\"#2a3f5f\"},\"baxis\":{\"endlinecolor\":\"#2a3f5f\",\"gridcolor\":\"white\",\"linecolor\":\"white\",\"minorgridcolor\":\"white\",\"startlinecolor\":\"#2a3f5f\"},\"type\":\"carpet\"}],\"choropleth\":[{\"colorbar\":{\"outlinewidth\":0,\"ticks\":\"\"},\"type\":\"choropleth\"}],\"contour\":[{\"colorbar\":{\"outlinewidth\":0,\"ticks\":\"\"},\"colorscale\":[[0.0,\"#0d0887\"],[0.1111111111111111,\"#46039f\"],[0.2222222222222222,\"#7201a8\"],[0.3333333333333333,\"#9c179e\"],[0.4444444444444444,\"#bd3786\"],[0.5555555555555556,\"#d8576b\"],[0.6666666666666666,\"#ed7953\"],[0.7777777777777778,\"#fb9f3a\"],[0.8888888888888888,\"#fdca26\"],[1.0,\"#f0f921\"]],\"type\":\"contour\"}],\"contourcarpet\":[{\"colorbar\":{\"outlinewidth\":0,\"ticks\":\"\"},\"type\":\"contourcarpet\"}],\"heatmap\":[{\"colorbar\":{\"outlinewidth\":0,\"ticks\":\"\"},\"colorscale\":[[0.0,\"#0d0887\"],[0.1111111111111111,\"#46039f\"],[0.2222222222222222,\"#7201a8\"],[0.3333333333333333,\"#9c179e\"],[0.4444444444444444,\"#bd3786\"],[0.5555555555555556,\"#d8576b\"],[0.6666666666666666,\"#ed7953\"],[0.7777777777777778,\"#fb9f3a\"],[0.8888888888888888,\"#fdca26\"],[1.0,\"#f0f921\"]],\"type\":\"heatmap\"}],\"heatmapgl\":[{\"colorbar\":{\"outlinewidth\":0,\"ticks\":\"\"},\"colorscale\":[[0.0,\"#0d0887\"],[0.1111111111111111,\"#46039f\"],[0.2222222222222222,\"#7201a8\"],[0.3333333333333333,\"#9c179e\"],[0.4444444444444444,\"#bd3786\"],[0.5555555555555556,\"#d8576b\"],[0.6666666666666666,\"#ed7953\"],[0.7777777777777778,\"#fb9f3a\"],[0.8888888888888888,\"#fdca26\"],[1.0,\"#f0f921\"]],\"type\":\"heatmapgl\"}],\"histogram\":[{\"marker\":{\"pattern\":{\"fillmode\":\"overlay\",\"size\":10,\"solidity\":0.2}},\"type\":\"histogram\"}],\"histogram2d\":[{\"colorbar\":{\"outlinewidth\":0,\"ticks\":\"\"},\"colorscale\":[[0.0,\"#0d0887\"],[0.1111111111111111,\"#46039f\"],[0.2222222222222222,\"#7201a8\"],[0.3333333333333333,\"#9c179e\"],[0.4444444444444444,\"#bd3786\"],[0.5555555555555556,\"#d8576b\"],[0.6666666666666666,\"#ed7953\"],[0.7777777777777778,\"#fb9f3a\"],[0.8888888888888888,\"#fdca26\"],[1.0,\"#f0f921\"]],\"type\":\"histogram2d\"}],\"histogram2dcontour\":[{\"colorbar\":{\"outlinewidth\":0,\"ticks\":\"\"},\"colorscale\":[[0.0,\"#0d0887\"],[0.1111111111111111,\"#46039f\"],[0.2222222222222222,\"#7201a8\"],[0.3333333333333333,\"#9c179e\"],[0.4444444444444444,\"#bd3786\"],[0.5555555555555556,\"#d8576b\"],[0.6666666666666666,\"#ed7953\"],[0.7777777777777778,\"#fb9f3a\"],[0.8888888888888888,\"#fdca26\"],[1.0,\"#f0f921\"]],\"type\":\"histogram2dcontour\"}],\"mesh3d\":[{\"colorbar\":{\"outlinewidth\":0,\"ticks\":\"\"},\"type\":\"mesh3d\"}],\"parcoords\":[{\"line\":{\"colorbar\":{\"outlinewidth\":0,\"ticks\":\"\"}},\"type\":\"parcoords\"}],\"pie\":[{\"automargin\":true,\"type\":\"pie\"}],\"scatter\":[{\"marker\":{\"colorbar\":{\"outlinewidth\":0,\"ticks\":\"\"}},\"type\":\"scatter\"}],\"scatter3d\":[{\"line\":{\"colorbar\":{\"outlinewidth\":0,\"ticks\":\"\"}},\"marker\":{\"colorbar\":{\"outlinewidth\":0,\"ticks\":\"\"}},\"type\":\"scatter3d\"}],\"scattercarpet\":[{\"marker\":{\"colorbar\":{\"outlinewidth\":0,\"ticks\":\"\"}},\"type\":\"scattercarpet\"}],\"scattergeo\":[{\"marker\":{\"colorbar\":{\"outlinewidth\":0,\"ticks\":\"\"}},\"type\":\"scattergeo\"}],\"scattergl\":[{\"marker\":{\"colorbar\":{\"outlinewidth\":0,\"ticks\":\"\"}},\"type\":\"scattergl\"}],\"scattermapbox\":[{\"marker\":{\"colorbar\":{\"outlinewidth\":0,\"ticks\":\"\"}},\"type\":\"scattermapbox\"}],\"scatterpolar\":[{\"marker\":{\"colorbar\":{\"outlinewidth\":0,\"ticks\":\"\"}},\"type\":\"scatterpolar\"}],\"scatterpolargl\":[{\"marker\":{\"colorbar\":{\"outlinewidth\":0,\"ticks\":\"\"}},\"type\":\"scatterpolargl\"}],\"scatterternary\":[{\"marker\":{\"colorbar\":{\"outlinewidth\":0,\"ticks\":\"\"}},\"type\":\"scatterternary\"}],\"surface\":[{\"colorbar\":{\"outlinewidth\":0,\"ticks\":\"\"},\"colorscale\":[[0.0,\"#0d0887\"],[0.1111111111111111,\"#46039f\"],[0.2222222222222222,\"#7201a8\"],[0.3333333333333333,\"#9c179e\"],[0.4444444444444444,\"#bd3786\"],[0.5555555555555556,\"#d8576b\"],[0.6666666666666666,\"#ed7953\"],[0.7777777777777778,\"#fb9f3a\"],[0.8888888888888888,\"#fdca26\"],[1.0,\"#f0f921\"]],\"type\":\"surface\"}],\"table\":[{\"cells\":{\"fill\":{\"color\":\"#EBF0F8\"},\"line\":{\"color\":\"white\"}},\"header\":{\"fill\":{\"color\":\"#C8D4E3\"},\"line\":{\"color\":\"white\"}},\"type\":\"table\"}]},\"layout\":{\"annotationdefaults\":{\"arrowcolor\":\"#2a3f5f\",\"arrowhead\":0,\"arrowwidth\":1},\"autotypenumbers\":\"strict\",\"coloraxis\":{\"colorbar\":{\"outlinewidth\":0,\"ticks\":\"\"}},\"colorscale\":{\"diverging\":[[0,\"#8e0152\"],[0.1,\"#c51b7d\"],[0.2,\"#de77ae\"],[0.3,\"#f1b6da\"],[0.4,\"#fde0ef\"],[0.5,\"#f7f7f7\"],[0.6,\"#e6f5d0\"],[0.7,\"#b8e186\"],[0.8,\"#7fbc41\"],[0.9,\"#4d9221\"],[1,\"#276419\"]],\"sequential\":[[0.0,\"#0d0887\"],[0.1111111111111111,\"#46039f\"],[0.2222222222222222,\"#7201a8\"],[0.3333333333333333,\"#9c179e\"],[0.4444444444444444,\"#bd3786\"],[0.5555555555555556,\"#d8576b\"],[0.6666666666666666,\"#ed7953\"],[0.7777777777777778,\"#fb9f3a\"],[0.8888888888888888,\"#fdca26\"],[1.0,\"#f0f921\"]],\"sequentialminus\":[[0.0,\"#0d0887\"],[0.1111111111111111,\"#46039f\"],[0.2222222222222222,\"#7201a8\"],[0.3333333333333333,\"#9c179e\"],[0.4444444444444444,\"#bd3786\"],[0.5555555555555556,\"#d8576b\"],[0.6666666666666666,\"#ed7953\"],[0.7777777777777778,\"#fb9f3a\"],[0.8888888888888888,\"#fdca26\"],[1.0,\"#f0f921\"]]},\"colorway\":[\"#636efa\",\"#EF553B\",\"#00cc96\",\"#ab63fa\",\"#FFA15A\",\"#19d3f3\",\"#FF6692\",\"#B6E880\",\"#FF97FF\",\"#FECB52\"],\"font\":{\"color\":\"#2a3f5f\"},\"geo\":{\"bgcolor\":\"white\",\"lakecolor\":\"white\",\"landcolor\":\"#E5ECF6\",\"showlakes\":true,\"showland\":true,\"subunitcolor\":\"white\"},\"hoverlabel\":{\"align\":\"left\"},\"hovermode\":\"closest\",\"mapbox\":{\"style\":\"light\"},\"paper_bgcolor\":\"white\",\"plot_bgcolor\":\"#E5ECF6\",\"polar\":{\"angularaxis\":{\"gridcolor\":\"white\",\"linecolor\":\"white\",\"ticks\":\"\"},\"bgcolor\":\"#E5ECF6\",\"radialaxis\":{\"gridcolor\":\"white\",\"linecolor\":\"white\",\"ticks\":\"\"}},\"scene\":{\"xaxis\":{\"backgroundcolor\":\"#E5ECF6\",\"gridcolor\":\"white\",\"gridwidth\":2,\"linecolor\":\"white\",\"showbackground\":true,\"ticks\":\"\",\"zerolinecolor\":\"white\"},\"yaxis\":{\"backgroundcolor\":\"#E5ECF6\",\"gridcolor\":\"white\",\"gridwidth\":2,\"linecolor\":\"white\",\"showbackground\":true,\"ticks\":\"\",\"zerolinecolor\":\"white\"},\"zaxis\":{\"backgroundcolor\":\"#E5ECF6\",\"gridcolor\":\"white\",\"gridwidth\":2,\"linecolor\":\"white\",\"showbackground\":true,\"ticks\":\"\",\"zerolinecolor\":\"white\"}},\"shapedefaults\":{\"line\":{\"color\":\"#2a3f5f\"}},\"ternary\":{\"aaxis\":{\"gridcolor\":\"white\",\"linecolor\":\"white\",\"ticks\":\"\"},\"baxis\":{\"gridcolor\":\"white\",\"linecolor\":\"white\",\"ticks\":\"\"},\"bgcolor\":\"#E5ECF6\",\"caxis\":{\"gridcolor\":\"white\",\"linecolor\":\"white\",\"ticks\":\"\"}},\"title\":{\"x\":0.05},\"xaxis\":{\"automargin\":true,\"gridcolor\":\"white\",\"linecolor\":\"white\",\"ticks\":\"\",\"title\":{\"standoff\":15},\"zerolinecolor\":\"white\",\"zerolinewidth\":2},\"yaxis\":{\"automargin\":true,\"gridcolor\":\"white\",\"linecolor\":\"white\",\"ticks\":\"\",\"title\":{\"standoff\":15},\"zerolinecolor\":\"white\",\"zerolinewidth\":2}}},\"xaxis\":{\"anchor\":\"y\",\"domain\":[0.0,1.0],\"title\":{\"text\":\"x\"}},\"yaxis\":{\"anchor\":\"x\",\"domain\":[0.0,1.0],\"title\":{\"text\":\"y\"}},\"coloraxis\":{\"colorbar\":{\"title\":{\"text\":\"color\"}},\"colorscale\":[[0.0,\"#0d0887\"],[0.1111111111111111,\"#46039f\"],[0.2222222222222222,\"#7201a8\"],[0.3333333333333333,\"#9c179e\"],[0.4444444444444444,\"#bd3786\"],[0.5555555555555556,\"#d8576b\"],[0.6666666666666666,\"#ed7953\"],[0.7777777777777778,\"#fb9f3a\"],[0.8888888888888888,\"#fdca26\"],[1.0,\"#f0f921\"]]},\"legend\":{\"tracegroupgap\":0},\"margin\":{\"t\":60}},                        {\"responsive\": true}                    ).then(function(){\n                            \nvar gd = document.getElementById('4193fcf1-65b2-4bf2-b604-c0c4a9abe07a');\nvar x = new MutationObserver(function (mutations, observer) {{\n        var display = window.getComputedStyle(gd).display;\n        if (!display || display === 'none') {{\n            console.log([gd, 'removed!']);\n            Plotly.purge(gd);\n            observer.disconnect();\n        }}\n}});\n\n// Listen for the removal of the full notebook cells\nvar notebookContainer = gd.closest('#notebook-container');\nif (notebookContainer) {{\n    x.observe(notebookContainer, {childList: true});\n}}\n\n// Listen for the clearing of the current output cell\nvar outputEl = gd.closest('.output');\nif (outputEl) {{\n    x.observe(outputEl, {childList: true});\n}}\n\n                        })                };                            </script>        </div>\n</body>\n</html>"
     },
     "execution_count": 61,
     "metadata": {
     },
     "output_type": "execute_result"
    }
   ],
   "source": [
    "## plot for relation between store_area and item_available based on store_sale- April\n",
    "\n",
    "\n",
    "fig = px.scatter(x = store_df['Store_Area'], y = store_df['Items_Available'], color = store_df['Store_Sales'])\n",
    "\n",
    "fig.write_html('/projects/1d81facf-cc6a-4793-a76e-965deb9ad4f9/SC22-BatchB-Fractal-Generator/app/static/assets/plot1.html')\n",
    "\n",
    "fig\n"
   ]
  },
  {
   "cell_type": "code",
   "execution_count": 62,
   "metadata": {
    "collapsed": false
   },
   "outputs": [
   ],
   "source": [
    "## plot for relation between store_area and daily_customer based on store_sale"
   ]
  },
  {
   "cell_type": "code",
   "execution_count": 63,
   "metadata": {
    "collapsed": false
   },
   "outputs": [
   ],
   "source": [
    "fig = px.scatter(store_df, x = 'Store_Area', y = 'Daily_Customer_Count', color = 'Store_Sales')\n",
    "fig.write_html('/projects/1d81facf-cc6a-4793-a76e-965deb9ad4f9/SC22-BatchB-Fractal-Generator/app/static/assets/plot2.html')\n"
   ]
  },
  {
   "cell_type": "code",
   "execution_count": 17,
   "metadata": {
    "collapsed": false
   },
   "outputs": [
   ],
   "source": [
    "small = store_df[store_df['Store_Scale'] == 'small']['Daily_Customer_Count'].sum()\n",
    "medium = store_df[store_df['Store_Scale'] == 'medium']['Daily_Customer_Count'].sum()\n",
    "large = store_df[store_df['Store_Scale'] == 'large']['Daily_Customer_Count'].sum()\n",
    "\n",
    "store_small = store_df[store_df['Store_Scale'] == 'small']['Store_Sales'].sum()\n",
    "store_medium = store_df[store_df['Store_Scale'] == 'medium']['Store_Sales'].sum()\n",
    "store_large = store_df[store_df['Store_Scale'] == 'large']['Store_Sales'].sum()"
   ]
  },
  {
   "cell_type": "code",
   "execution_count": 20,
   "metadata": {
    "collapsed": false
   },
   "outputs": [
   ],
   "source": [
    "fig = make_subplots(rows=1, cols=2, specs=[[{\"type\": \"pie\"}, {\"type\": \"pie\"}]],)\n",
    "\n",
    "fig.add_trace(go.Pie(values= [small, medium, large], title='Daily Customers from different scales'),\n",
    "              row=1, col=1)\n",
    "fig.add_trace(go.Pie(values= [store_small, store_medium, store_large], title='Daily Sales from different scales'),\n",
    "              row=1, col=2)\n",
    "fig.write_html('/projects/1d81facf-cc6a-4793-a76e-965deb9ad4f9/SC22-BatchB-Fractal-Generator/app/static/assets/piechart.html')\n"
   ]
  },
  {
   "cell_type": "code",
   "execution_count": 0,
   "metadata": {
    "collapsed": false,
    "scrolled": true
   },
   "outputs": [
   ],
   "source": [
   ]
  },
  {
   "cell_type": "code",
   "execution_count": 0,
   "metadata": {
    "collapsed": false
   },
   "outputs": [
   ],
   "source": [
   ]
  },
  {
   "cell_type": "code",
   "execution_count": 0,
   "metadata": {
    "collapsed": false
   },
   "outputs": [
   ],
   "source": [
    "fig = px.pie(store_df, values = 'Daily_Customer_Count', names='Store_Scale', color_discrete_sequence=px.colors.sequential.RdBu)\n",
    "fig.show()"
   ]
  },
  {
   "cell_type": "code",
   "execution_count": 0,
   "metadata": {
    "collapsed": false,
    "scrolled": true
   },
   "outputs": [
   ],
   "source": [
    "fig = px.pie(store_df, values = 'Store_Sales', names='Store_Scale', color_discrete_sequence=px.colors.sequential.RdBu)\n",
    "fig.show()"
   ]
  },
  {
   "cell_type": "code",
   "execution_count": 0,
   "metadata": {
    "collapsed": false,
    "scrolled": true
   },
   "outputs": [
   ],
   "source": [
    "# create a space for plot\n",
    "fig = go.Figure()\n",
    "# add figure on the plot\n",
    "\n",
    "\n",
    "fig.add_trace(go.Box(y=store_df['Store_Area'], name=\"Area\"))\n",
    "fig.add_trace(go.Box(y=store_df['Items_Available'], name=\"Items\"))\n",
    "fig.add_trace(go.Box(y=store_df['Daily_Customer_Count'], name=\"Customer Count\"))\n",
    "fig.write_html('/projects/1d81facf-cc6a-4793-a76e-965deb9ad4f9/SC22-BatchB-Fractal-Generator/app/static/assets/box_plot.html')\n",
    "\n",
    "fig.show()"
   ]
  },
  {
   "cell_type": "code",
   "execution_count": 0,
   "metadata": {
    "collapsed": false
   },
   "outputs": [
   ],
   "source": [
    "## plot for statistical property of store_area \"box plot\" - Zengtao\n",
    "\n",
    "plt.boxplot(store_df['Store_Area'])\n",
    "plt.xticks([1], ['Store Area'])\n",
    "plt.show()"
   ]
  },
  {
   "cell_type": "code",
   "execution_count": 0,
   "metadata": {
    "collapsed": false
   },
   "outputs": [
   ],
   "source": [
    "## plot for statistical property of item_availabe \"box plot and histogram\"\n",
    "# Link: https://plotly.com/python/histograms/\n",
    "\n",
    "# create a space for plot\n",
    "\n",
    "# add figure on the plot\n",
    "fig = make_subplots(rows=1, cols=3)\n",
    "\n",
    "trace1 = (go.Histogram(x=store_df['Items_Available'], name=\"Item\"))\n",
    "trace2 = (go.Histogram(x=store_df['Store_Area'], name=\"Area\"))\n",
    "trace3 = (go.Histogram(x=store_df['Daily_Customer_Count'], name=\"Customer Count\"))\n",
    "\n",
    "fig.append_trace(trace1, 1, 1)\n",
    "fig.append_trace(trace2, 1, 2)\n",
    "fig.append_trace(trace3, 1, 3)\n",
    "fig.write_html('/projects/1d81facf-cc6a-4793-a76e-965deb9ad4f9/SC22-BatchB-Fractal-Generator/app/static/assets/distribution.html')\n",
    "fig.show()"
   ]
  },
  {
   "cell_type": "code",
   "execution_count": 0,
   "metadata": {
    "collapsed": false
   },
   "outputs": [
   ],
   "source": [
    "hist_data = [store_df['Items_Available'], store_df['Store_Area'], store_df['Daily_Customer_Count']]\n",
    "group_labels = ['Item', 'Area', 'Customer Count']\n",
    "\n",
    "fig = ff.create_distplot(hist_data, group_labels, bin_size=.4)\n",
    "fig.show()"
   ]
  },
  {
   "cell_type": "code",
   "execution_count": 0,
   "metadata": {
    "collapsed": false
   },
   "outputs": [
   ],
   "source": [
    "## plot for the relationship between cur/sqr and store_sale"
   ]
  },
  {
   "cell_type": "code",
   "execution_count": 0,
   "metadata": {
    "collapsed": false
   },
   "outputs": [
   ],
   "source": [
    "## plot heatmap for the features - Zengtao\n",
    "# Alternative: sns.heatmap(store_df.corr())\n",
    "df = store_df[['Store_Sales','Store_Area', 'Items_Available','Daily_Customer_Count','cus/sqr', 'Store_Scale', 'Income']]\n",
    "fig = px.imshow(df.corr())\n",
    "fig.write_html('/projects/1d81facf-cc6a-4793-a76e-965deb9ad4f9/SC22-BatchB-Fractal-Generator/app/static/assets/heatmap.html')\n",
    "fig"
   ]
  },
  {
   "cell_type": "markdown",
   "metadata": {
    "collapsed": false
   },
   "source": [
    "## Modeling\n",
    "\n"
   ]
  },
  {
   "cell_type": "markdown",
   "metadata": {
    "collapsed": false
   },
   "source": [
    "### Import package\n",
    "\n"
   ]
  },
  {
   "cell_type": "code",
   "execution_count": 67,
   "metadata": {
    "collapsed": false
   },
   "outputs": [
   ],
   "source": [
    "from sklearn.linear_model import LinearRegression\n",
    "from sklearn.ensemble import RandomForestRegressor\n",
    "import xgboost as xgb\n",
    "from sklearn.ensemble import GradientBoostingRegressor\n",
    "from sklearn.neural_network import MLPRegressor\n",
    "from sklearn.preprocessing import PolynomialFeatures\n",
    "from sklearn.tree import DecisionTreeRegressor\n",
    "from sklearn.linear_model import ElasticNet\n"
   ]
  },
  {
   "cell_type": "markdown",
   "metadata": {
    "collapsed": false
   },
   "source": [
    "### Train Test Split\n",
    "\n"
   ]
  },
  {
   "cell_type": "code",
   "execution_count": 68,
   "metadata": {
    "collapsed": false
   },
   "outputs": [
   ],
   "source": [
    "# First Feature Selection\n",
    "train_column = ['std_item_available', 'std_daily_customer', 'std_cur_sqr']\n",
    "train_target = ['Store_Sales']\n",
    "\n",
    "x_train = store_df[train_column].iloc[:600,:]\n",
    "y_train = store_df[train_target].iloc[:600,:]\n",
    "x_test = store_df[train_column].iloc[600:,:]\n",
    "y_test = store_df[train_target].iloc[600:,:]"
   ]
  },
  {
   "cell_type": "code",
   "execution_count": 69,
   "metadata": {
    "collapsed": false
   },
   "outputs": [
   ],
   "source": [
    "# Second Feature Selection (Zengtao)\n",
    "train_column_zt = ['std_item_available', 'std_daily_customer', 'std_cur_sqr', 'large', 'medium','small']\n",
    "train_target = ['Store_Sales']\n",
    "\n",
    "x_train_zt = df_zt[train_column_zt].iloc[:600,:]\n",
    "y_train_zt = df_zt[train_target].iloc[:600,:]\n",
    "x_test_zt = df_zt[train_column_zt].iloc[600:,:]\n",
    "y_test_zt = df_zt[train_target].iloc[600:,:]"
   ]
  },
  {
   "cell_type": "code",
   "execution_count": 70,
   "metadata": {
    "collapsed": false
   },
   "outputs": [
   ],
   "source": [
    "# Third Feature Selection (Outlier)\n",
    "train_column = ['std_store_area', 'std_item_available', 'std_daily_customer']\n",
    "train_target = ['Store_Sales']\n",
    "\n",
    "x_train_rm = rm_df[train_column].iloc[:600,:]\n",
    "y_train_rm = rm_df[train_target].iloc[:600,:]\n",
    "x_test_rm = rm_df[train_column].iloc[600:,:]\n",
    "y_test_rm = rm_df[train_target].iloc[600:,:]"
   ]
  },
  {
   "cell_type": "markdown",
   "metadata": {
    "collapsed": false
   },
   "source": [
    "### Linear Regression\n",
    "\n"
   ]
  },
  {
   "cell_type": "code",
   "execution_count": 71,
   "metadata": {
    "collapsed": false
   },
   "outputs": [
    {
     "name": "stdout",
     "output_type": "stream",
     "text": [
      "Store_Sales    14294.481603\n",
      "dtype: float64\n"
     ]
    },
    {
     "data": {
      "image/png": "[encoded data removed]",
      "text/plain": [
       "<Figure size 432x288 with 1 Axes>"
      ]
     },
     "execution_count": 71,
     "metadata": {
      "needs_background": "light"
     },
     "output_type": "execute_result"
    }
   ],
   "source": [
    "linr = LinearRegression()\n",
    "linr = LinearRegression()\n",
    "linr.fit(x_train, y_train)\n",
    "\n",
    "pred_value = linr.predict(x_test)\n",
    "error = (np.abs(pred_value - y_test)).mean()\n",
    "print(error)\n",
    "plt.scatter(y_test, pred_value)\n",
    "plt.show()"
   ]
  },
  {
   "cell_type": "markdown",
   "metadata": {
    "collapsed": false
   },
   "source": [
    "### Random Forest Regression\n",
    "\n"
   ]
  },
  {
   "cell_type": "code",
   "execution_count": 72,
   "metadata": {
    "collapsed": false
   },
   "outputs": [
   ],
   "source": [
    "## Random Forest\n",
    "regr = RandomForestRegressor(max_depth=5, random_state=0)\n",
    "regr.fit(x_train, y_train['Store_Sales'])\n",
    "pred_rf = regr.predict(x_test)"
   ]
  },
  {
   "cell_type": "code",
   "execution_count": 73,
   "metadata": {
    "collapsed": false
   },
   "outputs": [
   ],
   "source": [
    "## grid search for rf\n",
    "List_depth = [5, 10, 20, 50, 100]\n",
    "List_mae_rf = []\n",
    "\n",
    "optimal_error = 1e10\n",
    "optimal_depth = 0\n",
    "\n",
    "for d in List_depth:\n",
    "    regr = RandomForestRegressor(max_depth=d, random_state=0)\n",
    "    regr.fit(x_train, y_train['Store_Sales'])\n",
    "    pred_rf = regr.predict(x_test)\n",
    "\n",
    "    mae_rf = mae(pred_rf, list(y_test['Store_Sales']))\n",
    "    List_mae_rf.append(mae_rf)\n",
    "\n",
    "    if mae_rf < optimal_error:\n",
    "        optimal_depth = d\n",
    "        optimal_error = mae_rf"
   ]
  },
  {
   "cell_type": "code",
   "execution_count": 74,
   "metadata": {
    "collapsed": false
   },
   "outputs": [
    {
     "name": "stdout",
     "output_type": "stream",
     "text": [
      "best depth:  5\n",
      "Error: \t     14533.350863681137\n"
     ]
    }
   ],
   "source": [
    "print('best depth: ', optimal_depth)\n",
    "print('Error: \\t    ', optimal_error)"
   ]
  },
  {
   "cell_type": "code",
   "execution_count": 75,
   "metadata": {
    "collapsed": false,
    "scrolled": true
   },
   "outputs": [
    {
     "data": {
      "text/html": "<html>\n<head><meta charset=\"utf-8\" /></head>\n<body>\n    <div>            <script src=\"https://cdnjs.cloudflare.com/ajax/libs/mathjax/2.7.5/MathJax.js?config=TeX-AMS-MML_SVG\"></script><script type=\"text/javascript\">if (window.MathJax) {MathJax.Hub.Config({SVG: {font: \"STIX-Web\"}});}</script>                <script type=\"text/javascript\">window.PlotlyConfig = {MathJaxConfig: 'local'};</script>\n        <script src=\"https://cdn.plot.ly/plotly-2.9.0.min.js\"></script>                <div id=\"aa554853-c5d6-4d80-8e18-aafdc442f08a\" class=\"plotly-graph-div\" style=\"height:525px; width:100%;\"></div>            <script type=\"text/javascript\">                                    window.PLOTLYENV=window.PLOTLYENV || {};                                    if (document.getElementById(\"aa554853-c5d6-4d80-8e18-aafdc442f08a\")) {                    Plotly.newPlot(                        \"aa554853-c5d6-4d80-8e18-aafdc442f08a\",                        [{\"hovertemplate\":\"x=%{x}<br>y=%{y}<extra></extra>\",\"legendgroup\":\"\",\"marker\":{\"color\":\"#636efa\",\"symbol\":\"circle\"},\"mode\":\"markers\",\"name\":\"\",\"orientation\":\"v\",\"showlegend\":false,\"x\":[5,10,20,50,100],\"xaxis\":\"x\",\"y\":[14533.350863681137,15181.754973275954,15651.019964237776,15684.396959459466,15684.396959459466],\"yaxis\":\"y\",\"type\":\"scatter\"}],                        {\"template\":{\"data\":{\"bar\":[{\"error_x\":{\"color\":\"#2a3f5f\"},\"error_y\":{\"color\":\"#2a3f5f\"},\"marker\":{\"line\":{\"color\":\"#E5ECF6\",\"width\":0.5},\"pattern\":{\"fillmode\":\"overlay\",\"size\":10,\"solidity\":0.2}},\"type\":\"bar\"}],\"barpolar\":[{\"marker\":{\"line\":{\"color\":\"#E5ECF6\",\"width\":0.5},\"pattern\":{\"fillmode\":\"overlay\",\"size\":10,\"solidity\":0.2}},\"type\":\"barpolar\"}],\"carpet\":[{\"aaxis\":{\"endlinecolor\":\"#2a3f5f\",\"gridcolor\":\"white\",\"linecolor\":\"white\",\"minorgridcolor\":\"white\",\"startlinecolor\":\"#2a3f5f\"},\"baxis\":{\"endlinecolor\":\"#2a3f5f\",\"gridcolor\":\"white\",\"linecolor\":\"white\",\"minorgridcolor\":\"white\",\"startlinecolor\":\"#2a3f5f\"},\"type\":\"carpet\"}],\"choropleth\":[{\"colorbar\":{\"outlinewidth\":0,\"ticks\":\"\"},\"type\":\"choropleth\"}],\"contour\":[{\"colorbar\":{\"outlinewidth\":0,\"ticks\":\"\"},\"colorscale\":[[0.0,\"#0d0887\"],[0.1111111111111111,\"#46039f\"],[0.2222222222222222,\"#7201a8\"],[0.3333333333333333,\"#9c179e\"],[0.4444444444444444,\"#bd3786\"],[0.5555555555555556,\"#d8576b\"],[0.6666666666666666,\"#ed7953\"],[0.7777777777777778,\"#fb9f3a\"],[0.8888888888888888,\"#fdca26\"],[1.0,\"#f0f921\"]],\"type\":\"contour\"}],\"contourcarpet\":[{\"colorbar\":{\"outlinewidth\":0,\"ticks\":\"\"},\"type\":\"contourcarpet\"}],\"heatmap\":[{\"colorbar\":{\"outlinewidth\":0,\"ticks\":\"\"},\"colorscale\":[[0.0,\"#0d0887\"],[0.1111111111111111,\"#46039f\"],[0.2222222222222222,\"#7201a8\"],[0.3333333333333333,\"#9c179e\"],[0.4444444444444444,\"#bd3786\"],[0.5555555555555556,\"#d8576b\"],[0.6666666666666666,\"#ed7953\"],[0.7777777777777778,\"#fb9f3a\"],[0.8888888888888888,\"#fdca26\"],[1.0,\"#f0f921\"]],\"type\":\"heatmap\"}],\"heatmapgl\":[{\"colorbar\":{\"outlinewidth\":0,\"ticks\":\"\"},\"colorscale\":[[0.0,\"#0d0887\"],[0.1111111111111111,\"#46039f\"],[0.2222222222222222,\"#7201a8\"],[0.3333333333333333,\"#9c179e\"],[0.4444444444444444,\"#bd3786\"],[0.5555555555555556,\"#d8576b\"],[0.6666666666666666,\"#ed7953\"],[0.7777777777777778,\"#fb9f3a\"],[0.8888888888888888,\"#fdca26\"],[1.0,\"#f0f921\"]],\"type\":\"heatmapgl\"}],\"histogram\":[{\"marker\":{\"pattern\":{\"fillmode\":\"overlay\",\"size\":10,\"solidity\":0.2}},\"type\":\"histogram\"}],\"histogram2d\":[{\"colorbar\":{\"outlinewidth\":0,\"ticks\":\"\"},\"colorscale\":[[0.0,\"#0d0887\"],[0.1111111111111111,\"#46039f\"],[0.2222222222222222,\"#7201a8\"],[0.3333333333333333,\"#9c179e\"],[0.4444444444444444,\"#bd3786\"],[0.5555555555555556,\"#d8576b\"],[0.6666666666666666,\"#ed7953\"],[0.7777777777777778,\"#fb9f3a\"],[0.8888888888888888,\"#fdca26\"],[1.0,\"#f0f921\"]],\"type\":\"histogram2d\"}],\"histogram2dcontour\":[{\"colorbar\":{\"outlinewidth\":0,\"ticks\":\"\"},\"colorscale\":[[0.0,\"#0d0887\"],[0.1111111111111111,\"#46039f\"],[0.2222222222222222,\"#7201a8\"],[0.3333333333333333,\"#9c179e\"],[0.4444444444444444,\"#bd3786\"],[0.5555555555555556,\"#d8576b\"],[0.6666666666666666,\"#ed7953\"],[0.7777777777777778,\"#fb9f3a\"],[0.8888888888888888,\"#fdca26\"],[1.0,\"#f0f921\"]],\"type\":\"histogram2dcontour\"}],\"mesh3d\":[{\"colorbar\":{\"outlinewidth\":0,\"ticks\":\"\"},\"type\":\"mesh3d\"}],\"parcoords\":[{\"line\":{\"colorbar\":{\"outlinewidth\":0,\"ticks\":\"\"}},\"type\":\"parcoords\"}],\"pie\":[{\"automargin\":true,\"type\":\"pie\"}],\"scatter\":[{\"marker\":{\"colorbar\":{\"outlinewidth\":0,\"ticks\":\"\"}},\"type\":\"scatter\"}],\"scatter3d\":[{\"line\":{\"colorbar\":{\"outlinewidth\":0,\"ticks\":\"\"}},\"marker\":{\"colorbar\":{\"outlinewidth\":0,\"ticks\":\"\"}},\"type\":\"scatter3d\"}],\"scattercarpet\":[{\"marker\":{\"colorbar\":{\"outlinewidth\":0,\"ticks\":\"\"}},\"type\":\"scattercarpet\"}],\"scattergeo\":[{\"marker\":{\"colorbar\":{\"outlinewidth\":0,\"ticks\":\"\"}},\"type\":\"scattergeo\"}],\"scattergl\":[{\"marker\":{\"colorbar\":{\"outlinewidth\":0,\"ticks\":\"\"}},\"type\":\"scattergl\"}],\"scattermapbox\":[{\"marker\":{\"colorbar\":{\"outlinewidth\":0,\"ticks\":\"\"}},\"type\":\"scattermapbox\"}],\"scatterpolar\":[{\"marker\":{\"colorbar\":{\"outlinewidth\":0,\"ticks\":\"\"}},\"type\":\"scatterpolar\"}],\"scatterpolargl\":[{\"marker\":{\"colorbar\":{\"outlinewidth\":0,\"ticks\":\"\"}},\"type\":\"scatterpolargl\"}],\"scatterternary\":[{\"marker\":{\"colorbar\":{\"outlinewidth\":0,\"ticks\":\"\"}},\"type\":\"scatterternary\"}],\"surface\":[{\"colorbar\":{\"outlinewidth\":0,\"ticks\":\"\"},\"colorscale\":[[0.0,\"#0d0887\"],[0.1111111111111111,\"#46039f\"],[0.2222222222222222,\"#7201a8\"],[0.3333333333333333,\"#9c179e\"],[0.4444444444444444,\"#bd3786\"],[0.5555555555555556,\"#d8576b\"],[0.6666666666666666,\"#ed7953\"],[0.7777777777777778,\"#fb9f3a\"],[0.8888888888888888,\"#fdca26\"],[1.0,\"#f0f921\"]],\"type\":\"surface\"}],\"table\":[{\"cells\":{\"fill\":{\"color\":\"#EBF0F8\"},\"line\":{\"color\":\"white\"}},\"header\":{\"fill\":{\"color\":\"#C8D4E3\"},\"line\":{\"color\":\"white\"}},\"type\":\"table\"}]},\"layout\":{\"annotationdefaults\":{\"arrowcolor\":\"#2a3f5f\",\"arrowhead\":0,\"arrowwidth\":1},\"autotypenumbers\":\"strict\",\"coloraxis\":{\"colorbar\":{\"outlinewidth\":0,\"ticks\":\"\"}},\"colorscale\":{\"diverging\":[[0,\"#8e0152\"],[0.1,\"#c51b7d\"],[0.2,\"#de77ae\"],[0.3,\"#f1b6da\"],[0.4,\"#fde0ef\"],[0.5,\"#f7f7f7\"],[0.6,\"#e6f5d0\"],[0.7,\"#b8e186\"],[0.8,\"#7fbc41\"],[0.9,\"#4d9221\"],[1,\"#276419\"]],\"sequential\":[[0.0,\"#0d0887\"],[0.1111111111111111,\"#46039f\"],[0.2222222222222222,\"#7201a8\"],[0.3333333333333333,\"#9c179e\"],[0.4444444444444444,\"#bd3786\"],[0.5555555555555556,\"#d8576b\"],[0.6666666666666666,\"#ed7953\"],[0.7777777777777778,\"#fb9f3a\"],[0.8888888888888888,\"#fdca26\"],[1.0,\"#f0f921\"]],\"sequentialminus\":[[0.0,\"#0d0887\"],[0.1111111111111111,\"#46039f\"],[0.2222222222222222,\"#7201a8\"],[0.3333333333333333,\"#9c179e\"],[0.4444444444444444,\"#bd3786\"],[0.5555555555555556,\"#d8576b\"],[0.6666666666666666,\"#ed7953\"],[0.7777777777777778,\"#fb9f3a\"],[0.8888888888888888,\"#fdca26\"],[1.0,\"#f0f921\"]]},\"colorway\":[\"#636efa\",\"#EF553B\",\"#00cc96\",\"#ab63fa\",\"#FFA15A\",\"#19d3f3\",\"#FF6692\",\"#B6E880\",\"#FF97FF\",\"#FECB52\"],\"font\":{\"color\":\"#2a3f5f\"},\"geo\":{\"bgcolor\":\"white\",\"lakecolor\":\"white\",\"landcolor\":\"#E5ECF6\",\"showlakes\":true,\"showland\":true,\"subunitcolor\":\"white\"},\"hoverlabel\":{\"align\":\"left\"},\"hovermode\":\"closest\",\"mapbox\":{\"style\":\"light\"},\"paper_bgcolor\":\"white\",\"plot_bgcolor\":\"#E5ECF6\",\"polar\":{\"angularaxis\":{\"gridcolor\":\"white\",\"linecolor\":\"white\",\"ticks\":\"\"},\"bgcolor\":\"#E5ECF6\",\"radialaxis\":{\"gridcolor\":\"white\",\"linecolor\":\"white\",\"ticks\":\"\"}},\"scene\":{\"xaxis\":{\"backgroundcolor\":\"#E5ECF6\",\"gridcolor\":\"white\",\"gridwidth\":2,\"linecolor\":\"white\",\"showbackground\":true,\"ticks\":\"\",\"zerolinecolor\":\"white\"},\"yaxis\":{\"backgroundcolor\":\"#E5ECF6\",\"gridcolor\":\"white\",\"gridwidth\":2,\"linecolor\":\"white\",\"showbackground\":true,\"ticks\":\"\",\"zerolinecolor\":\"white\"},\"zaxis\":{\"backgroundcolor\":\"#E5ECF6\",\"gridcolor\":\"white\",\"gridwidth\":2,\"linecolor\":\"white\",\"showbackground\":true,\"ticks\":\"\",\"zerolinecolor\":\"white\"}},\"shapedefaults\":{\"line\":{\"color\":\"#2a3f5f\"}},\"ternary\":{\"aaxis\":{\"gridcolor\":\"white\",\"linecolor\":\"white\",\"ticks\":\"\"},\"baxis\":{\"gridcolor\":\"white\",\"linecolor\":\"white\",\"ticks\":\"\"},\"bgcolor\":\"#E5ECF6\",\"caxis\":{\"gridcolor\":\"white\",\"linecolor\":\"white\",\"ticks\":\"\"}},\"title\":{\"x\":0.05},\"xaxis\":{\"automargin\":true,\"gridcolor\":\"white\",\"linecolor\":\"white\",\"ticks\":\"\",\"title\":{\"standoff\":15},\"zerolinecolor\":\"white\",\"zerolinewidth\":2},\"yaxis\":{\"automargin\":true,\"gridcolor\":\"white\",\"linecolor\":\"white\",\"ticks\":\"\",\"title\":{\"standoff\":15},\"zerolinecolor\":\"white\",\"zerolinewidth\":2}}},\"xaxis\":{\"anchor\":\"y\",\"domain\":[0.0,1.0],\"title\":{\"text\":\"x\"}},\"yaxis\":{\"anchor\":\"x\",\"domain\":[0.0,1.0],\"title\":{\"text\":\"y\"}},\"legend\":{\"tracegroupgap\":0},\"margin\":{\"t\":60}},                        {\"responsive\": true}                    ).then(function(){\n                            \nvar gd = document.getElementById('aa554853-c5d6-4d80-8e18-aafdc442f08a');\nvar x = new MutationObserver(function (mutations, observer) {{\n        var display = window.getComputedStyle(gd).display;\n        if (!display || display === 'none') {{\n            console.log([gd, 'removed!']);\n            Plotly.purge(gd);\n            observer.disconnect();\n        }}\n}});\n\n// Listen for the removal of the full notebook cells\nvar notebookContainer = gd.closest('#notebook-container');\nif (notebookContainer) {{\n    x.observe(notebookContainer, {childList: true});\n}}\n\n// Listen for the clearing of the current output cell\nvar outputEl = gd.closest('.output');\nif (outputEl) {{\n    x.observe(outputEl, {childList: true});\n}}\n\n                        })                };                            </script>        </div>\n</body>\n</html>"
     },
     "execution_count": 75,
     "metadata": {
     },
     "output_type": "execute_result"
    }
   ],
   "source": [
    "px.scatter(x = List_depth, y = List_mae_rf)"
   ]
  },
  {
   "cell_type": "code",
   "execution_count": 76,
   "metadata": {
    "collapsed": false
   },
   "outputs": [
   ],
   "source": [
    "## Calculate the Mean absolute error (MAE) for prediction\n",
    "\n",
    "MAE_lin = mae(pred_value,list(y_test['Store_Sales']))\n",
    "MAE_rf = mae(pred_rf,list(y_test['Store_Sales']))"
   ]
  },
  {
   "cell_type": "markdown",
   "metadata": {
    "collapsed": false
   },
   "source": [
    "### XGBoosting\n",
    "\n"
   ]
  },
  {
   "cell_type": "code",
   "execution_count": 77,
   "metadata": {
    "collapsed": false
   },
   "outputs": [
   ],
   "source": [
    "# First XGB model\n",
    "\n",
    "xgb_model = xgb.XGBRegressor(objective=\"reg:squarederror\", random_state=42)\n",
    "xgb_model.fit(x_train_rm, y_train_rm['Store_Sales'])\n",
    "y_pred = xgb_model.predict(x_test_rm)\n",
    "\n",
    "MAE_XGB = mae(y_pred, list(y_test_rm['Store_Sales']))"
   ]
  },
  {
   "cell_type": "code",
   "execution_count": 78,
   "metadata": {
    "collapsed": false
   },
   "outputs": [
   ],
   "source": [
    "# Second XGB model\n",
    "data_dmatrix = xgb.DMatrix(data=x_train_zt,label=y_train_zt)\n",
    "xg_reg = xgb.XGBRegressor(objective ='reg:squarederror', colsample_bytree = 1, learning_rate = 0.1,\n",
    "                max_depth = 10, alpha = 10, n_estimators = 50)\n",
    "xg_reg.fit(x_train_zt,y_train_zt)\n",
    "preds = xg_reg.predict(x_test_zt)"
   ]
  },
  {
   "cell_type": "code",
   "execution_count": 79,
   "metadata": {
    "collapsed": false
   },
   "outputs": [
   ],
   "source": [
    "data_dmatrix = xgb.DMatrix(data=x_train_rm,label=y_train_rm)\n",
    "xg_reg = xgb.XGBRegressor(objective ='reg:squarederror', colsample_bytree = 0.5, learning_rate = 0.091,\n",
    "                max_depth = 1, alpha = 50, n_estimators = 70)\n",
    "xg_reg.fit(x_train_rm,y_train_rm)\n",
    "preds = xg_reg.predict(x_test_rm)"
   ]
  },
  {
   "cell_type": "code",
   "execution_count": 80,
   "metadata": {
    "collapsed": false
   },
   "outputs": [
    {
     "data": {
      "text/html": "<html>\n<head><meta charset=\"utf-8\" /></head>\n<body>\n    <div>            <script src=\"https://cdnjs.cloudflare.com/ajax/libs/mathjax/2.7.5/MathJax.js?config=TeX-AMS-MML_SVG\"></script><script type=\"text/javascript\">if (window.MathJax) {MathJax.Hub.Config({SVG: {font: \"STIX-Web\"}});}</script>                <script type=\"text/javascript\">window.PlotlyConfig = {MathJaxConfig: 'local'};</script>\n        <script src=\"https://cdn.plot.ly/plotly-2.9.0.min.js\"></script>                <div id=\"403f8a21-0eaa-48cd-881e-1e2b3e49abea\" class=\"plotly-graph-div\" style=\"height:525px; width:100%;\"></div>            <script type=\"text/javascript\">                                    window.PLOTLYENV=window.PLOTLYENV || {};                                    if (document.getElementById(\"403f8a21-0eaa-48cd-881e-1e2b3e49abea\")) {                    Plotly.newPlot(                        \"403f8a21-0eaa-48cd-881e-1e2b3e49abea\",                        [{\"hovertemplate\":\"x=%{x}<br>y=%{y}<extra></extra>\",\"legendgroup\":\"\",\"marker\":{\"color\":\"#636efa\",\"symbol\":\"circle\"},\"mode\":\"markers\",\"name\":\"\",\"orientation\":\"v\",\"showlegend\":false,\"x\":[10,20,25,30,31,32,33,34,35,36,37,38,39,40,50,100],\"xaxis\":\"x\",\"y\":[24409.995277777776,16196.992638888889,15376.376493055555,15076.420434027777,15063.191510416667,15018.498975694445,15025.079288194445,14979.194131944445,14957.639791666666,14938.445590277777,14910.660277777777,14888.263211805555,14880.04939236111,14869.611840277777,15000.571840277778,15696.84328125],\"yaxis\":\"y\",\"type\":\"scatter\"}],                        {\"template\":{\"data\":{\"bar\":[{\"error_x\":{\"color\":\"#2a3f5f\"},\"error_y\":{\"color\":\"#2a3f5f\"},\"marker\":{\"line\":{\"color\":\"#E5ECF6\",\"width\":0.5},\"pattern\":{\"fillmode\":\"overlay\",\"size\":10,\"solidity\":0.2}},\"type\":\"bar\"}],\"barpolar\":[{\"marker\":{\"line\":{\"color\":\"#E5ECF6\",\"width\":0.5},\"pattern\":{\"fillmode\":\"overlay\",\"size\":10,\"solidity\":0.2}},\"type\":\"barpolar\"}],\"carpet\":[{\"aaxis\":{\"endlinecolor\":\"#2a3f5f\",\"gridcolor\":\"white\",\"linecolor\":\"white\",\"minorgridcolor\":\"white\",\"startlinecolor\":\"#2a3f5f\"},\"baxis\":{\"endlinecolor\":\"#2a3f5f\",\"gridcolor\":\"white\",\"linecolor\":\"white\",\"minorgridcolor\":\"white\",\"startlinecolor\":\"#2a3f5f\"},\"type\":\"carpet\"}],\"choropleth\":[{\"colorbar\":{\"outlinewidth\":0,\"ticks\":\"\"},\"type\":\"choropleth\"}],\"contour\":[{\"colorbar\":{\"outlinewidth\":0,\"ticks\":\"\"},\"colorscale\":[[0.0,\"#0d0887\"],[0.1111111111111111,\"#46039f\"],[0.2222222222222222,\"#7201a8\"],[0.3333333333333333,\"#9c179e\"],[0.4444444444444444,\"#bd3786\"],[0.5555555555555556,\"#d8576b\"],[0.6666666666666666,\"#ed7953\"],[0.7777777777777778,\"#fb9f3a\"],[0.8888888888888888,\"#fdca26\"],[1.0,\"#f0f921\"]],\"type\":\"contour\"}],\"contourcarpet\":[{\"colorbar\":{\"outlinewidth\":0,\"ticks\":\"\"},\"type\":\"contourcarpet\"}],\"heatmap\":[{\"colorbar\":{\"outlinewidth\":0,\"ticks\":\"\"},\"colorscale\":[[0.0,\"#0d0887\"],[0.1111111111111111,\"#46039f\"],[0.2222222222222222,\"#7201a8\"],[0.3333333333333333,\"#9c179e\"],[0.4444444444444444,\"#bd3786\"],[0.5555555555555556,\"#d8576b\"],[0.6666666666666666,\"#ed7953\"],[0.7777777777777778,\"#fb9f3a\"],[0.8888888888888888,\"#fdca26\"],[1.0,\"#f0f921\"]],\"type\":\"heatmap\"}],\"heatmapgl\":[{\"colorbar\":{\"outlinewidth\":0,\"ticks\":\"\"},\"colorscale\":[[0.0,\"#0d0887\"],[0.1111111111111111,\"#46039f\"],[0.2222222222222222,\"#7201a8\"],[0.3333333333333333,\"#9c179e\"],[0.4444444444444444,\"#bd3786\"],[0.5555555555555556,\"#d8576b\"],[0.6666666666666666,\"#ed7953\"],[0.7777777777777778,\"#fb9f3a\"],[0.8888888888888888,\"#fdca26\"],[1.0,\"#f0f921\"]],\"type\":\"heatmapgl\"}],\"histogram\":[{\"marker\":{\"pattern\":{\"fillmode\":\"overlay\",\"size\":10,\"solidity\":0.2}},\"type\":\"histogram\"}],\"histogram2d\":[{\"colorbar\":{\"outlinewidth\":0,\"ticks\":\"\"},\"colorscale\":[[0.0,\"#0d0887\"],[0.1111111111111111,\"#46039f\"],[0.2222222222222222,\"#7201a8\"],[0.3333333333333333,\"#9c179e\"],[0.4444444444444444,\"#bd3786\"],[0.5555555555555556,\"#d8576b\"],[0.6666666666666666,\"#ed7953\"],[0.7777777777777778,\"#fb9f3a\"],[0.8888888888888888,\"#fdca26\"],[1.0,\"#f0f921\"]],\"type\":\"histogram2d\"}],\"histogram2dcontour\":[{\"colorbar\":{\"outlinewidth\":0,\"ticks\":\"\"},\"colorscale\":[[0.0,\"#0d0887\"],[0.1111111111111111,\"#46039f\"],[0.2222222222222222,\"#7201a8\"],[0.3333333333333333,\"#9c179e\"],[0.4444444444444444,\"#bd3786\"],[0.5555555555555556,\"#d8576b\"],[0.6666666666666666,\"#ed7953\"],[0.7777777777777778,\"#fb9f3a\"],[0.8888888888888888,\"#fdca26\"],[1.0,\"#f0f921\"]],\"type\":\"histogram2dcontour\"}],\"mesh3d\":[{\"colorbar\":{\"outlinewidth\":0,\"ticks\":\"\"},\"type\":\"mesh3d\"}],\"parcoords\":[{\"line\":{\"colorbar\":{\"outlinewidth\":0,\"ticks\":\"\"}},\"type\":\"parcoords\"}],\"pie\":[{\"automargin\":true,\"type\":\"pie\"}],\"scatter\":[{\"marker\":{\"colorbar\":{\"outlinewidth\":0,\"ticks\":\"\"}},\"type\":\"scatter\"}],\"scatter3d\":[{\"line\":{\"colorbar\":{\"outlinewidth\":0,\"ticks\":\"\"}},\"marker\":{\"colorbar\":{\"outlinewidth\":0,\"ticks\":\"\"}},\"type\":\"scatter3d\"}],\"scattercarpet\":[{\"marker\":{\"colorbar\":{\"outlinewidth\":0,\"ticks\":\"\"}},\"type\":\"scattercarpet\"}],\"scattergeo\":[{\"marker\":{\"colorbar\":{\"outlinewidth\":0,\"ticks\":\"\"}},\"type\":\"scattergeo\"}],\"scattergl\":[{\"marker\":{\"colorbar\":{\"outlinewidth\":0,\"ticks\":\"\"}},\"type\":\"scattergl\"}],\"scattermapbox\":[{\"marker\":{\"colorbar\":{\"outlinewidth\":0,\"ticks\":\"\"}},\"type\":\"scattermapbox\"}],\"scatterpolar\":[{\"marker\":{\"colorbar\":{\"outlinewidth\":0,\"ticks\":\"\"}},\"type\":\"scatterpolar\"}],\"scatterpolargl\":[{\"marker\":{\"colorbar\":{\"outlinewidth\":0,\"ticks\":\"\"}},\"type\":\"scatterpolargl\"}],\"scatterternary\":[{\"marker\":{\"colorbar\":{\"outlinewidth\":0,\"ticks\":\"\"}},\"type\":\"scatterternary\"}],\"surface\":[{\"colorbar\":{\"outlinewidth\":0,\"ticks\":\"\"},\"colorscale\":[[0.0,\"#0d0887\"],[0.1111111111111111,\"#46039f\"],[0.2222222222222222,\"#7201a8\"],[0.3333333333333333,\"#9c179e\"],[0.4444444444444444,\"#bd3786\"],[0.5555555555555556,\"#d8576b\"],[0.6666666666666666,\"#ed7953\"],[0.7777777777777778,\"#fb9f3a\"],[0.8888888888888888,\"#fdca26\"],[1.0,\"#f0f921\"]],\"type\":\"surface\"}],\"table\":[{\"cells\":{\"fill\":{\"color\":\"#EBF0F8\"},\"line\":{\"color\":\"white\"}},\"header\":{\"fill\":{\"color\":\"#C8D4E3\"},\"line\":{\"color\":\"white\"}},\"type\":\"table\"}]},\"layout\":{\"annotationdefaults\":{\"arrowcolor\":\"#2a3f5f\",\"arrowhead\":0,\"arrowwidth\":1},\"autotypenumbers\":\"strict\",\"coloraxis\":{\"colorbar\":{\"outlinewidth\":0,\"ticks\":\"\"}},\"colorscale\":{\"diverging\":[[0,\"#8e0152\"],[0.1,\"#c51b7d\"],[0.2,\"#de77ae\"],[0.3,\"#f1b6da\"],[0.4,\"#fde0ef\"],[0.5,\"#f7f7f7\"],[0.6,\"#e6f5d0\"],[0.7,\"#b8e186\"],[0.8,\"#7fbc41\"],[0.9,\"#4d9221\"],[1,\"#276419\"]],\"sequential\":[[0.0,\"#0d0887\"],[0.1111111111111111,\"#46039f\"],[0.2222222222222222,\"#7201a8\"],[0.3333333333333333,\"#9c179e\"],[0.4444444444444444,\"#bd3786\"],[0.5555555555555556,\"#d8576b\"],[0.6666666666666666,\"#ed7953\"],[0.7777777777777778,\"#fb9f3a\"],[0.8888888888888888,\"#fdca26\"],[1.0,\"#f0f921\"]],\"sequentialminus\":[[0.0,\"#0d0887\"],[0.1111111111111111,\"#46039f\"],[0.2222222222222222,\"#7201a8\"],[0.3333333333333333,\"#9c179e\"],[0.4444444444444444,\"#bd3786\"],[0.5555555555555556,\"#d8576b\"],[0.6666666666666666,\"#ed7953\"],[0.7777777777777778,\"#fb9f3a\"],[0.8888888888888888,\"#fdca26\"],[1.0,\"#f0f921\"]]},\"colorway\":[\"#636efa\",\"#EF553B\",\"#00cc96\",\"#ab63fa\",\"#FFA15A\",\"#19d3f3\",\"#FF6692\",\"#B6E880\",\"#FF97FF\",\"#FECB52\"],\"font\":{\"color\":\"#2a3f5f\"},\"geo\":{\"bgcolor\":\"white\",\"lakecolor\":\"white\",\"landcolor\":\"#E5ECF6\",\"showlakes\":true,\"showland\":true,\"subunitcolor\":\"white\"},\"hoverlabel\":{\"align\":\"left\"},\"hovermode\":\"closest\",\"mapbox\":{\"style\":\"light\"},\"paper_bgcolor\":\"white\",\"plot_bgcolor\":\"#E5ECF6\",\"polar\":{\"angularaxis\":{\"gridcolor\":\"white\",\"linecolor\":\"white\",\"ticks\":\"\"},\"bgcolor\":\"#E5ECF6\",\"radialaxis\":{\"gridcolor\":\"white\",\"linecolor\":\"white\",\"ticks\":\"\"}},\"scene\":{\"xaxis\":{\"backgroundcolor\":\"#E5ECF6\",\"gridcolor\":\"white\",\"gridwidth\":2,\"linecolor\":\"white\",\"showbackground\":true,\"ticks\":\"\",\"zerolinecolor\":\"white\"},\"yaxis\":{\"backgroundcolor\":\"#E5ECF6\",\"gridcolor\":\"white\",\"gridwidth\":2,\"linecolor\":\"white\",\"showbackground\":true,\"ticks\":\"\",\"zerolinecolor\":\"white\"},\"zaxis\":{\"backgroundcolor\":\"#E5ECF6\",\"gridcolor\":\"white\",\"gridwidth\":2,\"linecolor\":\"white\",\"showbackground\":true,\"ticks\":\"\",\"zerolinecolor\":\"white\"}},\"shapedefaults\":{\"line\":{\"color\":\"#2a3f5f\"}},\"ternary\":{\"aaxis\":{\"gridcolor\":\"white\",\"linecolor\":\"white\",\"ticks\":\"\"},\"baxis\":{\"gridcolor\":\"white\",\"linecolor\":\"white\",\"ticks\":\"\"},\"bgcolor\":\"#E5ECF6\",\"caxis\":{\"gridcolor\":\"white\",\"linecolor\":\"white\",\"ticks\":\"\"}},\"title\":{\"x\":0.05},\"xaxis\":{\"automargin\":true,\"gridcolor\":\"white\",\"linecolor\":\"white\",\"ticks\":\"\",\"title\":{\"standoff\":15},\"zerolinecolor\":\"white\",\"zerolinewidth\":2},\"yaxis\":{\"automargin\":true,\"gridcolor\":\"white\",\"linecolor\":\"white\",\"ticks\":\"\",\"title\":{\"standoff\":15},\"zerolinecolor\":\"white\",\"zerolinewidth\":2}}},\"xaxis\":{\"anchor\":\"y\",\"domain\":[0.0,1.0],\"title\":{\"text\":\"x\"}},\"yaxis\":{\"anchor\":\"x\",\"domain\":[0.0,1.0],\"title\":{\"text\":\"y\"}},\"legend\":{\"tracegroupgap\":0},\"margin\":{\"t\":60}},                        {\"responsive\": true}                    ).then(function(){\n                            \nvar gd = document.getElementById('403f8a21-0eaa-48cd-881e-1e2b3e49abea');\nvar x = new MutationObserver(function (mutations, observer) {{\n        var display = window.getComputedStyle(gd).display;\n        if (!display || display === 'none') {{\n            console.log([gd, 'removed!']);\n            Plotly.purge(gd);\n            observer.disconnect();\n        }}\n}});\n\n// Listen for the removal of the full notebook cells\nvar notebookContainer = gd.closest('#notebook-container');\nif (notebookContainer) {{\n    x.observe(notebookContainer, {childList: true});\n}}\n\n// Listen for the clearing of the current output cell\nvar outputEl = gd.closest('.output');\nif (outputEl) {{\n    x.observe(outputEl, {childList: true});\n}}\n\n                        })                };                            </script>        </div>\n</body>\n</html>"
     },
     "execution_count": 80,
     "metadata": {
     },
     "output_type": "execute_result"
    }
   ],
   "source": [
    "## grid search: method you get the optimal point for the regression.\n",
    "\n",
    "List_estimators = [10, 20, 25, 30, 31, 32, 33, 34, 35, 36, 37, 38, 39, 40, 50, 100]\n",
    "List_mae = []\n",
    "\n",
    "for n in List_estimators:\n",
    "    data_dmatrix = xgb.DMatrix(data=x_train_rm,label=y_train_rm)\n",
    "    xg_reg = xgb.XGBRegressor(objective ='reg:squarederror', colsample_bytree = 0.3, learning_rate = 0.1,\n",
    "                    max_depth = 10, alpha = 10, n_estimators = n)\n",
    "    xg_reg.fit(x_train_rm,y_train_rm)\n",
    "    preds = xg_reg.predict(x_test_rm)\n",
    "\n",
    "    List_mae.append(mae(preds, list(y_test_rm['Store_Sales'])))\n",
    "\n",
    "px.scatter(x = List_estimators, y = List_mae)"
   ]
  },
  {
   "cell_type": "code",
   "execution_count": 0,
   "metadata": {
    "collapsed": false
   },
   "outputs": [
   ],
   "source": [
   ]
  },
  {
   "cell_type": "code",
   "execution_count": 81,
   "metadata": {
    "collapsed": false
   },
   "outputs": [
   ],
   "source": [
    "## grid search: method you get the optimal point for the regression.\n",
    "\n",
    "List_learning_rate = [0.05, 0.075, 0.076, 0.077, 0.078, 0.079, 0.08, 0.081, 0.082, 0.083, 0.084, 0.085, 0.09, .1, 0.11, 0.12, 0.13, 0.14, 0.15, 0.16, 0.17, 0.18, 0.19, 0.2, 0.5]\n",
    "List_mae = []\n",
    "\n",
    "for l in List_learning_rate:\n",
    "    data_dmatrix = xgb.DMatrix(data=x_train_rm,label=y_train_rm)\n",
    "    xg_reg = xgb.XGBRegressor(objective ='reg:squarederror', colsample_bytree = 0.3, learning_rate = l,\n",
    "                    max_depth = 10, alpha = 10, n_estimators = 40)\n",
    "    xg_reg.fit(x_train_rm,y_train_rm)\n",
    "    preds = xg_reg.predict(x_test_rm)\n",
    "\n",
    "    List_mae.append(mae(preds, list(y_test_rm['Store_Sales'])))"
   ]
  },
  {
   "cell_type": "code",
   "execution_count": 82,
   "metadata": {
    "collapsed": false
   },
   "outputs": [
    {
     "data": {
      "text/html": "<html>\n<head><meta charset=\"utf-8\" /></head>\n<body>\n    <div>            <script src=\"https://cdnjs.cloudflare.com/ajax/libs/mathjax/2.7.5/MathJax.js?config=TeX-AMS-MML_SVG\"></script><script type=\"text/javascript\">if (window.MathJax) {MathJax.Hub.Config({SVG: {font: \"STIX-Web\"}});}</script>                <script type=\"text/javascript\">window.PlotlyConfig = {MathJaxConfig: 'local'};</script>\n        <script src=\"https://cdn.plot.ly/plotly-2.9.0.min.js\"></script>                <div id=\"992b195a-66ec-4934-9d20-d89bdf40c2c6\" class=\"plotly-graph-div\" style=\"height:525px; width:100%;\"></div>            <script type=\"text/javascript\">                                    window.PLOTLYENV=window.PLOTLYENV || {};                                    if (document.getElementById(\"992b195a-66ec-4934-9d20-d89bdf40c2c6\")) {                    Plotly.newPlot(                        \"992b195a-66ec-4934-9d20-d89bdf40c2c6\",                        [{\"hovertemplate\":\"x=%{x}<br>y=%{y}<extra></extra>\",\"legendgroup\":\"\",\"marker\":{\"color\":\"#636efa\",\"symbol\":\"circle\"},\"mode\":\"markers\",\"name\":\"\",\"orientation\":\"v\",\"showlegend\":false,\"x\":[0.05,0.075,0.076,0.077,0.078,0.079,0.08,0.081,0.082,0.083,0.084,0.085,0.09,0.1,0.11,0.12,0.13,0.14,0.15,0.16,0.17,0.18,0.19,0.2,0.5],\"xaxis\":\"x\",\"y\":[16512.596684027776,15295.196006944445,15128.353697916667,15119.2575,15092.336875,15216.180347222222,15043.271614583333,15103.725104166666,15119.10798611111,15091.657065972222,15147.32125,15039.050538194444,15084.860086805556,14869.611840277777,15013.9515625,15064.993611111111,14989.800069444444,15199.78236111111,15265.449913194445,15310.538697916667,15459.069956597223,15289.817604166667,15449.78982638889,15595.130520833334,16550.731163194443],\"yaxis\":\"y\",\"type\":\"scatter\"}],                        {\"template\":{\"data\":{\"bar\":[{\"error_x\":{\"color\":\"#2a3f5f\"},\"error_y\":{\"color\":\"#2a3f5f\"},\"marker\":{\"line\":{\"color\":\"#E5ECF6\",\"width\":0.5},\"pattern\":{\"fillmode\":\"overlay\",\"size\":10,\"solidity\":0.2}},\"type\":\"bar\"}],\"barpolar\":[{\"marker\":{\"line\":{\"color\":\"#E5ECF6\",\"width\":0.5},\"pattern\":{\"fillmode\":\"overlay\",\"size\":10,\"solidity\":0.2}},\"type\":\"barpolar\"}],\"carpet\":[{\"aaxis\":{\"endlinecolor\":\"#2a3f5f\",\"gridcolor\":\"white\",\"linecolor\":\"white\",\"minorgridcolor\":\"white\",\"startlinecolor\":\"#2a3f5f\"},\"baxis\":{\"endlinecolor\":\"#2a3f5f\",\"gridcolor\":\"white\",\"linecolor\":\"white\",\"minorgridcolor\":\"white\",\"startlinecolor\":\"#2a3f5f\"},\"type\":\"carpet\"}],\"choropleth\":[{\"colorbar\":{\"outlinewidth\":0,\"ticks\":\"\"},\"type\":\"choropleth\"}],\"contour\":[{\"colorbar\":{\"outlinewidth\":0,\"ticks\":\"\"},\"colorscale\":[[0.0,\"#0d0887\"],[0.1111111111111111,\"#46039f\"],[0.2222222222222222,\"#7201a8\"],[0.3333333333333333,\"#9c179e\"],[0.4444444444444444,\"#bd3786\"],[0.5555555555555556,\"#d8576b\"],[0.6666666666666666,\"#ed7953\"],[0.7777777777777778,\"#fb9f3a\"],[0.8888888888888888,\"#fdca26\"],[1.0,\"#f0f921\"]],\"type\":\"contour\"}],\"contourcarpet\":[{\"colorbar\":{\"outlinewidth\":0,\"ticks\":\"\"},\"type\":\"contourcarpet\"}],\"heatmap\":[{\"colorbar\":{\"outlinewidth\":0,\"ticks\":\"\"},\"colorscale\":[[0.0,\"#0d0887\"],[0.1111111111111111,\"#46039f\"],[0.2222222222222222,\"#7201a8\"],[0.3333333333333333,\"#9c179e\"],[0.4444444444444444,\"#bd3786\"],[0.5555555555555556,\"#d8576b\"],[0.6666666666666666,\"#ed7953\"],[0.7777777777777778,\"#fb9f3a\"],[0.8888888888888888,\"#fdca26\"],[1.0,\"#f0f921\"]],\"type\":\"heatmap\"}],\"heatmapgl\":[{\"colorbar\":{\"outlinewidth\":0,\"ticks\":\"\"},\"colorscale\":[[0.0,\"#0d0887\"],[0.1111111111111111,\"#46039f\"],[0.2222222222222222,\"#7201a8\"],[0.3333333333333333,\"#9c179e\"],[0.4444444444444444,\"#bd3786\"],[0.5555555555555556,\"#d8576b\"],[0.6666666666666666,\"#ed7953\"],[0.7777777777777778,\"#fb9f3a\"],[0.8888888888888888,\"#fdca26\"],[1.0,\"#f0f921\"]],\"type\":\"heatmapgl\"}],\"histogram\":[{\"marker\":{\"pattern\":{\"fillmode\":\"overlay\",\"size\":10,\"solidity\":0.2}},\"type\":\"histogram\"}],\"histogram2d\":[{\"colorbar\":{\"outlinewidth\":0,\"ticks\":\"\"},\"colorscale\":[[0.0,\"#0d0887\"],[0.1111111111111111,\"#46039f\"],[0.2222222222222222,\"#7201a8\"],[0.3333333333333333,\"#9c179e\"],[0.4444444444444444,\"#bd3786\"],[0.5555555555555556,\"#d8576b\"],[0.6666666666666666,\"#ed7953\"],[0.7777777777777778,\"#fb9f3a\"],[0.8888888888888888,\"#fdca26\"],[1.0,\"#f0f921\"]],\"type\":\"histogram2d\"}],\"histogram2dcontour\":[{\"colorbar\":{\"outlinewidth\":0,\"ticks\":\"\"},\"colorscale\":[[0.0,\"#0d0887\"],[0.1111111111111111,\"#46039f\"],[0.2222222222222222,\"#7201a8\"],[0.3333333333333333,\"#9c179e\"],[0.4444444444444444,\"#bd3786\"],[0.5555555555555556,\"#d8576b\"],[0.6666666666666666,\"#ed7953\"],[0.7777777777777778,\"#fb9f3a\"],[0.8888888888888888,\"#fdca26\"],[1.0,\"#f0f921\"]],\"type\":\"histogram2dcontour\"}],\"mesh3d\":[{\"colorbar\":{\"outlinewidth\":0,\"ticks\":\"\"},\"type\":\"mesh3d\"}],\"parcoords\":[{\"line\":{\"colorbar\":{\"outlinewidth\":0,\"ticks\":\"\"}},\"type\":\"parcoords\"}],\"pie\":[{\"automargin\":true,\"type\":\"pie\"}],\"scatter\":[{\"marker\":{\"colorbar\":{\"outlinewidth\":0,\"ticks\":\"\"}},\"type\":\"scatter\"}],\"scatter3d\":[{\"line\":{\"colorbar\":{\"outlinewidth\":0,\"ticks\":\"\"}},\"marker\":{\"colorbar\":{\"outlinewidth\":0,\"ticks\":\"\"}},\"type\":\"scatter3d\"}],\"scattercarpet\":[{\"marker\":{\"colorbar\":{\"outlinewidth\":0,\"ticks\":\"\"}},\"type\":\"scattercarpet\"}],\"scattergeo\":[{\"marker\":{\"colorbar\":{\"outlinewidth\":0,\"ticks\":\"\"}},\"type\":\"scattergeo\"}],\"scattergl\":[{\"marker\":{\"colorbar\":{\"outlinewidth\":0,\"ticks\":\"\"}},\"type\":\"scattergl\"}],\"scattermapbox\":[{\"marker\":{\"colorbar\":{\"outlinewidth\":0,\"ticks\":\"\"}},\"type\":\"scattermapbox\"}],\"scatterpolar\":[{\"marker\":{\"colorbar\":{\"outlinewidth\":0,\"ticks\":\"\"}},\"type\":\"scatterpolar\"}],\"scatterpolargl\":[{\"marker\":{\"colorbar\":{\"outlinewidth\":0,\"ticks\":\"\"}},\"type\":\"scatterpolargl\"}],\"scatterternary\":[{\"marker\":{\"colorbar\":{\"outlinewidth\":0,\"ticks\":\"\"}},\"type\":\"scatterternary\"}],\"surface\":[{\"colorbar\":{\"outlinewidth\":0,\"ticks\":\"\"},\"colorscale\":[[0.0,\"#0d0887\"],[0.1111111111111111,\"#46039f\"],[0.2222222222222222,\"#7201a8\"],[0.3333333333333333,\"#9c179e\"],[0.4444444444444444,\"#bd3786\"],[0.5555555555555556,\"#d8576b\"],[0.6666666666666666,\"#ed7953\"],[0.7777777777777778,\"#fb9f3a\"],[0.8888888888888888,\"#fdca26\"],[1.0,\"#f0f921\"]],\"type\":\"surface\"}],\"table\":[{\"cells\":{\"fill\":{\"color\":\"#EBF0F8\"},\"line\":{\"color\":\"white\"}},\"header\":{\"fill\":{\"color\":\"#C8D4E3\"},\"line\":{\"color\":\"white\"}},\"type\":\"table\"}]},\"layout\":{\"annotationdefaults\":{\"arrowcolor\":\"#2a3f5f\",\"arrowhead\":0,\"arrowwidth\":1},\"autotypenumbers\":\"strict\",\"coloraxis\":{\"colorbar\":{\"outlinewidth\":0,\"ticks\":\"\"}},\"colorscale\":{\"diverging\":[[0,\"#8e0152\"],[0.1,\"#c51b7d\"],[0.2,\"#de77ae\"],[0.3,\"#f1b6da\"],[0.4,\"#fde0ef\"],[0.5,\"#f7f7f7\"],[0.6,\"#e6f5d0\"],[0.7,\"#b8e186\"],[0.8,\"#7fbc41\"],[0.9,\"#4d9221\"],[1,\"#276419\"]],\"sequential\":[[0.0,\"#0d0887\"],[0.1111111111111111,\"#46039f\"],[0.2222222222222222,\"#7201a8\"],[0.3333333333333333,\"#9c179e\"],[0.4444444444444444,\"#bd3786\"],[0.5555555555555556,\"#d8576b\"],[0.6666666666666666,\"#ed7953\"],[0.7777777777777778,\"#fb9f3a\"],[0.8888888888888888,\"#fdca26\"],[1.0,\"#f0f921\"]],\"sequentialminus\":[[0.0,\"#0d0887\"],[0.1111111111111111,\"#46039f\"],[0.2222222222222222,\"#7201a8\"],[0.3333333333333333,\"#9c179e\"],[0.4444444444444444,\"#bd3786\"],[0.5555555555555556,\"#d8576b\"],[0.6666666666666666,\"#ed7953\"],[0.7777777777777778,\"#fb9f3a\"],[0.8888888888888888,\"#fdca26\"],[1.0,\"#f0f921\"]]},\"colorway\":[\"#636efa\",\"#EF553B\",\"#00cc96\",\"#ab63fa\",\"#FFA15A\",\"#19d3f3\",\"#FF6692\",\"#B6E880\",\"#FF97FF\",\"#FECB52\"],\"font\":{\"color\":\"#2a3f5f\"},\"geo\":{\"bgcolor\":\"white\",\"lakecolor\":\"white\",\"landcolor\":\"#E5ECF6\",\"showlakes\":true,\"showland\":true,\"subunitcolor\":\"white\"},\"hoverlabel\":{\"align\":\"left\"},\"hovermode\":\"closest\",\"mapbox\":{\"style\":\"light\"},\"paper_bgcolor\":\"white\",\"plot_bgcolor\":\"#E5ECF6\",\"polar\":{\"angularaxis\":{\"gridcolor\":\"white\",\"linecolor\":\"white\",\"ticks\":\"\"},\"bgcolor\":\"#E5ECF6\",\"radialaxis\":{\"gridcolor\":\"white\",\"linecolor\":\"white\",\"ticks\":\"\"}},\"scene\":{\"xaxis\":{\"backgroundcolor\":\"#E5ECF6\",\"gridcolor\":\"white\",\"gridwidth\":2,\"linecolor\":\"white\",\"showbackground\":true,\"ticks\":\"\",\"zerolinecolor\":\"white\"},\"yaxis\":{\"backgroundcolor\":\"#E5ECF6\",\"gridcolor\":\"white\",\"gridwidth\":2,\"linecolor\":\"white\",\"showbackground\":true,\"ticks\":\"\",\"zerolinecolor\":\"white\"},\"zaxis\":{\"backgroundcolor\":\"#E5ECF6\",\"gridcolor\":\"white\",\"gridwidth\":2,\"linecolor\":\"white\",\"showbackground\":true,\"ticks\":\"\",\"zerolinecolor\":\"white\"}},\"shapedefaults\":{\"line\":{\"color\":\"#2a3f5f\"}},\"ternary\":{\"aaxis\":{\"gridcolor\":\"white\",\"linecolor\":\"white\",\"ticks\":\"\"},\"baxis\":{\"gridcolor\":\"white\",\"linecolor\":\"white\",\"ticks\":\"\"},\"bgcolor\":\"#E5ECF6\",\"caxis\":{\"gridcolor\":\"white\",\"linecolor\":\"white\",\"ticks\":\"\"}},\"title\":{\"x\":0.05},\"xaxis\":{\"automargin\":true,\"gridcolor\":\"white\",\"linecolor\":\"white\",\"ticks\":\"\",\"title\":{\"standoff\":15},\"zerolinecolor\":\"white\",\"zerolinewidth\":2},\"yaxis\":{\"automargin\":true,\"gridcolor\":\"white\",\"linecolor\":\"white\",\"ticks\":\"\",\"title\":{\"standoff\":15},\"zerolinecolor\":\"white\",\"zerolinewidth\":2}}},\"xaxis\":{\"anchor\":\"y\",\"domain\":[0.0,1.0],\"title\":{\"text\":\"x\"}},\"yaxis\":{\"anchor\":\"x\",\"domain\":[0.0,1.0],\"title\":{\"text\":\"y\"}},\"legend\":{\"tracegroupgap\":0},\"margin\":{\"t\":60}},                        {\"responsive\": true}                    ).then(function(){\n                            \nvar gd = document.getElementById('992b195a-66ec-4934-9d20-d89bdf40c2c6');\nvar x = new MutationObserver(function (mutations, observer) {{\n        var display = window.getComputedStyle(gd).display;\n        if (!display || display === 'none') {{\n            console.log([gd, 'removed!']);\n            Plotly.purge(gd);\n            observer.disconnect();\n        }}\n}});\n\n// Listen for the removal of the full notebook cells\nvar notebookContainer = gd.closest('#notebook-container');\nif (notebookContainer) {{\n    x.observe(notebookContainer, {childList: true});\n}}\n\n// Listen for the clearing of the current output cell\nvar outputEl = gd.closest('.output');\nif (outputEl) {{\n    x.observe(outputEl, {childList: true});\n}}\n\n                        })                };                            </script>        </div>\n</body>\n</html>"
     },
     "execution_count": 82,
     "metadata": {
     },
     "output_type": "execute_result"
    }
   ],
   "source": [
    "px.scatter(x = List_learning_rate, y = List_mae)"
   ]
  },
  {
   "cell_type": "code",
   "execution_count": 83,
   "metadata": {
    "collapsed": false
   },
   "outputs": [
    {
     "data": {
      "text/html": "<html>\n<head><meta charset=\"utf-8\" /></head>\n<body>\n    <div>            <script src=\"https://cdnjs.cloudflare.com/ajax/libs/mathjax/2.7.5/MathJax.js?config=TeX-AMS-MML_SVG\"></script><script type=\"text/javascript\">if (window.MathJax) {MathJax.Hub.Config({SVG: {font: \"STIX-Web\"}});}</script>                <script type=\"text/javascript\">window.PlotlyConfig = {MathJaxConfig: 'local'};</script>\n        <script src=\"https://cdn.plot.ly/plotly-2.9.0.min.js\"></script>                <div id=\"d0958816-e371-46ea-8279-e03879452872\" class=\"plotly-graph-div\" style=\"height:525px; width:100%;\"></div>            <script type=\"text/javascript\">                                    window.PLOTLYENV=window.PLOTLYENV || {};                                    if (document.getElementById(\"d0958816-e371-46ea-8279-e03879452872\")) {                    Plotly.newPlot(                        \"d0958816-e371-46ea-8279-e03879452872\",                        [{\"hovertemplate\":\"x=%{x}<br>y=%{y}<extra></extra>\",\"legendgroup\":\"\",\"marker\":{\"color\":\"#636efa\",\"symbol\":\"circle\"},\"mode\":\"markers\",\"name\":\"\",\"orientation\":\"v\",\"showlegend\":false,\"x\":[1,5,10,15,20,30,40,50,60,70,80,90,100],\"xaxis\":\"x\",\"y\":[14681.54795138889,15039.734583333333,14989.800069444444,15469.359253472223,15695.360920138888,15851.04376736111,15911.032760416667,15910.182760416666,15910.182760416666,15910.182760416666,15910.182760416666,15910.182760416666,15910.182760416666],\"yaxis\":\"y\",\"type\":\"scatter\"}],                        {\"template\":{\"data\":{\"bar\":[{\"error_x\":{\"color\":\"#2a3f5f\"},\"error_y\":{\"color\":\"#2a3f5f\"},\"marker\":{\"line\":{\"color\":\"#E5ECF6\",\"width\":0.5},\"pattern\":{\"fillmode\":\"overlay\",\"size\":10,\"solidity\":0.2}},\"type\":\"bar\"}],\"barpolar\":[{\"marker\":{\"line\":{\"color\":\"#E5ECF6\",\"width\":0.5},\"pattern\":{\"fillmode\":\"overlay\",\"size\":10,\"solidity\":0.2}},\"type\":\"barpolar\"}],\"carpet\":[{\"aaxis\":{\"endlinecolor\":\"#2a3f5f\",\"gridcolor\":\"white\",\"linecolor\":\"white\",\"minorgridcolor\":\"white\",\"startlinecolor\":\"#2a3f5f\"},\"baxis\":{\"endlinecolor\":\"#2a3f5f\",\"gridcolor\":\"white\",\"linecolor\":\"white\",\"minorgridcolor\":\"white\",\"startlinecolor\":\"#2a3f5f\"},\"type\":\"carpet\"}],\"choropleth\":[{\"colorbar\":{\"outlinewidth\":0,\"ticks\":\"\"},\"type\":\"choropleth\"}],\"contour\":[{\"colorbar\":{\"outlinewidth\":0,\"ticks\":\"\"},\"colorscale\":[[0.0,\"#0d0887\"],[0.1111111111111111,\"#46039f\"],[0.2222222222222222,\"#7201a8\"],[0.3333333333333333,\"#9c179e\"],[0.4444444444444444,\"#bd3786\"],[0.5555555555555556,\"#d8576b\"],[0.6666666666666666,\"#ed7953\"],[0.7777777777777778,\"#fb9f3a\"],[0.8888888888888888,\"#fdca26\"],[1.0,\"#f0f921\"]],\"type\":\"contour\"}],\"contourcarpet\":[{\"colorbar\":{\"outlinewidth\":0,\"ticks\":\"\"},\"type\":\"contourcarpet\"}],\"heatmap\":[{\"colorbar\":{\"outlinewidth\":0,\"ticks\":\"\"},\"colorscale\":[[0.0,\"#0d0887\"],[0.1111111111111111,\"#46039f\"],[0.2222222222222222,\"#7201a8\"],[0.3333333333333333,\"#9c179e\"],[0.4444444444444444,\"#bd3786\"],[0.5555555555555556,\"#d8576b\"],[0.6666666666666666,\"#ed7953\"],[0.7777777777777778,\"#fb9f3a\"],[0.8888888888888888,\"#fdca26\"],[1.0,\"#f0f921\"]],\"type\":\"heatmap\"}],\"heatmapgl\":[{\"colorbar\":{\"outlinewidth\":0,\"ticks\":\"\"},\"colorscale\":[[0.0,\"#0d0887\"],[0.1111111111111111,\"#46039f\"],[0.2222222222222222,\"#7201a8\"],[0.3333333333333333,\"#9c179e\"],[0.4444444444444444,\"#bd3786\"],[0.5555555555555556,\"#d8576b\"],[0.6666666666666666,\"#ed7953\"],[0.7777777777777778,\"#fb9f3a\"],[0.8888888888888888,\"#fdca26\"],[1.0,\"#f0f921\"]],\"type\":\"heatmapgl\"}],\"histogram\":[{\"marker\":{\"pattern\":{\"fillmode\":\"overlay\",\"size\":10,\"solidity\":0.2}},\"type\":\"histogram\"}],\"histogram2d\":[{\"colorbar\":{\"outlinewidth\":0,\"ticks\":\"\"},\"colorscale\":[[0.0,\"#0d0887\"],[0.1111111111111111,\"#46039f\"],[0.2222222222222222,\"#7201a8\"],[0.3333333333333333,\"#9c179e\"],[0.4444444444444444,\"#bd3786\"],[0.5555555555555556,\"#d8576b\"],[0.6666666666666666,\"#ed7953\"],[0.7777777777777778,\"#fb9f3a\"],[0.8888888888888888,\"#fdca26\"],[1.0,\"#f0f921\"]],\"type\":\"histogram2d\"}],\"histogram2dcontour\":[{\"colorbar\":{\"outlinewidth\":0,\"ticks\":\"\"},\"colorscale\":[[0.0,\"#0d0887\"],[0.1111111111111111,\"#46039f\"],[0.2222222222222222,\"#7201a8\"],[0.3333333333333333,\"#9c179e\"],[0.4444444444444444,\"#bd3786\"],[0.5555555555555556,\"#d8576b\"],[0.6666666666666666,\"#ed7953\"],[0.7777777777777778,\"#fb9f3a\"],[0.8888888888888888,\"#fdca26\"],[1.0,\"#f0f921\"]],\"type\":\"histogram2dcontour\"}],\"mesh3d\":[{\"colorbar\":{\"outlinewidth\":0,\"ticks\":\"\"},\"type\":\"mesh3d\"}],\"parcoords\":[{\"line\":{\"colorbar\":{\"outlinewidth\":0,\"ticks\":\"\"}},\"type\":\"parcoords\"}],\"pie\":[{\"automargin\":true,\"type\":\"pie\"}],\"scatter\":[{\"marker\":{\"colorbar\":{\"outlinewidth\":0,\"ticks\":\"\"}},\"type\":\"scatter\"}],\"scatter3d\":[{\"line\":{\"colorbar\":{\"outlinewidth\":0,\"ticks\":\"\"}},\"marker\":{\"colorbar\":{\"outlinewidth\":0,\"ticks\":\"\"}},\"type\":\"scatter3d\"}],\"scattercarpet\":[{\"marker\":{\"colorbar\":{\"outlinewidth\":0,\"ticks\":\"\"}},\"type\":\"scattercarpet\"}],\"scattergeo\":[{\"marker\":{\"colorbar\":{\"outlinewidth\":0,\"ticks\":\"\"}},\"type\":\"scattergeo\"}],\"scattergl\":[{\"marker\":{\"colorbar\":{\"outlinewidth\":0,\"ticks\":\"\"}},\"type\":\"scattergl\"}],\"scattermapbox\":[{\"marker\":{\"colorbar\":{\"outlinewidth\":0,\"ticks\":\"\"}},\"type\":\"scattermapbox\"}],\"scatterpolar\":[{\"marker\":{\"colorbar\":{\"outlinewidth\":0,\"ticks\":\"\"}},\"type\":\"scatterpolar\"}],\"scatterpolargl\":[{\"marker\":{\"colorbar\":{\"outlinewidth\":0,\"ticks\":\"\"}},\"type\":\"scatterpolargl\"}],\"scatterternary\":[{\"marker\":{\"colorbar\":{\"outlinewidth\":0,\"ticks\":\"\"}},\"type\":\"scatterternary\"}],\"surface\":[{\"colorbar\":{\"outlinewidth\":0,\"ticks\":\"\"},\"colorscale\":[[0.0,\"#0d0887\"],[0.1111111111111111,\"#46039f\"],[0.2222222222222222,\"#7201a8\"],[0.3333333333333333,\"#9c179e\"],[0.4444444444444444,\"#bd3786\"],[0.5555555555555556,\"#d8576b\"],[0.6666666666666666,\"#ed7953\"],[0.7777777777777778,\"#fb9f3a\"],[0.8888888888888888,\"#fdca26\"],[1.0,\"#f0f921\"]],\"type\":\"surface\"}],\"table\":[{\"cells\":{\"fill\":{\"color\":\"#EBF0F8\"},\"line\":{\"color\":\"white\"}},\"header\":{\"fill\":{\"color\":\"#C8D4E3\"},\"line\":{\"color\":\"white\"}},\"type\":\"table\"}]},\"layout\":{\"annotationdefaults\":{\"arrowcolor\":\"#2a3f5f\",\"arrowhead\":0,\"arrowwidth\":1},\"autotypenumbers\":\"strict\",\"coloraxis\":{\"colorbar\":{\"outlinewidth\":0,\"ticks\":\"\"}},\"colorscale\":{\"diverging\":[[0,\"#8e0152\"],[0.1,\"#c51b7d\"],[0.2,\"#de77ae\"],[0.3,\"#f1b6da\"],[0.4,\"#fde0ef\"],[0.5,\"#f7f7f7\"],[0.6,\"#e6f5d0\"],[0.7,\"#b8e186\"],[0.8,\"#7fbc41\"],[0.9,\"#4d9221\"],[1,\"#276419\"]],\"sequential\":[[0.0,\"#0d0887\"],[0.1111111111111111,\"#46039f\"],[0.2222222222222222,\"#7201a8\"],[0.3333333333333333,\"#9c179e\"],[0.4444444444444444,\"#bd3786\"],[0.5555555555555556,\"#d8576b\"],[0.6666666666666666,\"#ed7953\"],[0.7777777777777778,\"#fb9f3a\"],[0.8888888888888888,\"#fdca26\"],[1.0,\"#f0f921\"]],\"sequentialminus\":[[0.0,\"#0d0887\"],[0.1111111111111111,\"#46039f\"],[0.2222222222222222,\"#7201a8\"],[0.3333333333333333,\"#9c179e\"],[0.4444444444444444,\"#bd3786\"],[0.5555555555555556,\"#d8576b\"],[0.6666666666666666,\"#ed7953\"],[0.7777777777777778,\"#fb9f3a\"],[0.8888888888888888,\"#fdca26\"],[1.0,\"#f0f921\"]]},\"colorway\":[\"#636efa\",\"#EF553B\",\"#00cc96\",\"#ab63fa\",\"#FFA15A\",\"#19d3f3\",\"#FF6692\",\"#B6E880\",\"#FF97FF\",\"#FECB52\"],\"font\":{\"color\":\"#2a3f5f\"},\"geo\":{\"bgcolor\":\"white\",\"lakecolor\":\"white\",\"landcolor\":\"#E5ECF6\",\"showlakes\":true,\"showland\":true,\"subunitcolor\":\"white\"},\"hoverlabel\":{\"align\":\"left\"},\"hovermode\":\"closest\",\"mapbox\":{\"style\":\"light\"},\"paper_bgcolor\":\"white\",\"plot_bgcolor\":\"#E5ECF6\",\"polar\":{\"angularaxis\":{\"gridcolor\":\"white\",\"linecolor\":\"white\",\"ticks\":\"\"},\"bgcolor\":\"#E5ECF6\",\"radialaxis\":{\"gridcolor\":\"white\",\"linecolor\":\"white\",\"ticks\":\"\"}},\"scene\":{\"xaxis\":{\"backgroundcolor\":\"#E5ECF6\",\"gridcolor\":\"white\",\"gridwidth\":2,\"linecolor\":\"white\",\"showbackground\":true,\"ticks\":\"\",\"zerolinecolor\":\"white\"},\"yaxis\":{\"backgroundcolor\":\"#E5ECF6\",\"gridcolor\":\"white\",\"gridwidth\":2,\"linecolor\":\"white\",\"showbackground\":true,\"ticks\":\"\",\"zerolinecolor\":\"white\"},\"zaxis\":{\"backgroundcolor\":\"#E5ECF6\",\"gridcolor\":\"white\",\"gridwidth\":2,\"linecolor\":\"white\",\"showbackground\":true,\"ticks\":\"\",\"zerolinecolor\":\"white\"}},\"shapedefaults\":{\"line\":{\"color\":\"#2a3f5f\"}},\"ternary\":{\"aaxis\":{\"gridcolor\":\"white\",\"linecolor\":\"white\",\"ticks\":\"\"},\"baxis\":{\"gridcolor\":\"white\",\"linecolor\":\"white\",\"ticks\":\"\"},\"bgcolor\":\"#E5ECF6\",\"caxis\":{\"gridcolor\":\"white\",\"linecolor\":\"white\",\"ticks\":\"\"}},\"title\":{\"x\":0.05},\"xaxis\":{\"automargin\":true,\"gridcolor\":\"white\",\"linecolor\":\"white\",\"ticks\":\"\",\"title\":{\"standoff\":15},\"zerolinecolor\":\"white\",\"zerolinewidth\":2},\"yaxis\":{\"automargin\":true,\"gridcolor\":\"white\",\"linecolor\":\"white\",\"ticks\":\"\",\"title\":{\"standoff\":15},\"zerolinecolor\":\"white\",\"zerolinewidth\":2}}},\"xaxis\":{\"anchor\":\"y\",\"domain\":[0.0,1.0],\"title\":{\"text\":\"x\"}},\"yaxis\":{\"anchor\":\"x\",\"domain\":[0.0,1.0],\"title\":{\"text\":\"y\"}},\"legend\":{\"tracegroupgap\":0},\"margin\":{\"t\":60}},                        {\"responsive\": true}                    ).then(function(){\n                            \nvar gd = document.getElementById('d0958816-e371-46ea-8279-e03879452872');\nvar x = new MutationObserver(function (mutations, observer) {{\n        var display = window.getComputedStyle(gd).display;\n        if (!display || display === 'none') {{\n            console.log([gd, 'removed!']);\n            Plotly.purge(gd);\n            observer.disconnect();\n        }}\n}});\n\n// Listen for the removal of the full notebook cells\nvar notebookContainer = gd.closest('#notebook-container');\nif (notebookContainer) {{\n    x.observe(notebookContainer, {childList: true});\n}}\n\n// Listen for the clearing of the current output cell\nvar outputEl = gd.closest('.output');\nif (outputEl) {{\n    x.observe(outputEl, {childList: true});\n}}\n\n                        })                };                            </script>        </div>\n</body>\n</html>"
     },
     "execution_count": 83,
     "metadata": {
     },
     "output_type": "execute_result"
    }
   ],
   "source": [
    "List_max_depth = [1, 5, 10, 15, 20, 30, 40, 50, 60, 70, 80, 90, 100]\n",
    "List_mae = []\n",
    "\n",
    "for de in List_max_depth:\n",
    "    data_dmatrix = xgb.DMatrix(data=x_train_rm,label=y_train_rm)\n",
    "    xg_reg = xgb.XGBRegressor(objective ='reg:squarederror', colsample_bytree = 0.3, learning_rate = 0.13,\n",
    "                    max_depth = de, alpha = 10, n_estimators = 40)\n",
    "    xg_reg.fit(x_train_rm,y_train_rm)\n",
    "    preds = xg_reg.predict(x_test_rm)\n",
    "\n",
    "    List_mae.append(mae(preds, list(y_test_rm['Store_Sales'])))\n",
    "\n",
    "px.scatter(x=List_max_depth, y = List_mae)"
   ]
  },
  {
   "cell_type": "code",
   "execution_count": 84,
   "metadata": {
    "collapsed": false
   },
   "outputs": [
    {
     "data": {
      "text/html": "<html>\n<head><meta charset=\"utf-8\" /></head>\n<body>\n    <div>            <script src=\"https://cdnjs.cloudflare.com/ajax/libs/mathjax/2.7.5/MathJax.js?config=TeX-AMS-MML_SVG\"></script><script type=\"text/javascript\">if (window.MathJax) {MathJax.Hub.Config({SVG: {font: \"STIX-Web\"}});}</script>                <script type=\"text/javascript\">window.PlotlyConfig = {MathJaxConfig: 'local'};</script>\n        <script src=\"https://cdn.plot.ly/plotly-2.9.0.min.js\"></script>                <div id=\"09df6c40-48ff-4afb-b60e-5e3599bbd736\" class=\"plotly-graph-div\" style=\"height:525px; width:100%;\"></div>            <script type=\"text/javascript\">                                    window.PLOTLYENV=window.PLOTLYENV || {};                                    if (document.getElementById(\"09df6c40-48ff-4afb-b60e-5e3599bbd736\")) {                    Plotly.newPlot(                        \"09df6c40-48ff-4afb-b60e-5e3599bbd736\",                        [{\"hovertemplate\":\"x=%{x}<br>y=%{y}<extra></extra>\",\"legendgroup\":\"\",\"marker\":{\"color\":\"#636efa\",\"symbol\":\"circle\"},\"mode\":\"markers\",\"name\":\"\",\"orientation\":\"v\",\"showlegend\":false,\"x\":[0.1,0.2,0.3,0.4,0.5,0.6,0.7,0.8,0.9,1.0],\"xaxis\":\"x\",\"y\":[14516.761613175675,14516.761613175675,14516.761613175675,14533.123192039697,14512.871001372467,14512.871001372467,14513.057326858108,14513.057326858108,14511.320959142737,14510.230521537162],\"yaxis\":\"y\",\"type\":\"scatter\"}],                        {\"template\":{\"data\":{\"bar\":[{\"error_x\":{\"color\":\"#2a3f5f\"},\"error_y\":{\"color\":\"#2a3f5f\"},\"marker\":{\"line\":{\"color\":\"#E5ECF6\",\"width\":0.5},\"pattern\":{\"fillmode\":\"overlay\",\"size\":10,\"solidity\":0.2}},\"type\":\"bar\"}],\"barpolar\":[{\"marker\":{\"line\":{\"color\":\"#E5ECF6\",\"width\":0.5},\"pattern\":{\"fillmode\":\"overlay\",\"size\":10,\"solidity\":0.2}},\"type\":\"barpolar\"}],\"carpet\":[{\"aaxis\":{\"endlinecolor\":\"#2a3f5f\",\"gridcolor\":\"white\",\"linecolor\":\"white\",\"minorgridcolor\":\"white\",\"startlinecolor\":\"#2a3f5f\"},\"baxis\":{\"endlinecolor\":\"#2a3f5f\",\"gridcolor\":\"white\",\"linecolor\":\"white\",\"minorgridcolor\":\"white\",\"startlinecolor\":\"#2a3f5f\"},\"type\":\"carpet\"}],\"choropleth\":[{\"colorbar\":{\"outlinewidth\":0,\"ticks\":\"\"},\"type\":\"choropleth\"}],\"contour\":[{\"colorbar\":{\"outlinewidth\":0,\"ticks\":\"\"},\"colorscale\":[[0.0,\"#0d0887\"],[0.1111111111111111,\"#46039f\"],[0.2222222222222222,\"#7201a8\"],[0.3333333333333333,\"#9c179e\"],[0.4444444444444444,\"#bd3786\"],[0.5555555555555556,\"#d8576b\"],[0.6666666666666666,\"#ed7953\"],[0.7777777777777778,\"#fb9f3a\"],[0.8888888888888888,\"#fdca26\"],[1.0,\"#f0f921\"]],\"type\":\"contour\"}],\"contourcarpet\":[{\"colorbar\":{\"outlinewidth\":0,\"ticks\":\"\"},\"type\":\"contourcarpet\"}],\"heatmap\":[{\"colorbar\":{\"outlinewidth\":0,\"ticks\":\"\"},\"colorscale\":[[0.0,\"#0d0887\"],[0.1111111111111111,\"#46039f\"],[0.2222222222222222,\"#7201a8\"],[0.3333333333333333,\"#9c179e\"],[0.4444444444444444,\"#bd3786\"],[0.5555555555555556,\"#d8576b\"],[0.6666666666666666,\"#ed7953\"],[0.7777777777777778,\"#fb9f3a\"],[0.8888888888888888,\"#fdca26\"],[1.0,\"#f0f921\"]],\"type\":\"heatmap\"}],\"heatmapgl\":[{\"colorbar\":{\"outlinewidth\":0,\"ticks\":\"\"},\"colorscale\":[[0.0,\"#0d0887\"],[0.1111111111111111,\"#46039f\"],[0.2222222222222222,\"#7201a8\"],[0.3333333333333333,\"#9c179e\"],[0.4444444444444444,\"#bd3786\"],[0.5555555555555556,\"#d8576b\"],[0.6666666666666666,\"#ed7953\"],[0.7777777777777778,\"#fb9f3a\"],[0.8888888888888888,\"#fdca26\"],[1.0,\"#f0f921\"]],\"type\":\"heatmapgl\"}],\"histogram\":[{\"marker\":{\"pattern\":{\"fillmode\":\"overlay\",\"size\":10,\"solidity\":0.2}},\"type\":\"histogram\"}],\"histogram2d\":[{\"colorbar\":{\"outlinewidth\":0,\"ticks\":\"\"},\"colorscale\":[[0.0,\"#0d0887\"],[0.1111111111111111,\"#46039f\"],[0.2222222222222222,\"#7201a8\"],[0.3333333333333333,\"#9c179e\"],[0.4444444444444444,\"#bd3786\"],[0.5555555555555556,\"#d8576b\"],[0.6666666666666666,\"#ed7953\"],[0.7777777777777778,\"#fb9f3a\"],[0.8888888888888888,\"#fdca26\"],[1.0,\"#f0f921\"]],\"type\":\"histogram2d\"}],\"histogram2dcontour\":[{\"colorbar\":{\"outlinewidth\":0,\"ticks\":\"\"},\"colorscale\":[[0.0,\"#0d0887\"],[0.1111111111111111,\"#46039f\"],[0.2222222222222222,\"#7201a8\"],[0.3333333333333333,\"#9c179e\"],[0.4444444444444444,\"#bd3786\"],[0.5555555555555556,\"#d8576b\"],[0.6666666666666666,\"#ed7953\"],[0.7777777777777778,\"#fb9f3a\"],[0.8888888888888888,\"#fdca26\"],[1.0,\"#f0f921\"]],\"type\":\"histogram2dcontour\"}],\"mesh3d\":[{\"colorbar\":{\"outlinewidth\":0,\"ticks\":\"\"},\"type\":\"mesh3d\"}],\"parcoords\":[{\"line\":{\"colorbar\":{\"outlinewidth\":0,\"ticks\":\"\"}},\"type\":\"parcoords\"}],\"pie\":[{\"automargin\":true,\"type\":\"pie\"}],\"scatter\":[{\"marker\":{\"colorbar\":{\"outlinewidth\":0,\"ticks\":\"\"}},\"type\":\"scatter\"}],\"scatter3d\":[{\"line\":{\"colorbar\":{\"outlinewidth\":0,\"ticks\":\"\"}},\"marker\":{\"colorbar\":{\"outlinewidth\":0,\"ticks\":\"\"}},\"type\":\"scatter3d\"}],\"scattercarpet\":[{\"marker\":{\"colorbar\":{\"outlinewidth\":0,\"ticks\":\"\"}},\"type\":\"scattercarpet\"}],\"scattergeo\":[{\"marker\":{\"colorbar\":{\"outlinewidth\":0,\"ticks\":\"\"}},\"type\":\"scattergeo\"}],\"scattergl\":[{\"marker\":{\"colorbar\":{\"outlinewidth\":0,\"ticks\":\"\"}},\"type\":\"scattergl\"}],\"scattermapbox\":[{\"marker\":{\"colorbar\":{\"outlinewidth\":0,\"ticks\":\"\"}},\"type\":\"scattermapbox\"}],\"scatterpolar\":[{\"marker\":{\"colorbar\":{\"outlinewidth\":0,\"ticks\":\"\"}},\"type\":\"scatterpolar\"}],\"scatterpolargl\":[{\"marker\":{\"colorbar\":{\"outlinewidth\":0,\"ticks\":\"\"}},\"type\":\"scatterpolargl\"}],\"scatterternary\":[{\"marker\":{\"colorbar\":{\"outlinewidth\":0,\"ticks\":\"\"}},\"type\":\"scatterternary\"}],\"surface\":[{\"colorbar\":{\"outlinewidth\":0,\"ticks\":\"\"},\"colorscale\":[[0.0,\"#0d0887\"],[0.1111111111111111,\"#46039f\"],[0.2222222222222222,\"#7201a8\"],[0.3333333333333333,\"#9c179e\"],[0.4444444444444444,\"#bd3786\"],[0.5555555555555556,\"#d8576b\"],[0.6666666666666666,\"#ed7953\"],[0.7777777777777778,\"#fb9f3a\"],[0.8888888888888888,\"#fdca26\"],[1.0,\"#f0f921\"]],\"type\":\"surface\"}],\"table\":[{\"cells\":{\"fill\":{\"color\":\"#EBF0F8\"},\"line\":{\"color\":\"white\"}},\"header\":{\"fill\":{\"color\":\"#C8D4E3\"},\"line\":{\"color\":\"white\"}},\"type\":\"table\"}]},\"layout\":{\"annotationdefaults\":{\"arrowcolor\":\"#2a3f5f\",\"arrowhead\":0,\"arrowwidth\":1},\"autotypenumbers\":\"strict\",\"coloraxis\":{\"colorbar\":{\"outlinewidth\":0,\"ticks\":\"\"}},\"colorscale\":{\"diverging\":[[0,\"#8e0152\"],[0.1,\"#c51b7d\"],[0.2,\"#de77ae\"],[0.3,\"#f1b6da\"],[0.4,\"#fde0ef\"],[0.5,\"#f7f7f7\"],[0.6,\"#e6f5d0\"],[0.7,\"#b8e186\"],[0.8,\"#7fbc41\"],[0.9,\"#4d9221\"],[1,\"#276419\"]],\"sequential\":[[0.0,\"#0d0887\"],[0.1111111111111111,\"#46039f\"],[0.2222222222222222,\"#7201a8\"],[0.3333333333333333,\"#9c179e\"],[0.4444444444444444,\"#bd3786\"],[0.5555555555555556,\"#d8576b\"],[0.6666666666666666,\"#ed7953\"],[0.7777777777777778,\"#fb9f3a\"],[0.8888888888888888,\"#fdca26\"],[1.0,\"#f0f921\"]],\"sequentialminus\":[[0.0,\"#0d0887\"],[0.1111111111111111,\"#46039f\"],[0.2222222222222222,\"#7201a8\"],[0.3333333333333333,\"#9c179e\"],[0.4444444444444444,\"#bd3786\"],[0.5555555555555556,\"#d8576b\"],[0.6666666666666666,\"#ed7953\"],[0.7777777777777778,\"#fb9f3a\"],[0.8888888888888888,\"#fdca26\"],[1.0,\"#f0f921\"]]},\"colorway\":[\"#636efa\",\"#EF553B\",\"#00cc96\",\"#ab63fa\",\"#FFA15A\",\"#19d3f3\",\"#FF6692\",\"#B6E880\",\"#FF97FF\",\"#FECB52\"],\"font\":{\"color\":\"#2a3f5f\"},\"geo\":{\"bgcolor\":\"white\",\"lakecolor\":\"white\",\"landcolor\":\"#E5ECF6\",\"showlakes\":true,\"showland\":true,\"subunitcolor\":\"white\"},\"hoverlabel\":{\"align\":\"left\"},\"hovermode\":\"closest\",\"mapbox\":{\"style\":\"light\"},\"paper_bgcolor\":\"white\",\"plot_bgcolor\":\"#E5ECF6\",\"polar\":{\"angularaxis\":{\"gridcolor\":\"white\",\"linecolor\":\"white\",\"ticks\":\"\"},\"bgcolor\":\"#E5ECF6\",\"radialaxis\":{\"gridcolor\":\"white\",\"linecolor\":\"white\",\"ticks\":\"\"}},\"scene\":{\"xaxis\":{\"backgroundcolor\":\"#E5ECF6\",\"gridcolor\":\"white\",\"gridwidth\":2,\"linecolor\":\"white\",\"showbackground\":true,\"ticks\":\"\",\"zerolinecolor\":\"white\"},\"yaxis\":{\"backgroundcolor\":\"#E5ECF6\",\"gridcolor\":\"white\",\"gridwidth\":2,\"linecolor\":\"white\",\"showbackground\":true,\"ticks\":\"\",\"zerolinecolor\":\"white\"},\"zaxis\":{\"backgroundcolor\":\"#E5ECF6\",\"gridcolor\":\"white\",\"gridwidth\":2,\"linecolor\":\"white\",\"showbackground\":true,\"ticks\":\"\",\"zerolinecolor\":\"white\"}},\"shapedefaults\":{\"line\":{\"color\":\"#2a3f5f\"}},\"ternary\":{\"aaxis\":{\"gridcolor\":\"white\",\"linecolor\":\"white\",\"ticks\":\"\"},\"baxis\":{\"gridcolor\":\"white\",\"linecolor\":\"white\",\"ticks\":\"\"},\"bgcolor\":\"#E5ECF6\",\"caxis\":{\"gridcolor\":\"white\",\"linecolor\":\"white\",\"ticks\":\"\"}},\"title\":{\"x\":0.05},\"xaxis\":{\"automargin\":true,\"gridcolor\":\"white\",\"linecolor\":\"white\",\"ticks\":\"\",\"title\":{\"standoff\":15},\"zerolinecolor\":\"white\",\"zerolinewidth\":2},\"yaxis\":{\"automargin\":true,\"gridcolor\":\"white\",\"linecolor\":\"white\",\"ticks\":\"\",\"title\":{\"standoff\":15},\"zerolinecolor\":\"white\",\"zerolinewidth\":2}}},\"xaxis\":{\"anchor\":\"y\",\"domain\":[0.0,1.0],\"title\":{\"text\":\"x\"}},\"yaxis\":{\"anchor\":\"x\",\"domain\":[0.0,1.0],\"title\":{\"text\":\"y\"}},\"legend\":{\"tracegroupgap\":0},\"margin\":{\"t\":60}},                        {\"responsive\": true}                    ).then(function(){\n                            \nvar gd = document.getElementById('09df6c40-48ff-4afb-b60e-5e3599bbd736');\nvar x = new MutationObserver(function (mutations, observer) {{\n        var display = window.getComputedStyle(gd).display;\n        if (!display || display === 'none') {{\n            console.log([gd, 'removed!']);\n            Plotly.purge(gd);\n            observer.disconnect();\n        }}\n}});\n\n// Listen for the removal of the full notebook cells\nvar notebookContainer = gd.closest('#notebook-container');\nif (notebookContainer) {{\n    x.observe(notebookContainer, {childList: true});\n}}\n\n// Listen for the clearing of the current output cell\nvar outputEl = gd.closest('.output');\nif (outputEl) {{\n    x.observe(outputEl, {childList: true});\n}}\n\n                        })                };                            </script>        </div>\n</body>\n</html>"
     },
     "execution_count": 84,
     "metadata": {
     },
     "output_type": "execute_result"
    }
   ],
   "source": [
    "List_colsample_bytree = [0.1, 0.2, 0.3, 0.4, 0.5, 0.6, 0.7, 0.8, 0.9, 1]\n",
    "List_mae = []\n",
    "\n",
    "for c in List_colsample_bytree:\n",
    "    data_dmatrix = xgb.DMatrix(data=x_train_zt,label=y_train_zt)\n",
    "    xg_reg = xgb.XGBRegressor(objective ='reg:squarederror', colsample_bytree = c, learning_rate = 0.13,\n",
    "                    max_depth = 1, alpha = 10, n_estimators = 32)\n",
    "    xg_reg.fit(x_train_zt,y_train_zt)\n",
    "    preds = xg_reg.predict(x_test_zt)\n",
    "\n",
    "    List_mae.append(mae(preds, list(y_test_zt['Store_Sales'])))\n",
    "    \n",
    "px.scatter(x=List_colsample_bytree, y = List_mae)"
   ]
  },
  {
   "cell_type": "code",
   "execution_count": 85,
   "metadata": {
    "collapsed": false
   },
   "outputs": [
    {
     "data": {
      "text/html": "<html>\n<head><meta charset=\"utf-8\" /></head>\n<body>\n    <div>            <script src=\"https://cdnjs.cloudflare.com/ajax/libs/mathjax/2.7.5/MathJax.js?config=TeX-AMS-MML_SVG\"></script><script type=\"text/javascript\">if (window.MathJax) {MathJax.Hub.Config({SVG: {font: \"STIX-Web\"}});}</script>                <script type=\"text/javascript\">window.PlotlyConfig = {MathJaxConfig: 'local'};</script>\n        <script src=\"https://cdn.plot.ly/plotly-2.9.0.min.js\"></script>                <div id=\"7a8fe3eb-8ee6-4ef0-ae13-4852a6c1124f\" class=\"plotly-graph-div\" style=\"height:525px; width:100%;\"></div>            <script type=\"text/javascript\">                                    window.PLOTLYENV=window.PLOTLYENV || {};                                    if (document.getElementById(\"7a8fe3eb-8ee6-4ef0-ae13-4852a6c1124f\")) {                    Plotly.newPlot(                        \"7a8fe3eb-8ee6-4ef0-ae13-4852a6c1124f\",                        [{\"hovertemplate\":\"x=%{x}<br>y=%{y}<extra></extra>\",\"legendgroup\":\"\",\"marker\":{\"color\":\"#636efa\",\"symbol\":\"circle\"},\"mode\":\"markers\",\"name\":\"\",\"orientation\":\"v\",\"showlegend\":false,\"x\":[1e-06,1.0,5.0,10.0,20.0,30.0,40.0,50.0,75.0,90.0,91.0,92.0,93.0,94.0,95.0,99.0,100.0,120.0,140.0,160.0,180.0,200.0,500.0],\"xaxis\":\"x\",\"y\":[14699.733315972222,14699.733350694445,14699.736180555556,14699.738125,14699.743524305555,14699.748125,14699.753333333334,14699.758663194445,14699.771336805556,14699.778697916667,14699.77921875,14699.77984375,14699.78046875,14699.781041666667,14699.781284722223,14699.783159722223,14699.783871527778,14699.79392361111,14699.804184027778,14699.814114583334,14699.824409722221,14699.834322916666,14699.640677083333],\"yaxis\":\"y\",\"type\":\"scatter\"}],                        {\"template\":{\"data\":{\"bar\":[{\"error_x\":{\"color\":\"#2a3f5f\"},\"error_y\":{\"color\":\"#2a3f5f\"},\"marker\":{\"line\":{\"color\":\"#E5ECF6\",\"width\":0.5},\"pattern\":{\"fillmode\":\"overlay\",\"size\":10,\"solidity\":0.2}},\"type\":\"bar\"}],\"barpolar\":[{\"marker\":{\"line\":{\"color\":\"#E5ECF6\",\"width\":0.5},\"pattern\":{\"fillmode\":\"overlay\",\"size\":10,\"solidity\":0.2}},\"type\":\"barpolar\"}],\"carpet\":[{\"aaxis\":{\"endlinecolor\":\"#2a3f5f\",\"gridcolor\":\"white\",\"linecolor\":\"white\",\"minorgridcolor\":\"white\",\"startlinecolor\":\"#2a3f5f\"},\"baxis\":{\"endlinecolor\":\"#2a3f5f\",\"gridcolor\":\"white\",\"linecolor\":\"white\",\"minorgridcolor\":\"white\",\"startlinecolor\":\"#2a3f5f\"},\"type\":\"carpet\"}],\"choropleth\":[{\"colorbar\":{\"outlinewidth\":0,\"ticks\":\"\"},\"type\":\"choropleth\"}],\"contour\":[{\"colorbar\":{\"outlinewidth\":0,\"ticks\":\"\"},\"colorscale\":[[0.0,\"#0d0887\"],[0.1111111111111111,\"#46039f\"],[0.2222222222222222,\"#7201a8\"],[0.3333333333333333,\"#9c179e\"],[0.4444444444444444,\"#bd3786\"],[0.5555555555555556,\"#d8576b\"],[0.6666666666666666,\"#ed7953\"],[0.7777777777777778,\"#fb9f3a\"],[0.8888888888888888,\"#fdca26\"],[1.0,\"#f0f921\"]],\"type\":\"contour\"}],\"contourcarpet\":[{\"colorbar\":{\"outlinewidth\":0,\"ticks\":\"\"},\"type\":\"contourcarpet\"}],\"heatmap\":[{\"colorbar\":{\"outlinewidth\":0,\"ticks\":\"\"},\"colorscale\":[[0.0,\"#0d0887\"],[0.1111111111111111,\"#46039f\"],[0.2222222222222222,\"#7201a8\"],[0.3333333333333333,\"#9c179e\"],[0.4444444444444444,\"#bd3786\"],[0.5555555555555556,\"#d8576b\"],[0.6666666666666666,\"#ed7953\"],[0.7777777777777778,\"#fb9f3a\"],[0.8888888888888888,\"#fdca26\"],[1.0,\"#f0f921\"]],\"type\":\"heatmap\"}],\"heatmapgl\":[{\"colorbar\":{\"outlinewidth\":0,\"ticks\":\"\"},\"colorscale\":[[0.0,\"#0d0887\"],[0.1111111111111111,\"#46039f\"],[0.2222222222222222,\"#7201a8\"],[0.3333333333333333,\"#9c179e\"],[0.4444444444444444,\"#bd3786\"],[0.5555555555555556,\"#d8576b\"],[0.6666666666666666,\"#ed7953\"],[0.7777777777777778,\"#fb9f3a\"],[0.8888888888888888,\"#fdca26\"],[1.0,\"#f0f921\"]],\"type\":\"heatmapgl\"}],\"histogram\":[{\"marker\":{\"pattern\":{\"fillmode\":\"overlay\",\"size\":10,\"solidity\":0.2}},\"type\":\"histogram\"}],\"histogram2d\":[{\"colorbar\":{\"outlinewidth\":0,\"ticks\":\"\"},\"colorscale\":[[0.0,\"#0d0887\"],[0.1111111111111111,\"#46039f\"],[0.2222222222222222,\"#7201a8\"],[0.3333333333333333,\"#9c179e\"],[0.4444444444444444,\"#bd3786\"],[0.5555555555555556,\"#d8576b\"],[0.6666666666666666,\"#ed7953\"],[0.7777777777777778,\"#fb9f3a\"],[0.8888888888888888,\"#fdca26\"],[1.0,\"#f0f921\"]],\"type\":\"histogram2d\"}],\"histogram2dcontour\":[{\"colorbar\":{\"outlinewidth\":0,\"ticks\":\"\"},\"colorscale\":[[0.0,\"#0d0887\"],[0.1111111111111111,\"#46039f\"],[0.2222222222222222,\"#7201a8\"],[0.3333333333333333,\"#9c179e\"],[0.4444444444444444,\"#bd3786\"],[0.5555555555555556,\"#d8576b\"],[0.6666666666666666,\"#ed7953\"],[0.7777777777777778,\"#fb9f3a\"],[0.8888888888888888,\"#fdca26\"],[1.0,\"#f0f921\"]],\"type\":\"histogram2dcontour\"}],\"mesh3d\":[{\"colorbar\":{\"outlinewidth\":0,\"ticks\":\"\"},\"type\":\"mesh3d\"}],\"parcoords\":[{\"line\":{\"colorbar\":{\"outlinewidth\":0,\"ticks\":\"\"}},\"type\":\"parcoords\"}],\"pie\":[{\"automargin\":true,\"type\":\"pie\"}],\"scatter\":[{\"marker\":{\"colorbar\":{\"outlinewidth\":0,\"ticks\":\"\"}},\"type\":\"scatter\"}],\"scatter3d\":[{\"line\":{\"colorbar\":{\"outlinewidth\":0,\"ticks\":\"\"}},\"marker\":{\"colorbar\":{\"outlinewidth\":0,\"ticks\":\"\"}},\"type\":\"scatter3d\"}],\"scattercarpet\":[{\"marker\":{\"colorbar\":{\"outlinewidth\":0,\"ticks\":\"\"}},\"type\":\"scattercarpet\"}],\"scattergeo\":[{\"marker\":{\"colorbar\":{\"outlinewidth\":0,\"ticks\":\"\"}},\"type\":\"scattergeo\"}],\"scattergl\":[{\"marker\":{\"colorbar\":{\"outlinewidth\":0,\"ticks\":\"\"}},\"type\":\"scattergl\"}],\"scattermapbox\":[{\"marker\":{\"colorbar\":{\"outlinewidth\":0,\"ticks\":\"\"}},\"type\":\"scattermapbox\"}],\"scatterpolar\":[{\"marker\":{\"colorbar\":{\"outlinewidth\":0,\"ticks\":\"\"}},\"type\":\"scatterpolar\"}],\"scatterpolargl\":[{\"marker\":{\"colorbar\":{\"outlinewidth\":0,\"ticks\":\"\"}},\"type\":\"scatterpolargl\"}],\"scatterternary\":[{\"marker\":{\"colorbar\":{\"outlinewidth\":0,\"ticks\":\"\"}},\"type\":\"scatterternary\"}],\"surface\":[{\"colorbar\":{\"outlinewidth\":0,\"ticks\":\"\"},\"colorscale\":[[0.0,\"#0d0887\"],[0.1111111111111111,\"#46039f\"],[0.2222222222222222,\"#7201a8\"],[0.3333333333333333,\"#9c179e\"],[0.4444444444444444,\"#bd3786\"],[0.5555555555555556,\"#d8576b\"],[0.6666666666666666,\"#ed7953\"],[0.7777777777777778,\"#fb9f3a\"],[0.8888888888888888,\"#fdca26\"],[1.0,\"#f0f921\"]],\"type\":\"surface\"}],\"table\":[{\"cells\":{\"fill\":{\"color\":\"#EBF0F8\"},\"line\":{\"color\":\"white\"}},\"header\":{\"fill\":{\"color\":\"#C8D4E3\"},\"line\":{\"color\":\"white\"}},\"type\":\"table\"}]},\"layout\":{\"annotationdefaults\":{\"arrowcolor\":\"#2a3f5f\",\"arrowhead\":0,\"arrowwidth\":1},\"autotypenumbers\":\"strict\",\"coloraxis\":{\"colorbar\":{\"outlinewidth\":0,\"ticks\":\"\"}},\"colorscale\":{\"diverging\":[[0,\"#8e0152\"],[0.1,\"#c51b7d\"],[0.2,\"#de77ae\"],[0.3,\"#f1b6da\"],[0.4,\"#fde0ef\"],[0.5,\"#f7f7f7\"],[0.6,\"#e6f5d0\"],[0.7,\"#b8e186\"],[0.8,\"#7fbc41\"],[0.9,\"#4d9221\"],[1,\"#276419\"]],\"sequential\":[[0.0,\"#0d0887\"],[0.1111111111111111,\"#46039f\"],[0.2222222222222222,\"#7201a8\"],[0.3333333333333333,\"#9c179e\"],[0.4444444444444444,\"#bd3786\"],[0.5555555555555556,\"#d8576b\"],[0.6666666666666666,\"#ed7953\"],[0.7777777777777778,\"#fb9f3a\"],[0.8888888888888888,\"#fdca26\"],[1.0,\"#f0f921\"]],\"sequentialminus\":[[0.0,\"#0d0887\"],[0.1111111111111111,\"#46039f\"],[0.2222222222222222,\"#7201a8\"],[0.3333333333333333,\"#9c179e\"],[0.4444444444444444,\"#bd3786\"],[0.5555555555555556,\"#d8576b\"],[0.6666666666666666,\"#ed7953\"],[0.7777777777777778,\"#fb9f3a\"],[0.8888888888888888,\"#fdca26\"],[1.0,\"#f0f921\"]]},\"colorway\":[\"#636efa\",\"#EF553B\",\"#00cc96\",\"#ab63fa\",\"#FFA15A\",\"#19d3f3\",\"#FF6692\",\"#B6E880\",\"#FF97FF\",\"#FECB52\"],\"font\":{\"color\":\"#2a3f5f\"},\"geo\":{\"bgcolor\":\"white\",\"lakecolor\":\"white\",\"landcolor\":\"#E5ECF6\",\"showlakes\":true,\"showland\":true,\"subunitcolor\":\"white\"},\"hoverlabel\":{\"align\":\"left\"},\"hovermode\":\"closest\",\"mapbox\":{\"style\":\"light\"},\"paper_bgcolor\":\"white\",\"plot_bgcolor\":\"#E5ECF6\",\"polar\":{\"angularaxis\":{\"gridcolor\":\"white\",\"linecolor\":\"white\",\"ticks\":\"\"},\"bgcolor\":\"#E5ECF6\",\"radialaxis\":{\"gridcolor\":\"white\",\"linecolor\":\"white\",\"ticks\":\"\"}},\"scene\":{\"xaxis\":{\"backgroundcolor\":\"#E5ECF6\",\"gridcolor\":\"white\",\"gridwidth\":2,\"linecolor\":\"white\",\"showbackground\":true,\"ticks\":\"\",\"zerolinecolor\":\"white\"},\"yaxis\":{\"backgroundcolor\":\"#E5ECF6\",\"gridcolor\":\"white\",\"gridwidth\":2,\"linecolor\":\"white\",\"showbackground\":true,\"ticks\":\"\",\"zerolinecolor\":\"white\"},\"zaxis\":{\"backgroundcolor\":\"#E5ECF6\",\"gridcolor\":\"white\",\"gridwidth\":2,\"linecolor\":\"white\",\"showbackground\":true,\"ticks\":\"\",\"zerolinecolor\":\"white\"}},\"shapedefaults\":{\"line\":{\"color\":\"#2a3f5f\"}},\"ternary\":{\"aaxis\":{\"gridcolor\":\"white\",\"linecolor\":\"white\",\"ticks\":\"\"},\"baxis\":{\"gridcolor\":\"white\",\"linecolor\":\"white\",\"ticks\":\"\"},\"bgcolor\":\"#E5ECF6\",\"caxis\":{\"gridcolor\":\"white\",\"linecolor\":\"white\",\"ticks\":\"\"}},\"title\":{\"x\":0.05},\"xaxis\":{\"automargin\":true,\"gridcolor\":\"white\",\"linecolor\":\"white\",\"ticks\":\"\",\"title\":{\"standoff\":15},\"zerolinecolor\":\"white\",\"zerolinewidth\":2},\"yaxis\":{\"automargin\":true,\"gridcolor\":\"white\",\"linecolor\":\"white\",\"ticks\":\"\",\"title\":{\"standoff\":15},\"zerolinecolor\":\"white\",\"zerolinewidth\":2}}},\"xaxis\":{\"anchor\":\"y\",\"domain\":[0.0,1.0],\"title\":{\"text\":\"x\"}},\"yaxis\":{\"anchor\":\"x\",\"domain\":[0.0,1.0],\"title\":{\"text\":\"y\"}},\"legend\":{\"tracegroupgap\":0},\"margin\":{\"t\":60}},                        {\"responsive\": true}                    ).then(function(){\n                            \nvar gd = document.getElementById('7a8fe3eb-8ee6-4ef0-ae13-4852a6c1124f');\nvar x = new MutationObserver(function (mutations, observer) {{\n        var display = window.getComputedStyle(gd).display;\n        if (!display || display === 'none') {{\n            console.log([gd, 'removed!']);\n            Plotly.purge(gd);\n            observer.disconnect();\n        }}\n}});\n\n// Listen for the removal of the full notebook cells\nvar notebookContainer = gd.closest('#notebook-container');\nif (notebookContainer) {{\n    x.observe(notebookContainer, {childList: true});\n}}\n\n// Listen for the clearing of the current output cell\nvar outputEl = gd.closest('.output');\nif (outputEl) {{\n    x.observe(outputEl, {childList: true});\n}}\n\n                        })                };                            </script>        </div>\n</body>\n</html>"
     },
     "execution_count": 85,
     "metadata": {
     },
     "output_type": "execute_result"
    }
   ],
   "source": [
    "List_alpha = [0.000001, 1, 5, 10, 20, 30, 40, 50, 75, 90, 91, 92, 93, 94, 95, 99, 100, 120, 140, 160, 180, 200, 500]\n",
    "List_mae = []\n",
    "\n",
    "for a in List_alpha:\n",
    "    data_dmatrix = xgb.DMatrix(data=x_train_rm,label=y_train_rm)\n",
    "    xg_reg = xgb.XGBRegressor(objective ='reg:squarederror', colsample_bytree = 1, learning_rate = 0.13,\n",
    "                    max_depth = 1, alpha = a, n_estimators = 40)\n",
    "    xg_reg.fit(x_train_rm,y_train_rm)\n",
    "    preds = xg_reg.predict(x_test_rm)\n",
    "\n",
    "    List_mae.append(mae(preds, list(y_test_rm['Store_Sales'])))\n",
    "\n",
    "px.scatter(x=List_alpha, y = List_mae)"
   ]
  },
  {
   "cell_type": "code",
   "execution_count": 86,
   "metadata": {
    "collapsed": false
   },
   "outputs": [
    {
     "data": {
      "text/plain": [
       "14510.275258657095"
      ]
     },
     "execution_count": 86,
     "metadata": {
     },
     "output_type": "execute_result"
    }
   ],
   "source": [
    "#Final XGBoost Model 2\n",
    "data_dmatrix = xgb.DMatrix(data=x_train_zt,label=y_train_zt)\n",
    "xg_reg = xgb.XGBRegressor(objective ='reg:squarederror', colsample_bytree = 1, learning_rate = 0.13,\n",
    "                max_depth = 1, alpha = 94, n_estimators = 32)\n",
    "xg_reg.fit(x_train_zt,y_train_zt)\n",
    "preds1 = xg_reg.predict(x_test_zt)\n",
    "\n",
    "#Mean absolute error\n",
    "mae(list(y_test['Store_Sales']),preds1)"
   ]
  },
  {
   "cell_type": "code",
   "execution_count": 87,
   "metadata": {
    "collapsed": false
   },
   "outputs": [
    {
     "data": {
      "text/plain": [
       "19106.32279079861"
      ]
     },
     "execution_count": 87,
     "metadata": {
     },
     "output_type": "execute_result"
    }
   ],
   "source": [
    "data_dmatrix = xgb.DMatrix(data=x_train_rm,label=x_train_rm)\n",
    "xg_reg = xgb.XGBRegressor(objective ='reg:squarederror', colsample_bytree = 0.75, learning_rate = 1.23,\n",
    "                max_depth = 3, alpha = 120, n_estimators = 250)\n",
    "xg_reg.fit(x_train_rm,y_train_rm)\n",
    "preds2 = xg_reg.predict(x_test_rm)\n",
    "\n",
    "#Mean absolute error\n",
    "mae_xgb = mae(list(y_test_rm['Store_Sales']),preds2)\n",
    "mae_xgb"
   ]
  },
  {
   "cell_type": "code",
   "execution_count": 88,
   "metadata": {
    "collapsed": false
   },
   "outputs": [
    {
     "data": {
      "text/html": "<html>\n<head><meta charset=\"utf-8\" /></head>\n<body>\n    <div>            <script src=\"https://cdnjs.cloudflare.com/ajax/libs/mathjax/2.7.5/MathJax.js?config=TeX-AMS-MML_SVG\"></script><script type=\"text/javascript\">if (window.MathJax) {MathJax.Hub.Config({SVG: {font: \"STIX-Web\"}});}</script>                <script type=\"text/javascript\">window.PlotlyConfig = {MathJaxConfig: 'local'};</script>\n        <script src=\"https://cdn.plot.ly/plotly-2.9.0.min.js\"></script>                <div id=\"09457491-d06f-48a4-9d7c-97ca38403a08\" class=\"plotly-graph-div\" style=\"height:525px; width:100%;\"></div>            <script type=\"text/javascript\">                                    window.PLOTLYENV=window.PLOTLYENV || {};                                    if (document.getElementById(\"09457491-d06f-48a4-9d7c-97ca38403a08\")) {                    Plotly.newPlot(                        \"09457491-d06f-48a4-9d7c-97ca38403a08\",                        [{\"hovertemplate\":\"x=%{x}<br>index=%{y}<extra></extra>\",\"legendgroup\":\"\",\"marker\":{\"color\":\"#636efa\",\"symbol\":\"circle\"},\"mode\":\"markers\",\"name\":\"\",\"orientation\":\"h\",\"showlegend\":false,\"x\":[56657.24609375,59345.95703125,81837.46875,44853.8203125,40366.78125,43906.05078125,41626.90234375,21360.267578125,46337.08203125,103057.4375,54481.63671875,64255.1875,65464.671875,52115.5234375,49830.34375,70151.9765625,78267.6796875,50421.16015625,90001.0625,68998.75,61327.4921875,88969.2265625,72651.390625,45070.27734375,73875.0234375,83656.5078125,52019.16015625,56178.953125,60265.65625,91367.7734375,44741.80078125,48124.41015625,89445.0234375,63935.234375,70611.25,11015.9814453125,47981.3359375,98088.6015625,24380.8203125,52577.8125,74096.9140625,65446.921875,41381.8125,63879.59765625,38147.14453125,61445.609375,68663.796875,45158.734375,75730.5859375,57644.03125,57272.21875,66453.578125,53078.99609375,45822.42578125,62945.94921875,41951.94140625,59715.59765625,67416.5625,64670.00390625,63478.26953125,52663.515625,56401.3203125,29565.947265625,58151.484375,36857.296875,59269.1640625,49894.33984375,92617.6875,45464.17578125,52615.59765625,47899.6953125,54160.76171875,57612.5625,45192.05859375,55080.6796875,52597.69140625,73556.5625,73907.3046875,67564.0390625,50717.7578125,69711.03125,102104.2734375,63294.9765625,87256.6953125,75586.8984375,55054.97265625,87271.0,91250.1015625,32259.1796875,71694.40625,31390.005859375,92026.390625,50505.15234375,89039.8125,38270.83984375,65468.72265625,61690.01171875,35811.83984375,56706.34375,68365.5234375,51761.9140625,52781.62890625,64632.84375,51660.25,76538.96875,74752.7265625,72926.6875,67682.1796875,65880.40625,54201.4140625,77222.515625,59435.859375,62082.9375,79627.7109375,80071.625,59903.8671875,69583.0,23380.53515625,44247.13671875,56643.00390625,67512.2109375,74496.7734375,88200.890625,37557.77734375,64966.90234375,75462.4765625,71367.71875,54382.18359375,59347.51953125,80856.2734375,32735.83984375,38016.796875,66837.71875,91733.21875,76128.6171875,53197.58203125,77695.46875,32172.4765625,81001.2421875,59367.24609375,70597.3203125,43159.40625,56283.05859375,75864.4921875,62890.65625,35938.0078125,48802.78515625,53410.29296875,95064.0390625,99561.34375,55580.76171875,52808.59765625,76947.234375,80425.921875,32587.267578125,19691.583984375,67276.9140625,53257.4296875,38863.97265625,41829.14453125,71295.734375,78434.6328125,66152.984375,71199.796875,45014.0703125,72007.671875,51690.171875,49406.18359375,83293.875,27222.310546875,56375.08203125,64269.14453125,32539.5859375,49663.3671875,72362.75,58623.484375,79466.1171875,53090.15234375,63903.23828125,62788.1328125,53039.58984375,68034.6015625,43117.3671875,57255.8203125,39797.8828125,81657.2734375,42134.46484375,49512.46875,48039.81640625,55725.1953125,79523.9609375,48648.9921875,47557.48046875,68652.71875,66831.453125,71226.375,70056.453125,57554.48828125,82862.96875,42236.890625,90685.5234375,67078.3203125,67795.3125,44451.14453125,79086.90625,35693.15625,74591.6640625,69547.7421875,56609.09375,62374.6953125,61909.984375,64238.375,50450.8984375,66152.984375,56360.6015625,40813.140625,55973.80078125,57155.8046875,64098.13671875,58548.75,44537.2421875,27049.6484375,50269.80859375,67844.34375,32924.1796875],\"xaxis\":\"x\",\"y\":[647,650,651,653,654,655,656,657,658,659,660,661,662,663,664,665,666,667,668,670,671,672,673,674,675,676,677,678,679,680,681,682,684,685,686,687,688,689,690,691,692,693,694,695,696,697,698,699,700,702,704,705,706,707,708,709,710,711,712,713,715,716,717,718,719,720,721,722,723,724,725,726,727,728,729,730,731,732,733,734,735,736,737,738,739,740,741,742,743,745,746,748,749,750,751,753,754,755,756,757,758,759,760,761,762,764,765,766,767,768,769,770,771,772,773,774,776,777,778,779,780,781,782,783,784,785,786,787,788,789,791,792,793,794,795,796,797,798,799,800,801,802,804,805,806,807,809,810,811,812,813,814,815,816,817,818,819,820,821,822,823,824,825,826,827,828,829,830,831,832,833,834,835,836,837,838,839,841,842,843,845,847,848,849,850,851,853,854,855,856,857,858,859,860,861,862,863,864,865,866,867,869,870,871,872,873,874,876,877,879,880,881,882,883,884,885,886,887,889,890,891,892,893,894,895],\"yaxis\":\"y\",\"type\":\"scatter\"}],                        {\"template\":{\"data\":{\"bar\":[{\"error_x\":{\"color\":\"#2a3f5f\"},\"error_y\":{\"color\":\"#2a3f5f\"},\"marker\":{\"line\":{\"color\":\"#E5ECF6\",\"width\":0.5},\"pattern\":{\"fillmode\":\"overlay\",\"size\":10,\"solidity\":0.2}},\"type\":\"bar\"}],\"barpolar\":[{\"marker\":{\"line\":{\"color\":\"#E5ECF6\",\"width\":0.5},\"pattern\":{\"fillmode\":\"overlay\",\"size\":10,\"solidity\":0.2}},\"type\":\"barpolar\"}],\"carpet\":[{\"aaxis\":{\"endlinecolor\":\"#2a3f5f\",\"gridcolor\":\"white\",\"linecolor\":\"white\",\"minorgridcolor\":\"white\",\"startlinecolor\":\"#2a3f5f\"},\"baxis\":{\"endlinecolor\":\"#2a3f5f\",\"gridcolor\":\"white\",\"linecolor\":\"white\",\"minorgridcolor\":\"white\",\"startlinecolor\":\"#2a3f5f\"},\"type\":\"carpet\"}],\"choropleth\":[{\"colorbar\":{\"outlinewidth\":0,\"ticks\":\"\"},\"type\":\"choropleth\"}],\"contour\":[{\"colorbar\":{\"outlinewidth\":0,\"ticks\":\"\"},\"colorscale\":[[0.0,\"#0d0887\"],[0.1111111111111111,\"#46039f\"],[0.2222222222222222,\"#7201a8\"],[0.3333333333333333,\"#9c179e\"],[0.4444444444444444,\"#bd3786\"],[0.5555555555555556,\"#d8576b\"],[0.6666666666666666,\"#ed7953\"],[0.7777777777777778,\"#fb9f3a\"],[0.8888888888888888,\"#fdca26\"],[1.0,\"#f0f921\"]],\"type\":\"contour\"}],\"contourcarpet\":[{\"colorbar\":{\"outlinewidth\":0,\"ticks\":\"\"},\"type\":\"contourcarpet\"}],\"heatmap\":[{\"colorbar\":{\"outlinewidth\":0,\"ticks\":\"\"},\"colorscale\":[[0.0,\"#0d0887\"],[0.1111111111111111,\"#46039f\"],[0.2222222222222222,\"#7201a8\"],[0.3333333333333333,\"#9c179e\"],[0.4444444444444444,\"#bd3786\"],[0.5555555555555556,\"#d8576b\"],[0.6666666666666666,\"#ed7953\"],[0.7777777777777778,\"#fb9f3a\"],[0.8888888888888888,\"#fdca26\"],[1.0,\"#f0f921\"]],\"type\":\"heatmap\"}],\"heatmapgl\":[{\"colorbar\":{\"outlinewidth\":0,\"ticks\":\"\"},\"colorscale\":[[0.0,\"#0d0887\"],[0.1111111111111111,\"#46039f\"],[0.2222222222222222,\"#7201a8\"],[0.3333333333333333,\"#9c179e\"],[0.4444444444444444,\"#bd3786\"],[0.5555555555555556,\"#d8576b\"],[0.6666666666666666,\"#ed7953\"],[0.7777777777777778,\"#fb9f3a\"],[0.8888888888888888,\"#fdca26\"],[1.0,\"#f0f921\"]],\"type\":\"heatmapgl\"}],\"histogram\":[{\"marker\":{\"pattern\":{\"fillmode\":\"overlay\",\"size\":10,\"solidity\":0.2}},\"type\":\"histogram\"}],\"histogram2d\":[{\"colorbar\":{\"outlinewidth\":0,\"ticks\":\"\"},\"colorscale\":[[0.0,\"#0d0887\"],[0.1111111111111111,\"#46039f\"],[0.2222222222222222,\"#7201a8\"],[0.3333333333333333,\"#9c179e\"],[0.4444444444444444,\"#bd3786\"],[0.5555555555555556,\"#d8576b\"],[0.6666666666666666,\"#ed7953\"],[0.7777777777777778,\"#fb9f3a\"],[0.8888888888888888,\"#fdca26\"],[1.0,\"#f0f921\"]],\"type\":\"histogram2d\"}],\"histogram2dcontour\":[{\"colorbar\":{\"outlinewidth\":0,\"ticks\":\"\"},\"colorscale\":[[0.0,\"#0d0887\"],[0.1111111111111111,\"#46039f\"],[0.2222222222222222,\"#7201a8\"],[0.3333333333333333,\"#9c179e\"],[0.4444444444444444,\"#bd3786\"],[0.5555555555555556,\"#d8576b\"],[0.6666666666666666,\"#ed7953\"],[0.7777777777777778,\"#fb9f3a\"],[0.8888888888888888,\"#fdca26\"],[1.0,\"#f0f921\"]],\"type\":\"histogram2dcontour\"}],\"mesh3d\":[{\"colorbar\":{\"outlinewidth\":0,\"ticks\":\"\"},\"type\":\"mesh3d\"}],\"parcoords\":[{\"line\":{\"colorbar\":{\"outlinewidth\":0,\"ticks\":\"\"}},\"type\":\"parcoords\"}],\"pie\":[{\"automargin\":true,\"type\":\"pie\"}],\"scatter\":[{\"marker\":{\"colorbar\":{\"outlinewidth\":0,\"ticks\":\"\"}},\"type\":\"scatter\"}],\"scatter3d\":[{\"line\":{\"colorbar\":{\"outlinewidth\":0,\"ticks\":\"\"}},\"marker\":{\"colorbar\":{\"outlinewidth\":0,\"ticks\":\"\"}},\"type\":\"scatter3d\"}],\"scattercarpet\":[{\"marker\":{\"colorbar\":{\"outlinewidth\":0,\"ticks\":\"\"}},\"type\":\"scattercarpet\"}],\"scattergeo\":[{\"marker\":{\"colorbar\":{\"outlinewidth\":0,\"ticks\":\"\"}},\"type\":\"scattergeo\"}],\"scattergl\":[{\"marker\":{\"colorbar\":{\"outlinewidth\":0,\"ticks\":\"\"}},\"type\":\"scattergl\"}],\"scattermapbox\":[{\"marker\":{\"colorbar\":{\"outlinewidth\":0,\"ticks\":\"\"}},\"type\":\"scattermapbox\"}],\"scatterpolar\":[{\"marker\":{\"colorbar\":{\"outlinewidth\":0,\"ticks\":\"\"}},\"type\":\"scatterpolar\"}],\"scatterpolargl\":[{\"marker\":{\"colorbar\":{\"outlinewidth\":0,\"ticks\":\"\"}},\"type\":\"scatterpolargl\"}],\"scatterternary\":[{\"marker\":{\"colorbar\":{\"outlinewidth\":0,\"ticks\":\"\"}},\"type\":\"scatterternary\"}],\"surface\":[{\"colorbar\":{\"outlinewidth\":0,\"ticks\":\"\"},\"colorscale\":[[0.0,\"#0d0887\"],[0.1111111111111111,\"#46039f\"],[0.2222222222222222,\"#7201a8\"],[0.3333333333333333,\"#9c179e\"],[0.4444444444444444,\"#bd3786\"],[0.5555555555555556,\"#d8576b\"],[0.6666666666666666,\"#ed7953\"],[0.7777777777777778,\"#fb9f3a\"],[0.8888888888888888,\"#fdca26\"],[1.0,\"#f0f921\"]],\"type\":\"surface\"}],\"table\":[{\"cells\":{\"fill\":{\"color\":\"#EBF0F8\"},\"line\":{\"color\":\"white\"}},\"header\":{\"fill\":{\"color\":\"#C8D4E3\"},\"line\":{\"color\":\"white\"}},\"type\":\"table\"}]},\"layout\":{\"annotationdefaults\":{\"arrowcolor\":\"#2a3f5f\",\"arrowhead\":0,\"arrowwidth\":1},\"autotypenumbers\":\"strict\",\"coloraxis\":{\"colorbar\":{\"outlinewidth\":0,\"ticks\":\"\"}},\"colorscale\":{\"diverging\":[[0,\"#8e0152\"],[0.1,\"#c51b7d\"],[0.2,\"#de77ae\"],[0.3,\"#f1b6da\"],[0.4,\"#fde0ef\"],[0.5,\"#f7f7f7\"],[0.6,\"#e6f5d0\"],[0.7,\"#b8e186\"],[0.8,\"#7fbc41\"],[0.9,\"#4d9221\"],[1,\"#276419\"]],\"sequential\":[[0.0,\"#0d0887\"],[0.1111111111111111,\"#46039f\"],[0.2222222222222222,\"#7201a8\"],[0.3333333333333333,\"#9c179e\"],[0.4444444444444444,\"#bd3786\"],[0.5555555555555556,\"#d8576b\"],[0.6666666666666666,\"#ed7953\"],[0.7777777777777778,\"#fb9f3a\"],[0.8888888888888888,\"#fdca26\"],[1.0,\"#f0f921\"]],\"sequentialminus\":[[0.0,\"#0d0887\"],[0.1111111111111111,\"#46039f\"],[0.2222222222222222,\"#7201a8\"],[0.3333333333333333,\"#9c179e\"],[0.4444444444444444,\"#bd3786\"],[0.5555555555555556,\"#d8576b\"],[0.6666666666666666,\"#ed7953\"],[0.7777777777777778,\"#fb9f3a\"],[0.8888888888888888,\"#fdca26\"],[1.0,\"#f0f921\"]]},\"colorway\":[\"#636efa\",\"#EF553B\",\"#00cc96\",\"#ab63fa\",\"#FFA15A\",\"#19d3f3\",\"#FF6692\",\"#B6E880\",\"#FF97FF\",\"#FECB52\"],\"font\":{\"color\":\"#2a3f5f\"},\"geo\":{\"bgcolor\":\"white\",\"lakecolor\":\"white\",\"landcolor\":\"#E5ECF6\",\"showlakes\":true,\"showland\":true,\"subunitcolor\":\"white\"},\"hoverlabel\":{\"align\":\"left\"},\"hovermode\":\"closest\",\"mapbox\":{\"style\":\"light\"},\"paper_bgcolor\":\"white\",\"plot_bgcolor\":\"#E5ECF6\",\"polar\":{\"angularaxis\":{\"gridcolor\":\"white\",\"linecolor\":\"white\",\"ticks\":\"\"},\"bgcolor\":\"#E5ECF6\",\"radialaxis\":{\"gridcolor\":\"white\",\"linecolor\":\"white\",\"ticks\":\"\"}},\"scene\":{\"xaxis\":{\"backgroundcolor\":\"#E5ECF6\",\"gridcolor\":\"white\",\"gridwidth\":2,\"linecolor\":\"white\",\"showbackground\":true,\"ticks\":\"\",\"zerolinecolor\":\"white\"},\"yaxis\":{\"backgroundcolor\":\"#E5ECF6\",\"gridcolor\":\"white\",\"gridwidth\":2,\"linecolor\":\"white\",\"showbackground\":true,\"ticks\":\"\",\"zerolinecolor\":\"white\"},\"zaxis\":{\"backgroundcolor\":\"#E5ECF6\",\"gridcolor\":\"white\",\"gridwidth\":2,\"linecolor\":\"white\",\"showbackground\":true,\"ticks\":\"\",\"zerolinecolor\":\"white\"}},\"shapedefaults\":{\"line\":{\"color\":\"#2a3f5f\"}},\"ternary\":{\"aaxis\":{\"gridcolor\":\"white\",\"linecolor\":\"white\",\"ticks\":\"\"},\"baxis\":{\"gridcolor\":\"white\",\"linecolor\":\"white\",\"ticks\":\"\"},\"bgcolor\":\"#E5ECF6\",\"caxis\":{\"gridcolor\":\"white\",\"linecolor\":\"white\",\"ticks\":\"\"}},\"title\":{\"x\":0.05},\"xaxis\":{\"automargin\":true,\"gridcolor\":\"white\",\"linecolor\":\"white\",\"ticks\":\"\",\"title\":{\"standoff\":15},\"zerolinecolor\":\"white\",\"zerolinewidth\":2},\"yaxis\":{\"automargin\":true,\"gridcolor\":\"white\",\"linecolor\":\"white\",\"ticks\":\"\",\"title\":{\"standoff\":15},\"zerolinecolor\":\"white\",\"zerolinewidth\":2}}},\"xaxis\":{\"anchor\":\"y\",\"domain\":[0.0,1.0],\"title\":{\"text\":\"x\"}},\"yaxis\":{\"anchor\":\"x\",\"domain\":[0.0,1.0],\"title\":{\"text\":\"index\"}},\"legend\":{\"tracegroupgap\":0},\"margin\":{\"t\":60}},                        {\"responsive\": true}                    ).then(function(){\n                            \nvar gd = document.getElementById('09457491-d06f-48a4-9d7c-97ca38403a08');\nvar x = new MutationObserver(function (mutations, observer) {{\n        var display = window.getComputedStyle(gd).display;\n        if (!display || display === 'none') {{\n            console.log([gd, 'removed!']);\n            Plotly.purge(gd);\n            observer.disconnect();\n        }}\n}});\n\n// Listen for the removal of the full notebook cells\nvar notebookContainer = gd.closest('#notebook-container');\nif (notebookContainer) {{\n    x.observe(notebookContainer, {childList: true});\n}}\n\n// Listen for the clearing of the current output cell\nvar outputEl = gd.closest('.output');\nif (outputEl) {{\n    x.observe(outputEl, {childList: true});\n}}\n\n                        })                };                            </script>        </div>\n</body>\n</html>"
     },
     "execution_count": 88,
     "metadata": {
     },
     "output_type": "execute_result"
    }
   ],
   "source": [
    "px.scatter(y_test_rm, preds2)"
   ]
  },
  {
   "cell_type": "code",
   "execution_count": 89,
   "metadata": {
    "collapsed": false
   },
   "outputs": [
    {
     "data": {
      "text/plain": [
       "103057.44"
      ]
     },
     "execution_count": 89,
     "metadata": {
     },
     "output_type": "execute_result"
    }
   ],
   "source": [
    "max(preds2)"
   ]
  },
  {
   "cell_type": "markdown",
   "metadata": {
    "collapsed": false
   },
   "source": [
    "### Gradient Boosting \\( Johanna \\)\n",
    "\n"
   ]
  },
  {
   "cell_type": "code",
   "execution_count": 90,
   "metadata": {
    "collapsed": false
   },
   "outputs": [
    {
     "name": "stdout",
     "output_type": "stream",
     "text": [
      "MAE for Gradient Boosting:  15198.755876893145\n"
     ]
    }
   ],
   "source": [
    "reg = GradientBoostingRegressor(n_estimators = 50,random_state=42)\n",
    "reg.fit(x_train_rm, y_train_rm['Store_Sales'])\n",
    "pred_gb = reg.predict(x_test_rm)\n",
    "mae_gb = mae(pred_gb, list(y_test_rm['Store_Sales']))\n",
    "print('MAE for Gradient Boosting: ',mae_gb)"
   ]
  },
  {
   "cell_type": "code",
   "execution_count": 91,
   "metadata": {
    "collapsed": false
   },
   "outputs": [
    {
     "data": {
      "text/plain": [
       "<matplotlib.collections.PathCollection at 0x7f2d91f3ae80>"
      ]
     },
     "execution_count": 91,
     "metadata": {
     },
     "output_type": "execute_result"
    },
    {
     "data": {
      "image/png": "[encoded data removed]",
      "text/plain": [
       "<Figure size 432x288 with 1 Axes>"
      ]
     },
     "execution_count": 91,
     "metadata": {
      "needs_background": "light"
     },
     "output_type": "execute_result"
    }
   ],
   "source": [
    "plt.scatter(pred_gb, list(y_test_rm['Store_Sales']))"
   ]
  },
  {
   "cell_type": "code",
   "execution_count": 92,
   "metadata": {
    "collapsed": false
   },
   "outputs": [
    {
     "name": "stdout",
     "output_type": "stream",
     "text": [
      "MAE for Gradient Boosting:  18513.89665499731\n"
     ]
    },
    {
     "data": {
      "text/html": "<html>\n<head><meta charset=\"utf-8\" /></head>\n<body>\n    <div>            <script src=\"https://cdnjs.cloudflare.com/ajax/libs/mathjax/2.7.5/MathJax.js?config=TeX-AMS-MML_SVG\"></script><script type=\"text/javascript\">if (window.MathJax) {MathJax.Hub.Config({SVG: {font: \"STIX-Web\"}});}</script>                <script type=\"text/javascript\">window.PlotlyConfig = {MathJaxConfig: 'local'};</script>\n        <script src=\"https://cdn.plot.ly/plotly-2.9.0.min.js\"></script>                <div id=\"ad15e283-2520-4553-a102-dee81b354cc2\" class=\"plotly-graph-div\" style=\"height:525px; width:100%;\"></div>            <script type=\"text/javascript\">                                    window.PLOTLYENV=window.PLOTLYENV || {};                                    if (document.getElementById(\"ad15e283-2520-4553-a102-dee81b354cc2\")) {                    Plotly.newPlot(                        \"ad15e283-2520-4553-a102-dee81b354cc2\",                        [{\"hovertemplate\":\"x=%{x}<br>y=%{y}<extra></extra>\",\"legendgroup\":\"\",\"marker\":{\"color\":\"#636efa\",\"symbol\":\"circle\"},\"mode\":\"markers\",\"name\":\"\",\"orientation\":\"v\",\"showlegend\":false,\"x\":[63042.06908595809,43744.25047092679,70428.18278964337,46568.2633093905,51343.722758290896,30652.68983908017,66290.74693502294,44495.67432123542,46358.79284237308,47263.6461478231,57982.44572073336,62412.52866533383,57712.509955705216,48436.26421523519,48095.30231008658,77902.7345606489,62362.59779635598,36319.061587256445,46756.45134717662,59074.12892126367,67729.93681477543,90767.29047584803,78606.50414418633,56141.18338262636,85938.40423230057,63009.43984691186,48389.94876004465,59909.17207069178,55455.818174276625,77114.38974505199,46569.1925264787,32941.9609799921,65610.80958110497,79628.07521425321,73306.18381759495,41670.91147234463,62731.34299045248,64298.771172210676,30909.63646440451,53022.3140148506,81349.3749062822,69014.13858340679,81644.97733307518,61318.78790528341,43841.96512925527,70519.92719912608,58972.65980651401,54705.823454075915,60854.27518602774,46534.96237874134,51676.58350638614,54222.01423471009,63397.677318323316,43576.132645521546,48009.20169048017,51543.40590693668,55849.98918560979,50743.24054415362,62786.09031435816,54878.0799370608,45568.07045889082,48756.50274989773,32566.10150863381,51253.51260136072,75090.010256328,65640.42997160525,64361.42423018332,43955.37220804285,41428.48591185152,42404.17154314225,46638.45283372561,52183.097150001035,54800.37605463633,42749.85165745096,50784.839528978,59917.912738812964,38104.81855131957,67461.82063114615,46218.85357607635,58184.91736303369,62458.70050751887,82913.07684269165,72366.98594454754,75136.63075880219,90961.86584232633,38432.3963594607,75021.00532829037,87531.17859432082,45771.34092364723,61466.42979567988,64733.354064297935,67755.51874607852,68013.788959139,53299.82865605094,38990.19543319616,62226.29736042931,61766.47479173398,42315.4072466298,48582.6063271641,56276.60689025169,59045.266578250805,37914.34908207391,78630.59238289272,80701.58112540797,15829.55115327194,68088.1120030843,74333.41255061147,79281.08695988935,73701.91171605719,56488.3806930088,66312.48029755602,80902.88100374647,69775.28611112256,60283.00254003881,63431.912449308234,64541.555653815914,56061.408822227015,60604.46875185709,50616.24435094988,79733.10508508087,67471.79771538996,81922.24028337079,17627.997734998935,58619.52971794349,52554.583525187656,38625.497675745544,78864.61575380631,62086.09889310257,42897.358615966,74905.6819581181,30166.949230409467,47521.309734531176,68809.87823473968,87512.225358392,70440.5590266669,60262.69240893398,76855.1765720735,34946.833886637105,61636.63065416158,62855.0258750609,79208.87999518459,38269.62164652953,72822.08766403091,76662.46210216345,61447.13031530433,43278.120388600175,50690.35283282592,49465.54435500206,59981.5527190585,77882.82913929057,52976.61293700214,52521.7779433754,80128.28589861191,75756.84626927461,36264.753476027654,66521.32703194986,55846.65263166753,53123.33069344202,45988.12270822257,70663.59501731556,55585.16607094615,82222.38038791511,47885.220509521074,50836.62702270188,36613.05916584632,42373.72650206636,42376.665771788284,43383.63971703302,53902.92725808707,36777.503562921345,50904.62874450711,64867.00685990605,50159.1591770244,68473.21318411538,81088.5728092204,53098.880510615614,61865.79556398243,56962.263192387225,77062.2413486596,64478.026958584225,52517.63870208695,62567.167929966396,51422.65956213425,65186.37467826196,42423.133736153475,91763.47737108258,14195.587833771984,50584.822983614,46377.71090921623,56940.9973059649,64876.802266470375,52757.398328953175,50237.18691387726,48338.5156925215,36033.72501495965,36860.50190966968,58648.081894926756,73957.303313896,88169.23108398517,54152.05019626925,62282.505629923435,60961.930471885964,59958.22119280881,49818.6085269096,72410.50933669004,22717.940510888653,61977.514177081604,55171.22496929018,69763.83613394981,83063.4303463384,43516.63571818478,41430.50455649795,69677.91693170342,48959.94112335815,55496.589189465725,40389.79640052459,22680.640000432406,70003.59555865433,73168.36156800372,46380.0272646613,67100.60361126388,46039.95731611538,72781.35631645676,101620.02582998227,52202.79206957632],\"xaxis\":\"x\",\"y\":[81870,57200,84360,81260,82350,80830,30610,51310,72940,52450,66070,43190,40730,78530,94690,44400,73800,37390,64120,22310,62380,63850,36210,54590,69610,65390,78130,55710,69210,59940,72550,44260,82390,54590,69990,72740,35360,94370,43520,36000,99480,83220,52940,93360,73590,53840,47350,65080,62050,49510,35590,63050,65300,69560,41910,28330,55980,61080,51380,84410,64690,45780,41800,53230,36160,40450,57910,36280,39190,62380,21470,34610,88120,59190,36290,53760,66300,93000,65660,81930,60060,59530,46380,76200,56860,86620,49730,88370,49160,38560,51990,46040,49500,76670,75800,58440,85720,70940,62420,56880,101820,86890,47300,31270,65410,67390,54530,79760,78060,74080,52990,70580,34310,74160,59190,43370,56710,59820,36190,60440,75300,74080,60440,80720,47060,86830,56790,67090,44370,82970,53760,55390,73500,41050,67320,65890,56380,85670,70830,48180,51910,44320,73610,54060,85000,49030,84300,81390,95900,71830,79310,87890,48610,73160,36280,49720,44400,47590,51460,57750,66000,45950,53900,37920,63100,36770,43910,66390,59160,38510,46220,41500,58160,38530,55880,70940,53940,59820,55500,49990,65970,63020,73810,70230,59950,78100,92640,63540,87220,41990,79410,54380,58600,48950,40670,52340,39140,41090,25600,100900,77080,80580,46230,98260,75930,52050,87000,88270,57820,76420,70980,76740,47920,52160,32740,72270,77430,92370,46580,70620,66390,82080,76440,96610,54340],\"yaxis\":\"y\",\"type\":\"scatter\"}],                        {\"template\":{\"data\":{\"bar\":[{\"error_x\":{\"color\":\"#2a3f5f\"},\"error_y\":{\"color\":\"#2a3f5f\"},\"marker\":{\"line\":{\"color\":\"#E5ECF6\",\"width\":0.5},\"pattern\":{\"fillmode\":\"overlay\",\"size\":10,\"solidity\":0.2}},\"type\":\"bar\"}],\"barpolar\":[{\"marker\":{\"line\":{\"color\":\"#E5ECF6\",\"width\":0.5},\"pattern\":{\"fillmode\":\"overlay\",\"size\":10,\"solidity\":0.2}},\"type\":\"barpolar\"}],\"carpet\":[{\"aaxis\":{\"endlinecolor\":\"#2a3f5f\",\"gridcolor\":\"white\",\"linecolor\":\"white\",\"minorgridcolor\":\"white\",\"startlinecolor\":\"#2a3f5f\"},\"baxis\":{\"endlinecolor\":\"#2a3f5f\",\"gridcolor\":\"white\",\"linecolor\":\"white\",\"minorgridcolor\":\"white\",\"startlinecolor\":\"#2a3f5f\"},\"type\":\"carpet\"}],\"choropleth\":[{\"colorbar\":{\"outlinewidth\":0,\"ticks\":\"\"},\"type\":\"choropleth\"}],\"contour\":[{\"colorbar\":{\"outlinewidth\":0,\"ticks\":\"\"},\"colorscale\":[[0.0,\"#0d0887\"],[0.1111111111111111,\"#46039f\"],[0.2222222222222222,\"#7201a8\"],[0.3333333333333333,\"#9c179e\"],[0.4444444444444444,\"#bd3786\"],[0.5555555555555556,\"#d8576b\"],[0.6666666666666666,\"#ed7953\"],[0.7777777777777778,\"#fb9f3a\"],[0.8888888888888888,\"#fdca26\"],[1.0,\"#f0f921\"]],\"type\":\"contour\"}],\"contourcarpet\":[{\"colorbar\":{\"outlinewidth\":0,\"ticks\":\"\"},\"type\":\"contourcarpet\"}],\"heatmap\":[{\"colorbar\":{\"outlinewidth\":0,\"ticks\":\"\"},\"colorscale\":[[0.0,\"#0d0887\"],[0.1111111111111111,\"#46039f\"],[0.2222222222222222,\"#7201a8\"],[0.3333333333333333,\"#9c179e\"],[0.4444444444444444,\"#bd3786\"],[0.5555555555555556,\"#d8576b\"],[0.6666666666666666,\"#ed7953\"],[0.7777777777777778,\"#fb9f3a\"],[0.8888888888888888,\"#fdca26\"],[1.0,\"#f0f921\"]],\"type\":\"heatmap\"}],\"heatmapgl\":[{\"colorbar\":{\"outlinewidth\":0,\"ticks\":\"\"},\"colorscale\":[[0.0,\"#0d0887\"],[0.1111111111111111,\"#46039f\"],[0.2222222222222222,\"#7201a8\"],[0.3333333333333333,\"#9c179e\"],[0.4444444444444444,\"#bd3786\"],[0.5555555555555556,\"#d8576b\"],[0.6666666666666666,\"#ed7953\"],[0.7777777777777778,\"#fb9f3a\"],[0.8888888888888888,\"#fdca26\"],[1.0,\"#f0f921\"]],\"type\":\"heatmapgl\"}],\"histogram\":[{\"marker\":{\"pattern\":{\"fillmode\":\"overlay\",\"size\":10,\"solidity\":0.2}},\"type\":\"histogram\"}],\"histogram2d\":[{\"colorbar\":{\"outlinewidth\":0,\"ticks\":\"\"},\"colorscale\":[[0.0,\"#0d0887\"],[0.1111111111111111,\"#46039f\"],[0.2222222222222222,\"#7201a8\"],[0.3333333333333333,\"#9c179e\"],[0.4444444444444444,\"#bd3786\"],[0.5555555555555556,\"#d8576b\"],[0.6666666666666666,\"#ed7953\"],[0.7777777777777778,\"#fb9f3a\"],[0.8888888888888888,\"#fdca26\"],[1.0,\"#f0f921\"]],\"type\":\"histogram2d\"}],\"histogram2dcontour\":[{\"colorbar\":{\"outlinewidth\":0,\"ticks\":\"\"},\"colorscale\":[[0.0,\"#0d0887\"],[0.1111111111111111,\"#46039f\"],[0.2222222222222222,\"#7201a8\"],[0.3333333333333333,\"#9c179e\"],[0.4444444444444444,\"#bd3786\"],[0.5555555555555556,\"#d8576b\"],[0.6666666666666666,\"#ed7953\"],[0.7777777777777778,\"#fb9f3a\"],[0.8888888888888888,\"#fdca26\"],[1.0,\"#f0f921\"]],\"type\":\"histogram2dcontour\"}],\"mesh3d\":[{\"colorbar\":{\"outlinewidth\":0,\"ticks\":\"\"},\"type\":\"mesh3d\"}],\"parcoords\":[{\"line\":{\"colorbar\":{\"outlinewidth\":0,\"ticks\":\"\"}},\"type\":\"parcoords\"}],\"pie\":[{\"automargin\":true,\"type\":\"pie\"}],\"scatter\":[{\"marker\":{\"colorbar\":{\"outlinewidth\":0,\"ticks\":\"\"}},\"type\":\"scatter\"}],\"scatter3d\":[{\"line\":{\"colorbar\":{\"outlinewidth\":0,\"ticks\":\"\"}},\"marker\":{\"colorbar\":{\"outlinewidth\":0,\"ticks\":\"\"}},\"type\":\"scatter3d\"}],\"scattercarpet\":[{\"marker\":{\"colorbar\":{\"outlinewidth\":0,\"ticks\":\"\"}},\"type\":\"scattercarpet\"}],\"scattergeo\":[{\"marker\":{\"colorbar\":{\"outlinewidth\":0,\"ticks\":\"\"}},\"type\":\"scattergeo\"}],\"scattergl\":[{\"marker\":{\"colorbar\":{\"outlinewidth\":0,\"ticks\":\"\"}},\"type\":\"scattergl\"}],\"scattermapbox\":[{\"marker\":{\"colorbar\":{\"outlinewidth\":0,\"ticks\":\"\"}},\"type\":\"scattermapbox\"}],\"scatterpolar\":[{\"marker\":{\"colorbar\":{\"outlinewidth\":0,\"ticks\":\"\"}},\"type\":\"scatterpolar\"}],\"scatterpolargl\":[{\"marker\":{\"colorbar\":{\"outlinewidth\":0,\"ticks\":\"\"}},\"type\":\"scatterpolargl\"}],\"scatterternary\":[{\"marker\":{\"colorbar\":{\"outlinewidth\":0,\"ticks\":\"\"}},\"type\":\"scatterternary\"}],\"surface\":[{\"colorbar\":{\"outlinewidth\":0,\"ticks\":\"\"},\"colorscale\":[[0.0,\"#0d0887\"],[0.1111111111111111,\"#46039f\"],[0.2222222222222222,\"#7201a8\"],[0.3333333333333333,\"#9c179e\"],[0.4444444444444444,\"#bd3786\"],[0.5555555555555556,\"#d8576b\"],[0.6666666666666666,\"#ed7953\"],[0.7777777777777778,\"#fb9f3a\"],[0.8888888888888888,\"#fdca26\"],[1.0,\"#f0f921\"]],\"type\":\"surface\"}],\"table\":[{\"cells\":{\"fill\":{\"color\":\"#EBF0F8\"},\"line\":{\"color\":\"white\"}},\"header\":{\"fill\":{\"color\":\"#C8D4E3\"},\"line\":{\"color\":\"white\"}},\"type\":\"table\"}]},\"layout\":{\"annotationdefaults\":{\"arrowcolor\":\"#2a3f5f\",\"arrowhead\":0,\"arrowwidth\":1},\"autotypenumbers\":\"strict\",\"coloraxis\":{\"colorbar\":{\"outlinewidth\":0,\"ticks\":\"\"}},\"colorscale\":{\"diverging\":[[0,\"#8e0152\"],[0.1,\"#c51b7d\"],[0.2,\"#de77ae\"],[0.3,\"#f1b6da\"],[0.4,\"#fde0ef\"],[0.5,\"#f7f7f7\"],[0.6,\"#e6f5d0\"],[0.7,\"#b8e186\"],[0.8,\"#7fbc41\"],[0.9,\"#4d9221\"],[1,\"#276419\"]],\"sequential\":[[0.0,\"#0d0887\"],[0.1111111111111111,\"#46039f\"],[0.2222222222222222,\"#7201a8\"],[0.3333333333333333,\"#9c179e\"],[0.4444444444444444,\"#bd3786\"],[0.5555555555555556,\"#d8576b\"],[0.6666666666666666,\"#ed7953\"],[0.7777777777777778,\"#fb9f3a\"],[0.8888888888888888,\"#fdca26\"],[1.0,\"#f0f921\"]],\"sequentialminus\":[[0.0,\"#0d0887\"],[0.1111111111111111,\"#46039f\"],[0.2222222222222222,\"#7201a8\"],[0.3333333333333333,\"#9c179e\"],[0.4444444444444444,\"#bd3786\"],[0.5555555555555556,\"#d8576b\"],[0.6666666666666666,\"#ed7953\"],[0.7777777777777778,\"#fb9f3a\"],[0.8888888888888888,\"#fdca26\"],[1.0,\"#f0f921\"]]},\"colorway\":[\"#636efa\",\"#EF553B\",\"#00cc96\",\"#ab63fa\",\"#FFA15A\",\"#19d3f3\",\"#FF6692\",\"#B6E880\",\"#FF97FF\",\"#FECB52\"],\"font\":{\"color\":\"#2a3f5f\"},\"geo\":{\"bgcolor\":\"white\",\"lakecolor\":\"white\",\"landcolor\":\"#E5ECF6\",\"showlakes\":true,\"showland\":true,\"subunitcolor\":\"white\"},\"hoverlabel\":{\"align\":\"left\"},\"hovermode\":\"closest\",\"mapbox\":{\"style\":\"light\"},\"paper_bgcolor\":\"white\",\"plot_bgcolor\":\"#E5ECF6\",\"polar\":{\"angularaxis\":{\"gridcolor\":\"white\",\"linecolor\":\"white\",\"ticks\":\"\"},\"bgcolor\":\"#E5ECF6\",\"radialaxis\":{\"gridcolor\":\"white\",\"linecolor\":\"white\",\"ticks\":\"\"}},\"scene\":{\"xaxis\":{\"backgroundcolor\":\"#E5ECF6\",\"gridcolor\":\"white\",\"gridwidth\":2,\"linecolor\":\"white\",\"showbackground\":true,\"ticks\":\"\",\"zerolinecolor\":\"white\"},\"yaxis\":{\"backgroundcolor\":\"#E5ECF6\",\"gridcolor\":\"white\",\"gridwidth\":2,\"linecolor\":\"white\",\"showbackground\":true,\"ticks\":\"\",\"zerolinecolor\":\"white\"},\"zaxis\":{\"backgroundcolor\":\"#E5ECF6\",\"gridcolor\":\"white\",\"gridwidth\":2,\"linecolor\":\"white\",\"showbackground\":true,\"ticks\":\"\",\"zerolinecolor\":\"white\"}},\"shapedefaults\":{\"line\":{\"color\":\"#2a3f5f\"}},\"ternary\":{\"aaxis\":{\"gridcolor\":\"white\",\"linecolor\":\"white\",\"ticks\":\"\"},\"baxis\":{\"gridcolor\":\"white\",\"linecolor\":\"white\",\"ticks\":\"\"},\"bgcolor\":\"#E5ECF6\",\"caxis\":{\"gridcolor\":\"white\",\"linecolor\":\"white\",\"ticks\":\"\"}},\"title\":{\"x\":0.05},\"xaxis\":{\"automargin\":true,\"gridcolor\":\"white\",\"linecolor\":\"white\",\"ticks\":\"\",\"title\":{\"standoff\":15},\"zerolinecolor\":\"white\",\"zerolinewidth\":2},\"yaxis\":{\"automargin\":true,\"gridcolor\":\"white\",\"linecolor\":\"white\",\"ticks\":\"\",\"title\":{\"standoff\":15},\"zerolinecolor\":\"white\",\"zerolinewidth\":2}}},\"xaxis\":{\"anchor\":\"y\",\"domain\":[0.0,1.0],\"title\":{\"text\":\"x\"}},\"yaxis\":{\"anchor\":\"x\",\"domain\":[0.0,1.0],\"title\":{\"text\":\"y\"}},\"legend\":{\"tracegroupgap\":0},\"margin\":{\"t\":60}},                        {\"responsive\": true}                    ).then(function(){\n                            \nvar gd = document.getElementById('ad15e283-2520-4553-a102-dee81b354cc2');\nvar x = new MutationObserver(function (mutations, observer) {{\n        var display = window.getComputedStyle(gd).display;\n        if (!display || display === 'none') {{\n            console.log([gd, 'removed!']);\n            Plotly.purge(gd);\n            observer.disconnect();\n        }}\n}});\n\n// Listen for the removal of the full notebook cells\nvar notebookContainer = gd.closest('#notebook-container');\nif (notebookContainer) {{\n    x.observe(notebookContainer, {childList: true});\n}}\n\n// Listen for the clearing of the current output cell\nvar outputEl = gd.closest('.output');\nif (outputEl) {{\n    x.observe(outputEl, {childList: true});\n}}\n\n                        })                };                            </script>        </div>\n</body>\n</html>"
     },
     "execution_count": 92,
     "metadata": {
     },
     "output_type": "execute_result"
    }
   ],
   "source": [
    "reg = GradientBoostingRegressor(min_samples_split = 4, max_depth = 100, subsample = 0.14, n_estimators = 1200, criterion = 'friedman_mse')\n",
    "reg.fit(x_train_rm, y_train_rm['Store_Sales'])\n",
    "pred_gb = reg.predict(x_test_rm)\n",
    "\n",
    "print('MAE for Gradient Boosting: ',mae(pred_gb, list(y_test_rm['Store_Sales'])))\n",
    "\n",
    "px.scatter(x = pred_gb, y = list(y_test_rm['Store_Sales']))"
   ]
  },
  {
   "cell_type": "markdown",
   "metadata": {
    "collapsed": false
   },
   "source": [
    "### SVM \\(Jen\\)\n",
    "\n"
   ]
  },
  {
   "cell_type": "code",
   "execution_count": 0,
   "metadata": {
    "collapsed": false
   },
   "outputs": [
   ],
   "source": [
   ]
  },
  {
   "cell_type": "code",
   "execution_count": 0,
   "metadata": {
    "collapsed": false
   },
   "outputs": [
   ],
   "source": [
   ]
  },
  {
   "cell_type": "markdown",
   "metadata": {
    "collapsed": false
   },
   "source": [
    "### MLP \\(Zakir\\)\n",
    "\n"
   ]
  },
  {
   "cell_type": "code",
   "execution_count": 93,
   "metadata": {
    "collapsed": false
   },
   "outputs": [
    {
     "name": "stderr",
     "output_type": "stream",
     "text": [
      "/projects/1d81facf-cc6a-4793-a76e-965deb9ad4f9/miniconda3/envs/ds_env/lib/python3.8/site-packages/sklearn/neural_network/_multilayer_perceptron.py:702: ConvergenceWarning:\n",
      "\n",
      "Stochastic Optimizer: Maximum iterations (200) reached and the optimization hasn't converged yet.\n",
      "\n"
     ]
    },
    {
     "data": {
      "text/plain": [
       "14505.907604469063"
      ]
     },
     "execution_count": 93,
     "metadata": {
     },
     "output_type": "execute_result"
    }
   ],
   "source": [
    "clf = MLPRegressor(hidden_layer_sizes=(6,5),random_state=42,max_iter=200,learning_rate_init=0.15)\n",
    "\n",
    "clf.fit(x_train_rm,y_train_rm['Store_Sales'])\n",
    "\n",
    "ypred = clf.predict(x_test_rm)\n",
    "\n",
    "mae_mlp = mae(list(y_test_rm['Store_Sales']),ypred)\n",
    "mae_mlp"
   ]
  },
  {
   "cell_type": "code",
   "execution_count": 94,
   "metadata": {
    "collapsed": false
   },
   "outputs": [
    {
     "data": {
      "text/html": "<html>\n<head><meta charset=\"utf-8\" /></head>\n<body>\n    <div>            <script src=\"https://cdnjs.cloudflare.com/ajax/libs/mathjax/2.7.5/MathJax.js?config=TeX-AMS-MML_SVG\"></script><script type=\"text/javascript\">if (window.MathJax) {MathJax.Hub.Config({SVG: {font: \"STIX-Web\"}});}</script>                <script type=\"text/javascript\">window.PlotlyConfig = {MathJaxConfig: 'local'};</script>\n        <script src=\"https://cdn.plot.ly/plotly-2.9.0.min.js\"></script>                <div id=\"6c0494cc-70a4-4305-adc6-dd1d10197005\" class=\"plotly-graph-div\" style=\"height:525px; width:100%;\"></div>            <script type=\"text/javascript\">                                    window.PLOTLYENV=window.PLOTLYENV || {};                                    if (document.getElementById(\"6c0494cc-70a4-4305-adc6-dd1d10197005\")) {                    Plotly.newPlot(                        \"6c0494cc-70a4-4305-adc6-dd1d10197005\",                        [{\"hovertemplate\":\"x=%{x}<br>y=%{y}<extra></extra>\",\"legendgroup\":\"\",\"marker\":{\"color\":\"#636efa\",\"symbol\":\"circle\"},\"mode\":\"markers\",\"name\":\"\",\"orientation\":\"v\",\"showlegend\":false,\"x\":[58088.66742737567,58233.65993050642,59167.65851238051,59479.69979835801,58256.562425520875,57094.41473627098,59190.809842497336,58209.761919132085,58814.4033781438,59817.23046156696,59874.8932322766,58105.74964257425,58561.805323031615,59184.544896820444,59056.75172447661,57991.83768101302,58431.26561207779,58115.200988741395,56352.20872826444,59736.87973495518,59829.725327705695,57897.38993142186,58172.93272878012,58099.19257041946,59508.007916652576,57836.703132423034,58962.41190001916,59457.72162432195,59448.82593263441,59094.55211318097,58036.40322756873,57300.47607381122,57509.76255993655,57398.65442379461,57278.495010128696,58260.311658068655,57908.42217990705,56846.00707496488,57848.552386243275,58043.1798399977,58096.10535529495,59632.60427907084,58142.012595172906,58485.30760613685,57639.20722048954,58593.07024078213,59160.56125997733,58745.88498739898,59462.827060676645,57743.09870848384,56484.221242564214,60060.98692438219,59310.79485376563,59227.2689735314,58923.52687034931,57364.01322792655,60658.650426808475,57400.9589243765,58565.85638955964,58825.08866633787,61205.80269202721,56309.96928449001,59798.232741400214,59078.2713240795,60069.28165087362,58076.65479008348,60448.19718533721,60117.34906809116,56746.35976844917,58052.21887961531,58834.79006658809,57015.67024125562,59057.94752789909,59110.6919043386,60109.53645071163,58903.90435673471,59453.69828696305,59751.7853222723,58944.79274289388,59611.23074320612,57320.60981852596,57521.527928783864,57763.14839438726,58313.40474586239,58267.856982028636,58027.05491457936,58870.37735947233,59103.95832246999,58654.84307356554,58879.35237582053,59274.01236694926,59192.85588187026,57635.56452572226,58342.120000903895,58418.96006398052,58858.47833863163,57866.061164240324,58137.747333010106,58433.59967029986,58142.74956234862,58660.84370891041,58381.8860591782,59465.31007228337,59424.956695571535,57779.44404922802,57387.98260852074,58843.32750121216,59600.44626864789,57456.205024975614,57236.14579671638,60217.672555836456,57458.87223892494,57837.04363410075,57590.07772167302,58569.90517593153,59174.617046995976,58714.29671386618,58920.326213610104,56677.312217380066,57604.88649075729,57801.242755072104,58822.74498200922,58426.18990720167,58146.73004298554,59844.56917190954,59452.55653302663,58957.862465820835,59181.08823286683,58299.388925919266,56961.09725840121,59250.45161992938,57867.508692411655,58409.50565432851,56819.16056725219,59389.75004527891,57954.894264719216,58814.11763945079,60634.924028112015,59164.66120618879,59107.09206629329,60975.98267039069,57962.635512878885,59483.143163229826,59347.268067210236,60723.92846750368,57803.860985329695,59312.70462934535,57806.907171204846,59528.72031086538,60288.78005485064,59752.67061772419,57122.95148028764,58397.125847364885,58600.23807907644,59184.428564560854,59895.97272633072,58392.667644089954,57613.285817084,57390.50454206064,58328.46200237227,58500.28867130103,60595.8902573647,59104.34246419843,63635.04015220497,58951.882649346604,57340.6232103291,57949.149462750385,59912.92819983439,56772.25361652398,57684.00121892895,58836.15966291786,59593.73761427711,59906.86660470497,57483.87377765605,59583.394498426525,59756.963712649434,56850.254755580296,57703.13560047019,57494.17168679843,58876.460382962745,58811.049311716,59014.93578001578,73554.15428879221,60701.88005525329,60901.80475546906,58062.26523784721,58422.62820776082,58098.55670294373,58175.572996889074,57846.57815174218,58209.59425319455,57784.35715396092,58780.05370026171,57596.50203016988,60350.082684784844,58695.55644783672,57470.298602921925,60806.628777471706,56363.063075215156,59140.434251722705,58069.841100225465,59536.11214473942,58682.5436640423,60545.59666859002,60087.42479852057,57860.12420448807,61001.897337336144,60853.43736194855,59783.49823118228,59694.12705777116,57909.81626808268,59134.57968011599,59313.72192174299,59145.08093980583,58115.50369949144,56828.21351544197,60193.12713754399,57580.72980770023,58430.33298798181,59983.48371734421,59813.209350260426,58503.15906195945,58404.17700572283,58008.99782805316,58546.91494913055],\"xaxis\":\"x\",\"y\":[81870,57200,84360,81260,82350,80830,30610,51310,72940,52450,66070,43190,40730,78530,94690,44400,73800,37390,64120,22310,62380,63850,36210,54590,69610,65390,78130,55710,69210,59940,72550,44260,82390,54590,69990,72740,35360,94370,43520,36000,99480,83220,52940,93360,73590,53840,47350,65080,62050,49510,35590,63050,65300,69560,41910,28330,55980,61080,51380,84410,64690,45780,41800,53230,36160,40450,57910,36280,39190,62380,21470,34610,88120,59190,36290,53760,66300,93000,65660,81930,60060,59530,46380,76200,56860,86620,49730,88370,49160,38560,51990,46040,49500,76670,75800,58440,85720,70940,62420,56880,101820,86890,47300,31270,65410,67390,54530,79760,78060,74080,52990,70580,34310,74160,59190,43370,56710,59820,36190,60440,75300,74080,60440,80720,47060,86830,56790,67090,44370,82970,53760,55390,73500,41050,67320,65890,56380,85670,70830,48180,51910,44320,73610,54060,85000,49030,84300,81390,95900,71830,79310,87890,48610,73160,36280,49720,44400,47590,51460,57750,66000,45950,53900,37920,63100,36770,43910,66390,59160,38510,46220,41500,58160,38530,55880,70940,53940,59820,55500,49990,65970,63020,73810,70230,59950,78100,92640,63540,87220,41990,79410,54380,58600,48950,40670,52340,39140,41090,25600,100900,77080,80580,46230,98260,75930,52050,87000,88270,57820,76420,70980,76740,47920,52160,32740,72270,77430,92370,46580,70620,66390,82080,76440,96610,54340],\"yaxis\":\"y\",\"type\":\"scatter\"}],                        {\"template\":{\"data\":{\"bar\":[{\"error_x\":{\"color\":\"#2a3f5f\"},\"error_y\":{\"color\":\"#2a3f5f\"},\"marker\":{\"line\":{\"color\":\"#E5ECF6\",\"width\":0.5},\"pattern\":{\"fillmode\":\"overlay\",\"size\":10,\"solidity\":0.2}},\"type\":\"bar\"}],\"barpolar\":[{\"marker\":{\"line\":{\"color\":\"#E5ECF6\",\"width\":0.5},\"pattern\":{\"fillmode\":\"overlay\",\"size\":10,\"solidity\":0.2}},\"type\":\"barpolar\"}],\"carpet\":[{\"aaxis\":{\"endlinecolor\":\"#2a3f5f\",\"gridcolor\":\"white\",\"linecolor\":\"white\",\"minorgridcolor\":\"white\",\"startlinecolor\":\"#2a3f5f\"},\"baxis\":{\"endlinecolor\":\"#2a3f5f\",\"gridcolor\":\"white\",\"linecolor\":\"white\",\"minorgridcolor\":\"white\",\"startlinecolor\":\"#2a3f5f\"},\"type\":\"carpet\"}],\"choropleth\":[{\"colorbar\":{\"outlinewidth\":0,\"ticks\":\"\"},\"type\":\"choropleth\"}],\"contour\":[{\"colorbar\":{\"outlinewidth\":0,\"ticks\":\"\"},\"colorscale\":[[0.0,\"#0d0887\"],[0.1111111111111111,\"#46039f\"],[0.2222222222222222,\"#7201a8\"],[0.3333333333333333,\"#9c179e\"],[0.4444444444444444,\"#bd3786\"],[0.5555555555555556,\"#d8576b\"],[0.6666666666666666,\"#ed7953\"],[0.7777777777777778,\"#fb9f3a\"],[0.8888888888888888,\"#fdca26\"],[1.0,\"#f0f921\"]],\"type\":\"contour\"}],\"contourcarpet\":[{\"colorbar\":{\"outlinewidth\":0,\"ticks\":\"\"},\"type\":\"contourcarpet\"}],\"heatmap\":[{\"colorbar\":{\"outlinewidth\":0,\"ticks\":\"\"},\"colorscale\":[[0.0,\"#0d0887\"],[0.1111111111111111,\"#46039f\"],[0.2222222222222222,\"#7201a8\"],[0.3333333333333333,\"#9c179e\"],[0.4444444444444444,\"#bd3786\"],[0.5555555555555556,\"#d8576b\"],[0.6666666666666666,\"#ed7953\"],[0.7777777777777778,\"#fb9f3a\"],[0.8888888888888888,\"#fdca26\"],[1.0,\"#f0f921\"]],\"type\":\"heatmap\"}],\"heatmapgl\":[{\"colorbar\":{\"outlinewidth\":0,\"ticks\":\"\"},\"colorscale\":[[0.0,\"#0d0887\"],[0.1111111111111111,\"#46039f\"],[0.2222222222222222,\"#7201a8\"],[0.3333333333333333,\"#9c179e\"],[0.4444444444444444,\"#bd3786\"],[0.5555555555555556,\"#d8576b\"],[0.6666666666666666,\"#ed7953\"],[0.7777777777777778,\"#fb9f3a\"],[0.8888888888888888,\"#fdca26\"],[1.0,\"#f0f921\"]],\"type\":\"heatmapgl\"}],\"histogram\":[{\"marker\":{\"pattern\":{\"fillmode\":\"overlay\",\"size\":10,\"solidity\":0.2}},\"type\":\"histogram\"}],\"histogram2d\":[{\"colorbar\":{\"outlinewidth\":0,\"ticks\":\"\"},\"colorscale\":[[0.0,\"#0d0887\"],[0.1111111111111111,\"#46039f\"],[0.2222222222222222,\"#7201a8\"],[0.3333333333333333,\"#9c179e\"],[0.4444444444444444,\"#bd3786\"],[0.5555555555555556,\"#d8576b\"],[0.6666666666666666,\"#ed7953\"],[0.7777777777777778,\"#fb9f3a\"],[0.8888888888888888,\"#fdca26\"],[1.0,\"#f0f921\"]],\"type\":\"histogram2d\"}],\"histogram2dcontour\":[{\"colorbar\":{\"outlinewidth\":0,\"ticks\":\"\"},\"colorscale\":[[0.0,\"#0d0887\"],[0.1111111111111111,\"#46039f\"],[0.2222222222222222,\"#7201a8\"],[0.3333333333333333,\"#9c179e\"],[0.4444444444444444,\"#bd3786\"],[0.5555555555555556,\"#d8576b\"],[0.6666666666666666,\"#ed7953\"],[0.7777777777777778,\"#fb9f3a\"],[0.8888888888888888,\"#fdca26\"],[1.0,\"#f0f921\"]],\"type\":\"histogram2dcontour\"}],\"mesh3d\":[{\"colorbar\":{\"outlinewidth\":0,\"ticks\":\"\"},\"type\":\"mesh3d\"}],\"parcoords\":[{\"line\":{\"colorbar\":{\"outlinewidth\":0,\"ticks\":\"\"}},\"type\":\"parcoords\"}],\"pie\":[{\"automargin\":true,\"type\":\"pie\"}],\"scatter\":[{\"marker\":{\"colorbar\":{\"outlinewidth\":0,\"ticks\":\"\"}},\"type\":\"scatter\"}],\"scatter3d\":[{\"line\":{\"colorbar\":{\"outlinewidth\":0,\"ticks\":\"\"}},\"marker\":{\"colorbar\":{\"outlinewidth\":0,\"ticks\":\"\"}},\"type\":\"scatter3d\"}],\"scattercarpet\":[{\"marker\":{\"colorbar\":{\"outlinewidth\":0,\"ticks\":\"\"}},\"type\":\"scattercarpet\"}],\"scattergeo\":[{\"marker\":{\"colorbar\":{\"outlinewidth\":0,\"ticks\":\"\"}},\"type\":\"scattergeo\"}],\"scattergl\":[{\"marker\":{\"colorbar\":{\"outlinewidth\":0,\"ticks\":\"\"}},\"type\":\"scattergl\"}],\"scattermapbox\":[{\"marker\":{\"colorbar\":{\"outlinewidth\":0,\"ticks\":\"\"}},\"type\":\"scattermapbox\"}],\"scatterpolar\":[{\"marker\":{\"colorbar\":{\"outlinewidth\":0,\"ticks\":\"\"}},\"type\":\"scatterpolar\"}],\"scatterpolargl\":[{\"marker\":{\"colorbar\":{\"outlinewidth\":0,\"ticks\":\"\"}},\"type\":\"scatterpolargl\"}],\"scatterternary\":[{\"marker\":{\"colorbar\":{\"outlinewidth\":0,\"ticks\":\"\"}},\"type\":\"scatterternary\"}],\"surface\":[{\"colorbar\":{\"outlinewidth\":0,\"ticks\":\"\"},\"colorscale\":[[0.0,\"#0d0887\"],[0.1111111111111111,\"#46039f\"],[0.2222222222222222,\"#7201a8\"],[0.3333333333333333,\"#9c179e\"],[0.4444444444444444,\"#bd3786\"],[0.5555555555555556,\"#d8576b\"],[0.6666666666666666,\"#ed7953\"],[0.7777777777777778,\"#fb9f3a\"],[0.8888888888888888,\"#fdca26\"],[1.0,\"#f0f921\"]],\"type\":\"surface\"}],\"table\":[{\"cells\":{\"fill\":{\"color\":\"#EBF0F8\"},\"line\":{\"color\":\"white\"}},\"header\":{\"fill\":{\"color\":\"#C8D4E3\"},\"line\":{\"color\":\"white\"}},\"type\":\"table\"}]},\"layout\":{\"annotationdefaults\":{\"arrowcolor\":\"#2a3f5f\",\"arrowhead\":0,\"arrowwidth\":1},\"autotypenumbers\":\"strict\",\"coloraxis\":{\"colorbar\":{\"outlinewidth\":0,\"ticks\":\"\"}},\"colorscale\":{\"diverging\":[[0,\"#8e0152\"],[0.1,\"#c51b7d\"],[0.2,\"#de77ae\"],[0.3,\"#f1b6da\"],[0.4,\"#fde0ef\"],[0.5,\"#f7f7f7\"],[0.6,\"#e6f5d0\"],[0.7,\"#b8e186\"],[0.8,\"#7fbc41\"],[0.9,\"#4d9221\"],[1,\"#276419\"]],\"sequential\":[[0.0,\"#0d0887\"],[0.1111111111111111,\"#46039f\"],[0.2222222222222222,\"#7201a8\"],[0.3333333333333333,\"#9c179e\"],[0.4444444444444444,\"#bd3786\"],[0.5555555555555556,\"#d8576b\"],[0.6666666666666666,\"#ed7953\"],[0.7777777777777778,\"#fb9f3a\"],[0.8888888888888888,\"#fdca26\"],[1.0,\"#f0f921\"]],\"sequentialminus\":[[0.0,\"#0d0887\"],[0.1111111111111111,\"#46039f\"],[0.2222222222222222,\"#7201a8\"],[0.3333333333333333,\"#9c179e\"],[0.4444444444444444,\"#bd3786\"],[0.5555555555555556,\"#d8576b\"],[0.6666666666666666,\"#ed7953\"],[0.7777777777777778,\"#fb9f3a\"],[0.8888888888888888,\"#fdca26\"],[1.0,\"#f0f921\"]]},\"colorway\":[\"#636efa\",\"#EF553B\",\"#00cc96\",\"#ab63fa\",\"#FFA15A\",\"#19d3f3\",\"#FF6692\",\"#B6E880\",\"#FF97FF\",\"#FECB52\"],\"font\":{\"color\":\"#2a3f5f\"},\"geo\":{\"bgcolor\":\"white\",\"lakecolor\":\"white\",\"landcolor\":\"#E5ECF6\",\"showlakes\":true,\"showland\":true,\"subunitcolor\":\"white\"},\"hoverlabel\":{\"align\":\"left\"},\"hovermode\":\"closest\",\"mapbox\":{\"style\":\"light\"},\"paper_bgcolor\":\"white\",\"plot_bgcolor\":\"#E5ECF6\",\"polar\":{\"angularaxis\":{\"gridcolor\":\"white\",\"linecolor\":\"white\",\"ticks\":\"\"},\"bgcolor\":\"#E5ECF6\",\"radialaxis\":{\"gridcolor\":\"white\",\"linecolor\":\"white\",\"ticks\":\"\"}},\"scene\":{\"xaxis\":{\"backgroundcolor\":\"#E5ECF6\",\"gridcolor\":\"white\",\"gridwidth\":2,\"linecolor\":\"white\",\"showbackground\":true,\"ticks\":\"\",\"zerolinecolor\":\"white\"},\"yaxis\":{\"backgroundcolor\":\"#E5ECF6\",\"gridcolor\":\"white\",\"gridwidth\":2,\"linecolor\":\"white\",\"showbackground\":true,\"ticks\":\"\",\"zerolinecolor\":\"white\"},\"zaxis\":{\"backgroundcolor\":\"#E5ECF6\",\"gridcolor\":\"white\",\"gridwidth\":2,\"linecolor\":\"white\",\"showbackground\":true,\"ticks\":\"\",\"zerolinecolor\":\"white\"}},\"shapedefaults\":{\"line\":{\"color\":\"#2a3f5f\"}},\"ternary\":{\"aaxis\":{\"gridcolor\":\"white\",\"linecolor\":\"white\",\"ticks\":\"\"},\"baxis\":{\"gridcolor\":\"white\",\"linecolor\":\"white\",\"ticks\":\"\"},\"bgcolor\":\"#E5ECF6\",\"caxis\":{\"gridcolor\":\"white\",\"linecolor\":\"white\",\"ticks\":\"\"}},\"title\":{\"x\":0.05},\"xaxis\":{\"automargin\":true,\"gridcolor\":\"white\",\"linecolor\":\"white\",\"ticks\":\"\",\"title\":{\"standoff\":15},\"zerolinecolor\":\"white\",\"zerolinewidth\":2},\"yaxis\":{\"automargin\":true,\"gridcolor\":\"white\",\"linecolor\":\"white\",\"ticks\":\"\",\"title\":{\"standoff\":15},\"zerolinecolor\":\"white\",\"zerolinewidth\":2}}},\"xaxis\":{\"anchor\":\"y\",\"domain\":[0.0,1.0],\"title\":{\"text\":\"Prediction\"}},\"yaxis\":{\"anchor\":\"x\",\"domain\":[0.0,1.0],\"title\":{\"text\":\"True Value\"}},\"legend\":{\"tracegroupgap\":0,\"title\":{\"text\":\"Legend Title\"}},\"margin\":{\"t\":60},\"font\":{\"family\":\"Courier New, monospace\",\"size\":18,\"color\":\"RebeccaPurple\"},\"title\":{\"text\":\"Prediction v.s. True Value\"}},                        {\"responsive\": true}                    ).then(function(){\n                            \nvar gd = document.getElementById('6c0494cc-70a4-4305-adc6-dd1d10197005');\nvar x = new MutationObserver(function (mutations, observer) {{\n        var display = window.getComputedStyle(gd).display;\n        if (!display || display === 'none') {{\n            console.log([gd, 'removed!']);\n            Plotly.purge(gd);\n            observer.disconnect();\n        }}\n}});\n\n// Listen for the removal of the full notebook cells\nvar notebookContainer = gd.closest('#notebook-container');\nif (notebookContainer) {{\n    x.observe(notebookContainer, {childList: true});\n}}\n\n// Listen for the clearing of the current output cell\nvar outputEl = gd.closest('.output');\nif (outputEl) {{\n    x.observe(outputEl, {childList: true});\n}}\n\n                        })                };                            </script>        </div>\n</body>\n</html>"
     },
     "execution_count": 94,
     "metadata": {
     },
     "output_type": "execute_result"
    }
   ],
   "source": [
    "fig = px.scatter(x = ypred, y= list(y_test_rm['Store_Sales']))\n",
    "\n",
    "fig.update_layout(\n",
    "    title=\"Prediction v.s. True Value\",\n",
    "    xaxis_title=\"Prediction\",\n",
    "    yaxis_title=\"True Value\",\n",
    "    legend_title=\"Legend Title\",\n",
    "    font=dict(\n",
    "        family=\"Courier New, monospace\",\n",
    "        size=18,\n",
    "        color=\"RebeccaPurple\"\n",
    "    )\n",
    ")\n",
    "\n",
    "fig.show()"
   ]
  },
  {
   "cell_type": "markdown",
   "metadata": {
    "collapsed": false
   },
   "source": [
    "### Polynomial Regression \\(Samia\\)\n",
    "\n"
   ]
  },
  {
   "cell_type": "code",
   "execution_count": 95,
   "metadata": {
    "collapsed": false
   },
   "outputs": [
   ],
   "source": [
    "List_degree = [1, 2, 3, 4, 5]\n",
    "List_mae_PR = []\n",
    "\n",
    "\n",
    "for d in List_degree:\n",
    "    pr = PolynomialFeatures(degree=d)\n",
    "    X_Train_poly = pr.fit_transform(x_train_rm)\n",
    "    X_Test_poly = pr.fit_transform(x_test_rm)\n",
    "\n",
    "    lr = LinearRegression()\n",
    "    lr.fit(X_Train_poly, y_train_rm)\n",
    "    pred_poly2 = lr.predict(X_Test_poly)\n",
    "    \n",
    "    List_mae_PR.append(mae(pred_poly2, list(y_test['Store_Sales']))[0])"
   ]
  },
  {
   "cell_type": "code",
   "execution_count": 96,
   "metadata": {
    "collapsed": false,
    "scrolled": true
   },
   "outputs": [
    {
     "data": {
      "text/html": "<html>\n<head><meta charset=\"utf-8\" /></head>\n<body>\n    <div>            <script src=\"https://cdnjs.cloudflare.com/ajax/libs/mathjax/2.7.5/MathJax.js?config=TeX-AMS-MML_SVG\"></script><script type=\"text/javascript\">if (window.MathJax) {MathJax.Hub.Config({SVG: {font: \"STIX-Web\"}});}</script>                <script type=\"text/javascript\">window.PlotlyConfig = {MathJaxConfig: 'local'};</script>\n        <script src=\"https://cdn.plot.ly/plotly-2.9.0.min.js\"></script>                <div id=\"6194395b-69c3-4a6c-b114-0e7e5e89ae1b\" class=\"plotly-graph-div\" style=\"height:525px; width:100%;\"></div>            <script type=\"text/javascript\">                                    window.PLOTLYENV=window.PLOTLYENV || {};                                    if (document.getElementById(\"6194395b-69c3-4a6c-b114-0e7e5e89ae1b\")) {                    Plotly.newPlot(                        \"6194395b-69c3-4a6c-b114-0e7e5e89ae1b\",                        [{\"hovertemplate\":\"x=%{x}<br>y=%{y}<extra></extra>\",\"legendgroup\":\"\",\"marker\":{\"color\":\"#636efa\",\"symbol\":\"circle\"},\"mode\":\"markers\",\"name\":\"\",\"orientation\":\"v\",\"showlegend\":false,\"x\":[1,2,3,4,5],\"xaxis\":\"x\",\"y\":[13951.829825655066,13849.61390445834,13955.275726003727,14650.266666666666,15092.00888888889],\"yaxis\":\"y\",\"type\":\"scatter\"}],                        {\"template\":{\"data\":{\"bar\":[{\"error_x\":{\"color\":\"#2a3f5f\"},\"error_y\":{\"color\":\"#2a3f5f\"},\"marker\":{\"line\":{\"color\":\"#E5ECF6\",\"width\":0.5},\"pattern\":{\"fillmode\":\"overlay\",\"size\":10,\"solidity\":0.2}},\"type\":\"bar\"}],\"barpolar\":[{\"marker\":{\"line\":{\"color\":\"#E5ECF6\",\"width\":0.5},\"pattern\":{\"fillmode\":\"overlay\",\"size\":10,\"solidity\":0.2}},\"type\":\"barpolar\"}],\"carpet\":[{\"aaxis\":{\"endlinecolor\":\"#2a3f5f\",\"gridcolor\":\"white\",\"linecolor\":\"white\",\"minorgridcolor\":\"white\",\"startlinecolor\":\"#2a3f5f\"},\"baxis\":{\"endlinecolor\":\"#2a3f5f\",\"gridcolor\":\"white\",\"linecolor\":\"white\",\"minorgridcolor\":\"white\",\"startlinecolor\":\"#2a3f5f\"},\"type\":\"carpet\"}],\"choropleth\":[{\"colorbar\":{\"outlinewidth\":0,\"ticks\":\"\"},\"type\":\"choropleth\"}],\"contour\":[{\"colorbar\":{\"outlinewidth\":0,\"ticks\":\"\"},\"colorscale\":[[0.0,\"#0d0887\"],[0.1111111111111111,\"#46039f\"],[0.2222222222222222,\"#7201a8\"],[0.3333333333333333,\"#9c179e\"],[0.4444444444444444,\"#bd3786\"],[0.5555555555555556,\"#d8576b\"],[0.6666666666666666,\"#ed7953\"],[0.7777777777777778,\"#fb9f3a\"],[0.8888888888888888,\"#fdca26\"],[1.0,\"#f0f921\"]],\"type\":\"contour\"}],\"contourcarpet\":[{\"colorbar\":{\"outlinewidth\":0,\"ticks\":\"\"},\"type\":\"contourcarpet\"}],\"heatmap\":[{\"colorbar\":{\"outlinewidth\":0,\"ticks\":\"\"},\"colorscale\":[[0.0,\"#0d0887\"],[0.1111111111111111,\"#46039f\"],[0.2222222222222222,\"#7201a8\"],[0.3333333333333333,\"#9c179e\"],[0.4444444444444444,\"#bd3786\"],[0.5555555555555556,\"#d8576b\"],[0.6666666666666666,\"#ed7953\"],[0.7777777777777778,\"#fb9f3a\"],[0.8888888888888888,\"#fdca26\"],[1.0,\"#f0f921\"]],\"type\":\"heatmap\"}],\"heatmapgl\":[{\"colorbar\":{\"outlinewidth\":0,\"ticks\":\"\"},\"colorscale\":[[0.0,\"#0d0887\"],[0.1111111111111111,\"#46039f\"],[0.2222222222222222,\"#7201a8\"],[0.3333333333333333,\"#9c179e\"],[0.4444444444444444,\"#bd3786\"],[0.5555555555555556,\"#d8576b\"],[0.6666666666666666,\"#ed7953\"],[0.7777777777777778,\"#fb9f3a\"],[0.8888888888888888,\"#fdca26\"],[1.0,\"#f0f921\"]],\"type\":\"heatmapgl\"}],\"histogram\":[{\"marker\":{\"pattern\":{\"fillmode\":\"overlay\",\"size\":10,\"solidity\":0.2}},\"type\":\"histogram\"}],\"histogram2d\":[{\"colorbar\":{\"outlinewidth\":0,\"ticks\":\"\"},\"colorscale\":[[0.0,\"#0d0887\"],[0.1111111111111111,\"#46039f\"],[0.2222222222222222,\"#7201a8\"],[0.3333333333333333,\"#9c179e\"],[0.4444444444444444,\"#bd3786\"],[0.5555555555555556,\"#d8576b\"],[0.6666666666666666,\"#ed7953\"],[0.7777777777777778,\"#fb9f3a\"],[0.8888888888888888,\"#fdca26\"],[1.0,\"#f0f921\"]],\"type\":\"histogram2d\"}],\"histogram2dcontour\":[{\"colorbar\":{\"outlinewidth\":0,\"ticks\":\"\"},\"colorscale\":[[0.0,\"#0d0887\"],[0.1111111111111111,\"#46039f\"],[0.2222222222222222,\"#7201a8\"],[0.3333333333333333,\"#9c179e\"],[0.4444444444444444,\"#bd3786\"],[0.5555555555555556,\"#d8576b\"],[0.6666666666666666,\"#ed7953\"],[0.7777777777777778,\"#fb9f3a\"],[0.8888888888888888,\"#fdca26\"],[1.0,\"#f0f921\"]],\"type\":\"histogram2dcontour\"}],\"mesh3d\":[{\"colorbar\":{\"outlinewidth\":0,\"ticks\":\"\"},\"type\":\"mesh3d\"}],\"parcoords\":[{\"line\":{\"colorbar\":{\"outlinewidth\":0,\"ticks\":\"\"}},\"type\":\"parcoords\"}],\"pie\":[{\"automargin\":true,\"type\":\"pie\"}],\"scatter\":[{\"marker\":{\"colorbar\":{\"outlinewidth\":0,\"ticks\":\"\"}},\"type\":\"scatter\"}],\"scatter3d\":[{\"line\":{\"colorbar\":{\"outlinewidth\":0,\"ticks\":\"\"}},\"marker\":{\"colorbar\":{\"outlinewidth\":0,\"ticks\":\"\"}},\"type\":\"scatter3d\"}],\"scattercarpet\":[{\"marker\":{\"colorbar\":{\"outlinewidth\":0,\"ticks\":\"\"}},\"type\":\"scattercarpet\"}],\"scattergeo\":[{\"marker\":{\"colorbar\":{\"outlinewidth\":0,\"ticks\":\"\"}},\"type\":\"scattergeo\"}],\"scattergl\":[{\"marker\":{\"colorbar\":{\"outlinewidth\":0,\"ticks\":\"\"}},\"type\":\"scattergl\"}],\"scattermapbox\":[{\"marker\":{\"colorbar\":{\"outlinewidth\":0,\"ticks\":\"\"}},\"type\":\"scattermapbox\"}],\"scatterpolar\":[{\"marker\":{\"colorbar\":{\"outlinewidth\":0,\"ticks\":\"\"}},\"type\":\"scatterpolar\"}],\"scatterpolargl\":[{\"marker\":{\"colorbar\":{\"outlinewidth\":0,\"ticks\":\"\"}},\"type\":\"scatterpolargl\"}],\"scatterternary\":[{\"marker\":{\"colorbar\":{\"outlinewidth\":0,\"ticks\":\"\"}},\"type\":\"scatterternary\"}],\"surface\":[{\"colorbar\":{\"outlinewidth\":0,\"ticks\":\"\"},\"colorscale\":[[0.0,\"#0d0887\"],[0.1111111111111111,\"#46039f\"],[0.2222222222222222,\"#7201a8\"],[0.3333333333333333,\"#9c179e\"],[0.4444444444444444,\"#bd3786\"],[0.5555555555555556,\"#d8576b\"],[0.6666666666666666,\"#ed7953\"],[0.7777777777777778,\"#fb9f3a\"],[0.8888888888888888,\"#fdca26\"],[1.0,\"#f0f921\"]],\"type\":\"surface\"}],\"table\":[{\"cells\":{\"fill\":{\"color\":\"#EBF0F8\"},\"line\":{\"color\":\"white\"}},\"header\":{\"fill\":{\"color\":\"#C8D4E3\"},\"line\":{\"color\":\"white\"}},\"type\":\"table\"}]},\"layout\":{\"annotationdefaults\":{\"arrowcolor\":\"#2a3f5f\",\"arrowhead\":0,\"arrowwidth\":1},\"autotypenumbers\":\"strict\",\"coloraxis\":{\"colorbar\":{\"outlinewidth\":0,\"ticks\":\"\"}},\"colorscale\":{\"diverging\":[[0,\"#8e0152\"],[0.1,\"#c51b7d\"],[0.2,\"#de77ae\"],[0.3,\"#f1b6da\"],[0.4,\"#fde0ef\"],[0.5,\"#f7f7f7\"],[0.6,\"#e6f5d0\"],[0.7,\"#b8e186\"],[0.8,\"#7fbc41\"],[0.9,\"#4d9221\"],[1,\"#276419\"]],\"sequential\":[[0.0,\"#0d0887\"],[0.1111111111111111,\"#46039f\"],[0.2222222222222222,\"#7201a8\"],[0.3333333333333333,\"#9c179e\"],[0.4444444444444444,\"#bd3786\"],[0.5555555555555556,\"#d8576b\"],[0.6666666666666666,\"#ed7953\"],[0.7777777777777778,\"#fb9f3a\"],[0.8888888888888888,\"#fdca26\"],[1.0,\"#f0f921\"]],\"sequentialminus\":[[0.0,\"#0d0887\"],[0.1111111111111111,\"#46039f\"],[0.2222222222222222,\"#7201a8\"],[0.3333333333333333,\"#9c179e\"],[0.4444444444444444,\"#bd3786\"],[0.5555555555555556,\"#d8576b\"],[0.6666666666666666,\"#ed7953\"],[0.7777777777777778,\"#fb9f3a\"],[0.8888888888888888,\"#fdca26\"],[1.0,\"#f0f921\"]]},\"colorway\":[\"#636efa\",\"#EF553B\",\"#00cc96\",\"#ab63fa\",\"#FFA15A\",\"#19d3f3\",\"#FF6692\",\"#B6E880\",\"#FF97FF\",\"#FECB52\"],\"font\":{\"color\":\"#2a3f5f\"},\"geo\":{\"bgcolor\":\"white\",\"lakecolor\":\"white\",\"landcolor\":\"#E5ECF6\",\"showlakes\":true,\"showland\":true,\"subunitcolor\":\"white\"},\"hoverlabel\":{\"align\":\"left\"},\"hovermode\":\"closest\",\"mapbox\":{\"style\":\"light\"},\"paper_bgcolor\":\"white\",\"plot_bgcolor\":\"#E5ECF6\",\"polar\":{\"angularaxis\":{\"gridcolor\":\"white\",\"linecolor\":\"white\",\"ticks\":\"\"},\"bgcolor\":\"#E5ECF6\",\"radialaxis\":{\"gridcolor\":\"white\",\"linecolor\":\"white\",\"ticks\":\"\"}},\"scene\":{\"xaxis\":{\"backgroundcolor\":\"#E5ECF6\",\"gridcolor\":\"white\",\"gridwidth\":2,\"linecolor\":\"white\",\"showbackground\":true,\"ticks\":\"\",\"zerolinecolor\":\"white\"},\"yaxis\":{\"backgroundcolor\":\"#E5ECF6\",\"gridcolor\":\"white\",\"gridwidth\":2,\"linecolor\":\"white\",\"showbackground\":true,\"ticks\":\"\",\"zerolinecolor\":\"white\"},\"zaxis\":{\"backgroundcolor\":\"#E5ECF6\",\"gridcolor\":\"white\",\"gridwidth\":2,\"linecolor\":\"white\",\"showbackground\":true,\"ticks\":\"\",\"zerolinecolor\":\"white\"}},\"shapedefaults\":{\"line\":{\"color\":\"#2a3f5f\"}},\"ternary\":{\"aaxis\":{\"gridcolor\":\"white\",\"linecolor\":\"white\",\"ticks\":\"\"},\"baxis\":{\"gridcolor\":\"white\",\"linecolor\":\"white\",\"ticks\":\"\"},\"bgcolor\":\"#E5ECF6\",\"caxis\":{\"gridcolor\":\"white\",\"linecolor\":\"white\",\"ticks\":\"\"}},\"title\":{\"x\":0.05},\"xaxis\":{\"automargin\":true,\"gridcolor\":\"white\",\"linecolor\":\"white\",\"ticks\":\"\",\"title\":{\"standoff\":15},\"zerolinecolor\":\"white\",\"zerolinewidth\":2},\"yaxis\":{\"automargin\":true,\"gridcolor\":\"white\",\"linecolor\":\"white\",\"ticks\":\"\",\"title\":{\"standoff\":15},\"zerolinecolor\":\"white\",\"zerolinewidth\":2}}},\"xaxis\":{\"anchor\":\"y\",\"domain\":[0.0,1.0],\"title\":{\"text\":\"x\"}},\"yaxis\":{\"anchor\":\"x\",\"domain\":[0.0,1.0],\"title\":{\"text\":\"y\"}},\"legend\":{\"tracegroupgap\":0},\"margin\":{\"t\":60}},                        {\"responsive\": true}                    ).then(function(){\n                            \nvar gd = document.getElementById('6194395b-69c3-4a6c-b114-0e7e5e89ae1b');\nvar x = new MutationObserver(function (mutations, observer) {{\n        var display = window.getComputedStyle(gd).display;\n        if (!display || display === 'none') {{\n            console.log([gd, 'removed!']);\n            Plotly.purge(gd);\n            observer.disconnect();\n        }}\n}});\n\n// Listen for the removal of the full notebook cells\nvar notebookContainer = gd.closest('#notebook-container');\nif (notebookContainer) {{\n    x.observe(notebookContainer, {childList: true});\n}}\n\n// Listen for the clearing of the current output cell\nvar outputEl = gd.closest('.output');\nif (outputEl) {{\n    x.observe(outputEl, {childList: true});\n}}\n\n                        })                };                            </script>        </div>\n</body>\n</html>"
     },
     "execution_count": 96,
     "metadata": {
     },
     "output_type": "execute_result"
    }
   ],
   "source": [
    "px.scatter(x = List_degree, y = List_mae_PR)"
   ]
  },
  {
   "cell_type": "code",
   "execution_count": 97,
   "metadata": {
    "collapsed": false,
    "scrolled": true
   },
   "outputs": [
    {
     "name": "stdout",
     "output_type": "stream",
     "text": [
      "[13855.46009855]\n"
     ]
    },
    {
     "data": {
      "image/png": "[encoded data removed]",
      "text/plain": [
       "<Figure size 432x288 with 1 Axes>"
      ]
     },
     "execution_count": 97,
     "metadata": {
      "needs_background": "light"
     },
     "output_type": "execute_result"
    },
    {
     "name": "stdout",
     "output_type": "stream",
     "text": [
      "[13898.8787241]\n"
     ]
    },
    {
     "data": {
      "image/png": "[encoded data removed]",
      "text/plain": [
       "<Figure size 432x288 with 1 Axes>"
      ]
     },
     "execution_count": 97,
     "metadata": {
      "needs_background": "light"
     },
     "output_type": "execute_result"
    }
   ],
   "source": [
    "# degree = 2\n",
    "pr = PolynomialFeatures(degree=2)\n",
    "\n",
    "X_Train_poly = pr.fit_transform(x_train_rm)\n",
    "X_Test_poly = pr.fit_transform(x_test_rm)\n",
    "\n",
    "lr = LinearRegression()\n",
    "lr.fit(X_Train_poly,y_train) #great\n",
    "\n",
    "pred_poly2 = lr.predict(X_Test_poly)\n",
    "mae_polyreg = mae(pred_poly2, list(y_test['Store_Sales']))\n",
    "print(mae_polyreg)\n",
    "\n",
    "plt.scatter(pred_poly2, y_test_rm)\n",
    "plt.show()\n",
    "\n",
    "# degree = 3\n",
    "pr = PolynomialFeatures(degree=3)\n",
    "\n",
    "X_Train_poly = pr.fit_transform(x_train_rm)\n",
    "X_Test_poly = pr.fit_transform(x_test_rm)\n",
    "\n",
    "# Remember to declare the model again whenever you want to fit new data\n",
    "lr = LinearRegression()\n",
    "lr.fit(X_Train_poly,y_train)\n",
    "\n",
    "pred_poly3 = lr.predict(X_Test_poly)\n",
    "print(mae(pred_poly3, list(y_test['Store_Sales'])))\n",
    "\n",
    "plt.scatter(pred_poly3, y_test_rm)\n",
    "plt.show()\n"
   ]
  },
  {
   "cell_type": "code",
   "execution_count": 98,
   "metadata": {
    "collapsed": false
   },
   "outputs": [
    {
     "name": "stdout",
     "output_type": "stream",
     "text": [
      "[13855.46009855]\n"
     ]
    }
   ],
   "source": [
    "print(mae_polyreg)"
   ]
  },
  {
   "cell_type": "markdown",
   "metadata": {
    "collapsed": false
   },
   "source": [
    "### Decision Tree Regression \\(April\\)\n",
    "\n"
   ]
  },
  {
   "cell_type": "code",
   "execution_count": 99,
   "metadata": {
    "collapsed": false
   },
   "outputs": [
    {
     "data": {
      "text/plain": [
       "19012.48888888889"
      ]
     },
     "execution_count": 99,
     "metadata": {
     },
     "output_type": "execute_result"
    }
   ],
   "source": [
    "List_depth = [1, 2, 3, 5, 8, 10, 30, 45, 60]\n",
    "List_mae_dt = []\n",
    "for d in List_depth:\n",
    "    regr = DecisionTreeRegressor(max_depth = d)\n",
    "    regr.fit(x_train_rm, y_train_rm)\n",
    "\n",
    "    pred = regr.predict(x_test_rm)\n",
    "    mae_dectr = mae(pred, list(y_test_rm['Store_Sales']))\n",
    "    List_mae_dt.append(mae_dectr)\n",
    "\n",
    "fig = px.scatter(x = List_depth, y= List_mae_dt)\n",
    "\n",
    "fig.update_layout(\n",
    "    title=\"MAE - Max Depth\",\n",
    "    xaxis_title=\"Max Depth\",\n",
    "    yaxis_title=\"MAE\",\n",
    "    legend_title=\"Legend Title\",\n",
    "    font=dict(\n",
    "        family=\"Courier New, monospace\",\n",
    "        size=18,\n",
    "        color=\"RebeccaPurple\"\n",
    "    )\n",
    ")\n",
    "\n",
    "mae_dectr"
   ]
  },
  {
   "cell_type": "code",
   "execution_count": 100,
   "metadata": {
    "collapsed": false,
    "scrolled": true
   },
   "outputs": [
    {
     "data": {
      "image/png": "[encoded data removed]",
      "text/plain": [
       "<Figure size 432x288 with 1 Axes>"
      ]
     },
     "execution_count": 100,
     "metadata": {
      "needs_background": "light"
     },
     "output_type": "execute_result"
    }
   ],
   "source": [
    "## fit regression model\n",
    "\n",
    "regr_1 = DecisionTreeRegressor(max_depth=9)\n",
    "regr_2 = DecisionTreeRegressor(max_depth=60)\n",
    "regr_1.fit(x_train, y_train['Store_Sales'])\n",
    "regr_2.fit(x_train, y_train['Store_Sales'])\n",
    "## predict\n",
    "\n",
    "y_1 = regr_1.predict(x_test)\n",
    "y_2 = regr_2.predict(x_test)\n",
    "## plot the results\n",
    "\n",
    "plt.figure()\n",
    "plt.scatter(y_test['Store_Sales'], y_1, color=\"cornflowerblue\", label=\"max_depth=9\", linewidth=2)\n",
    "plt.scatter(y_test['Store_Sales'], y_2, color=\"yellowgreen\", label=\"max_depth=60\", linewidth=2)\n",
    "plt.xlabel(\"Store_Sales\")\n",
    "plt.ylabel(\"target\")\n",
    "plt.title(\"Decision Tree Regression\")\n",
    "plt.legend()\n",
    "plt.show()\n"
   ]
  },
  {
   "cell_type": "markdown",
   "metadata": {
    "collapsed": false
   },
   "source": [
    "### Elastic Net\n",
    "\n"
   ]
  },
  {
   "cell_type": "code",
   "execution_count": 101,
   "metadata": {
    "collapsed": false
   },
   "outputs": [
    {
     "data": {
      "text/plain": [
       "14533.451798521864"
      ]
     },
     "execution_count": 101,
     "metadata": {
     },
     "output_type": "execute_result"
    }
   ],
   "source": [
    "regr = ElasticNet(alpha = 0.8,l1_ratio = 0.8, random_state=42)\n",
    "regr.fit(x_train_rm, y_train_rm['Store_Sales'])\n",
    "pred_en = regr.predict(x_test_rm)\n",
    "mae_enet = mae(pred_en, list(y_test_rm['Store_Sales']))\n",
    "mae_enet"
   ]
  },
  {
   "cell_type": "code",
   "execution_count": 102,
   "metadata": {
    "collapsed": false
   },
   "outputs": [
    {
     "data": {
      "text/html": "<html>\n<head><meta charset=\"utf-8\" /></head>\n<body>\n    <div>            <script src=\"https://cdnjs.cloudflare.com/ajax/libs/mathjax/2.7.5/MathJax.js?config=TeX-AMS-MML_SVG\"></script><script type=\"text/javascript\">if (window.MathJax) {MathJax.Hub.Config({SVG: {font: \"STIX-Web\"}});}</script>                <script type=\"text/javascript\">window.PlotlyConfig = {MathJaxConfig: 'local'};</script>\n        <script src=\"https://cdn.plot.ly/plotly-2.9.0.min.js\"></script>                <div id=\"7e5f10ee-bc4c-445d-b5fc-f2e27953ca97\" class=\"plotly-graph-div\" style=\"height:525px; width:100%;\"></div>            <script type=\"text/javascript\">                                    window.PLOTLYENV=window.PLOTLYENV || {};                                    if (document.getElementById(\"7e5f10ee-bc4c-445d-b5fc-f2e27953ca97\")) {                    Plotly.newPlot(                        \"7e5f10ee-bc4c-445d-b5fc-f2e27953ca97\",                        [{\"hovertemplate\":\"x=%{x}<br>y=%{y}<extra></extra>\",\"legendgroup\":\"\",\"marker\":{\"color\":\"#636efa\",\"symbol\":\"circle\"},\"mode\":\"markers\",\"name\":\"\",\"orientation\":\"v\",\"showlegend\":false,\"x\":[58292.97137087105,58403.4869523309,59288.31324491473,59575.22529383149,58158.06306413894,57472.5102246265,59543.57205869083,58659.80599353104,58769.88499273281,58524.837862773784,59900.98185100813,58447.95746296174,58413.828490026615,59570.106731518936,59562.005043617304,57869.541138007204,58629.5490682596,58540.896420244244,56824.0566105502,59526.9719484704,59921.937507244904,58615.51233997972,58837.16795859095,57690.23737964911,59843.2656319338,57946.482172369964,59242.16280979415,59873.10276129293,59425.97275475704,59389.09259613297,58440.38706971795,57612.79997384566,58273.43930462442,57560.450790225506,57762.53683921958,57972.72536921959,57920.606286186696,57155.36513988027,57931.84958420255,58255.806011417866,58629.966502280266,59594.6395513407,58297.925931770864,59029.60221422977,57868.34079861239,58747.45978951358,59473.55388296395,59141.848654059235,59958.03950169937,58233.00799806596,56696.697980037134,59946.952291474496,59304.80813153899,59645.946086986885,59362.95146788357,57720.04093631669,58020.35977577675,57928.10032216384,58917.18445162963,59215.35736059106,61232.036389807705,56646.98141510674,59741.34473655859,59042.851077669206,60299.50326407906,57970.18666982529,60427.15890487945,60254.88849253671,57208.712382428916,58517.45795795935,58932.991920962544,57182.28446714179,59075.6689533045,59175.6509572732,60356.65642027436,59442.2343857981,60071.36216219434,59778.20340247486,59319.348369198284,59886.84958238167,58003.070696898896,57598.767158823495,57773.632686485456,58713.396968016765,58438.84092978584,58257.868245870646,59041.58303547002,59222.86794723097,58782.23312463942,58976.48429658534,59244.55955790479,59024.89767783766,58113.724821542186,58078.44956324554,59009.0393094674,58956.07908324382,58144.73683206682,58422.60971644037,58384.833314383744,58407.519846411386,58904.38870368977,58964.685056207905,59634.520415003906,59318.3135825823,57908.49480054224,57589.97963983912,59110.7314373597,59620.317087736636,57582.54384167852,57437.54090160499,60511.73803529038,57870.95032096448,58279.11146482818,57828.17238964969,58834.4062617056,59129.52360106903,58850.34280923412,59016.86369274041,56984.75472810681,57837.66488795422,58360.566547153685,59074.43190364347,58121.85351903919,58536.23099085253,60432.55242735025,60119.59477310941,59182.24797413476,59113.43567211154,58582.31610248163,57500.2906538417,59306.15433547518,58307.224045809584,58578.35327309717,57086.819683553054,59256.847090103205,58247.6159036871,59082.060517282545,60920.69019899045,58804.53161155468,59094.06443486045,60883.62113814563,58019.590231226895,59746.501612767235,59444.189827867376,60722.50006968077,58300.44941360673,59588.325373416614,57611.852813954494,59219.08588818375,60064.42249979142,59570.21667889839,57528.73143848907,58683.445167494894,58936.86396862624,59374.29185761209,60180.22088065958,59083.076948765425,57603.861849115354,57856.942981592896,58844.35921428891,58679.24491616524,59137.0654159301,58980.13962190733,58329.28770835431,59334.60067185267,57918.560062396646,58046.437131900755,60002.1379604593,56961.182446421764,58037.76112908318,58921.327258247045,59214.195857671104,59890.978775070515,57734.34214840093,60125.480483237654,59817.10613113002,57283.526634530455,58349.56699849617,57895.18928549487,58989.25694818753,58851.23409320038,59105.08392485968,58087.72613231267,61024.94567398078,61028.06496344038,58219.08826799794,58879.136497514985,58522.28502687217,58175.572002933186,57949.181683338524,58860.62872410921,57830.38598811017,58913.580818449285,57860.088522386104,60616.65229692554,59060.66277932137,57698.1701066717,60777.568688189924,56382.32562595143,59320.783768646645,58778.01947764295,59355.698008847554,58907.80029707468,60533.40575652223,60083.96426670889,57970.11898444218,60910.59947890674,56939.858146414306,60006.250585064125,60004.71728337754,58083.20342988765,58971.684254689164,59793.15790173761,58994.837533566206,58413.86916581435,57195.87282112664,60093.882077813316,56686.60098480406,58836.36902513281,59808.76700386194,59739.62098128517,58640.35106023409,58297.821518700264,58198.67910655617,58330.43058561561],\"xaxis\":\"x\",\"y\":[81870,57200,84360,81260,82350,80830,30610,51310,72940,52450,66070,43190,40730,78530,94690,44400,73800,37390,64120,22310,62380,63850,36210,54590,69610,65390,78130,55710,69210,59940,72550,44260,82390,54590,69990,72740,35360,94370,43520,36000,99480,83220,52940,93360,73590,53840,47350,65080,62050,49510,35590,63050,65300,69560,41910,28330,55980,61080,51380,84410,64690,45780,41800,53230,36160,40450,57910,36280,39190,62380,21470,34610,88120,59190,36290,53760,66300,93000,65660,81930,60060,59530,46380,76200,56860,86620,49730,88370,49160,38560,51990,46040,49500,76670,75800,58440,85720,70940,62420,56880,101820,86890,47300,31270,65410,67390,54530,79760,78060,74080,52990,70580,34310,74160,59190,43370,56710,59820,36190,60440,75300,74080,60440,80720,47060,86830,56790,67090,44370,82970,53760,55390,73500,41050,67320,65890,56380,85670,70830,48180,51910,44320,73610,54060,85000,49030,84300,81390,95900,71830,79310,87890,48610,73160,36280,49720,44400,47590,51460,57750,66000,45950,53900,37920,63100,36770,43910,66390,59160,38510,46220,41500,58160,38530,55880,70940,53940,59820,55500,49990,65970,63020,73810,70230,59950,78100,92640,63540,87220,41990,79410,54380,58600,48950,40670,52340,39140,41090,25600,100900,77080,80580,46230,98260,75930,52050,87000,88270,57820,76420,70980,76740,47920,52160,32740,72270,77430,92370,46580,70620,66390,82080,76440,96610,54340],\"yaxis\":\"y\",\"type\":\"scatter\"}],                        {\"template\":{\"data\":{\"bar\":[{\"error_x\":{\"color\":\"#2a3f5f\"},\"error_y\":{\"color\":\"#2a3f5f\"},\"marker\":{\"line\":{\"color\":\"#E5ECF6\",\"width\":0.5},\"pattern\":{\"fillmode\":\"overlay\",\"size\":10,\"solidity\":0.2}},\"type\":\"bar\"}],\"barpolar\":[{\"marker\":{\"line\":{\"color\":\"#E5ECF6\",\"width\":0.5},\"pattern\":{\"fillmode\":\"overlay\",\"size\":10,\"solidity\":0.2}},\"type\":\"barpolar\"}],\"carpet\":[{\"aaxis\":{\"endlinecolor\":\"#2a3f5f\",\"gridcolor\":\"white\",\"linecolor\":\"white\",\"minorgridcolor\":\"white\",\"startlinecolor\":\"#2a3f5f\"},\"baxis\":{\"endlinecolor\":\"#2a3f5f\",\"gridcolor\":\"white\",\"linecolor\":\"white\",\"minorgridcolor\":\"white\",\"startlinecolor\":\"#2a3f5f\"},\"type\":\"carpet\"}],\"choropleth\":[{\"colorbar\":{\"outlinewidth\":0,\"ticks\":\"\"},\"type\":\"choropleth\"}],\"contour\":[{\"colorbar\":{\"outlinewidth\":0,\"ticks\":\"\"},\"colorscale\":[[0.0,\"#0d0887\"],[0.1111111111111111,\"#46039f\"],[0.2222222222222222,\"#7201a8\"],[0.3333333333333333,\"#9c179e\"],[0.4444444444444444,\"#bd3786\"],[0.5555555555555556,\"#d8576b\"],[0.6666666666666666,\"#ed7953\"],[0.7777777777777778,\"#fb9f3a\"],[0.8888888888888888,\"#fdca26\"],[1.0,\"#f0f921\"]],\"type\":\"contour\"}],\"contourcarpet\":[{\"colorbar\":{\"outlinewidth\":0,\"ticks\":\"\"},\"type\":\"contourcarpet\"}],\"heatmap\":[{\"colorbar\":{\"outlinewidth\":0,\"ticks\":\"\"},\"colorscale\":[[0.0,\"#0d0887\"],[0.1111111111111111,\"#46039f\"],[0.2222222222222222,\"#7201a8\"],[0.3333333333333333,\"#9c179e\"],[0.4444444444444444,\"#bd3786\"],[0.5555555555555556,\"#d8576b\"],[0.6666666666666666,\"#ed7953\"],[0.7777777777777778,\"#fb9f3a\"],[0.8888888888888888,\"#fdca26\"],[1.0,\"#f0f921\"]],\"type\":\"heatmap\"}],\"heatmapgl\":[{\"colorbar\":{\"outlinewidth\":0,\"ticks\":\"\"},\"colorscale\":[[0.0,\"#0d0887\"],[0.1111111111111111,\"#46039f\"],[0.2222222222222222,\"#7201a8\"],[0.3333333333333333,\"#9c179e\"],[0.4444444444444444,\"#bd3786\"],[0.5555555555555556,\"#d8576b\"],[0.6666666666666666,\"#ed7953\"],[0.7777777777777778,\"#fb9f3a\"],[0.8888888888888888,\"#fdca26\"],[1.0,\"#f0f921\"]],\"type\":\"heatmapgl\"}],\"histogram\":[{\"marker\":{\"pattern\":{\"fillmode\":\"overlay\",\"size\":10,\"solidity\":0.2}},\"type\":\"histogram\"}],\"histogram2d\":[{\"colorbar\":{\"outlinewidth\":0,\"ticks\":\"\"},\"colorscale\":[[0.0,\"#0d0887\"],[0.1111111111111111,\"#46039f\"],[0.2222222222222222,\"#7201a8\"],[0.3333333333333333,\"#9c179e\"],[0.4444444444444444,\"#bd3786\"],[0.5555555555555556,\"#d8576b\"],[0.6666666666666666,\"#ed7953\"],[0.7777777777777778,\"#fb9f3a\"],[0.8888888888888888,\"#fdca26\"],[1.0,\"#f0f921\"]],\"type\":\"histogram2d\"}],\"histogram2dcontour\":[{\"colorbar\":{\"outlinewidth\":0,\"ticks\":\"\"},\"colorscale\":[[0.0,\"#0d0887\"],[0.1111111111111111,\"#46039f\"],[0.2222222222222222,\"#7201a8\"],[0.3333333333333333,\"#9c179e\"],[0.4444444444444444,\"#bd3786\"],[0.5555555555555556,\"#d8576b\"],[0.6666666666666666,\"#ed7953\"],[0.7777777777777778,\"#fb9f3a\"],[0.8888888888888888,\"#fdca26\"],[1.0,\"#f0f921\"]],\"type\":\"histogram2dcontour\"}],\"mesh3d\":[{\"colorbar\":{\"outlinewidth\":0,\"ticks\":\"\"},\"type\":\"mesh3d\"}],\"parcoords\":[{\"line\":{\"colorbar\":{\"outlinewidth\":0,\"ticks\":\"\"}},\"type\":\"parcoords\"}],\"pie\":[{\"automargin\":true,\"type\":\"pie\"}],\"scatter\":[{\"marker\":{\"colorbar\":{\"outlinewidth\":0,\"ticks\":\"\"}},\"type\":\"scatter\"}],\"scatter3d\":[{\"line\":{\"colorbar\":{\"outlinewidth\":0,\"ticks\":\"\"}},\"marker\":{\"colorbar\":{\"outlinewidth\":0,\"ticks\":\"\"}},\"type\":\"scatter3d\"}],\"scattercarpet\":[{\"marker\":{\"colorbar\":{\"outlinewidth\":0,\"ticks\":\"\"}},\"type\":\"scattercarpet\"}],\"scattergeo\":[{\"marker\":{\"colorbar\":{\"outlinewidth\":0,\"ticks\":\"\"}},\"type\":\"scattergeo\"}],\"scattergl\":[{\"marker\":{\"colorbar\":{\"outlinewidth\":0,\"ticks\":\"\"}},\"type\":\"scattergl\"}],\"scattermapbox\":[{\"marker\":{\"colorbar\":{\"outlinewidth\":0,\"ticks\":\"\"}},\"type\":\"scattermapbox\"}],\"scatterpolar\":[{\"marker\":{\"colorbar\":{\"outlinewidth\":0,\"ticks\":\"\"}},\"type\":\"scatterpolar\"}],\"scatterpolargl\":[{\"marker\":{\"colorbar\":{\"outlinewidth\":0,\"ticks\":\"\"}},\"type\":\"scatterpolargl\"}],\"scatterternary\":[{\"marker\":{\"colorbar\":{\"outlinewidth\":0,\"ticks\":\"\"}},\"type\":\"scatterternary\"}],\"surface\":[{\"colorbar\":{\"outlinewidth\":0,\"ticks\":\"\"},\"colorscale\":[[0.0,\"#0d0887\"],[0.1111111111111111,\"#46039f\"],[0.2222222222222222,\"#7201a8\"],[0.3333333333333333,\"#9c179e\"],[0.4444444444444444,\"#bd3786\"],[0.5555555555555556,\"#d8576b\"],[0.6666666666666666,\"#ed7953\"],[0.7777777777777778,\"#fb9f3a\"],[0.8888888888888888,\"#fdca26\"],[1.0,\"#f0f921\"]],\"type\":\"surface\"}],\"table\":[{\"cells\":{\"fill\":{\"color\":\"#EBF0F8\"},\"line\":{\"color\":\"white\"}},\"header\":{\"fill\":{\"color\":\"#C8D4E3\"},\"line\":{\"color\":\"white\"}},\"type\":\"table\"}]},\"layout\":{\"annotationdefaults\":{\"arrowcolor\":\"#2a3f5f\",\"arrowhead\":0,\"arrowwidth\":1},\"autotypenumbers\":\"strict\",\"coloraxis\":{\"colorbar\":{\"outlinewidth\":0,\"ticks\":\"\"}},\"colorscale\":{\"diverging\":[[0,\"#8e0152\"],[0.1,\"#c51b7d\"],[0.2,\"#de77ae\"],[0.3,\"#f1b6da\"],[0.4,\"#fde0ef\"],[0.5,\"#f7f7f7\"],[0.6,\"#e6f5d0\"],[0.7,\"#b8e186\"],[0.8,\"#7fbc41\"],[0.9,\"#4d9221\"],[1,\"#276419\"]],\"sequential\":[[0.0,\"#0d0887\"],[0.1111111111111111,\"#46039f\"],[0.2222222222222222,\"#7201a8\"],[0.3333333333333333,\"#9c179e\"],[0.4444444444444444,\"#bd3786\"],[0.5555555555555556,\"#d8576b\"],[0.6666666666666666,\"#ed7953\"],[0.7777777777777778,\"#fb9f3a\"],[0.8888888888888888,\"#fdca26\"],[1.0,\"#f0f921\"]],\"sequentialminus\":[[0.0,\"#0d0887\"],[0.1111111111111111,\"#46039f\"],[0.2222222222222222,\"#7201a8\"],[0.3333333333333333,\"#9c179e\"],[0.4444444444444444,\"#bd3786\"],[0.5555555555555556,\"#d8576b\"],[0.6666666666666666,\"#ed7953\"],[0.7777777777777778,\"#fb9f3a\"],[0.8888888888888888,\"#fdca26\"],[1.0,\"#f0f921\"]]},\"colorway\":[\"#636efa\",\"#EF553B\",\"#00cc96\",\"#ab63fa\",\"#FFA15A\",\"#19d3f3\",\"#FF6692\",\"#B6E880\",\"#FF97FF\",\"#FECB52\"],\"font\":{\"color\":\"#2a3f5f\"},\"geo\":{\"bgcolor\":\"white\",\"lakecolor\":\"white\",\"landcolor\":\"#E5ECF6\",\"showlakes\":true,\"showland\":true,\"subunitcolor\":\"white\"},\"hoverlabel\":{\"align\":\"left\"},\"hovermode\":\"closest\",\"mapbox\":{\"style\":\"light\"},\"paper_bgcolor\":\"white\",\"plot_bgcolor\":\"#E5ECF6\",\"polar\":{\"angularaxis\":{\"gridcolor\":\"white\",\"linecolor\":\"white\",\"ticks\":\"\"},\"bgcolor\":\"#E5ECF6\",\"radialaxis\":{\"gridcolor\":\"white\",\"linecolor\":\"white\",\"ticks\":\"\"}},\"scene\":{\"xaxis\":{\"backgroundcolor\":\"#E5ECF6\",\"gridcolor\":\"white\",\"gridwidth\":2,\"linecolor\":\"white\",\"showbackground\":true,\"ticks\":\"\",\"zerolinecolor\":\"white\"},\"yaxis\":{\"backgroundcolor\":\"#E5ECF6\",\"gridcolor\":\"white\",\"gridwidth\":2,\"linecolor\":\"white\",\"showbackground\":true,\"ticks\":\"\",\"zerolinecolor\":\"white\"},\"zaxis\":{\"backgroundcolor\":\"#E5ECF6\",\"gridcolor\":\"white\",\"gridwidth\":2,\"linecolor\":\"white\",\"showbackground\":true,\"ticks\":\"\",\"zerolinecolor\":\"white\"}},\"shapedefaults\":{\"line\":{\"color\":\"#2a3f5f\"}},\"ternary\":{\"aaxis\":{\"gridcolor\":\"white\",\"linecolor\":\"white\",\"ticks\":\"\"},\"baxis\":{\"gridcolor\":\"white\",\"linecolor\":\"white\",\"ticks\":\"\"},\"bgcolor\":\"#E5ECF6\",\"caxis\":{\"gridcolor\":\"white\",\"linecolor\":\"white\",\"ticks\":\"\"}},\"title\":{\"x\":0.05},\"xaxis\":{\"automargin\":true,\"gridcolor\":\"white\",\"linecolor\":\"white\",\"ticks\":\"\",\"title\":{\"standoff\":15},\"zerolinecolor\":\"white\",\"zerolinewidth\":2},\"yaxis\":{\"automargin\":true,\"gridcolor\":\"white\",\"linecolor\":\"white\",\"ticks\":\"\",\"title\":{\"standoff\":15},\"zerolinecolor\":\"white\",\"zerolinewidth\":2}}},\"xaxis\":{\"anchor\":\"y\",\"domain\":[0.0,1.0],\"title\":{\"text\":\"Prediction\"}},\"yaxis\":{\"anchor\":\"x\",\"domain\":[0.0,1.0],\"title\":{\"text\":\"True Value\"}},\"legend\":{\"tracegroupgap\":0,\"title\":{\"text\":\"Legend Title\"}},\"margin\":{\"t\":60},\"font\":{\"family\":\"Courier New, monospace\",\"size\":18,\"color\":\"RebeccaPurple\"},\"title\":{\"text\":\"Prediction v.s. True Value\"}},                        {\"responsive\": true}                    ).then(function(){\n                            \nvar gd = document.getElementById('7e5f10ee-bc4c-445d-b5fc-f2e27953ca97');\nvar x = new MutationObserver(function (mutations, observer) {{\n        var display = window.getComputedStyle(gd).display;\n        if (!display || display === 'none') {{\n            console.log([gd, 'removed!']);\n            Plotly.purge(gd);\n            observer.disconnect();\n        }}\n}});\n\n// Listen for the removal of the full notebook cells\nvar notebookContainer = gd.closest('#notebook-container');\nif (notebookContainer) {{\n    x.observe(notebookContainer, {childList: true});\n}}\n\n// Listen for the clearing of the current output cell\nvar outputEl = gd.closest('.output');\nif (outputEl) {{\n    x.observe(outputEl, {childList: true});\n}}\n\n                        })                };                            </script>        </div>\n</body>\n</html>"
     },
     "execution_count": 102,
     "metadata": {
     },
     "output_type": "execute_result"
    }
   ],
   "source": [
    "fig = px.scatter(x = pred_en, y= list(y_test_rm['Store_Sales']))\n",
    "\n",
    "fig.update_layout(\n",
    "    title=\"Prediction v.s. True Value\",\n",
    "    xaxis_title=\"Prediction\",\n",
    "    yaxis_title=\"True Value\",\n",
    "    legend_title=\"Legend Title\",\n",
    "    font=dict(\n",
    "        family=\"Courier New, monospace\",\n",
    "        size=18,\n",
    "        color=\"RebeccaPurple\"\n",
    "    )\n",
    ")\n",
    "\n",
    "fig.show()"
   ]
  },
  {
   "cell_type": "markdown",
   "metadata": {
    "collapsed": false
   },
   "source": [
    "## Evaluation\n",
    "\n"
   ]
  },
  {
   "cell_type": "code",
   "execution_count": 103,
   "metadata": {
    "collapsed": false
   },
   "outputs": [
    {
     "name": "stdout",
     "output_type": "stream",
     "text": [
      "MAE for Linear Regreesion:\t         14294.48\n",
      "MAE for Random Forest Regreesion:        15684.4\n",
      "MAE for XGBoosting Regreesion:\t         19106.32\n",
      "MAE for Gradient Boosting:\t         15198.76\n",
      "MAE for Neural Network:\t                 14505.91\n",
      "MAE for Polynomial Regression:\t         13855.46\n",
      "MAE for Decision Tree Regression:\t 19012.49\n",
      "MAE for Elastic Net:\t                 14533.45\n",
      "\n",
      "\n",
      "Goal for the MAE lower than 13228\n"
     ]
    }
   ],
   "source": [
    "print('MAE for Linear Regreesion:\\t        ', round(MAE_lin[0],2))\n",
    "print('MAE for Random Forest Regreesion:       ', round(MAE_rf,2))\n",
    "print('MAE for XGBoosting Regreesion:\\t        ', round(mae_xgb,2))\n",
    "print('MAE for Gradient Boosting:\\t        ', round(mae_gb,2))\n",
    "print('MAE for Neural Network:\\t                ', round(mae_mlp, 2))\n",
    "print('MAE for Polynomial Regression:\\t        ', round(mae(pred_poly2, list(y_test['Store_Sales']))[0], 2))\n",
    "print('MAE for Decision Tree Regression:\\t', round(mae_dectr, 2))\n",
    "print('MAE for Elastic Net:\\t                ', round(mae_enet, 2))\n",
    "print('\\n')\n",
    "print('Goal for the MAE 0.lower than 13228')"
   ]
  },
  {
   "cell_type": "code",
   "execution_count": 114,
   "metadata": {
    "collapsed": false
   },
   "outputs": [
    {
     "data": {
      "text/html": [
       "<div>\n",
       "<style scoped>\n",
       "    .dataframe tbody tr th:only-of-type {\n",
       "        vertical-align: middle;\n",
       "    }\n",
       "\n",
       "    .dataframe tbody tr th {\n",
       "        vertical-align: top;\n",
       "    }\n",
       "\n",
       "    .dataframe thead th {\n",
       "        text-align: right;\n",
       "    }\n",
       "</style>\n",
       "<table border=\"1\" class=\"dataframe\">\n",
       "  <thead>\n",
       "    <tr style=\"text-align: right;\">\n",
       "      <th></th>\n",
       "      <th>Model</th>\n",
       "      <th>Mean Absolute Error (MAE)</th>\n",
       "    </tr>\n",
       "  </thead>\n",
       "  <tbody>\n",
       "    <tr>\n",
       "      <th>0</th>\n",
       "      <td>Linear Regreesion</td>\n",
       "      <td>14294.48</td>\n",
       "    </tr>\n",
       "    <tr>\n",
       "      <th>1</th>\n",
       "      <td>Random Forest Regreesion</td>\n",
       "      <td>15684.40</td>\n",
       "    </tr>\n",
       "    <tr>\n",
       "      <th>2</th>\n",
       "      <td>XGBoosting Regreesion</td>\n",
       "      <td>19106.32</td>\n",
       "    </tr>\n",
       "    <tr>\n",
       "      <th>3</th>\n",
       "      <td>Gradient Boosting</td>\n",
       "      <td>15198.76</td>\n",
       "    </tr>\n",
       "    <tr>\n",
       "      <th>4</th>\n",
       "      <td>Neural Network</td>\n",
       "      <td>14505.91</td>\n",
       "    </tr>\n",
       "    <tr>\n",
       "      <th>5</th>\n",
       "      <td>Polynomial Regression</td>\n",
       "      <td>13855.46</td>\n",
       "    </tr>\n",
       "    <tr>\n",
       "      <th>6</th>\n",
       "      <td>Decision Tree Regression</td>\n",
       "      <td>19156.40</td>\n",
       "    </tr>\n",
       "    <tr>\n",
       "      <th>7</th>\n",
       "      <td>Elastic Net</td>\n",
       "      <td>14533.45</td>\n",
       "    </tr>\n",
       "    <tr>\n",
       "      <th>8</th>\n",
       "      <td>Goal</td>\n",
       "      <td>13228.00</td>\n",
       "    </tr>\n",
       "  </tbody>\n",
       "</table>\n",
       "</div>"
      ],
      "text/plain": [
       "                      Model  Mean Absolute Error (MAE)\n",
       "0         Linear Regreesion                   14294.48\n",
       "1  Random Forest Regreesion                   15684.40\n",
       "2     XGBoosting Regreesion                   19106.32\n",
       "3         Gradient Boosting                   15198.76\n",
       "4            Neural Network                   14505.91\n",
       "5     Polynomial Regression                   13855.46\n",
       "6  Decision Tree Regression                   19156.40\n",
       "7               Elastic Net                   14533.45\n",
       "8                      Goal                   13228.00"
      ]
     },
     "execution_count": 114,
     "metadata": {
     },
     "output_type": "execute_result"
    }
   ],
   "source": [
    "#Creating a dataframe to make a boxplot for the MAE of the different machine learning models\n",
    "\n",
    "data = [['Linear Regreesion', 14294.48], ['Random Forest Regreesion',  15684.4], ['XGBoosting Regreesion', 19106.32], ['Gradient Boosting', 15198.76], ['Neural Network', 14505.91], ['Polynomial Regression', 13855.46], ['Decision Tree Regression', 19156.40], ['Elastic Net', 14533.45], ['Goal', 13228]]\n",
    "\n",
    "MAE_df = pd.DataFrame(data, columns=['Model', 'Mean Absolute Error (MAE)'])\n",
    "MAE_df"
   ]
  },
  {
   "cell_type": "code",
   "execution_count": 115,
   "metadata": {
    "collapsed": false
   },
   "outputs": [
    {
     "data": {
      "text/html": "<html>\n<head><meta charset=\"utf-8\" /></head>\n<body>\n    <div>            <script src=\"https://cdnjs.cloudflare.com/ajax/libs/mathjax/2.7.5/MathJax.js?config=TeX-AMS-MML_SVG\"></script><script type=\"text/javascript\">if (window.MathJax) {MathJax.Hub.Config({SVG: {font: \"STIX-Web\"}});}</script>                <script type=\"text/javascript\">window.PlotlyConfig = {MathJaxConfig: 'local'};</script>\n        <script src=\"https://cdn.plot.ly/plotly-2.9.0.min.js\"></script>                <div id=\"e22d556c-e638-4762-a719-66bcd61b3d07\" class=\"plotly-graph-div\" style=\"height:525px; width:100%;\"></div>            <script type=\"text/javascript\">                                    window.PLOTLYENV=window.PLOTLYENV || {};                                    if (document.getElementById(\"e22d556c-e638-4762-a719-66bcd61b3d07\")) {                    Plotly.newPlot(                        \"e22d556c-e638-4762-a719-66bcd61b3d07\",                        [{\"alignmentgroup\":\"True\",\"hovertemplate\":\"Model=%{x}<br>Mean Absolute Error (MAE)=%{y}<extra></extra>\",\"legendgroup\":\"Linear Regreesion\",\"marker\":{\"color\":\"#636efa\",\"pattern\":{\"shape\":\"\"}},\"name\":\"Linear Regreesion\",\"offsetgroup\":\"Linear Regreesion\",\"orientation\":\"v\",\"showlegend\":true,\"textposition\":\"auto\",\"x\":[\"Linear Regreesion\"],\"xaxis\":\"x\",\"y\":[14294.48],\"yaxis\":\"y\",\"type\":\"bar\"},{\"alignmentgroup\":\"True\",\"hovertemplate\":\"Model=%{x}<br>Mean Absolute Error (MAE)=%{y}<extra></extra>\",\"legendgroup\":\"Random Forest Regreesion\",\"marker\":{\"color\":\"#EF553B\",\"pattern\":{\"shape\":\"\"}},\"name\":\"Random Forest Regreesion\",\"offsetgroup\":\"Random Forest Regreesion\",\"orientation\":\"v\",\"showlegend\":true,\"textposition\":\"auto\",\"x\":[\"Random Forest Regreesion\"],\"xaxis\":\"x\",\"y\":[15684.4],\"yaxis\":\"y\",\"type\":\"bar\"},{\"alignmentgroup\":\"True\",\"hovertemplate\":\"Model=%{x}<br>Mean Absolute Error (MAE)=%{y}<extra></extra>\",\"legendgroup\":\"XGBoosting Regreesion\",\"marker\":{\"color\":\"#00cc96\",\"pattern\":{\"shape\":\"\"}},\"name\":\"XGBoosting Regreesion\",\"offsetgroup\":\"XGBoosting Regreesion\",\"orientation\":\"v\",\"showlegend\":true,\"textposition\":\"auto\",\"x\":[\"XGBoosting Regreesion\"],\"xaxis\":\"x\",\"y\":[19106.32],\"yaxis\":\"y\",\"type\":\"bar\"},{\"alignmentgroup\":\"True\",\"hovertemplate\":\"Model=%{x}<br>Mean Absolute Error (MAE)=%{y}<extra></extra>\",\"legendgroup\":\"Gradient Boosting\",\"marker\":{\"color\":\"#ab63fa\",\"pattern\":{\"shape\":\"\"}},\"name\":\"Gradient Boosting\",\"offsetgroup\":\"Gradient Boosting\",\"orientation\":\"v\",\"showlegend\":true,\"textposition\":\"auto\",\"x\":[\"Gradient Boosting\"],\"xaxis\":\"x\",\"y\":[15198.76],\"yaxis\":\"y\",\"type\":\"bar\"},{\"alignmentgroup\":\"True\",\"hovertemplate\":\"Model=%{x}<br>Mean Absolute Error (MAE)=%{y}<extra></extra>\",\"legendgroup\":\"Neural Network\",\"marker\":{\"color\":\"#FFA15A\",\"pattern\":{\"shape\":\"\"}},\"name\":\"Neural Network\",\"offsetgroup\":\"Neural Network\",\"orientation\":\"v\",\"showlegend\":true,\"textposition\":\"auto\",\"x\":[\"Neural Network\"],\"xaxis\":\"x\",\"y\":[14505.91],\"yaxis\":\"y\",\"type\":\"bar\"},{\"alignmentgroup\":\"True\",\"hovertemplate\":\"Model=%{x}<br>Mean Absolute Error (MAE)=%{y}<extra></extra>\",\"legendgroup\":\"Polynomial Regression\",\"marker\":{\"color\":\"#19d3f3\",\"pattern\":{\"shape\":\"\"}},\"name\":\"Polynomial Regression\",\"offsetgroup\":\"Polynomial Regression\",\"orientation\":\"v\",\"showlegend\":true,\"textposition\":\"auto\",\"x\":[\"Polynomial Regression\"],\"xaxis\":\"x\",\"y\":[13855.46],\"yaxis\":\"y\",\"type\":\"bar\"},{\"alignmentgroup\":\"True\",\"hovertemplate\":\"Model=%{x}<br>Mean Absolute Error (MAE)=%{y}<extra></extra>\",\"legendgroup\":\"Decision Tree Regression\",\"marker\":{\"color\":\"#FF6692\",\"pattern\":{\"shape\":\"\"}},\"name\":\"Decision Tree Regression\",\"offsetgroup\":\"Decision Tree Regression\",\"orientation\":\"v\",\"showlegend\":true,\"textposition\":\"auto\",\"x\":[\"Decision Tree Regression\"],\"xaxis\":\"x\",\"y\":[19156.4],\"yaxis\":\"y\",\"type\":\"bar\"},{\"alignmentgroup\":\"True\",\"hovertemplate\":\"Model=%{x}<br>Mean Absolute Error (MAE)=%{y}<extra></extra>\",\"legendgroup\":\"Elastic Net\",\"marker\":{\"color\":\"#B6E880\",\"pattern\":{\"shape\":\"\"}},\"name\":\"Elastic Net\",\"offsetgroup\":\"Elastic Net\",\"orientation\":\"v\",\"showlegend\":true,\"textposition\":\"auto\",\"x\":[\"Elastic Net\"],\"xaxis\":\"x\",\"y\":[14533.45],\"yaxis\":\"y\",\"type\":\"bar\"},{\"alignmentgroup\":\"True\",\"hovertemplate\":\"Model=%{x}<br>Mean Absolute Error (MAE)=%{y}<extra></extra>\",\"legendgroup\":\"Goal\",\"marker\":{\"color\":\"#FF97FF\",\"pattern\":{\"shape\":\"\"}},\"name\":\"Goal\",\"offsetgroup\":\"Goal\",\"orientation\":\"v\",\"showlegend\":true,\"textposition\":\"auto\",\"x\":[\"Goal\"],\"xaxis\":\"x\",\"y\":[13228.0],\"yaxis\":\"y\",\"type\":\"bar\"}],                        {\"template\":{\"data\":{\"bar\":[{\"error_x\":{\"color\":\"#2a3f5f\"},\"error_y\":{\"color\":\"#2a3f5f\"},\"marker\":{\"line\":{\"color\":\"#E5ECF6\",\"width\":0.5},\"pattern\":{\"fillmode\":\"overlay\",\"size\":10,\"solidity\":0.2}},\"type\":\"bar\"}],\"barpolar\":[{\"marker\":{\"line\":{\"color\":\"#E5ECF6\",\"width\":0.5},\"pattern\":{\"fillmode\":\"overlay\",\"size\":10,\"solidity\":0.2}},\"type\":\"barpolar\"}],\"carpet\":[{\"aaxis\":{\"endlinecolor\":\"#2a3f5f\",\"gridcolor\":\"white\",\"linecolor\":\"white\",\"minorgridcolor\":\"white\",\"startlinecolor\":\"#2a3f5f\"},\"baxis\":{\"endlinecolor\":\"#2a3f5f\",\"gridcolor\":\"white\",\"linecolor\":\"white\",\"minorgridcolor\":\"white\",\"startlinecolor\":\"#2a3f5f\"},\"type\":\"carpet\"}],\"choropleth\":[{\"colorbar\":{\"outlinewidth\":0,\"ticks\":\"\"},\"type\":\"choropleth\"}],\"contour\":[{\"colorbar\":{\"outlinewidth\":0,\"ticks\":\"\"},\"colorscale\":[[0.0,\"#0d0887\"],[0.1111111111111111,\"#46039f\"],[0.2222222222222222,\"#7201a8\"],[0.3333333333333333,\"#9c179e\"],[0.4444444444444444,\"#bd3786\"],[0.5555555555555556,\"#d8576b\"],[0.6666666666666666,\"#ed7953\"],[0.7777777777777778,\"#fb9f3a\"],[0.8888888888888888,\"#fdca26\"],[1.0,\"#f0f921\"]],\"type\":\"contour\"}],\"contourcarpet\":[{\"colorbar\":{\"outlinewidth\":0,\"ticks\":\"\"},\"type\":\"contourcarpet\"}],\"heatmap\":[{\"colorbar\":{\"outlinewidth\":0,\"ticks\":\"\"},\"colorscale\":[[0.0,\"#0d0887\"],[0.1111111111111111,\"#46039f\"],[0.2222222222222222,\"#7201a8\"],[0.3333333333333333,\"#9c179e\"],[0.4444444444444444,\"#bd3786\"],[0.5555555555555556,\"#d8576b\"],[0.6666666666666666,\"#ed7953\"],[0.7777777777777778,\"#fb9f3a\"],[0.8888888888888888,\"#fdca26\"],[1.0,\"#f0f921\"]],\"type\":\"heatmap\"}],\"heatmapgl\":[{\"colorbar\":{\"outlinewidth\":0,\"ticks\":\"\"},\"colorscale\":[[0.0,\"#0d0887\"],[0.1111111111111111,\"#46039f\"],[0.2222222222222222,\"#7201a8\"],[0.3333333333333333,\"#9c179e\"],[0.4444444444444444,\"#bd3786\"],[0.5555555555555556,\"#d8576b\"],[0.6666666666666666,\"#ed7953\"],[0.7777777777777778,\"#fb9f3a\"],[0.8888888888888888,\"#fdca26\"],[1.0,\"#f0f921\"]],\"type\":\"heatmapgl\"}],\"histogram\":[{\"marker\":{\"pattern\":{\"fillmode\":\"overlay\",\"size\":10,\"solidity\":0.2}},\"type\":\"histogram\"}],\"histogram2d\":[{\"colorbar\":{\"outlinewidth\":0,\"ticks\":\"\"},\"colorscale\":[[0.0,\"#0d0887\"],[0.1111111111111111,\"#46039f\"],[0.2222222222222222,\"#7201a8\"],[0.3333333333333333,\"#9c179e\"],[0.4444444444444444,\"#bd3786\"],[0.5555555555555556,\"#d8576b\"],[0.6666666666666666,\"#ed7953\"],[0.7777777777777778,\"#fb9f3a\"],[0.8888888888888888,\"#fdca26\"],[1.0,\"#f0f921\"]],\"type\":\"histogram2d\"}],\"histogram2dcontour\":[{\"colorbar\":{\"outlinewidth\":0,\"ticks\":\"\"},\"colorscale\":[[0.0,\"#0d0887\"],[0.1111111111111111,\"#46039f\"],[0.2222222222222222,\"#7201a8\"],[0.3333333333333333,\"#9c179e\"],[0.4444444444444444,\"#bd3786\"],[0.5555555555555556,\"#d8576b\"],[0.6666666666666666,\"#ed7953\"],[0.7777777777777778,\"#fb9f3a\"],[0.8888888888888888,\"#fdca26\"],[1.0,\"#f0f921\"]],\"type\":\"histogram2dcontour\"}],\"mesh3d\":[{\"colorbar\":{\"outlinewidth\":0,\"ticks\":\"\"},\"type\":\"mesh3d\"}],\"parcoords\":[{\"line\":{\"colorbar\":{\"outlinewidth\":0,\"ticks\":\"\"}},\"type\":\"parcoords\"}],\"pie\":[{\"automargin\":true,\"type\":\"pie\"}],\"scatter\":[{\"marker\":{\"colorbar\":{\"outlinewidth\":0,\"ticks\":\"\"}},\"type\":\"scatter\"}],\"scatter3d\":[{\"line\":{\"colorbar\":{\"outlinewidth\":0,\"ticks\":\"\"}},\"marker\":{\"colorbar\":{\"outlinewidth\":0,\"ticks\":\"\"}},\"type\":\"scatter3d\"}],\"scattercarpet\":[{\"marker\":{\"colorbar\":{\"outlinewidth\":0,\"ticks\":\"\"}},\"type\":\"scattercarpet\"}],\"scattergeo\":[{\"marker\":{\"colorbar\":{\"outlinewidth\":0,\"ticks\":\"\"}},\"type\":\"scattergeo\"}],\"scattergl\":[{\"marker\":{\"colorbar\":{\"outlinewidth\":0,\"ticks\":\"\"}},\"type\":\"scattergl\"}],\"scattermapbox\":[{\"marker\":{\"colorbar\":{\"outlinewidth\":0,\"ticks\":\"\"}},\"type\":\"scattermapbox\"}],\"scatterpolar\":[{\"marker\":{\"colorbar\":{\"outlinewidth\":0,\"ticks\":\"\"}},\"type\":\"scatterpolar\"}],\"scatterpolargl\":[{\"marker\":{\"colorbar\":{\"outlinewidth\":0,\"ticks\":\"\"}},\"type\":\"scatterpolargl\"}],\"scatterternary\":[{\"marker\":{\"colorbar\":{\"outlinewidth\":0,\"ticks\":\"\"}},\"type\":\"scatterternary\"}],\"surface\":[{\"colorbar\":{\"outlinewidth\":0,\"ticks\":\"\"},\"colorscale\":[[0.0,\"#0d0887\"],[0.1111111111111111,\"#46039f\"],[0.2222222222222222,\"#7201a8\"],[0.3333333333333333,\"#9c179e\"],[0.4444444444444444,\"#bd3786\"],[0.5555555555555556,\"#d8576b\"],[0.6666666666666666,\"#ed7953\"],[0.7777777777777778,\"#fb9f3a\"],[0.8888888888888888,\"#fdca26\"],[1.0,\"#f0f921\"]],\"type\":\"surface\"}],\"table\":[{\"cells\":{\"fill\":{\"color\":\"#EBF0F8\"},\"line\":{\"color\":\"white\"}},\"header\":{\"fill\":{\"color\":\"#C8D4E3\"},\"line\":{\"color\":\"white\"}},\"type\":\"table\"}]},\"layout\":{\"annotationdefaults\":{\"arrowcolor\":\"#2a3f5f\",\"arrowhead\":0,\"arrowwidth\":1},\"autotypenumbers\":\"strict\",\"coloraxis\":{\"colorbar\":{\"outlinewidth\":0,\"ticks\":\"\"}},\"colorscale\":{\"diverging\":[[0,\"#8e0152\"],[0.1,\"#c51b7d\"],[0.2,\"#de77ae\"],[0.3,\"#f1b6da\"],[0.4,\"#fde0ef\"],[0.5,\"#f7f7f7\"],[0.6,\"#e6f5d0\"],[0.7,\"#b8e186\"],[0.8,\"#7fbc41\"],[0.9,\"#4d9221\"],[1,\"#276419\"]],\"sequential\":[[0.0,\"#0d0887\"],[0.1111111111111111,\"#46039f\"],[0.2222222222222222,\"#7201a8\"],[0.3333333333333333,\"#9c179e\"],[0.4444444444444444,\"#bd3786\"],[0.5555555555555556,\"#d8576b\"],[0.6666666666666666,\"#ed7953\"],[0.7777777777777778,\"#fb9f3a\"],[0.8888888888888888,\"#fdca26\"],[1.0,\"#f0f921\"]],\"sequentialminus\":[[0.0,\"#0d0887\"],[0.1111111111111111,\"#46039f\"],[0.2222222222222222,\"#7201a8\"],[0.3333333333333333,\"#9c179e\"],[0.4444444444444444,\"#bd3786\"],[0.5555555555555556,\"#d8576b\"],[0.6666666666666666,\"#ed7953\"],[0.7777777777777778,\"#fb9f3a\"],[0.8888888888888888,\"#fdca26\"],[1.0,\"#f0f921\"]]},\"colorway\":[\"#636efa\",\"#EF553B\",\"#00cc96\",\"#ab63fa\",\"#FFA15A\",\"#19d3f3\",\"#FF6692\",\"#B6E880\",\"#FF97FF\",\"#FECB52\"],\"font\":{\"color\":\"#2a3f5f\"},\"geo\":{\"bgcolor\":\"white\",\"lakecolor\":\"white\",\"landcolor\":\"#E5ECF6\",\"showlakes\":true,\"showland\":true,\"subunitcolor\":\"white\"},\"hoverlabel\":{\"align\":\"left\"},\"hovermode\":\"closest\",\"mapbox\":{\"style\":\"light\"},\"paper_bgcolor\":\"white\",\"plot_bgcolor\":\"#E5ECF6\",\"polar\":{\"angularaxis\":{\"gridcolor\":\"white\",\"linecolor\":\"white\",\"ticks\":\"\"},\"bgcolor\":\"#E5ECF6\",\"radialaxis\":{\"gridcolor\":\"white\",\"linecolor\":\"white\",\"ticks\":\"\"}},\"scene\":{\"xaxis\":{\"backgroundcolor\":\"#E5ECF6\",\"gridcolor\":\"white\",\"gridwidth\":2,\"linecolor\":\"white\",\"showbackground\":true,\"ticks\":\"\",\"zerolinecolor\":\"white\"},\"yaxis\":{\"backgroundcolor\":\"#E5ECF6\",\"gridcolor\":\"white\",\"gridwidth\":2,\"linecolor\":\"white\",\"showbackground\":true,\"ticks\":\"\",\"zerolinecolor\":\"white\"},\"zaxis\":{\"backgroundcolor\":\"#E5ECF6\",\"gridcolor\":\"white\",\"gridwidth\":2,\"linecolor\":\"white\",\"showbackground\":true,\"ticks\":\"\",\"zerolinecolor\":\"white\"}},\"shapedefaults\":{\"line\":{\"color\":\"#2a3f5f\"}},\"ternary\":{\"aaxis\":{\"gridcolor\":\"white\",\"linecolor\":\"white\",\"ticks\":\"\"},\"baxis\":{\"gridcolor\":\"white\",\"linecolor\":\"white\",\"ticks\":\"\"},\"bgcolor\":\"#E5ECF6\",\"caxis\":{\"gridcolor\":\"white\",\"linecolor\":\"white\",\"ticks\":\"\"}},\"title\":{\"x\":0.05},\"xaxis\":{\"automargin\":true,\"gridcolor\":\"white\",\"linecolor\":\"white\",\"ticks\":\"\",\"title\":{\"standoff\":15},\"zerolinecolor\":\"white\",\"zerolinewidth\":2},\"yaxis\":{\"automargin\":true,\"gridcolor\":\"white\",\"linecolor\":\"white\",\"ticks\":\"\",\"title\":{\"standoff\":15},\"zerolinecolor\":\"white\",\"zerolinewidth\":2}}},\"xaxis\":{\"anchor\":\"y\",\"domain\":[0.0,1.0],\"title\":{\"text\":\"Model\"},\"categoryorder\":\"array\",\"categoryarray\":[\"Linear Regreesion\",\"Random Forest Regreesion\",\"XGBoosting Regreesion\",\"Gradient Boosting\",\"Neural Network\",\"Polynomial Regression\",\"Decision Tree Regression\",\"Elastic Net\",\"Goal\"]},\"yaxis\":{\"anchor\":\"x\",\"domain\":[0.0,1.0],\"title\":{\"text\":\"Mean Absolute Error (MAE)\"}},\"legend\":{\"title\":{\"text\":\"Model\"},\"tracegroupgap\":0},\"title\":{\"text\":\"Machine Learning Models' MAE\"},\"barmode\":\"relative\"},                        {\"responsive\": true}                    ).then(function(){\n                            \nvar gd = document.getElementById('e22d556c-e638-4762-a719-66bcd61b3d07');\nvar x = new MutationObserver(function (mutations, observer) {{\n        var display = window.getComputedStyle(gd).display;\n        if (!display || display === 'none') {{\n            console.log([gd, 'removed!']);\n            Plotly.purge(gd);\n            observer.disconnect();\n        }}\n}});\n\n// Listen for the removal of the full notebook cells\nvar notebookContainer = gd.closest('#notebook-container');\nif (notebookContainer) {{\n    x.observe(notebookContainer, {childList: true});\n}}\n\n// Listen for the clearing of the current output cell\nvar outputEl = gd.closest('.output');\nif (outputEl) {{\n    x.observe(outputEl, {childList: true});\n}}\n\n                        })                };                            </script>        </div>\n</body>\n</html>"
     },
     "execution_count": 115,
     "metadata": {
     },
     "output_type": "execute_result"
    }
   ],
   "source": [
    "#Making the boxplot from the dataframe above\n",
    "\n",
    "fig = px.bar(MAE_df, x=\"Model\", y=\"Mean Absolute Error (MAE)\", color='Model', title=\"Machine Learning Models' MAE\")\n",
    "fig.show()\n",
    "fig.write_html('/projects/1d81facf-cc6a-4793-a76e-965deb9ad4f9/SC22-BatchB-Fractal-Generator/app/static/assets/modelbarchart.html')"
   ]
  },
  {
   "cell_type": "code",
   "execution_count": 0,
   "metadata": {
    "collapsed": false
   },
   "outputs": [
   ],
   "source": [
   ]
  },
  {
   "cell_type": "code",
   "execution_count": 0,
   "metadata": {
    "collapsed": false
   },
   "outputs": [
   ],
   "source": [
   ]
  },
  {
   "cell_type": "code",
   "execution_count": 0,
   "metadata": {
    "collapsed": false
   },
   "outputs": [
   ],
   "source": [
   ]
  },
  {
   "cell_type": "code",
   "execution_count": 0,
   "metadata": {
    "collapsed": false
   },
   "outputs": [
   ],
   "source": [
   ]
  },
  {
   "cell_type": "code",
   "execution_count": 0,
   "metadata": {
    "collapsed": false
   },
   "outputs": [
   ],
   "source": [
   ]
  }
 ],
 "metadata": {
  "kernelspec": {
   "display_name": "Python (ds_env)",
   "language": "python",
   "metadata": {
    "debugger": true
   },
   "name": "ds_env",
   "resource_dir": "/projects/1d81facf-cc6a-4793-a76e-965deb9ad4f9/.local/share/jupyter/kernels/ds_env"
  },
  "language_info": {
   "codemirror_mode": {
    "name": "ipython",
    "version": 3
   },
   "file_extension": ".py",
   "mimetype": "text/x-python",
   "name": "python",
   "nbconvert_exporter": "python",
   "pygments_lexer": "ipython3",
   "version": "3.8.13"
  }
 },
 "nbformat": 4,
 "nbformat_minor": 4
}